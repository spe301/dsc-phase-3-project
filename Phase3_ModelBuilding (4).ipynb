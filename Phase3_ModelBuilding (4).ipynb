{
 "cells": [
  {
   "cell_type": "code",
   "execution_count": 1,
   "metadata": {},
   "outputs": [],
   "source": [
    "import pandas as pd\n",
    "import numpy as np\n",
    "from sklearn.svm import SVC, SVR\n",
    "from sklearn.linear_model import LogisticRegression, LinearRegression\n",
    "from sklearn.neighbors import  KNeighborsClassifier, KNeighborsRegressor\n",
    "from sklearn.naive_bayes import GaussianNB, MultinomialNB\n",
    "from sklearn.tree import DecisionTreeClassifier, DecisionTreeRegressor, plot_tree\n",
    "from sklearn.ensemble import RandomForestClassifier, RandomForestRegressor, AdaBoostClassifier, AdaBoostRegressor, GradientBoostingClassifier, GradientBoostingRegressor\n",
    "from sklearn.model_selection import GridSearchCV, train_test_split\n",
    "from sklearn.metrics import confusion_matrix, roc_curve, auc, plot_confusion_matrix\n",
    "from sklearn.preprocessing import StandardScaler, MinMaxScaler\n",
    "from imblearn.over_sampling import SMOTE\n",
    "from sklearn.pipeline import Pipeline\n",
    "from sklearn.datasets import load_iris\n",
    "from xgboost import XGBClassifier, XGBRegressor\n",
    "from matplotlib import pyplot as plt\n",
    "from sklearn.feature_selection import SelectKBest\n",
    "from statsmodels.stats.outliers_influence import variance_inflation_factor\n",
    "\n",
    "class MachineLearning:\n",
    "    \n",
    "    def CompareClassifiers(self, X, y):\n",
    "        X_train, X_test, y_train, y_test = train_test_split(X, y, test_size=0.25)\n",
    "        n = len(np.unique(y))\n",
    "        if n == 2:\n",
    "            methods = [KNeighborsClassifier(), GaussianNB(), DecisionTreeClassifier(), RandomForestClassifier(),\n",
    "                       AdaBoostClassifier(), GradientBoostingClassifier(), XGBClassifier(), LogisticRegression(),\n",
    "                       SVC()]\n",
    "            strs = ['KNN', 'NB', 'DT', 'RF', 'AB', 'GB', 'XGB', 'Log', 'SVM']\n",
    "        else:\n",
    "            methods = [KNeighborsClassifier(), MultinomialNB(), DecisionTreeClassifier(), RandomForestClassifier(),\n",
    "                       AdaBoostClassifier(), GradientBoostingClassifier(), XGBClassifier(), SVC()]\n",
    "            strs = ['KNN', 'NB', 'DT', 'RF', 'AB', 'GB', 'XGB', 'SVM']\n",
    "        train_acc = []\n",
    "        test_acc = []\n",
    "        for i in range(len(methods)):\n",
    "            clf = methods[i].fit(X_train, y_train)\n",
    "            train_acc.append(clf.score(X_train, y_train))\n",
    "            test_acc.append(clf.score(X_test, y_test))\n",
    "        c1 = pd.DataFrame(strs)\n",
    "        c2 = pd.DataFrame(train_acc)\n",
    "        c3 = pd.DataFrame(test_acc)\n",
    "        results = pd.concat([c1, c2, c3], axis='columns')\n",
    "        results.columns = ['Model', 'train_acc', 'test_acc']\n",
    "        return results\n",
    "    \n",
    "    def CompareRegressors(self, X, y):\n",
    "        X_train, X_test, y_train, y_test = train_test_split(X, y, test_size=0.25)\n",
    "        n = len(np.unique(y))\n",
    "        methods = [LinearRegression(), KNeighborsRegressor(), DecisionTreeRegressor(), RandomForestRegressor(),\n",
    "                       AdaBoostRegressor(), GradientBoostingRegressor(), XGBRegressor(), SVR()]\n",
    "        strs = ['Lin', 'KNN', 'DT', 'RF', 'AB', 'GB', 'XGB', 'SVM']\n",
    "        train_acc = []\n",
    "        test_acc = []\n",
    "        for i in range(len(methods)):\n",
    "            reg = methods[i].fit(X_train, y_train)\n",
    "            train_acc.append(reg.score(X_train, y_train))\n",
    "            test_acc.append(reg.score(X_test, y_test))\n",
    "        c1 = pd.DataFrame(strs)\n",
    "        c2 = pd.DataFrame(train_acc)\n",
    "        c3 = pd.DataFrame(test_acc)\n",
    "        results = pd.concat([c1, c2, c3], axis='columns')\n",
    "        results.columns = ['Model', 'train_acc', 'test_acc']\n",
    "        return results\n",
    "    \n",
    "    def Optimize(self, model, parameters, X, y, metric='accuracy'):\n",
    "        try:\n",
    "            X_train, X_test, y_train, y_test = train_test_split(X, y, test_size=0.25)\n",
    "            return GridSearchCV(model, parameters, cv=5, scoring=metric, n_jobs=-1, verbose=2).fit(X_train, y_train).best_estimator_\n",
    "        except:\n",
    "            return GridSearchCV(model, parameters, cv=5, n_jobs=-1, verbose=2).fit(X_train, y_train).best_estimator_\n",
    "        \n",
    "    def PipeIt(self, scaler, model, X, y):\n",
    "        X_train, X_test, y_train, y_test = train_test_split(X, y, test_size=0.25)\n",
    "        pipe = Pipeline([('scaler', scaler), ('model', model)]).fit(X_train, y_train)\n",
    "        return \"Training: {}, Validation: {}\".format(pipe.score(X_train, y_train), pipe.score(X_test, y_test))\n",
    "\n",
    "\n",
    "class DataHelper:\n",
    "    \n",
    "    def ScaleData(self, strategy, y_var, data):\n",
    "        X = data.drop([y_var], axis='columns')\n",
    "        if strategy == 'minmax':\n",
    "            return MinMaxScaler().fit(X).transform(X)\n",
    "        if strategy == 'standard':\n",
    "            return StandardScaler().fit(X).transform(X)\n",
    "        if strategy == 'mean':\n",
    "            for col in X.columns:\n",
    "                X[col] = (X[col] - min(X[col]))/ (max(X[col]) - min(X[col]))\n",
    "            return X\n",
    "        \n",
    "    def HoldOut(self, data):\n",
    "        train, test = train_test_split(data, test_size=0.1)\n",
    "        return train, test\n",
    "    \n",
    "    def MakeNewDF(self, X, y, k):\n",
    "        selector = SelectKBest(k=k).fit(X, y)\n",
    "        mask = selector.get_support()\n",
    "        selected = []\n",
    "        for i in range(len(mask)):\n",
    "            if mask[i] == True:\n",
    "                selected.append(X.columns[i])\n",
    "        df = pd.DataFrame(selector.transform(X))\n",
    "        df.columns = selected\n",
    "        return df\n",
    "    \n",
    "    def VifIt(self, X):\n",
    "        vif = pd.Series([variance_inflation_factor(X.values, i) \n",
    "               for i in range(X.shape[1])], \n",
    "              index=X.columns)\n",
    "        return vif\n",
    "        \n",
    "    \n",
    "class Evaluater:\n",
    "    \n",
    "    def ScoreModel(self, model, X, y):\n",
    "        X_train, X_test, y_train, y_test = train_test_split(X, y, test_size=0.25)\n",
    "        algo = model.fit(X_train, y_train)\n",
    "        return 'Training: {}, Validation: {}'.format(algo.score(X_train, y_train), algo.score(X_test, y_test))\n",
    "    \n",
    "    def BuildConfusion(self, fitted_model,  Xval, yval, cmap='plasma'):\n",
    "        cm = plot_confusion_matrix(fitted_model, Xval, yval, cmap=cmap)\n",
    "        return cm\n",
    "    \n",
    "    def BuildTree(self, tree):\n",
    "        try:\n",
    "            return plot_tree(tree)\n",
    "        except:\n",
    "            return 'Please pass a tree class'\n",
    "    \n",
    "    def GetCoefficients(self, model, X, y):\n",
    "        try:\n",
    "            X_train, X_test, y_train, y_test = train_test_split(X, y, test_size=0.25)\n",
    "            model.fit(X_train, y_train)\n",
    "            return 'coefficients: {}'.format(model.coef_)\n",
    "        except:\n",
    "            return 'Please pass LinearRegression, LogisticRegression, or an SVM with a linear kernel'\n",
    "        \n",
    "    def GetImportance(self, model, X, y):\n",
    "        X_train, X_test, y_train, y_test = train_test_split(X, y, test_size=0.25)\n",
    "        model.fit(X_train, y_train)\n",
    "        try:\n",
    "            FI = model.feature_importances_\n",
    "            n_features = X_train.shape[1]\n",
    "            plt.figure(figsize=(8,8))\n",
    "            plt.barh(range(n_features), FI, align='center') \n",
    "            plt.yticks(np.arange(n_features), X_train.columns.values) \n",
    "            plt.xlabel('Feature importance')\n",
    "            plt.ylabel('Feature')\n",
    "        except:\n",
    "            return 'Please pass an ensemble class'\n",
    "        \n",
    "    def AUC(self, model, Xval, yval):\n",
    "        pred = model.predict(Xval)\n",
    "        fpr, tpr, threshold = roc_curve(yval, pred)\n",
    "        return auc(fpr, tpr)\n",
    "    \n",
    "ml = MachineLearning()\n",
    "dh = DataHelper()\n",
    "ev = Evaluater()"
   ]
  },
  {
   "cell_type": "code",
   "execution_count": 2,
   "metadata": {},
   "outputs": [],
   "source": [
    "df = pd.read_csv(r'C:\\Users\\aacjp\\OneDrive\\Desktop\\data\\tables\\ChurnData_ForML.csv')\n",
    "\n",
    "HO = dh.HoldOut(df) \n",
    "df = HO[0].drop(['Unnamed: 0'], axis='columns') #training data\n",
    "val_df = HO[1].drop(['Unnamed: 0'], axis='columns') #validation data"
   ]
  },
  {
   "cell_type": "code",
   "execution_count": 3,
   "metadata": {},
   "outputs": [
    {
     "name": "stderr",
     "output_type": "stream",
     "text": [
      "C:\\Users\\aacjp\\Anaconda3\\envs\\flatiron-env\\lib\\site-packages\\sklearn\\linear_model\\_logistic.py:764: ConvergenceWarning: lbfgs failed to converge (status=1):\n",
      "STOP: TOTAL NO. of ITERATIONS REACHED LIMIT.\n",
      "\n",
      "Increase the number of iterations (max_iter) or scale the data as shown in:\n",
      "    https://scikit-learn.org/stable/modules/preprocessing.html\n",
      "Please also refer to the documentation for alternative solver options:\n",
      "    https://scikit-learn.org/stable/modules/linear_model.html#logistic-regression\n",
      "  extra_warning_msg=_LOGISTIC_SOLVER_CONVERGENCE_MSG)\n"
     ]
    },
    {
     "data": {
      "text/html": [
       "<div>\n",
       "<style scoped>\n",
       "    .dataframe tbody tr th:only-of-type {\n",
       "        vertical-align: middle;\n",
       "    }\n",
       "\n",
       "    .dataframe tbody tr th {\n",
       "        vertical-align: top;\n",
       "    }\n",
       "\n",
       "    .dataframe thead th {\n",
       "        text-align: right;\n",
       "    }\n",
       "</style>\n",
       "<table border=\"1\" class=\"dataframe\">\n",
       "  <thead>\n",
       "    <tr style=\"text-align: right;\">\n",
       "      <th></th>\n",
       "      <th>Model</th>\n",
       "      <th>train_acc</th>\n",
       "      <th>test_acc</th>\n",
       "    </tr>\n",
       "  </thead>\n",
       "  <tbody>\n",
       "    <tr>\n",
       "      <th>0</th>\n",
       "      <td>KNN</td>\n",
       "      <td>0.900845</td>\n",
       "      <td>0.885333</td>\n",
       "    </tr>\n",
       "    <tr>\n",
       "      <th>1</th>\n",
       "      <td>NB</td>\n",
       "      <td>0.860827</td>\n",
       "      <td>0.857333</td>\n",
       "    </tr>\n",
       "    <tr>\n",
       "      <th>2</th>\n",
       "      <td>DT</td>\n",
       "      <td>1.000000</td>\n",
       "      <td>0.928000</td>\n",
       "    </tr>\n",
       "    <tr>\n",
       "      <th>3</th>\n",
       "      <td>RF</td>\n",
       "      <td>1.000000</td>\n",
       "      <td>0.965333</td>\n",
       "    </tr>\n",
       "    <tr>\n",
       "      <th>4</th>\n",
       "      <td>AB</td>\n",
       "      <td>0.895064</td>\n",
       "      <td>0.877333</td>\n",
       "    </tr>\n",
       "    <tr>\n",
       "      <th>5</th>\n",
       "      <td>GB</td>\n",
       "      <td>0.973766</td>\n",
       "      <td>0.969333</td>\n",
       "    </tr>\n",
       "    <tr>\n",
       "      <th>6</th>\n",
       "      <td>XGB</td>\n",
       "      <td>0.970654</td>\n",
       "      <td>0.969333</td>\n",
       "    </tr>\n",
       "    <tr>\n",
       "      <th>7</th>\n",
       "      <td>Log</td>\n",
       "      <td>0.856825</td>\n",
       "      <td>0.858667</td>\n",
       "    </tr>\n",
       "    <tr>\n",
       "      <th>8</th>\n",
       "      <td>SVM</td>\n",
       "      <td>0.854157</td>\n",
       "      <td>0.860000</td>\n",
       "    </tr>\n",
       "  </tbody>\n",
       "</table>\n",
       "</div>"
      ],
      "text/plain": [
       "  Model  train_acc  test_acc\n",
       "0   KNN   0.900845  0.885333\n",
       "1    NB   0.860827  0.857333\n",
       "2    DT   1.000000  0.928000\n",
       "3    RF   1.000000  0.965333\n",
       "4    AB   0.895064  0.877333\n",
       "5    GB   0.973766  0.969333\n",
       "6   XGB   0.970654  0.969333\n",
       "7   Log   0.856825  0.858667\n",
       "8   SVM   0.854157  0.860000"
      ]
     },
     "execution_count": 3,
     "metadata": {},
     "output_type": "execute_result"
    }
   ],
   "source": [
    "X = df.drop(['churn'], axis='columns')\n",
    "y = df['churn']\n",
    "ml.CompareClassifiers(X, y)"
   ]
  },
  {
   "cell_type": "markdown",
   "metadata": {},
   "source": [
    "# Step 1: picking a model to start with\n",
    "\n",
    "my CompareClassifiers function trains a vanilla model of each type of classifier and returns the train and test accuracy. I'm gonna go with XGB because test accuracy is high and very close to train accuracy."
   ]
  },
  {
   "cell_type": "markdown",
   "metadata": {},
   "source": [
    "## Recall is our metric\n",
    "\n",
    "The reason for this is because False Negatives will be more costly than False Positives. Let's say we want to offer a 25% discount, about 14 dollars given that the average customer is billed 56 dollars a month, for a customer that is predicted to churn to keep them. In this situation a false negative would cost us 56 dollars plus the cost of aquiring a new customer. The average cost of acquisition is 350 dollars for a cellphone company! However a false positive would only cost us 14 dollars because of the unnessecary discount."
   ]
  },
  {
   "cell_type": "code",
   "execution_count": 4,
   "metadata": {},
   "outputs": [
    {
     "name": "stdout",
     "output_type": "stream",
     "text": [
      "Fitting 5 folds for each of 8 candidates, totalling 40 fits\n"
     ]
    },
    {
     "name": "stderr",
     "output_type": "stream",
     "text": [
      "[Parallel(n_jobs=-1)]: Using backend LokyBackend with 12 concurrent workers.\n",
      "[Parallel(n_jobs=-1)]: Done  17 tasks      | elapsed:    3.2s\n",
      "[Parallel(n_jobs=-1)]: Done  38 out of  40 | elapsed:    3.9s remaining:    0.1s\n",
      "[Parallel(n_jobs=-1)]: Done  40 out of  40 | elapsed:    4.0s finished\n"
     ]
    }
   ],
   "source": [
    "parameters = {\n",
    "    'learning_rate': [0.1, 0.2],\n",
    "    'max_depth': [6],\n",
    "    'min_child_weight': [1, 2],\n",
    "    'subsample': [0.5, 0.7],\n",
    "    'n_estimators': [100],\n",
    "}\n",
    "clf = ml.Optimize(XGBClassifier(), parameters, X, y, metric='recall') #Optimize runs a gridsearch on the model of choice"
   ]
  },
  {
   "cell_type": "code",
   "execution_count": 5,
   "metadata": {},
   "outputs": [
    {
     "data": {
      "text/plain": [
       "XGBClassifier(max_depth=6, subsample=0.7)"
      ]
     },
     "execution_count": 5,
     "metadata": {},
     "output_type": "execute_result"
    }
   ],
   "source": [
    "clf"
   ]
  },
  {
   "cell_type": "code",
   "execution_count": 6,
   "metadata": {},
   "outputs": [
    {
     "data": {
      "text/plain": [
       "'Training: 0.9915518008003558, Validation: 0.952'"
      ]
     },
     "execution_count": 6,
     "metadata": {},
     "output_type": "execute_result"
    }
   ],
   "source": [
    "ev.ScoreModel(clf, X, y)"
   ]
  },
  {
   "cell_type": "code",
   "execution_count": 7,
   "metadata": {},
   "outputs": [
    {
     "data": {
      "text/plain": [
       "<sklearn.metrics._plot.confusion_matrix.ConfusionMatrixDisplay at 0x29f7709ffd0>"
      ]
     },
     "execution_count": 7,
     "metadata": {},
     "output_type": "execute_result"
    },
    {
     "data": {
      "image/png": "[encoded data removed]",
      "text/plain": [
       "<Figure size 432x288 with 2 Axes>"
      ]
     },
     "metadata": {
      "needs_background": "light"
     },
     "output_type": "display_data"
    }
   ],
   "source": [
    "fitted_model = clf.fit(X, y)\n",
    "Xval = val_df.drop(['churn'], axis='columns')\n",
    "yval = val_df['churn']\n",
    "ev.BuildConfusion(clf, Xval, yval)"
   ]
  },
  {
   "cell_type": "code",
   "execution_count": 8,
   "metadata": {},
   "outputs": [
    {
     "data": {
      "text/plain": [
       "0.9182394366197183"
      ]
     },
     "execution_count": 8,
     "metadata": {},
     "output_type": "execute_result"
    }
   ],
   "source": [
    "ev.AUC(clf, Xval, yval)"
   ]
  },
  {
   "cell_type": "markdown",
   "metadata": {},
   "source": [
    "Whthout ML: -$4,396"
   ]
  },
  {
   "cell_type": "markdown",
   "metadata": {},
   "source": [
    "With this model: $14,406"
   ]
  },
  {
   "cell_type": "markdown",
   "metadata": {},
   "source": [
    "# Step 2: normalize the data\n",
    "\n",
    "Accuracy imporved more from MinMaxScaling but validation recall and AUC dropped significantly. I ended up using standard scaler instead."
   ]
  },
  {
   "cell_type": "code",
   "execution_count": 9,
   "metadata": {},
   "outputs": [
    {
     "data": {
      "text/plain": [
       "'Training: 0.989773232547799, Validation: 0.9533333333333334'"
      ]
     },
     "execution_count": 9,
     "metadata": {},
     "output_type": "execute_result"
    }
   ],
   "source": [
    "scaler = StandardScaler()\n",
    "ml.PipeIt(scaler, clf, X, y)"
   ]
  },
  {
   "cell_type": "code",
   "execution_count": 10,
   "metadata": {},
   "outputs": [
    {
     "data": {
      "text/plain": [
       "'Training: 0.9915518008003558, Validation: 0.9506666666666667'"
      ]
     },
     "execution_count": 10,
     "metadata": {},
     "output_type": "execute_result"
    }
   ],
   "source": [
    "scaler = MinMaxScaler()\n",
    "ml.PipeIt(scaler, clf, X, y)"
   ]
  },
  {
   "cell_type": "code",
   "execution_count": 11,
   "metadata": {},
   "outputs": [
    {
     "data": {
      "text/html": [
       "<div>\n",
       "<style scoped>\n",
       "    .dataframe tbody tr th:only-of-type {\n",
       "        vertical-align: middle;\n",
       "    }\n",
       "\n",
       "    .dataframe tbody tr th {\n",
       "        vertical-align: top;\n",
       "    }\n",
       "\n",
       "    .dataframe thead th {\n",
       "        text-align: right;\n",
       "    }\n",
       "</style>\n",
       "<table border=\"1\" class=\"dataframe\">\n",
       "  <thead>\n",
       "    <tr style=\"text-align: right;\">\n",
       "      <th></th>\n",
       "      <th>Model</th>\n",
       "      <th>train_acc</th>\n",
       "      <th>test_acc</th>\n",
       "    </tr>\n",
       "  </thead>\n",
       "  <tbody>\n",
       "    <tr>\n",
       "      <th>0</th>\n",
       "      <td>KNN</td>\n",
       "      <td>0.903068</td>\n",
       "      <td>0.873333</td>\n",
       "    </tr>\n",
       "    <tr>\n",
       "      <th>1</th>\n",
       "      <td>NB</td>\n",
       "      <td>0.875500</td>\n",
       "      <td>0.861333</td>\n",
       "    </tr>\n",
       "    <tr>\n",
       "      <th>2</th>\n",
       "      <td>DT</td>\n",
       "      <td>1.000000</td>\n",
       "      <td>0.906667</td>\n",
       "    </tr>\n",
       "    <tr>\n",
       "      <th>3</th>\n",
       "      <td>RF</td>\n",
       "      <td>1.000000</td>\n",
       "      <td>0.949333</td>\n",
       "    </tr>\n",
       "    <tr>\n",
       "      <th>4</th>\n",
       "      <td>AB</td>\n",
       "      <td>0.898622</td>\n",
       "      <td>0.872000</td>\n",
       "    </tr>\n",
       "    <tr>\n",
       "      <th>5</th>\n",
       "      <td>GB</td>\n",
       "      <td>0.975989</td>\n",
       "      <td>0.948000</td>\n",
       "    </tr>\n",
       "    <tr>\n",
       "      <th>6</th>\n",
       "      <td>XGB</td>\n",
       "      <td>0.973321</td>\n",
       "      <td>0.945333</td>\n",
       "    </tr>\n",
       "    <tr>\n",
       "      <th>7</th>\n",
       "      <td>Log</td>\n",
       "      <td>0.875500</td>\n",
       "      <td>0.858667</td>\n",
       "    </tr>\n",
       "    <tr>\n",
       "      <th>8</th>\n",
       "      <td>SVM</td>\n",
       "      <td>0.943086</td>\n",
       "      <td>0.904000</td>\n",
       "    </tr>\n",
       "  </tbody>\n",
       "</table>\n",
       "</div>"
      ],
      "text/plain": [
       "  Model  train_acc  test_acc\n",
       "0   KNN   0.903068  0.873333\n",
       "1    NB   0.875500  0.861333\n",
       "2    DT   1.000000  0.906667\n",
       "3    RF   1.000000  0.949333\n",
       "4    AB   0.898622  0.872000\n",
       "5    GB   0.975989  0.948000\n",
       "6   XGB   0.973321  0.945333\n",
       "7   Log   0.875500  0.858667\n",
       "8   SVM   0.943086  0.904000"
      ]
     },
     "execution_count": 11,
     "metadata": {},
     "output_type": "execute_result"
    }
   ],
   "source": [
    "X = StandardScaler().fit(X).transform(X)\n",
    "Xval = StandardScaler().fit(Xval).transform(Xval)\n",
    "ml.CompareClassifiers(X, y)"
   ]
  },
  {
   "cell_type": "code",
   "execution_count": 12,
   "metadata": {},
   "outputs": [
    {
     "name": "stdout",
     "output_type": "stream",
     "text": [
      "Fitting 5 folds for each of 8 candidates, totalling 40 fits\n"
     ]
    },
    {
     "name": "stderr",
     "output_type": "stream",
     "text": [
      "[Parallel(n_jobs=-1)]: Using backend LokyBackend with 12 concurrent workers.\n",
      "[Parallel(n_jobs=-1)]: Done  17 tasks      | elapsed:    3.2s\n",
      "[Parallel(n_jobs=-1)]: Done  38 out of  40 | elapsed:    3.9s remaining:    0.1s\n",
      "[Parallel(n_jobs=-1)]: Done  40 out of  40 | elapsed:    3.9s finished\n"
     ]
    },
    {
     "data": {
      "text/plain": [
       "XGBClassifier(max_depth=6, subsample=0.7)"
      ]
     },
     "execution_count": 12,
     "metadata": {},
     "output_type": "execute_result"
    }
   ],
   "source": [
    "parameters =  {\n",
    "    'learning_rate': [0.1, 0.2],\n",
    "    'max_depth': [6],\n",
    "    'min_child_weight': [1, 2],\n",
    "    'subsample': [0.5, 0.7],\n",
    "    'n_estimators': [100],\n",
    "}\n",
    "clf = ml.Optimize(XGBClassifier(), parameters, X, y)\n",
    "clf"
   ]
  },
  {
   "cell_type": "code",
   "execution_count": 13,
   "metadata": {},
   "outputs": [
    {
     "data": {
      "text/plain": [
       "'Training: 0.989773232547799, Validation: 0.948'"
      ]
     },
     "execution_count": 13,
     "metadata": {},
     "output_type": "execute_result"
    }
   ],
   "source": [
    "ev.ScoreModel(clf, X, y)"
   ]
  },
  {
   "cell_type": "code",
   "execution_count": 14,
   "metadata": {},
   "outputs": [
    {
     "data": {
      "text/plain": [
       "<sklearn.metrics._plot.confusion_matrix.ConfusionMatrixDisplay at 0x29f6ffeb128>"
      ]
     },
     "execution_count": 14,
     "metadata": {},
     "output_type": "execute_result"
    },
    {
     "data": {
      "image/png": "[encoded data removed]",
      "text/plain": [
       "<Figure size 432x288 with 2 Axes>"
      ]
     },
     "metadata": {
      "needs_background": "light"
     },
     "output_type": "display_data"
    }
   ],
   "source": [
    "model = clf.fit(X, y)\n",
    "ev.BuildConfusion(model, Xval, yval)"
   ]
  },
  {
   "cell_type": "markdown",
   "metadata": {},
   "source": [
    "Whthout ML: -$4,396\n",
    "    \n",
    "with this model: $14,406"
   ]
  },
  {
   "cell_type": "code",
   "execution_count": 15,
   "metadata": {},
   "outputs": [
    {
     "data": {
      "text/plain": [
       "0.9182394366197183"
      ]
     },
     "execution_count": 15,
     "metadata": {},
     "output_type": "execute_result"
    }
   ],
   "source": [
    "ev.AUC(clf, Xval, yval)"
   ]
  },
  {
   "cell_type": "code",
   "execution_count": 16,
   "metadata": {},
   "outputs": [],
   "source": [
    "X3 = pd.DataFrame(SMOTE().fit_resample(X, y)[0])\n",
    "y3 = SMOTE().fit_resample(X, y)[1]"
   ]
  },
  {
   "cell_type": "code",
   "execution_count": 17,
   "metadata": {},
   "outputs": [
    {
     "data": {
      "text/html": [
       "<div>\n",
       "<style scoped>\n",
       "    .dataframe tbody tr th:only-of-type {\n",
       "        vertical-align: middle;\n",
       "    }\n",
       "\n",
       "    .dataframe tbody tr th {\n",
       "        vertical-align: top;\n",
       "    }\n",
       "\n",
       "    .dataframe thead th {\n",
       "        text-align: right;\n",
       "    }\n",
       "</style>\n",
       "<table border=\"1\" class=\"dataframe\">\n",
       "  <thead>\n",
       "    <tr style=\"text-align: right;\">\n",
       "      <th></th>\n",
       "      <th>Model</th>\n",
       "      <th>train_acc</th>\n",
       "      <th>test_acc</th>\n",
       "    </tr>\n",
       "  </thead>\n",
       "  <tbody>\n",
       "    <tr>\n",
       "      <th>0</th>\n",
       "      <td>KNN</td>\n",
       "      <td>0.925695</td>\n",
       "      <td>0.872175</td>\n",
       "    </tr>\n",
       "    <tr>\n",
       "      <th>1</th>\n",
       "      <td>NB</td>\n",
       "      <td>0.747727</td>\n",
       "      <td>0.711613</td>\n",
       "    </tr>\n",
       "    <tr>\n",
       "      <th>2</th>\n",
       "      <td>DT</td>\n",
       "      <td>1.000000</td>\n",
       "      <td>0.918161</td>\n",
       "    </tr>\n",
       "    <tr>\n",
       "      <th>3</th>\n",
       "      <td>RF</td>\n",
       "      <td>1.000000</td>\n",
       "      <td>0.959470</td>\n",
       "    </tr>\n",
       "    <tr>\n",
       "      <th>4</th>\n",
       "      <td>AB</td>\n",
       "      <td>0.897116</td>\n",
       "      <td>0.894778</td>\n",
       "    </tr>\n",
       "    <tr>\n",
       "      <th>5</th>\n",
       "      <td>GB</td>\n",
       "      <td>0.956352</td>\n",
       "      <td>0.947779</td>\n",
       "    </tr>\n",
       "    <tr>\n",
       "      <th>6</th>\n",
       "      <td>XGB</td>\n",
       "      <td>0.955053</td>\n",
       "      <td>0.954014</td>\n",
       "    </tr>\n",
       "    <tr>\n",
       "      <th>7</th>\n",
       "      <td>Log</td>\n",
       "      <td>0.797870</td>\n",
       "      <td>0.784100</td>\n",
       "    </tr>\n",
       "    <tr>\n",
       "      <th>8</th>\n",
       "      <td>SVM</td>\n",
       "      <td>0.925695</td>\n",
       "      <td>0.897896</td>\n",
       "    </tr>\n",
       "  </tbody>\n",
       "</table>\n",
       "</div>"
      ],
      "text/plain": [
       "  Model  train_acc  test_acc\n",
       "0   KNN   0.925695  0.872175\n",
       "1    NB   0.747727  0.711613\n",
       "2    DT   1.000000  0.918161\n",
       "3    RF   1.000000  0.959470\n",
       "4    AB   0.897116  0.894778\n",
       "5    GB   0.956352  0.947779\n",
       "6   XGB   0.955053  0.954014\n",
       "7   Log   0.797870  0.784100\n",
       "8   SVM   0.925695  0.897896"
      ]
     },
     "execution_count": 17,
     "metadata": {},
     "output_type": "execute_result"
    }
   ],
   "source": [
    "ml.CompareClassifiers(X3, y3)"
   ]
  },
  {
   "cell_type": "code",
   "execution_count": 18,
   "metadata": {},
   "outputs": [
    {
     "name": "stdout",
     "output_type": "stream",
     "text": [
      "Fitting 5 folds for each of 8 candidates, totalling 40 fits\n"
     ]
    },
    {
     "name": "stderr",
     "output_type": "stream",
     "text": [
      "[Parallel(n_jobs=-1)]: Using backend LokyBackend with 12 concurrent workers.\n",
      "[Parallel(n_jobs=-1)]: Done  17 tasks      | elapsed:    3.8s\n",
      "[Parallel(n_jobs=-1)]: Done  38 out of  40 | elapsed:    5.2s remaining:    0.2s\n",
      "[Parallel(n_jobs=-1)]: Done  40 out of  40 | elapsed:    5.2s finished\n"
     ]
    },
    {
     "data": {
      "text/plain": [
       "XGBClassifier(learning_rate=0.2, max_depth=6, min_child_weight=2, subsample=0.7)"
      ]
     },
     "execution_count": 18,
     "metadata": {},
     "output_type": "execute_result"
    }
   ],
   "source": [
    "parameters = {\n",
    "    'learning_rate': [0.1, 0.2],\n",
    "    'max_depth': [6],\n",
    "    'min_child_weight': [1, 2],\n",
    "    'subsample': [0.5, 0.7],\n",
    "    'n_estimators': [100],\n",
    "}\n",
    "clf = ml.Optimize(XGBClassifier(), parameters, X3, y3)\n",
    "clf"
   ]
  },
  {
   "cell_type": "code",
   "execution_count": 19,
   "metadata": {},
   "outputs": [
    {
     "data": {
      "text/plain": [
       "'Training: 1.0, Validation: 0.9664848012470771'"
      ]
     },
     "execution_count": 19,
     "metadata": {},
     "output_type": "execute_result"
    }
   ],
   "source": [
    "ev.ScoreModel(clf, X3, y3)"
   ]
  },
  {
   "cell_type": "code",
   "execution_count": 20,
   "metadata": {},
   "outputs": [],
   "source": [
    "fit = clf.fit(X3, y3)"
   ]
  },
  {
   "cell_type": "code",
   "execution_count": 24,
   "metadata": {},
   "outputs": [
    {
     "data": {
      "text/plain": [
       "<sklearn.metrics._plot.confusion_matrix.ConfusionMatrixDisplay at 0x29f7761ef60>"
      ]
     },
     "execution_count": 24,
     "metadata": {},
     "output_type": "execute_result"
    },
    {
     "data": {
      "image/png": "[encoded data removed]",
      "text/plain": [
       "<Figure size 432x288 with 2 Axes>"
      ]
     },
     "metadata": {
      "needs_background": "light"
     },
     "output_type": "display_data"
    }
   ],
   "source": [
    "Xval = pd.DataFrame(Xval)\n",
    "ev.BuildConfusion(clf.fit(X3, y3), Xval, yval)"
   ]
  },
  {
   "cell_type": "markdown",
   "metadata": {},
   "source": [
    "Without ML: $-4,396"
   ]
  },
  {
   "cell_type": "markdown",
   "metadata": {},
   "source": [
    "With this model: $14,266"
   ]
  },
  {
   "cell_type": "code",
   "execution_count": 25,
   "metadata": {},
   "outputs": [
    {
     "data": {
      "text/plain": [
       "0.5762676056338027"
      ]
     },
     "execution_count": 25,
     "metadata": {},
     "output_type": "execute_result"
    }
   ],
   "source": [
    "ev.AUC(clf, Xval, yval)"
   ]
  },
  {
   "cell_type": "code",
   "execution_count": 26,
   "metadata": {},
   "outputs": [
    {
     "data": {
      "text/html": [
       "<div>\n",
       "<style scoped>\n",
       "    .dataframe tbody tr th:only-of-type {\n",
       "        vertical-align: middle;\n",
       "    }\n",
       "\n",
       "    .dataframe tbody tr th {\n",
       "        vertical-align: top;\n",
       "    }\n",
       "\n",
       "    .dataframe thead th {\n",
       "        text-align: right;\n",
       "    }\n",
       "</style>\n",
       "<table border=\"1\" class=\"dataframe\">\n",
       "  <thead>\n",
       "    <tr style=\"text-align: right;\">\n",
       "      <th></th>\n",
       "      <th>international plan</th>\n",
       "      <th>voice mail plan</th>\n",
       "      <th>number vmail messages</th>\n",
       "      <th>total day minutes</th>\n",
       "      <th>total day calls</th>\n",
       "      <th>total day charge</th>\n",
       "      <th>total eve minutes</th>\n",
       "      <th>total eve calls</th>\n",
       "      <th>total eve charge</th>\n",
       "      <th>total night minutes</th>\n",
       "      <th>...</th>\n",
       "      <th>customer service calls</th>\n",
       "      <th>%night</th>\n",
       "      <th>%eve</th>\n",
       "      <th>avg duration</th>\n",
       "      <th>Midwest</th>\n",
       "      <th>Noncontinental</th>\n",
       "      <th>Northeast</th>\n",
       "      <th>Northwest</th>\n",
       "      <th>Southeast</th>\n",
       "      <th>Southwest</th>\n",
       "    </tr>\n",
       "  </thead>\n",
       "  <tbody>\n",
       "    <tr>\n",
       "      <th>0</th>\n",
       "      <td>-0.326561</td>\n",
       "      <td>-0.622207</td>\n",
       "      <td>-0.595562</td>\n",
       "      <td>1.281143</td>\n",
       "      <td>0.869069</td>\n",
       "      <td>1.280871</td>\n",
       "      <td>1.010979</td>\n",
       "      <td>0.945072</td>\n",
       "      <td>1.010003</td>\n",
       "      <td>1.579421</td>\n",
       "      <td>...</td>\n",
       "      <td>-0.436839</td>\n",
       "      <td>-0.967551</td>\n",
       "      <td>0.485003</td>\n",
       "      <td>-1.050496</td>\n",
       "      <td>-0.562588</td>\n",
       "      <td>-0.185727</td>\n",
       "      <td>-0.602646</td>\n",
       "      <td>-0.342582</td>\n",
       "      <td>-0.572858</td>\n",
       "      <td>2.878338</td>\n",
       "    </tr>\n",
       "    <tr>\n",
       "      <th>1</th>\n",
       "      <td>-0.326561</td>\n",
       "      <td>1.607182</td>\n",
       "      <td>1.305235</td>\n",
       "      <td>1.169053</td>\n",
       "      <td>1.812314</td>\n",
       "      <td>1.169537</td>\n",
       "      <td>0.703362</td>\n",
       "      <td>0.387803</td>\n",
       "      <td>0.703780</td>\n",
       "      <td>-0.544131</td>\n",
       "      <td>...</td>\n",
       "      <td>-0.436839</td>\n",
       "      <td>0.859822</td>\n",
       "      <td>-1.153179</td>\n",
       "      <td>0.674003</td>\n",
       "      <td>-0.562588</td>\n",
       "      <td>-0.185727</td>\n",
       "      <td>-0.602646</td>\n",
       "      <td>-0.342582</td>\n",
       "      <td>-0.572858</td>\n",
       "      <td>2.878338</td>\n",
       "    </tr>\n",
       "    <tr>\n",
       "      <th>2</th>\n",
       "      <td>-0.326561</td>\n",
       "      <td>1.607182</td>\n",
       "      <td>0.574159</td>\n",
       "      <td>-0.628072</td>\n",
       "      <td>-0.620267</td>\n",
       "      <td>-0.628024</td>\n",
       "      <td>-0.199767</td>\n",
       "      <td>1.451681</td>\n",
       "      <td>-0.198653</td>\n",
       "      <td>0.294165</td>\n",
       "      <td>...</td>\n",
       "      <td>-1.198070</td>\n",
       "      <td>-1.150289</td>\n",
       "      <td>1.759144</td>\n",
       "      <td>0.101439</td>\n",
       "      <td>-0.562588</td>\n",
       "      <td>-0.185727</td>\n",
       "      <td>-0.602646</td>\n",
       "      <td>-0.342582</td>\n",
       "      <td>1.745633</td>\n",
       "      <td>-0.347423</td>\n",
       "    </tr>\n",
       "    <tr>\n",
       "      <th>3</th>\n",
       "      <td>-0.326561</td>\n",
       "      <td>1.607182</td>\n",
       "      <td>2.182526</td>\n",
       "      <td>-1.375955</td>\n",
       "      <td>-0.719556</td>\n",
       "      <td>-1.376017</td>\n",
       "      <td>-1.564322</td>\n",
       "      <td>1.147716</td>\n",
       "      <td>-1.565062</td>\n",
       "      <td>0.413354</td>\n",
       "      <td>...</td>\n",
       "      <td>-1.198070</td>\n",
       "      <td>0.677085</td>\n",
       "      <td>0.667023</td>\n",
       "      <td>1.938974</td>\n",
       "      <td>-0.562588</td>\n",
       "      <td>-0.185727</td>\n",
       "      <td>1.659350</td>\n",
       "      <td>-0.342582</td>\n",
       "      <td>-0.572858</td>\n",
       "      <td>-0.347423</td>\n",
       "    </tr>\n",
       "    <tr>\n",
       "      <th>4</th>\n",
       "      <td>3.062215</td>\n",
       "      <td>-0.622207</td>\n",
       "      <td>-0.595562</td>\n",
       "      <td>0.220877</td>\n",
       "      <td>-0.471333</td>\n",
       "      <td>0.220494</td>\n",
       "      <td>1.083939</td>\n",
       "      <td>0.489125</td>\n",
       "      <td>1.084240</td>\n",
       "      <td>0.059760</td>\n",
       "      <td>...</td>\n",
       "      <td>-0.436839</td>\n",
       "      <td>-0.053865</td>\n",
       "      <td>0.485003</td>\n",
       "      <td>-0.627203</td>\n",
       "      <td>-0.562588</td>\n",
       "      <td>-0.185727</td>\n",
       "      <td>-0.602646</td>\n",
       "      <td>-0.342582</td>\n",
       "      <td>1.745633</td>\n",
       "      <td>-0.347423</td>\n",
       "    </tr>\n",
       "  </tbody>\n",
       "</table>\n",
       "<p>5 rows × 25 columns</p>\n",
       "</div>"
      ],
      "text/plain": [
       "   international plan  voice mail plan  number vmail messages  \\\n",
       "0           -0.326561        -0.622207              -0.595562   \n",
       "1           -0.326561         1.607182               1.305235   \n",
       "2           -0.326561         1.607182               0.574159   \n",
       "3           -0.326561         1.607182               2.182526   \n",
       "4            3.062215        -0.622207              -0.595562   \n",
       "\n",
       "   total day minutes  total day calls  total day charge  total eve minutes  \\\n",
       "0           1.281143         0.869069          1.280871           1.010979   \n",
       "1           1.169053         1.812314          1.169537           0.703362   \n",
       "2          -0.628072        -0.620267         -0.628024          -0.199767   \n",
       "3          -1.375955        -0.719556         -1.376017          -1.564322   \n",
       "4           0.220877        -0.471333          0.220494           1.083939   \n",
       "\n",
       "   total eve calls  total eve charge  total night minutes  ...  \\\n",
       "0         0.945072          1.010003             1.579421  ...   \n",
       "1         0.387803          0.703780            -0.544131  ...   \n",
       "2         1.451681         -0.198653             0.294165  ...   \n",
       "3         1.147716         -1.565062             0.413354  ...   \n",
       "4         0.489125          1.084240             0.059760  ...   \n",
       "\n",
       "   customer service calls    %night      %eve  avg duration   Midwest  \\\n",
       "0               -0.436839 -0.967551  0.485003     -1.050496 -0.562588   \n",
       "1               -0.436839  0.859822 -1.153179      0.674003 -0.562588   \n",
       "2               -1.198070 -1.150289  1.759144      0.101439 -0.562588   \n",
       "3               -1.198070  0.677085  0.667023      1.938974 -0.562588   \n",
       "4               -0.436839 -0.053865  0.485003     -0.627203 -0.562588   \n",
       "\n",
       "   Noncontinental  Northeast  Northwest  Southeast  Southwest  \n",
       "0       -0.185727  -0.602646  -0.342582  -0.572858   2.878338  \n",
       "1       -0.185727  -0.602646  -0.342582  -0.572858   2.878338  \n",
       "2       -0.185727  -0.602646  -0.342582   1.745633  -0.347423  \n",
       "3       -0.185727   1.659350  -0.342582  -0.572858  -0.347423  \n",
       "4       -0.185727  -0.602646  -0.342582   1.745633  -0.347423  \n",
       "\n",
       "[5 rows x 25 columns]"
      ]
     },
     "execution_count": 26,
     "metadata": {},
     "output_type": "execute_result"
    }
   ],
   "source": [
    "lst = ['international plan',\n",
    " 'voice mail plan',\n",
    " 'number vmail messages',\n",
    " 'total day minutes',\n",
    " 'total day calls',\n",
    " 'total day charge',\n",
    " 'total eve minutes',\n",
    " 'total eve calls',\n",
    " 'total eve charge',\n",
    " 'total night minutes',\n",
    " 'total night calls',\n",
    " 'total night charge',\n",
    " 'total intl minutes',\n",
    " 'total intl calls',\n",
    " 'total intl charge',\n",
    " 'customer service calls',\n",
    " '%night',\n",
    " '%eve',\n",
    " 'avg duration',\n",
    " 'Midwest',\n",
    " 'Noncontinental',\n",
    " 'Northeast',\n",
    " 'Northwest',\n",
    " 'Southeast',\n",
    " 'Southwest']\n",
    "\n",
    "X3.columns = lst\n",
    "X3.head()"
   ]
  },
  {
   "cell_type": "markdown",
   "metadata": {},
   "source": [
    "# Time for some Feature Engineering"
   ]
  },
  {
   "cell_type": "markdown",
   "metadata": {},
   "source": [
    "I will test out 5 different feature combos"
   ]
  },
  {
   "cell_type": "code",
   "execution_count": 27,
   "metadata": {},
   "outputs": [
    {
     "data": {
      "text/html": [
       "<div>\n",
       "<style scoped>\n",
       "    .dataframe tbody tr th:only-of-type {\n",
       "        vertical-align: middle;\n",
       "    }\n",
       "\n",
       "    .dataframe tbody tr th {\n",
       "        vertical-align: top;\n",
       "    }\n",
       "\n",
       "    .dataframe thead th {\n",
       "        text-align: right;\n",
       "    }\n",
       "</style>\n",
       "<table border=\"1\" class=\"dataframe\">\n",
       "  <thead>\n",
       "    <tr style=\"text-align: right;\">\n",
       "      <th></th>\n",
       "      <th>international plan</th>\n",
       "      <th>voice mail plan</th>\n",
       "      <th>number vmail messages</th>\n",
       "      <th>total day minutes</th>\n",
       "      <th>total day calls</th>\n",
       "      <th>total day charge</th>\n",
       "      <th>total eve minutes</th>\n",
       "      <th>total eve calls</th>\n",
       "      <th>total eve charge</th>\n",
       "      <th>total night minutes</th>\n",
       "      <th>...</th>\n",
       "      <th>customer service calls</th>\n",
       "      <th>%night</th>\n",
       "      <th>%eve</th>\n",
       "      <th>avg duration</th>\n",
       "      <th>Midwest</th>\n",
       "      <th>Noncontinental</th>\n",
       "      <th>Northeast</th>\n",
       "      <th>Northwest</th>\n",
       "      <th>Southeast</th>\n",
       "      <th>Southwest</th>\n",
       "    </tr>\n",
       "  </thead>\n",
       "  <tbody>\n",
       "    <tr>\n",
       "      <th>0</th>\n",
       "      <td>-0.33665</td>\n",
       "      <td>-0.584265</td>\n",
       "      <td>-0.558117</td>\n",
       "      <td>-1.925862</td>\n",
       "      <td>-0.718809</td>\n",
       "      <td>-1.926030</td>\n",
       "      <td>-0.755095</td>\n",
       "      <td>-0.750982</td>\n",
       "      <td>-0.754962</td>\n",
       "      <td>0.706492</td>\n",
       "      <td>...</td>\n",
       "      <td>1.912783</td>\n",
       "      <td>-0.450336</td>\n",
       "      <td>0.206306</td>\n",
       "      <td>-0.109291</td>\n",
       "      <td>-0.565825</td>\n",
       "      <td>-0.123278</td>\n",
       "      <td>-0.575045</td>\n",
       "      <td>-0.404676</td>\n",
       "      <td>1.826927</td>\n",
       "      <td>-0.374075</td>\n",
       "    </tr>\n",
       "    <tr>\n",
       "      <th>1</th>\n",
       "      <td>-0.33665</td>\n",
       "      <td>-0.584265</td>\n",
       "      <td>-0.558117</td>\n",
       "      <td>0.424559</td>\n",
       "      <td>0.004641</td>\n",
       "      <td>0.424830</td>\n",
       "      <td>-0.077627</td>\n",
       "      <td>0.185293</td>\n",
       "      <td>-0.078750</td>\n",
       "      <td>1.700308</td>\n",
       "      <td>...</td>\n",
       "      <td>0.404236</td>\n",
       "      <td>0.608906</td>\n",
       "      <td>-0.144362</td>\n",
       "      <td>-0.541423</td>\n",
       "      <td>-0.565825</td>\n",
       "      <td>-0.123278</td>\n",
       "      <td>-0.575045</td>\n",
       "      <td>2.471110</td>\n",
       "      <td>-0.547367</td>\n",
       "      <td>-0.374075</td>\n",
       "    </tr>\n",
       "    <tr>\n",
       "      <th>2</th>\n",
       "      <td>-0.33665</td>\n",
       "      <td>-0.584265</td>\n",
       "      <td>-0.558117</td>\n",
       "      <td>-1.101025</td>\n",
       "      <td>-0.408759</td>\n",
       "      <td>-1.100545</td>\n",
       "      <td>-0.431175</td>\n",
       "      <td>0.512989</td>\n",
       "      <td>-0.431960</td>\n",
       "      <td>1.013014</td>\n",
       "      <td>...</td>\n",
       "      <td>-0.350037</td>\n",
       "      <td>-0.097256</td>\n",
       "      <td>0.556975</td>\n",
       "      <td>0.138357</td>\n",
       "      <td>1.767330</td>\n",
       "      <td>-0.123278</td>\n",
       "      <td>-0.575045</td>\n",
       "      <td>-0.404676</td>\n",
       "      <td>-0.547367</td>\n",
       "      <td>-0.374075</td>\n",
       "    </tr>\n",
       "    <tr>\n",
       "      <th>3</th>\n",
       "      <td>-0.33665</td>\n",
       "      <td>-0.584265</td>\n",
       "      <td>-0.558117</td>\n",
       "      <td>-2.201416</td>\n",
       "      <td>-0.202059</td>\n",
       "      <td>-2.201907</td>\n",
       "      <td>0.048781</td>\n",
       "      <td>1.308822</td>\n",
       "      <td>0.049056</td>\n",
       "      <td>0.152468</td>\n",
       "      <td>...</td>\n",
       "      <td>-1.104310</td>\n",
       "      <td>-0.626877</td>\n",
       "      <td>1.082978</td>\n",
       "      <td>1.374610</td>\n",
       "      <td>1.767330</td>\n",
       "      <td>-0.123278</td>\n",
       "      <td>-0.575045</td>\n",
       "      <td>-0.404676</td>\n",
       "      <td>-0.547367</td>\n",
       "      <td>-0.374075</td>\n",
       "    </tr>\n",
       "    <tr>\n",
       "      <th>4</th>\n",
       "      <td>-0.33665</td>\n",
       "      <td>-0.584265</td>\n",
       "      <td>-0.558117</td>\n",
       "      <td>0.939170</td>\n",
       "      <td>0.521391</td>\n",
       "      <td>0.939013</td>\n",
       "      <td>-2.404325</td>\n",
       "      <td>-0.516913</td>\n",
       "      <td>-2.404826</td>\n",
       "      <td>0.849282</td>\n",
       "      <td>...</td>\n",
       "      <td>-0.350037</td>\n",
       "      <td>0.255825</td>\n",
       "      <td>-0.670365</td>\n",
       "      <td>0.158219</td>\n",
       "      <td>-0.565825</td>\n",
       "      <td>-0.123278</td>\n",
       "      <td>-0.575045</td>\n",
       "      <td>-0.404676</td>\n",
       "      <td>1.826927</td>\n",
       "      <td>-0.374075</td>\n",
       "    </tr>\n",
       "    <tr>\n",
       "      <th>...</th>\n",
       "      <td>...</td>\n",
       "      <td>...</td>\n",
       "      <td>...</td>\n",
       "      <td>...</td>\n",
       "      <td>...</td>\n",
       "      <td>...</td>\n",
       "      <td>...</td>\n",
       "      <td>...</td>\n",
       "      <td>...</td>\n",
       "      <td>...</td>\n",
       "      <td>...</td>\n",
       "      <td>...</td>\n",
       "      <td>...</td>\n",
       "      <td>...</td>\n",
       "      <td>...</td>\n",
       "      <td>...</td>\n",
       "      <td>...</td>\n",
       "      <td>...</td>\n",
       "      <td>...</td>\n",
       "      <td>...</td>\n",
       "      <td>...</td>\n",
       "    </tr>\n",
       "    <tr>\n",
       "      <th>329</th>\n",
       "      <td>-0.33665</td>\n",
       "      <td>-0.584265</td>\n",
       "      <td>-0.558117</td>\n",
       "      <td>-2.028054</td>\n",
       "      <td>-1.648959</td>\n",
       "      <td>-2.028008</td>\n",
       "      <td>-0.077627</td>\n",
       "      <td>-0.563727</td>\n",
       "      <td>-0.078750</td>\n",
       "      <td>0.647472</td>\n",
       "      <td>...</td>\n",
       "      <td>-0.350037</td>\n",
       "      <td>2.374309</td>\n",
       "      <td>-0.495031</td>\n",
       "      <td>0.506310</td>\n",
       "      <td>-0.565825</td>\n",
       "      <td>-0.123278</td>\n",
       "      <td>1.738993</td>\n",
       "      <td>-0.404676</td>\n",
       "      <td>-0.547367</td>\n",
       "      <td>-0.374075</td>\n",
       "    </tr>\n",
       "    <tr>\n",
       "      <th>330</th>\n",
       "      <td>-0.33665</td>\n",
       "      <td>-0.584265</td>\n",
       "      <td>-0.558117</td>\n",
       "      <td>0.504853</td>\n",
       "      <td>1.296517</td>\n",
       "      <td>0.505339</td>\n",
       "      <td>-0.383772</td>\n",
       "      <td>0.700243</td>\n",
       "      <td>-0.383162</td>\n",
       "      <td>0.344758</td>\n",
       "      <td>...</td>\n",
       "      <td>1.158510</td>\n",
       "      <td>-0.803417</td>\n",
       "      <td>0.206306</td>\n",
       "      <td>0.198958</td>\n",
       "      <td>1.767330</td>\n",
       "      <td>-0.123278</td>\n",
       "      <td>-0.575045</td>\n",
       "      <td>-0.404676</td>\n",
       "      <td>-0.547367</td>\n",
       "      <td>-0.374075</td>\n",
       "    </tr>\n",
       "    <tr>\n",
       "      <th>331</th>\n",
       "      <td>-0.33665</td>\n",
       "      <td>1.711552</td>\n",
       "      <td>1.842025</td>\n",
       "      <td>-1.500670</td>\n",
       "      <td>-2.114034</td>\n",
       "      <td>-1.500943</td>\n",
       "      <td>2.286598</td>\n",
       "      <td>-0.001962</td>\n",
       "      <td>2.286829</td>\n",
       "      <td>-0.746154</td>\n",
       "      <td>...</td>\n",
       "      <td>1.912783</td>\n",
       "      <td>1.668148</td>\n",
       "      <td>0.556975</td>\n",
       "      <td>-0.456498</td>\n",
       "      <td>-0.565825</td>\n",
       "      <td>-0.123278</td>\n",
       "      <td>1.738993</td>\n",
       "      <td>-0.404676</td>\n",
       "      <td>-0.547367</td>\n",
       "      <td>-0.374075</td>\n",
       "    </tr>\n",
       "    <tr>\n",
       "      <th>332</th>\n",
       "      <td>-0.33665</td>\n",
       "      <td>-0.584265</td>\n",
       "      <td>-0.558117</td>\n",
       "      <td>-0.852844</td>\n",
       "      <td>-1.442259</td>\n",
       "      <td>-0.852578</td>\n",
       "      <td>0.945488</td>\n",
       "      <td>0.419361</td>\n",
       "      <td>0.946024</td>\n",
       "      <td>0.832147</td>\n",
       "      <td>...</td>\n",
       "      <td>1.158510</td>\n",
       "      <td>1.315067</td>\n",
       "      <td>0.381641</td>\n",
       "      <td>-0.399108</td>\n",
       "      <td>-0.565825</td>\n",
       "      <td>-0.123278</td>\n",
       "      <td>1.738993</td>\n",
       "      <td>-0.404676</td>\n",
       "      <td>-0.547367</td>\n",
       "      <td>-0.374075</td>\n",
       "    </tr>\n",
       "    <tr>\n",
       "      <th>333</th>\n",
       "      <td>-0.33665</td>\n",
       "      <td>1.711552</td>\n",
       "      <td>1.696562</td>\n",
       "      <td>-0.469623</td>\n",
       "      <td>0.779766</td>\n",
       "      <td>-0.469356</td>\n",
       "      <td>-0.271189</td>\n",
       "      <td>-1.827697</td>\n",
       "      <td>-0.271622</td>\n",
       "      <td>0.415201</td>\n",
       "      <td>...</td>\n",
       "      <td>3.421329</td>\n",
       "      <td>0.608906</td>\n",
       "      <td>-2.073039</td>\n",
       "      <td>-0.331906</td>\n",
       "      <td>-0.565825</td>\n",
       "      <td>-0.123278</td>\n",
       "      <td>-0.575045</td>\n",
       "      <td>-0.404676</td>\n",
       "      <td>1.826927</td>\n",
       "      <td>-0.374075</td>\n",
       "    </tr>\n",
       "  </tbody>\n",
       "</table>\n",
       "<p>334 rows × 25 columns</p>\n",
       "</div>"
      ],
      "text/plain": [
       "     international plan  voice mail plan  number vmail messages  \\\n",
       "0              -0.33665        -0.584265              -0.558117   \n",
       "1              -0.33665        -0.584265              -0.558117   \n",
       "2              -0.33665        -0.584265              -0.558117   \n",
       "3              -0.33665        -0.584265              -0.558117   \n",
       "4              -0.33665        -0.584265              -0.558117   \n",
       "..                  ...              ...                    ...   \n",
       "329            -0.33665        -0.584265              -0.558117   \n",
       "330            -0.33665        -0.584265              -0.558117   \n",
       "331            -0.33665         1.711552               1.842025   \n",
       "332            -0.33665        -0.584265              -0.558117   \n",
       "333            -0.33665         1.711552               1.696562   \n",
       "\n",
       "     total day minutes  total day calls  total day charge  total eve minutes  \\\n",
       "0            -1.925862        -0.718809         -1.926030          -0.755095   \n",
       "1             0.424559         0.004641          0.424830          -0.077627   \n",
       "2            -1.101025        -0.408759         -1.100545          -0.431175   \n",
       "3            -2.201416        -0.202059         -2.201907           0.048781   \n",
       "4             0.939170         0.521391          0.939013          -2.404325   \n",
       "..                 ...              ...               ...                ...   \n",
       "329          -2.028054        -1.648959         -2.028008          -0.077627   \n",
       "330           0.504853         1.296517          0.505339          -0.383772   \n",
       "331          -1.500670        -2.114034         -1.500943           2.286598   \n",
       "332          -0.852844        -1.442259         -0.852578           0.945488   \n",
       "333          -0.469623         0.779766         -0.469356          -0.271189   \n",
       "\n",
       "     total eve calls  total eve charge  total night minutes  ...  \\\n",
       "0          -0.750982         -0.754962             0.706492  ...   \n",
       "1           0.185293         -0.078750             1.700308  ...   \n",
       "2           0.512989         -0.431960             1.013014  ...   \n",
       "3           1.308822          0.049056             0.152468  ...   \n",
       "4          -0.516913         -2.404826             0.849282  ...   \n",
       "..               ...               ...                  ...  ...   \n",
       "329        -0.563727         -0.078750             0.647472  ...   \n",
       "330         0.700243         -0.383162             0.344758  ...   \n",
       "331        -0.001962          2.286829            -0.746154  ...   \n",
       "332         0.419361          0.946024             0.832147  ...   \n",
       "333        -1.827697         -0.271622             0.415201  ...   \n",
       "\n",
       "     customer service calls    %night      %eve  avg duration   Midwest  \\\n",
       "0                  1.912783 -0.450336  0.206306     -0.109291 -0.565825   \n",
       "1                  0.404236  0.608906 -0.144362     -0.541423 -0.565825   \n",
       "2                 -0.350037 -0.097256  0.556975      0.138357  1.767330   \n",
       "3                 -1.104310 -0.626877  1.082978      1.374610  1.767330   \n",
       "4                 -0.350037  0.255825 -0.670365      0.158219 -0.565825   \n",
       "..                      ...       ...       ...           ...       ...   \n",
       "329               -0.350037  2.374309 -0.495031      0.506310 -0.565825   \n",
       "330                1.158510 -0.803417  0.206306      0.198958  1.767330   \n",
       "331                1.912783  1.668148  0.556975     -0.456498 -0.565825   \n",
       "332                1.158510  1.315067  0.381641     -0.399108 -0.565825   \n",
       "333                3.421329  0.608906 -2.073039     -0.331906 -0.565825   \n",
       "\n",
       "     Noncontinental  Northeast  Northwest  Southeast  Southwest  \n",
       "0         -0.123278  -0.575045  -0.404676   1.826927  -0.374075  \n",
       "1         -0.123278  -0.575045   2.471110  -0.547367  -0.374075  \n",
       "2         -0.123278  -0.575045  -0.404676  -0.547367  -0.374075  \n",
       "3         -0.123278  -0.575045  -0.404676  -0.547367  -0.374075  \n",
       "4         -0.123278  -0.575045  -0.404676   1.826927  -0.374075  \n",
       "..              ...        ...        ...        ...        ...  \n",
       "329       -0.123278   1.738993  -0.404676  -0.547367  -0.374075  \n",
       "330       -0.123278  -0.575045  -0.404676  -0.547367  -0.374075  \n",
       "331       -0.123278   1.738993  -0.404676  -0.547367  -0.374075  \n",
       "332       -0.123278   1.738993  -0.404676  -0.547367  -0.374075  \n",
       "333       -0.123278  -0.575045  -0.404676   1.826927  -0.374075  \n",
       "\n",
       "[334 rows x 25 columns]"
      ]
     },
     "execution_count": 27,
     "metadata": {},
     "output_type": "execute_result"
    }
   ],
   "source": [
    "Xval.columns = list(X3.columns)\n",
    "Xval"
   ]
  },
  {
   "cell_type": "code",
   "execution_count": 28,
   "metadata": {},
   "outputs": [],
   "source": [
    "sample1 = X3.drop(['Southwest', 'Southeast', 'Northwest', 'Northeast', 'Noncontinental', 'Midwest', '%eve', '%night', 'number vmail messages'], axis='columns')\n",
    "sv1 = Xval.drop(['Southwest', 'Southeast', 'Northwest', 'Northeast', 'Noncontinental', 'Midwest', '%eve', '%night', 'number vmail messages'], axis='columns')\n",
    "sample2 = X3.drop(['Southwest', 'Southeast', 'Northwest', 'Northeast', 'Noncontinental', 'Midwest'], axis='columns')\n",
    "sv2 = Xval.drop(['Southwest', 'Southeast', 'Northwest', 'Northeast', 'Noncontinental', 'Midwest'], axis='columns')\n",
    "sample3 = X3.drop(['Southwest', 'Southeast', 'Northwest', 'Northeast', 'Noncontinental', 'Midwest', '%eve', '%night', 'number vmail messages',\n",
    "                 'total night charge', 'total night calls', 'total eve charge', 'total eve calls', 'total day charge', 'total day calls'], axis='columns')\n",
    "sv3 = Xval.drop(['Southwest', 'Southeast', 'Northwest', 'Northeast', 'Noncontinental', 'Midwest', '%eve', '%night', 'number vmail messages',\n",
    "                 'total night charge', 'total night calls', 'total eve charge', 'total eve calls', 'total day charge', 'total day calls'], axis='columns')\n",
    "sample4 = dh.MakeNewDF(X3, y3, 10)\n",
    "sv4 = dh.MakeNewDF(Xval, yval, 10)\n",
    "sample5 = dh.MakeNewDF(X3, y3, 19)\n",
    "sv5 = dh.MakeNewDF(Xval, yval, 19)"
   ]
  },
  {
   "cell_type": "code",
   "execution_count": 29,
   "metadata": {},
   "outputs": [
    {
     "data": {
      "text/html": [
       "<div>\n",
       "<style scoped>\n",
       "    .dataframe tbody tr th:only-of-type {\n",
       "        vertical-align: middle;\n",
       "    }\n",
       "\n",
       "    .dataframe tbody tr th {\n",
       "        vertical-align: top;\n",
       "    }\n",
       "\n",
       "    .dataframe thead th {\n",
       "        text-align: right;\n",
       "    }\n",
       "</style>\n",
       "<table border=\"1\" class=\"dataframe\">\n",
       "  <thead>\n",
       "    <tr style=\"text-align: right;\">\n",
       "      <th></th>\n",
       "      <th>Model</th>\n",
       "      <th>train_acc</th>\n",
       "      <th>test_acc</th>\n",
       "    </tr>\n",
       "  </thead>\n",
       "  <tbody>\n",
       "    <tr>\n",
       "      <th>0</th>\n",
       "      <td>KNN</td>\n",
       "      <td>0.932450</td>\n",
       "      <td>0.888542</td>\n",
       "    </tr>\n",
       "    <tr>\n",
       "      <th>1</th>\n",
       "      <td>NB</td>\n",
       "      <td>0.787997</td>\n",
       "      <td>0.764614</td>\n",
       "    </tr>\n",
       "    <tr>\n",
       "      <th>2</th>\n",
       "      <td>DT</td>\n",
       "      <td>1.000000</td>\n",
       "      <td>0.921278</td>\n",
       "    </tr>\n",
       "    <tr>\n",
       "      <th>3</th>\n",
       "      <td>RF</td>\n",
       "      <td>1.000000</td>\n",
       "      <td>0.945440</td>\n",
       "    </tr>\n",
       "    <tr>\n",
       "      <th>4</th>\n",
       "      <td>AB</td>\n",
       "      <td>0.898675</td>\n",
       "      <td>0.862042</td>\n",
       "    </tr>\n",
       "    <tr>\n",
       "      <th>5</th>\n",
       "      <td>GB</td>\n",
       "      <td>0.967264</td>\n",
       "      <td>0.939984</td>\n",
       "    </tr>\n",
       "    <tr>\n",
       "      <th>6</th>\n",
       "      <td>XGB</td>\n",
       "      <td>0.960769</td>\n",
       "      <td>0.937646</td>\n",
       "    </tr>\n",
       "    <tr>\n",
       "      <th>7</th>\n",
       "      <td>Log</td>\n",
       "      <td>0.791634</td>\n",
       "      <td>0.776306</td>\n",
       "    </tr>\n",
       "    <tr>\n",
       "      <th>8</th>\n",
       "      <td>SVM</td>\n",
       "      <td>0.918940</td>\n",
       "      <td>0.896337</td>\n",
       "    </tr>\n",
       "  </tbody>\n",
       "</table>\n",
       "</div>"
      ],
      "text/plain": [
       "  Model  train_acc  test_acc\n",
       "0   KNN   0.932450  0.888542\n",
       "1    NB   0.787997  0.764614\n",
       "2    DT   1.000000  0.921278\n",
       "3    RF   1.000000  0.945440\n",
       "4    AB   0.898675  0.862042\n",
       "5    GB   0.967264  0.939984\n",
       "6   XGB   0.960769  0.937646\n",
       "7   Log   0.791634  0.776306\n",
       "8   SVM   0.918940  0.896337"
      ]
     },
     "execution_count": 29,
     "metadata": {},
     "output_type": "execute_result"
    }
   ],
   "source": [
    "ml.CompareClassifiers(sample1, y3)"
   ]
  },
  {
   "cell_type": "code",
   "execution_count": 30,
   "metadata": {},
   "outputs": [
    {
     "name": "stdout",
     "output_type": "stream",
     "text": [
      "Fitting 5 folds for each of 9 candidates, totalling 45 fits\n"
     ]
    },
    {
     "name": "stderr",
     "output_type": "stream",
     "text": [
      "[Parallel(n_jobs=-1)]: Using backend LokyBackend with 12 concurrent workers.\n",
      "[Parallel(n_jobs=-1)]: Done  17 tasks      | elapsed:    4.8s\n",
      "[Parallel(n_jobs=-1)]: Done  45 out of  45 | elapsed:   21.0s remaining:    0.0s\n",
      "[Parallel(n_jobs=-1)]: Done  45 out of  45 | elapsed:   21.0s finished\n"
     ]
    },
    {
     "data": {
      "text/plain": [
       "GradientBoostingClassifier(max_depth=5, n_estimators=200)"
      ]
     },
     "execution_count": 30,
     "metadata": {},
     "output_type": "execute_result"
    }
   ],
   "source": [
    "parameters = {'max_depth': [3, 5, None], 'n_estimators': [50, 100, 200]}\n",
    "clf = ml.Optimize(GradientBoostingClassifier(), parameters, sample1, y3)\n",
    "clf"
   ]
  },
  {
   "cell_type": "code",
   "execution_count": 31,
   "metadata": {},
   "outputs": [
    {
     "name": "stdout",
     "output_type": "stream",
     "text": [
      "AUC: 0.579225352112676\n",
      "Training: 0.9987009612886464, Validation: 0.9641465315666407\n"
     ]
    },
    {
     "data": {
      "image/png": "[encoded data removed]",
      "text/plain": [
       "<Figure size 432x288 with 2 Axes>"
      ]
     },
     "metadata": {
      "needs_background": "light"
     },
     "output_type": "display_data"
    }
   ],
   "source": [
    "score = ev.ScoreModel(clf, sample1, y3)\n",
    "fit = clf.fit(sample1, y3)\n",
    "ev.BuildConfusion(fit, sv1, yval)\n",
    "print('AUC: {}'.format(ev.AUC(clf, sv1, yval)))\n",
    "print(score)"
   ]
  },
  {
   "cell_type": "markdown",
   "metadata": {},
   "source": [
    "Without ML: $-4,396\n",
    "\n",
    "With this model: $14,658"
   ]
  },
  {
   "cell_type": "code",
   "execution_count": 32,
   "metadata": {},
   "outputs": [
    {
     "data": {
      "text/html": [
       "<div>\n",
       "<style scoped>\n",
       "    .dataframe tbody tr th:only-of-type {\n",
       "        vertical-align: middle;\n",
       "    }\n",
       "\n",
       "    .dataframe tbody tr th {\n",
       "        vertical-align: top;\n",
       "    }\n",
       "\n",
       "    .dataframe thead th {\n",
       "        text-align: right;\n",
       "    }\n",
       "</style>\n",
       "<table border=\"1\" class=\"dataframe\">\n",
       "  <thead>\n",
       "    <tr style=\"text-align: right;\">\n",
       "      <th></th>\n",
       "      <th>Model</th>\n",
       "      <th>train_acc</th>\n",
       "      <th>test_acc</th>\n",
       "    </tr>\n",
       "  </thead>\n",
       "  <tbody>\n",
       "    <tr>\n",
       "      <th>0</th>\n",
       "      <td>KNN</td>\n",
       "      <td>0.931151</td>\n",
       "      <td>0.876072</td>\n",
       "    </tr>\n",
       "    <tr>\n",
       "      <th>1</th>\n",
       "      <td>NB</td>\n",
       "      <td>0.776046</td>\n",
       "      <td>0.768511</td>\n",
       "    </tr>\n",
       "    <tr>\n",
       "      <th>2</th>\n",
       "      <td>DT</td>\n",
       "      <td>1.000000</td>\n",
       "      <td>0.910366</td>\n",
       "    </tr>\n",
       "    <tr>\n",
       "      <th>3</th>\n",
       "      <td>RF</td>\n",
       "      <td>1.000000</td>\n",
       "      <td>0.939984</td>\n",
       "    </tr>\n",
       "    <tr>\n",
       "      <th>4</th>\n",
       "      <td>AB</td>\n",
       "      <td>0.895557</td>\n",
       "      <td>0.882307</td>\n",
       "    </tr>\n",
       "    <tr>\n",
       "      <th>5</th>\n",
       "      <td>GB</td>\n",
       "      <td>0.965965</td>\n",
       "      <td>0.928293</td>\n",
       "    </tr>\n",
       "    <tr>\n",
       "      <th>6</th>\n",
       "      <td>XGB</td>\n",
       "      <td>0.961808</td>\n",
       "      <td>0.920499</td>\n",
       "    </tr>\n",
       "    <tr>\n",
       "      <th>7</th>\n",
       "      <td>Log</td>\n",
       "      <td>0.797870</td>\n",
       "      <td>0.778644</td>\n",
       "    </tr>\n",
       "    <tr>\n",
       "      <th>8</th>\n",
       "      <td>SVM</td>\n",
       "      <td>0.917381</td>\n",
       "      <td>0.882307</td>\n",
       "    </tr>\n",
       "  </tbody>\n",
       "</table>\n",
       "</div>"
      ],
      "text/plain": [
       "  Model  train_acc  test_acc\n",
       "0   KNN   0.931151  0.876072\n",
       "1    NB   0.776046  0.768511\n",
       "2    DT   1.000000  0.910366\n",
       "3    RF   1.000000  0.939984\n",
       "4    AB   0.895557  0.882307\n",
       "5    GB   0.965965  0.928293\n",
       "6   XGB   0.961808  0.920499\n",
       "7   Log   0.797870  0.778644\n",
       "8   SVM   0.917381  0.882307"
      ]
     },
     "execution_count": 32,
     "metadata": {},
     "output_type": "execute_result"
    }
   ],
   "source": [
    "ml.CompareClassifiers(sample2, y3)"
   ]
  },
  {
   "cell_type": "code",
   "execution_count": 33,
   "metadata": {},
   "outputs": [
    {
     "name": "stdout",
     "output_type": "stream",
     "text": [
      "Fitting 5 folds for each of 8 candidates, totalling 40 fits\n"
     ]
    },
    {
     "name": "stderr",
     "output_type": "stream",
     "text": [
      "[Parallel(n_jobs=-1)]: Using backend LokyBackend with 12 concurrent workers.\n",
      "[Parallel(n_jobs=-1)]: Done  17 tasks      | elapsed:    0.9s\n",
      "[Parallel(n_jobs=-1)]: Done  38 out of  40 | elapsed:    1.7s remaining:    0.0s\n",
      "[Parallel(n_jobs=-1)]: Done  40 out of  40 | elapsed:    1.7s finished\n"
     ]
    },
    {
     "data": {
      "text/plain": [
       "XGBClassifier(learning_rate=0.2, max_depth=6, subsample=0.7)"
      ]
     },
     "execution_count": 33,
     "metadata": {},
     "output_type": "execute_result"
    }
   ],
   "source": [
    "parameters = {\n",
    "    'learning_rate': [0.1, 0.2],\n",
    "    'max_depth': [6],\n",
    "    'min_child_weight': [1, 2],\n",
    "    'subsample': [0.5, 0.7],\n",
    "    'n_estimators': [100],\n",
    "}\n",
    "clf = ml.Optimize(XGBClassifier(), parameters, sample3, y3)\n",
    "clf"
   ]
  },
  {
   "cell_type": "code",
   "execution_count": 35,
   "metadata": {},
   "outputs": [
    {
     "name": "stdout",
     "output_type": "stream",
     "text": [
      "Training: 0.9989607690309171, Validation: 0.9672642244738893\n"
     ]
    },
    {
     "data": {
      "text/plain": [
       "<sklearn.metrics._plot.confusion_matrix.ConfusionMatrixDisplay at 0x29f77e83f98>"
      ]
     },
     "execution_count": 35,
     "metadata": {},
     "output_type": "execute_result"
    },
    {
     "data": {
      "image/png": "[encoded data removed]",
      "text/plain": [
       "<Figure size 432x288 with 2 Axes>"
      ]
     },
     "metadata": {
      "needs_background": "light"
     },
     "output_type": "display_data"
    }
   ],
   "source": [
    "score = ev.ScoreModel(clf, sample3, y3)\n",
    "fit = clf.fit(sv3, yval)\n",
    "print(score)\n",
    "ev.BuildConfusion(fit, sv3, yval)"
   ]
  },
  {
   "cell_type": "markdown",
   "metadata": {},
   "source": [
    "This ended up being the best model ^^^"
   ]
  },
  {
   "cell_type": "markdown",
   "metadata": {},
   "source": [
    "Without ML: $-4,396\n",
    "\n",
    "With this Model: $18,004"
   ]
  },
  {
   "cell_type": "code",
   "execution_count": 36,
   "metadata": {},
   "outputs": [
    {
     "data": {
      "text/html": [
       "<div>\n",
       "<style scoped>\n",
       "    .dataframe tbody tr th:only-of-type {\n",
       "        vertical-align: middle;\n",
       "    }\n",
       "\n",
       "    .dataframe tbody tr th {\n",
       "        vertical-align: top;\n",
       "    }\n",
       "\n",
       "    .dataframe thead th {\n",
       "        text-align: right;\n",
       "    }\n",
       "</style>\n",
       "<table border=\"1\" class=\"dataframe\">\n",
       "  <thead>\n",
       "    <tr style=\"text-align: right;\">\n",
       "      <th></th>\n",
       "      <th>Model</th>\n",
       "      <th>train_acc</th>\n",
       "      <th>test_acc</th>\n",
       "    </tr>\n",
       "  </thead>\n",
       "  <tbody>\n",
       "    <tr>\n",
       "      <th>0</th>\n",
       "      <td>KNN</td>\n",
       "      <td>0.919200</td>\n",
       "      <td>0.881528</td>\n",
       "    </tr>\n",
       "    <tr>\n",
       "      <th>1</th>\n",
       "      <td>NB</td>\n",
       "      <td>0.771369</td>\n",
       "      <td>0.783320</td>\n",
       "    </tr>\n",
       "    <tr>\n",
       "      <th>2</th>\n",
       "      <td>DT</td>\n",
       "      <td>1.000000</td>\n",
       "      <td>0.904910</td>\n",
       "    </tr>\n",
       "    <tr>\n",
       "      <th>3</th>\n",
       "      <td>RF</td>\n",
       "      <td>1.000000</td>\n",
       "      <td>0.932190</td>\n",
       "    </tr>\n",
       "    <tr>\n",
       "      <th>4</th>\n",
       "      <td>AB</td>\n",
       "      <td>0.889842</td>\n",
       "      <td>0.881528</td>\n",
       "    </tr>\n",
       "    <tr>\n",
       "      <th>5</th>\n",
       "      <td>GB</td>\n",
       "      <td>0.943882</td>\n",
       "      <td>0.921278</td>\n",
       "    </tr>\n",
       "    <tr>\n",
       "      <th>6</th>\n",
       "      <td>XGB</td>\n",
       "      <td>0.939725</td>\n",
       "      <td>0.919719</td>\n",
       "    </tr>\n",
       "    <tr>\n",
       "      <th>7</th>\n",
       "      <td>Log</td>\n",
       "      <td>0.783580</td>\n",
       "      <td>0.793453</td>\n",
       "    </tr>\n",
       "    <tr>\n",
       "      <th>8</th>\n",
       "      <td>SVM</td>\n",
       "      <td>0.877631</td>\n",
       "      <td>0.879969</td>\n",
       "    </tr>\n",
       "  </tbody>\n",
       "</table>\n",
       "</div>"
      ],
      "text/plain": [
       "  Model  train_acc  test_acc\n",
       "0   KNN   0.919200  0.881528\n",
       "1    NB   0.771369  0.783320\n",
       "2    DT   1.000000  0.904910\n",
       "3    RF   1.000000  0.932190\n",
       "4    AB   0.889842  0.881528\n",
       "5    GB   0.943882  0.921278\n",
       "6   XGB   0.939725  0.919719\n",
       "7   Log   0.783580  0.793453\n",
       "8   SVM   0.877631  0.879969"
      ]
     },
     "execution_count": 36,
     "metadata": {},
     "output_type": "execute_result"
    }
   ],
   "source": [
    "ml.CompareClassifiers(sample4, y3)"
   ]
  },
  {
   "cell_type": "code",
   "execution_count": 37,
   "metadata": {},
   "outputs": [
    {
     "name": "stdout",
     "output_type": "stream",
     "text": [
      "Fitting 5 folds for each of 9 candidates, totalling 45 fits\n"
     ]
    },
    {
     "name": "stderr",
     "output_type": "stream",
     "text": [
      "[Parallel(n_jobs=-1)]: Using backend LokyBackend with 12 concurrent workers.\n",
      "[Parallel(n_jobs=-1)]: Done  17 tasks      | elapsed:    1.5s\n",
      "[Parallel(n_jobs=-1)]: Done  45 out of  45 | elapsed:   12.5s remaining:    0.0s\n",
      "[Parallel(n_jobs=-1)]: Done  45 out of  45 | elapsed:   12.5s finished\n"
     ]
    },
    {
     "name": "stdout",
     "output_type": "stream",
     "text": [
      "GradientBoostingClassifier(max_depth=5, n_estimators=200)\n",
      "Training: 0.9924655754741492, Validation: 0.936087295401403\n"
     ]
    },
    {
     "data": {
      "text/plain": [
       "<sklearn.metrics._plot.confusion_matrix.ConfusionMatrixDisplay at 0x29f7b035518>"
      ]
     },
     "execution_count": 37,
     "metadata": {},
     "output_type": "execute_result"
    },
    {
     "data": {
      "image/png": "[encoded data removed]",
      "text/plain": [
       "<Figure size 432x288 with 2 Axes>"
      ]
     },
     "metadata": {
      "needs_background": "light"
     },
     "output_type": "display_data"
    }
   ],
   "source": [
    "parameters = {'max_depth': [3, 5, None], 'n_estimators': [50, 100, 200]}\n",
    "clf = ml.Optimize(GradientBoostingClassifier(), parameters, sample4, y3)\n",
    "print(clf)\n",
    "score = ev.ScoreModel(clf, sample4, y3)\n",
    "print(score)\n",
    "fit = clf.fit(sample4, y3)\n",
    "#auc = ev.AUC(clf, sample4, y)\n",
    "#print('AUC: {}'.format(auc))\n",
    "ev.BuildConfusion(fit, sv4, yval)"
   ]
  },
  {
   "cell_type": "markdown",
   "metadata": {},
   "source": [
    "Without ML: $-4,396\n",
    "    \n",
    "With this model: $12,250"
   ]
  },
  {
   "cell_type": "code",
   "execution_count": 38,
   "metadata": {},
   "outputs": [
    {
     "data": {
      "text/html": [
       "<div>\n",
       "<style scoped>\n",
       "    .dataframe tbody tr th:only-of-type {\n",
       "        vertical-align: middle;\n",
       "    }\n",
       "\n",
       "    .dataframe tbody tr th {\n",
       "        vertical-align: top;\n",
       "    }\n",
       "\n",
       "    .dataframe thead th {\n",
       "        text-align: right;\n",
       "    }\n",
       "</style>\n",
       "<table border=\"1\" class=\"dataframe\">\n",
       "  <thead>\n",
       "    <tr style=\"text-align: right;\">\n",
       "      <th></th>\n",
       "      <th>Model</th>\n",
       "      <th>train_acc</th>\n",
       "      <th>test_acc</th>\n",
       "    </tr>\n",
       "  </thead>\n",
       "  <tbody>\n",
       "    <tr>\n",
       "      <th>0</th>\n",
       "      <td>KNN</td>\n",
       "      <td>0.930372</td>\n",
       "      <td>0.900234</td>\n",
       "    </tr>\n",
       "    <tr>\n",
       "      <th>1</th>\n",
       "      <td>NB</td>\n",
       "      <td>0.753442</td>\n",
       "      <td>0.759938</td>\n",
       "    </tr>\n",
       "    <tr>\n",
       "      <th>2</th>\n",
       "      <td>DT</td>\n",
       "      <td>1.000000</td>\n",
       "      <td>0.915822</td>\n",
       "    </tr>\n",
       "    <tr>\n",
       "      <th>3</th>\n",
       "      <td>RF</td>\n",
       "      <td>1.000000</td>\n",
       "      <td>0.948558</td>\n",
       "    </tr>\n",
       "    <tr>\n",
       "      <th>4</th>\n",
       "      <td>AB</td>\n",
       "      <td>0.899454</td>\n",
       "      <td>0.891660</td>\n",
       "    </tr>\n",
       "    <tr>\n",
       "      <th>5</th>\n",
       "      <td>GB</td>\n",
       "      <td>0.957651</td>\n",
       "      <td>0.946220</td>\n",
       "    </tr>\n",
       "    <tr>\n",
       "      <th>6</th>\n",
       "      <td>XGB</td>\n",
       "      <td>0.956872</td>\n",
       "      <td>0.939205</td>\n",
       "    </tr>\n",
       "    <tr>\n",
       "      <th>7</th>\n",
       "      <td>Log</td>\n",
       "      <td>0.796051</td>\n",
       "      <td>0.786438</td>\n",
       "    </tr>\n",
       "    <tr>\n",
       "      <th>8</th>\n",
       "      <td>SVM</td>\n",
       "      <td>0.924656</td>\n",
       "      <td>0.890881</td>\n",
       "    </tr>\n",
       "  </tbody>\n",
       "</table>\n",
       "</div>"
      ],
      "text/plain": [
       "  Model  train_acc  test_acc\n",
       "0   KNN   0.930372  0.900234\n",
       "1    NB   0.753442  0.759938\n",
       "2    DT   1.000000  0.915822\n",
       "3    RF   1.000000  0.948558\n",
       "4    AB   0.899454  0.891660\n",
       "5    GB   0.957651  0.946220\n",
       "6   XGB   0.956872  0.939205\n",
       "7   Log   0.796051  0.786438\n",
       "8   SVM   0.924656  0.890881"
      ]
     },
     "execution_count": 38,
     "metadata": {},
     "output_type": "execute_result"
    }
   ],
   "source": [
    "ml.CompareClassifiers(sample5, y3)"
   ]
  },
  {
   "cell_type": "code",
   "execution_count": 39,
   "metadata": {},
   "outputs": [
    {
     "name": "stdout",
     "output_type": "stream",
     "text": [
      "Fitting 5 folds for each of 9 candidates, totalling 45 fits\n"
     ]
    },
    {
     "name": "stderr",
     "output_type": "stream",
     "text": [
      "[Parallel(n_jobs=-1)]: Using backend LokyBackend with 12 concurrent workers.\n",
      "[Parallel(n_jobs=-1)]: Done  17 tasks      | elapsed:    2.4s\n",
      "[Parallel(n_jobs=-1)]: Done  45 out of  45 | elapsed:   16.8s remaining:    0.0s\n",
      "[Parallel(n_jobs=-1)]: Done  45 out of  45 | elapsed:   16.8s finished\n"
     ]
    },
    {
     "name": "stdout",
     "output_type": "stream",
     "text": [
      "GradientBoostingClassifier(max_depth=5, n_estimators=200)\n",
      "Training: 0.9989607690309171, Validation: 0.9688230709275136\n"
     ]
    },
    {
     "data": {
      "text/plain": [
       "<sklearn.metrics._plot.confusion_matrix.ConfusionMatrixDisplay at 0x29f7b2405f8>"
      ]
     },
     "execution_count": 39,
     "metadata": {},
     "output_type": "execute_result"
    },
    {
     "data": {
      "image/png": "[encoded data removed]",
      "text/plain": [
       "<Figure size 432x288 with 2 Axes>"
      ]
     },
     "metadata": {
      "needs_background": "light"
     },
     "output_type": "display_data"
    }
   ],
   "source": [
    "parameters = {'max_depth': [3, 5, None], 'n_estimators': [50, 100, 200]}\n",
    "clf = ml.Optimize(GradientBoostingClassifier(), parameters, sample5, y3)\n",
    "print(clf)\n",
    "score = ev.ScoreModel(clf, sample5, y3)\n",
    "print(score)\n",
    "#auc = ev.AUC(clf, sv5, yval)\n",
    "#print('AUC: {}'.format(auc))\n",
    "fit = clf.fit(sample5, y3)\n",
    "ev.BuildConfusion(fit, sv5, yval)"
   ]
  },
  {
   "cell_type": "markdown",
   "metadata": {},
   "source": [
    "Without ML: $-4,396\n",
    "\n",
    "With ML: $12,600"
   ]
  },
  {
   "cell_type": "code",
   "execution_count": 40,
   "metadata": {},
   "outputs": [],
   "source": [
    "yval = pd.DataFrame(np.array(yval))\n",
    "yval.columns = ['churn']"
   ]
  },
  {
   "cell_type": "code",
   "execution_count": 41,
   "metadata": {},
   "outputs": [],
   "source": [
    "newdf = pd.concat([sample3, y], axis='columns')\n",
    "val_df = pd.concat([sv3, yval], axis='columns')"
   ]
  },
  {
   "cell_type": "code",
   "execution_count": 42,
   "metadata": {},
   "outputs": [],
   "source": [
    "val_df.to_csv('ChurnValidation.csv')"
   ]
  },
  {
   "cell_type": "code",
   "execution_count": 43,
   "metadata": {},
   "outputs": [],
   "source": [
    "newdf.to_csv('Churn3.csv')"
   ]
  },
  {
   "cell_type": "code",
   "execution_count": 44,
   "metadata": {},
   "outputs": [
    {
     "name": "stdout",
     "output_type": "stream",
     "text": [
      "Training: 0.9841517277214861, Validation: 0.9625876851130164\n"
     ]
    },
    {
     "name": "stderr",
     "output_type": "stream",
     "text": [
      "C:\\Users\\aacjp\\Anaconda3\\envs\\flatiron-env\\lib\\site-packages\\sklearn\\utils\\validation.py:72: DataConversionWarning: A column-vector y was passed when a 1d array was expected. Please change the shape of y to (n_samples, ), for example using ravel().\n",
      "  return f(**kwargs)\n"
     ]
    },
    {
     "data": {
      "text/plain": [
       "<sklearn.metrics._plot.confusion_matrix.ConfusionMatrixDisplay at 0x29f77ebc940>"
      ]
     },
     "execution_count": 44,
     "metadata": {},
     "output_type": "execute_result"
    },
    {
     "data": {
      "image/png": "[encoded data removed]",
      "text/plain": [
       "<Figure size 432x288 with 2 Axes>"
      ]
     },
     "metadata": {
      "needs_background": "light"
     },
     "output_type": "display_data"
    }
   ],
   "source": [
    "clf = XGBClassifier(max_depth=6, min_child_weight=2, subsample=0.7)\n",
    "\n",
    "score = ev.ScoreModel(clf, sample3, y3)\n",
    "#auc = ev.AUC(clf, sample3, y)\n",
    "fit = clf.fit(sv3, yval)\n",
    "print(score)\n",
    "#print('AUC: {}'.format(auc))\n",
    "ev.BuildConfusion(fit, sv3, yval)"
   ]
  },
  {
   "cell_type": "markdown",
   "metadata": {},
   "source": [
    "Without ML: $-4,396\n",
    "\n",
    "With model: $15,764"
   ]
  },
  {
   "cell_type": "code",
   "execution_count": 45,
   "metadata": {},
   "outputs": [
    {
     "data": {
      "text/plain": [
       "0.95"
      ]
     },
     "execution_count": 45,
     "metadata": {},
     "output_type": "execute_result"
    }
   ],
   "source": [
    "ev.AUC(clf, sv3, yval)"
   ]
  },
  {
   "cell_type": "code",
   "execution_count": 46,
   "metadata": {},
   "outputs": [
    {
     "data": {
      "image/png": "[encoded data removed]",
      "text/plain": [
       "<Figure size 576x576 with 1 Axes>"
      ]
     },
     "metadata": {
      "needs_background": "light"
     },
     "output_type": "display_data"
    }
   ],
   "source": [
    "ev.GetImportance(clf, sample3, y3)"
   ]
  },
  {
   "cell_type": "markdown",
   "metadata": {},
   "source": [
    "## Engineering 3 new features"
   ]
  },
  {
   "cell_type": "code",
   "execution_count": 47,
   "metadata": {},
   "outputs": [
    {
     "data": {
      "text/html": [
       "<div>\n",
       "<style scoped>\n",
       "    .dataframe tbody tr th:only-of-type {\n",
       "        vertical-align: middle;\n",
       "    }\n",
       "\n",
       "    .dataframe tbody tr th {\n",
       "        vertical-align: top;\n",
       "    }\n",
       "\n",
       "    .dataframe thead th {\n",
       "        text-align: right;\n",
       "    }\n",
       "</style>\n",
       "<table border=\"1\" class=\"dataframe\">\n",
       "  <thead>\n",
       "    <tr style=\"text-align: right;\">\n",
       "      <th></th>\n",
       "      <th>international plan</th>\n",
       "      <th>voice mail plan</th>\n",
       "      <th>total day minutes</th>\n",
       "      <th>total eve minutes</th>\n",
       "      <th>total night minutes</th>\n",
       "      <th>total intl minutes</th>\n",
       "      <th>total intl calls</th>\n",
       "      <th>total intl charge</th>\n",
       "      <th>customer service calls</th>\n",
       "      <th>avg duration</th>\n",
       "      <th>total minutes</th>\n",
       "      <th>% intl minutes</th>\n",
       "      <th>irreg calls</th>\n",
       "    </tr>\n",
       "  </thead>\n",
       "  <tbody>\n",
       "    <tr>\n",
       "      <th>0</th>\n",
       "      <td>-0.326561</td>\n",
       "      <td>-0.622207</td>\n",
       "      <td>1.281143</td>\n",
       "      <td>1.010979</td>\n",
       "      <td>1.579421</td>\n",
       "      <td>0.553778</td>\n",
       "      <td>-0.607237</td>\n",
       "      <td>0.558388</td>\n",
       "      <td>-0.436839</td>\n",
       "      <td>-1.050496</td>\n",
       "      <td>4.425321</td>\n",
       "      <td>0.125138</td>\n",
       "      <td>-1.044075</td>\n",
       "    </tr>\n",
       "    <tr>\n",
       "      <th>1</th>\n",
       "      <td>-0.326561</td>\n",
       "      <td>1.607182</td>\n",
       "      <td>1.169053</td>\n",
       "      <td>0.703362</td>\n",
       "      <td>-0.544131</td>\n",
       "      <td>-0.446950</td>\n",
       "      <td>1.830652</td>\n",
       "      <td>-0.447644</td>\n",
       "      <td>-0.436839</td>\n",
       "      <td>0.674003</td>\n",
       "      <td>0.881334</td>\n",
       "      <td>-0.507129</td>\n",
       "      <td>1.393813</td>\n",
       "    </tr>\n",
       "    <tr>\n",
       "      <th>2</th>\n",
       "      <td>-0.326561</td>\n",
       "      <td>1.607182</td>\n",
       "      <td>-0.628072</td>\n",
       "      <td>-0.199767</td>\n",
       "      <td>0.294165</td>\n",
       "      <td>0.375076</td>\n",
       "      <td>1.018022</td>\n",
       "      <td>0.373067</td>\n",
       "      <td>-1.198070</td>\n",
       "      <td>0.101439</td>\n",
       "      <td>-0.158597</td>\n",
       "      <td>-2.364961</td>\n",
       "      <td>-0.180048</td>\n",
       "    </tr>\n",
       "    <tr>\n",
       "      <th>3</th>\n",
       "      <td>-0.326561</td>\n",
       "      <td>1.607182</td>\n",
       "      <td>-1.375955</td>\n",
       "      <td>-1.564322</td>\n",
       "      <td>0.413354</td>\n",
       "      <td>-2.341186</td>\n",
       "      <td>-0.200922</td>\n",
       "      <td>-2.340572</td>\n",
       "      <td>-1.198070</td>\n",
       "      <td>1.938974</td>\n",
       "      <td>-4.868108</td>\n",
       "      <td>0.480923</td>\n",
       "      <td>-1.398992</td>\n",
       "    </tr>\n",
       "    <tr>\n",
       "      <th>4</th>\n",
       "      <td>3.062215</td>\n",
       "      <td>-0.622207</td>\n",
       "      <td>0.220877</td>\n",
       "      <td>1.083939</td>\n",
       "      <td>0.059760</td>\n",
       "      <td>1.447285</td>\n",
       "      <td>0.611708</td>\n",
       "      <td>1.445285</td>\n",
       "      <td>-0.436839</td>\n",
       "      <td>-0.627203</td>\n",
       "      <td>2.811861</td>\n",
       "      <td>0.514707</td>\n",
       "      <td>0.174869</td>\n",
       "    </tr>\n",
       "  </tbody>\n",
       "</table>\n",
       "</div>"
      ],
      "text/plain": [
       "   international plan  voice mail plan  total day minutes  total eve minutes  \\\n",
       "0           -0.326561        -0.622207           1.281143           1.010979   \n",
       "1           -0.326561         1.607182           1.169053           0.703362   \n",
       "2           -0.326561         1.607182          -0.628072          -0.199767   \n",
       "3           -0.326561         1.607182          -1.375955          -1.564322   \n",
       "4            3.062215        -0.622207           0.220877           1.083939   \n",
       "\n",
       "   total night minutes  total intl minutes  total intl calls  \\\n",
       "0             1.579421            0.553778         -0.607237   \n",
       "1            -0.544131           -0.446950          1.830652   \n",
       "2             0.294165            0.375076          1.018022   \n",
       "3             0.413354           -2.341186         -0.200922   \n",
       "4             0.059760            1.447285          0.611708   \n",
       "\n",
       "   total intl charge  customer service calls  avg duration  total minutes  \\\n",
       "0           0.558388               -0.436839     -1.050496       4.425321   \n",
       "1          -0.447644               -0.436839      0.674003       0.881334   \n",
       "2           0.373067               -1.198070      0.101439      -0.158597   \n",
       "3          -2.340572               -1.198070      1.938974      -4.868108   \n",
       "4           1.445285               -0.436839     -0.627203       2.811861   \n",
       "\n",
       "   % intl minutes  irreg calls  \n",
       "0        0.125138    -1.044075  \n",
       "1       -0.507129     1.393813  \n",
       "2       -2.364961    -0.180048  \n",
       "3        0.480923    -1.398992  \n",
       "4        0.514707     0.174869  "
      ]
     },
     "execution_count": 47,
     "metadata": {},
     "output_type": "execute_result"
    }
   ],
   "source": [
    "total_minutes = []\n",
    "pct_min_intl = []\n",
    "irreg_calls = []\n",
    "for i in range(len(sample3)):\n",
    "    tm = sample3['total day minutes'][i] + sample3['total night minutes'][i] + sample3['total eve minutes'][i] + sample3['total intl minutes'][i]\n",
    "    total_minutes.append(tm)\n",
    "    pct_min_intl.append(sample3['total intl minutes'][i] / tm)\n",
    "    irreg_calls.append(sample3['total intl calls'][i] + sample3['customer service calls'][i])\n",
    "    \n",
    "sample3['total minutes'] = total_minutes\n",
    "sample3['% intl minutes'] = pct_min_intl\n",
    "sample3['irreg calls'] = irreg_calls\n",
    "\n",
    "sample3.head()"
   ]
  },
  {
   "cell_type": "code",
   "execution_count": 53,
   "metadata": {},
   "outputs": [
    {
     "data": {
      "text/html": [
       "<div>\n",
       "<style scoped>\n",
       "    .dataframe tbody tr th:only-of-type {\n",
       "        vertical-align: middle;\n",
       "    }\n",
       "\n",
       "    .dataframe tbody tr th {\n",
       "        vertical-align: top;\n",
       "    }\n",
       "\n",
       "    .dataframe thead th {\n",
       "        text-align: right;\n",
       "    }\n",
       "</style>\n",
       "<table border=\"1\" class=\"dataframe\">\n",
       "  <thead>\n",
       "    <tr style=\"text-align: right;\">\n",
       "      <th></th>\n",
       "      <th>international plan</th>\n",
       "      <th>voice mail plan</th>\n",
       "      <th>total day minutes</th>\n",
       "      <th>total eve minutes</th>\n",
       "      <th>total night minutes</th>\n",
       "      <th>total intl minutes</th>\n",
       "      <th>total intl calls</th>\n",
       "      <th>total intl charge</th>\n",
       "      <th>customer service calls</th>\n",
       "      <th>avg duration</th>\n",
       "      <th>total minutes</th>\n",
       "      <th>% intl minutes</th>\n",
       "      <th>irreg calls</th>\n",
       "    </tr>\n",
       "  </thead>\n",
       "  <tbody>\n",
       "    <tr>\n",
       "      <th>0</th>\n",
       "      <td>-0.33665</td>\n",
       "      <td>-0.584265</td>\n",
       "      <td>-1.925862</td>\n",
       "      <td>-0.755095</td>\n",
       "      <td>0.706492</td>\n",
       "      <td>-0.702894</td>\n",
       "      <td>-0.547802</td>\n",
       "      <td>-0.709093</td>\n",
       "      <td>1.912783</td>\n",
       "      <td>-0.109291</td>\n",
       "      <td>-2.677359</td>\n",
       "      <td>0.262532</td>\n",
       "      <td>1.364981</td>\n",
       "    </tr>\n",
       "    <tr>\n",
       "      <th>1</th>\n",
       "      <td>-0.33665</td>\n",
       "      <td>-0.584265</td>\n",
       "      <td>0.424559</td>\n",
       "      <td>-0.077627</td>\n",
       "      <td>1.700308</td>\n",
       "      <td>1.165858</td>\n",
       "      <td>0.267191</td>\n",
       "      <td>1.164210</td>\n",
       "      <td>0.404236</td>\n",
       "      <td>-0.541423</td>\n",
       "      <td>3.213097</td>\n",
       "      <td>0.362845</td>\n",
       "      <td>0.671427</td>\n",
       "    </tr>\n",
       "    <tr>\n",
       "      <th>2</th>\n",
       "      <td>-0.33665</td>\n",
       "      <td>-0.584265</td>\n",
       "      <td>-1.101025</td>\n",
       "      <td>-0.431175</td>\n",
       "      <td>1.013014</td>\n",
       "      <td>0.726152</td>\n",
       "      <td>-0.140306</td>\n",
       "      <td>0.729821</td>\n",
       "      <td>-0.350037</td>\n",
       "      <td>0.138357</td>\n",
       "      <td>0.206966</td>\n",
       "      <td>3.508561</td>\n",
       "      <td>-0.490343</td>\n",
       "    </tr>\n",
       "    <tr>\n",
       "      <th>3</th>\n",
       "      <td>-0.33665</td>\n",
       "      <td>-0.584265</td>\n",
       "      <td>-2.201416</td>\n",
       "      <td>0.048781</td>\n",
       "      <td>0.152468</td>\n",
       "      <td>0.103234</td>\n",
       "      <td>0.267191</td>\n",
       "      <td>0.105386</td>\n",
       "      <td>-1.104310</td>\n",
       "      <td>1.374610</td>\n",
       "      <td>-1.896932</td>\n",
       "      <td>-0.054422</td>\n",
       "      <td>-0.837120</td>\n",
       "    </tr>\n",
       "    <tr>\n",
       "      <th>4</th>\n",
       "      <td>-0.33665</td>\n",
       "      <td>-0.584265</td>\n",
       "      <td>0.939170</td>\n",
       "      <td>-2.404325</td>\n",
       "      <td>0.849282</td>\n",
       "      <td>1.129216</td>\n",
       "      <td>-0.140306</td>\n",
       "      <td>1.123486</td>\n",
       "      <td>-0.350037</td>\n",
       "      <td>0.158219</td>\n",
       "      <td>0.513342</td>\n",
       "      <td>2.199735</td>\n",
       "      <td>-0.490343</td>\n",
       "    </tr>\n",
       "  </tbody>\n",
       "</table>\n",
       "</div>"
      ],
      "text/plain": [
       "   international plan  voice mail plan  total day minutes  total eve minutes  \\\n",
       "0            -0.33665        -0.584265          -1.925862          -0.755095   \n",
       "1            -0.33665        -0.584265           0.424559          -0.077627   \n",
       "2            -0.33665        -0.584265          -1.101025          -0.431175   \n",
       "3            -0.33665        -0.584265          -2.201416           0.048781   \n",
       "4            -0.33665        -0.584265           0.939170          -2.404325   \n",
       "\n",
       "   total night minutes  total intl minutes  total intl calls  \\\n",
       "0             0.706492           -0.702894         -0.547802   \n",
       "1             1.700308            1.165858          0.267191   \n",
       "2             1.013014            0.726152         -0.140306   \n",
       "3             0.152468            0.103234          0.267191   \n",
       "4             0.849282            1.129216         -0.140306   \n",
       "\n",
       "   total intl charge  customer service calls  avg duration  total minutes  \\\n",
       "0          -0.709093                1.912783     -0.109291      -2.677359   \n",
       "1           1.164210                0.404236     -0.541423       3.213097   \n",
       "2           0.729821               -0.350037      0.138357       0.206966   \n",
       "3           0.105386               -1.104310      1.374610      -1.896932   \n",
       "4           1.123486               -0.350037      0.158219       0.513342   \n",
       "\n",
       "   % intl minutes  irreg calls  \n",
       "0        0.262532     1.364981  \n",
       "1        0.362845     0.671427  \n",
       "2        3.508561    -0.490343  \n",
       "3       -0.054422    -0.837120  \n",
       "4        2.199735    -0.490343  "
      ]
     },
     "execution_count": 53,
     "metadata": {},
     "output_type": "execute_result"
    }
   ],
   "source": [
    "total_minutes = []\n",
    "pct_min_intl = []\n",
    "irreg_calls = []\n",
    "for i in range(len(sv3)):\n",
    "    tm = sv3['total day minutes'][i] + sv3['total night minutes'][i] + sv3['total eve minutes'][i] + sv3['total intl minutes'][i]\n",
    "    total_minutes.append(tm)\n",
    "    pct_min_intl.append(sv3['total intl minutes'][i] / tm)\n",
    "    irreg_calls.append(sv3['total intl calls'][i] + sv3['customer service calls'][i])\n",
    "    \n",
    "sv3['total minutes'] = total_minutes\n",
    "sv3['% intl minutes'] = pct_min_intl\n",
    "sv3['irreg calls'] = irreg_calls\n",
    "\n",
    "sv3.head()"
   ]
  },
  {
   "cell_type": "code",
   "execution_count": 54,
   "metadata": {},
   "outputs": [],
   "source": [
    "df2 = dh.MakeNewDF(sample3, y3, 10)\n",
    "val2 = sv3[list(df2.columns)]"
   ]
  },
  {
   "cell_type": "code",
   "execution_count": 55,
   "metadata": {},
   "outputs": [
    {
     "data": {
      "text/html": [
       "<div>\n",
       "<style scoped>\n",
       "    .dataframe tbody tr th:only-of-type {\n",
       "        vertical-align: middle;\n",
       "    }\n",
       "\n",
       "    .dataframe tbody tr th {\n",
       "        vertical-align: top;\n",
       "    }\n",
       "\n",
       "    .dataframe thead th {\n",
       "        text-align: right;\n",
       "    }\n",
       "</style>\n",
       "<table border=\"1\" class=\"dataframe\">\n",
       "  <thead>\n",
       "    <tr style=\"text-align: right;\">\n",
       "      <th></th>\n",
       "      <th>Model</th>\n",
       "      <th>train_acc</th>\n",
       "      <th>test_acc</th>\n",
       "    </tr>\n",
       "  </thead>\n",
       "  <tbody>\n",
       "    <tr>\n",
       "      <th>0</th>\n",
       "      <td>KNN</td>\n",
       "      <td>0.920499</td>\n",
       "      <td>0.886204</td>\n",
       "    </tr>\n",
       "    <tr>\n",
       "      <th>1</th>\n",
       "      <td>NB</td>\n",
       "      <td>0.791634</td>\n",
       "      <td>0.785659</td>\n",
       "    </tr>\n",
       "    <tr>\n",
       "      <th>2</th>\n",
       "      <td>DT</td>\n",
       "      <td>1.000000</td>\n",
       "      <td>0.911925</td>\n",
       "    </tr>\n",
       "    <tr>\n",
       "      <th>3</th>\n",
       "      <td>RF</td>\n",
       "      <td>1.000000</td>\n",
       "      <td>0.947779</td>\n",
       "    </tr>\n",
       "    <tr>\n",
       "      <th>4</th>\n",
       "      <td>AB</td>\n",
       "      <td>0.886204</td>\n",
       "      <td>0.875292</td>\n",
       "    </tr>\n",
       "    <tr>\n",
       "      <th>5</th>\n",
       "      <td>GB</td>\n",
       "      <td>0.957132</td>\n",
       "      <td>0.948558</td>\n",
       "    </tr>\n",
       "    <tr>\n",
       "      <th>6</th>\n",
       "      <td>XGB</td>\n",
       "      <td>0.956092</td>\n",
       "      <td>0.949337</td>\n",
       "    </tr>\n",
       "    <tr>\n",
       "      <th>7</th>\n",
       "      <td>Log</td>\n",
       "      <td>0.786438</td>\n",
       "      <td>0.763835</td>\n",
       "    </tr>\n",
       "    <tr>\n",
       "      <th>8</th>\n",
       "      <td>SVM</td>\n",
       "      <td>0.903092</td>\n",
       "      <td>0.887763</td>\n",
       "    </tr>\n",
       "  </tbody>\n",
       "</table>\n",
       "</div>"
      ],
      "text/plain": [
       "  Model  train_acc  test_acc\n",
       "0   KNN   0.920499  0.886204\n",
       "1    NB   0.791634  0.785659\n",
       "2    DT   1.000000  0.911925\n",
       "3    RF   1.000000  0.947779\n",
       "4    AB   0.886204  0.875292\n",
       "5    GB   0.957132  0.948558\n",
       "6   XGB   0.956092  0.949337\n",
       "7   Log   0.786438  0.763835\n",
       "8   SVM   0.903092  0.887763"
      ]
     },
     "execution_count": 55,
     "metadata": {},
     "output_type": "execute_result"
    }
   ],
   "source": [
    "ml.CompareClassifiers(df2, y3)"
   ]
  },
  {
   "cell_type": "code",
   "execution_count": 56,
   "metadata": {},
   "outputs": [
    {
     "name": "stdout",
     "output_type": "stream",
     "text": [
      "Fitting 5 folds for each of 3 candidates, totalling 15 fits\n"
     ]
    },
    {
     "name": "stderr",
     "output_type": "stream",
     "text": [
      "[Parallel(n_jobs=-1)]: Using backend LokyBackend with 12 concurrent workers.\n",
      "[Parallel(n_jobs=-1)]: Done   8 out of  15 | elapsed:    5.1s remaining:    4.5s\n",
      "[Parallel(n_jobs=-1)]: Done  15 out of  15 | elapsed:    5.3s finished\n"
     ]
    },
    {
     "name": "stdout",
     "output_type": "stream",
     "text": [
      "GradientBoostingClassifier(max_depth=6, n_estimators=200)\n",
      "Training: 1.0, Validation: 0.9469992205767732\n"
     ]
    }
   ],
   "source": [
    "parameters = {'min_samples_leaf': [0.5, 1, 2]}\n",
    "clf = ml.Optimize(GradientBoostingClassifier(max_depth=6, n_estimators=200), parameters, df2, y3)\n",
    "score = ev.ScoreModel(clf, df2, y3)\n",
    "print(clf)\n",
    "print(score)"
   ]
  },
  {
   "cell_type": "code",
   "execution_count": 57,
   "metadata": {},
   "outputs": [
    {
     "data": {
      "text/plain": [
       "<sklearn.metrics._plot.confusion_matrix.ConfusionMatrixDisplay at 0x29f7b015e48>"
      ]
     },
     "execution_count": 57,
     "metadata": {},
     "output_type": "execute_result"
    },
    {
     "data": {
      "image/png": "[encoded data removed]",
      "text/plain": [
       "<Figure size 432x288 with 2 Axes>"
      ]
     },
     "metadata": {
      "needs_background": "light"
     },
     "output_type": "display_data"
    }
   ],
   "source": [
    "clf = GradientBoostingClassifier(max_depth=6, n_estimators=200)\n",
    "ev.BuildConfusion(clf.fit(df2, y3), val2, yval)"
   ]
  },
  {
   "cell_type": "markdown",
   "metadata": {},
   "source": [
    "We have 100% recall, But way too many false positives!"
   ]
  },
  {
   "cell_type": "markdown",
   "metadata": {},
   "source": [
    "Without ML: -$4,396\n",
    "    \n",
    "With this model: $14,490"
   ]
  }
 ],
 "metadata": {
  "kernelspec": {
   "display_name": "Python 3",
   "language": "python",
   "name": "python3"
  },
  "language_info": {
   "codemirror_mode": {
    "name": "ipython",
    "version": 3
   },
   "file_extension": ".py",
   "mimetype": "text/x-python",
   "name": "python",
   "nbconvert_exporter": "python",
   "pygments_lexer": "ipython3",
   "version": "3.6.9"
  }
 },
 "nbformat": 4,
 "nbformat_minor": 4
}
