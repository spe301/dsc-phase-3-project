{
 "cells": [
  {
   "cell_type": "code",
   "execution_count": 1,
   "metadata": {},
   "outputs": [],
   "source": [
    "import pandas as pd\n",
    "import numpy as np\n",
    "from sklearn.svm import SVC, SVR\n",
    "from sklearn.linear_model import LogisticRegression, LinearRegression\n",
    "from sklearn.neighbors import  KNeighborsClassifier, KNeighborsRegressor\n",
    "from sklearn.naive_bayes import GaussianNB, MultinomialNB\n",
    "from sklearn.tree import DecisionTreeClassifier, DecisionTreeRegressor, plot_tree\n",
    "from sklearn.ensemble import RandomForestClassifier, RandomForestRegressor, AdaBoostClassifier, AdaBoostRegressor, GradientBoostingClassifier, GradientBoostingRegressor\n",
    "from sklearn.model_selection import GridSearchCV, train_test_split\n",
    "from sklearn.metrics import confusion_matrix, roc_curve, auc, plot_confusion_matrix\n",
    "from sklearn.preprocessing import StandardScaler, MinMaxScaler\n",
    "from imblearn.over_sampling import SMOTE\n",
    "from sklearn.pipeline import Pipeline\n",
    "from sklearn.datasets import load_iris\n",
    "from xgboost import XGBClassifier, XGBRegressor\n",
    "from matplotlib import pyplot as plt\n",
    "from sklearn.feature_selection import SelectKBest\n",
    "from statsmodels.stats.outliers_influence import variance_inflation_factor\n",
    "\n",
    "class MachineLearning:\n",
    "    \n",
    "    def CompareClassifiers(self, X, y):\n",
    "        X_train, X_test, y_train, y_test = train_test_split(X, y, test_size=0.25)\n",
    "        n = len(np.unique(y))\n",
    "        if n == 2:\n",
    "            methods = [KNeighborsClassifier(), GaussianNB(), DecisionTreeClassifier(), RandomForestClassifier(),\n",
    "                       AdaBoostClassifier(), GradientBoostingClassifier(), XGBClassifier(), LogisticRegression(),\n",
    "                       SVC()]\n",
    "            strs = ['KNN', 'NB', 'DT', 'RF', 'AB', 'GB', 'XGB', 'Log', 'SVM']\n",
    "        else:\n",
    "            methods = [KNeighborsClassifier(), MultinomialNB(), DecisionTreeClassifier(), RandomForestClassifier(),\n",
    "                       AdaBoostClassifier(), GradientBoostingClassifier(), XGBClassifier(), SVC()]\n",
    "            strs = ['KNN', 'NB', 'DT', 'RF', 'AB', 'GB', 'XGB', 'SVM']\n",
    "        train_acc = []\n",
    "        test_acc = []\n",
    "        for i in range(len(methods)):\n",
    "            clf = methods[i].fit(X_train, y_train)\n",
    "            train_acc.append(clf.score(X_train, y_train))\n",
    "            test_acc.append(clf.score(X_test, y_test))\n",
    "        c1 = pd.DataFrame(strs)\n",
    "        c2 = pd.DataFrame(train_acc)\n",
    "        c3 = pd.DataFrame(test_acc)\n",
    "        results = pd.concat([c1, c2, c3], axis='columns')\n",
    "        results.columns = ['Model', 'train_acc', 'test_acc']\n",
    "        return results\n",
    "    \n",
    "    def CompareRegressors(self, X, y):\n",
    "        X_train, X_test, y_train, y_test = train_test_split(X, y, test_size=0.25)\n",
    "        n = len(np.unique(y))\n",
    "        methods = [LinearRegression(), KNeighborsRegressor(), DecisionTreeRegressor(), RandomForestRegressor(),\n",
    "                       AdaBoostRegressor(), GradientBoostingRegressor(), XGBRegressor(), SVR()]\n",
    "        strs = ['Lin', 'KNN', 'DT', 'RF', 'AB', 'GB', 'XGB', 'SVM']\n",
    "        train_acc = []\n",
    "        test_acc = []\n",
    "        for i in range(len(methods)):\n",
    "            reg = methods[i].fit(X_train, y_train)\n",
    "            train_acc.append(reg.score(X_train, y_train))\n",
    "            test_acc.append(reg.score(X_test, y_test))\n",
    "        c1 = pd.DataFrame(strs)\n",
    "        c2 = pd.DataFrame(train_acc)\n",
    "        c3 = pd.DataFrame(test_acc)\n",
    "        results = pd.concat([c1, c2, c3], axis='columns')\n",
    "        results.columns = ['Model', 'train_acc', 'test_acc']\n",
    "        return results\n",
    "    \n",
    "    def Optimize(self, model, parameters, X, y, metric='accuracy'):\n",
    "        try:\n",
    "            X_train, X_test, y_train, y_test = train_test_split(X, y, test_size=0.25)\n",
    "            return GridSearchCV(model, parameters, cv=5, scoring=metric, n_jobs=-1, verbose=2).fit(X_train, y_train).best_estimator_\n",
    "        except:\n",
    "            return GridSearchCV(model, parameters, cv=5, n_jobs=-1, verbose=2).fit(X_train, y_train).best_estimator_\n",
    "        \n",
    "    def PipeIt(self, scaler, model, X, y):\n",
    "        X_train, X_test, y_train, y_test = train_test_split(X, y, test_size=0.25)\n",
    "        pipe = Pipeline([('scaler', scaler), ('model', model)]).fit(X_train, y_train)\n",
    "        return \"Training: {}, Validation: {}\".format(pipe.score(X_train, y_train), pipe.score(X_test, y_test))\n",
    "\n",
    "\n",
    "class DataHelper:\n",
    "    \n",
    "    def ScaleData(self, strategy, y_var, data):\n",
    "        X = data.drop([y_var], axis='columns')\n",
    "        if strategy == 'minmax':\n",
    "            return MinMaxScaler().fit(X).transform(X)\n",
    "        if strategy == 'standard':\n",
    "            return StandardScaler().fit(X).transform(X)\n",
    "        if strategy == 'mean':\n",
    "            for col in X.columns:\n",
    "                X[col] = (X[col] - min(X[col]))/ (max(X[col]) - min(X[col]))\n",
    "            return X\n",
    "        \n",
    "    def HoldOut(self, data):\n",
    "        train, test = train_test_split(data, test_size=0.1)\n",
    "        return train, test\n",
    "    \n",
    "    def MakeNewDF(self, X, y, k):\n",
    "        selector = SelectKBest(k=k).fit(X, y)\n",
    "        mask = selector.get_support()\n",
    "        selected = []\n",
    "        for i in range(len(mask)):\n",
    "            if mask[i] == True:\n",
    "                selected.append(X.columns[i])\n",
    "        df = pd.DataFrame(selector.transform(X))\n",
    "        df.columns = selected\n",
    "        return df\n",
    "    \n",
    "    def VifIt(self, X):\n",
    "        vif = pd.Series([variance_inflation_factor(X.values, i) \n",
    "               for i in range(X.shape[1])], \n",
    "              index=X.columns)\n",
    "        return vif\n",
    "        \n",
    "    \n",
    "class Evaluater:\n",
    "    \n",
    "    def ScoreModel(self, model, X, y):\n",
    "        X_train, X_test, y_train, y_test = train_test_split(X, y, test_size=0.25)\n",
    "        algo = model.fit(X_train, y_train)\n",
    "        return 'Training: {}, Validation: {}'.format(algo.score(X_train, y_train), algo.score(X_test, y_test))\n",
    "    \n",
    "    def BuildConfusion(self, fitted_model,  Xval, yval, cmap='plasma'):\n",
    "        try:\n",
    "            cm = plot_confusion_matrix(fitted_model, Xval, yval, cmap=cmap)\n",
    "            return cm\n",
    "        except:\n",
    "            return 'Please fit model before passing'\n",
    "    \n",
    "    def BuildTree(self, tree):\n",
    "        try:\n",
    "            return plot_tree(tree)\n",
    "        except:\n",
    "            return 'Please pass a tree class'\n",
    "    \n",
    "    def GetCoefficients(self, model, X, y):\n",
    "        try:\n",
    "            X_train, X_test, y_train, y_test = train_test_split(X, y, test_size=0.25)\n",
    "            model.fit(X_train, y_train)\n",
    "            return 'coefficients: {}'.format(model.coef_)\n",
    "        except:\n",
    "            return 'Please pass LinearRegression, LogisticRegression, or an SVM with a linear kernel'\n",
    "        \n",
    "    def GetImportance(self, model, X, y):\n",
    "        X_train, X_test, y_train, y_test = train_test_split(X, y, test_size=0.25)\n",
    "        model.fit(X_train, y_train)\n",
    "        try:\n",
    "            FI = model.feature_importances_\n",
    "            n_features = X_train.shape[1]\n",
    "            plt.figure(figsize=(8,8))\n",
    "            plt.barh(range(n_features), FI, align='center') \n",
    "            plt.yticks(np.arange(n_features), X_train.columns.values) \n",
    "            plt.xlabel('Feature importance')\n",
    "            plt.ylabel('Feature')\n",
    "        except:\n",
    "            return 'Please pass an ensemble class'\n",
    "        \n",
    "    def AUC(self, model, Xval, yval):\n",
    "        pred = model.predict(Xval)\n",
    "        fpr, tpr, threshold = roc_curve(yval, pred)\n",
    "        return auc(fpr, tpr)\n",
    "    \n",
    "ml = MachineLearning()\n",
    "dh = DataHelper()\n",
    "ev = Evaluater()"
   ]
  },
  {
   "cell_type": "code",
   "execution_count": 2,
   "metadata": {},
   "outputs": [],
   "source": [
    "df = pd.read_csv(r'C:\\Users\\aacjp\\OneDrive\\Desktop\\data\\tables\\ChurnData_ForML.csv')\n",
    "\n",
    "HO = dh.HoldOut(df)\n",
    "df = HO[0].drop(['Unnamed: 0'], axis='columns')\n",
    "val_df = HO[1].drop(['Unnamed: 0'], axis='columns')"
   ]
  },
  {
   "cell_type": "code",
   "execution_count": 3,
   "metadata": {},
   "outputs": [
    {
     "name": "stderr",
     "output_type": "stream",
     "text": [
      "C:\\Users\\aacjp\\Anaconda3\\envs\\flatiron-env\\lib\\site-packages\\sklearn\\linear_model\\_logistic.py:764: ConvergenceWarning: lbfgs failed to converge (status=1):\n",
      "STOP: TOTAL NO. of ITERATIONS REACHED LIMIT.\n",
      "\n",
      "Increase the number of iterations (max_iter) or scale the data as shown in:\n",
      "    https://scikit-learn.org/stable/modules/preprocessing.html\n",
      "Please also refer to the documentation for alternative solver options:\n",
      "    https://scikit-learn.org/stable/modules/linear_model.html#logistic-regression\n",
      "  extra_warning_msg=_LOGISTIC_SOLVER_CONVERGENCE_MSG)\n"
     ]
    },
    {
     "data": {
      "text/html": [
       "<div>\n",
       "<style scoped>\n",
       "    .dataframe tbody tr th:only-of-type {\n",
       "        vertical-align: middle;\n",
       "    }\n",
       "\n",
       "    .dataframe tbody tr th {\n",
       "        vertical-align: top;\n",
       "    }\n",
       "\n",
       "    .dataframe thead th {\n",
       "        text-align: right;\n",
       "    }\n",
       "</style>\n",
       "<table border=\"1\" class=\"dataframe\">\n",
       "  <thead>\n",
       "    <tr style=\"text-align: right;\">\n",
       "      <th></th>\n",
       "      <th>Model</th>\n",
       "      <th>train_acc</th>\n",
       "      <th>test_acc</th>\n",
       "    </tr>\n",
       "  </thead>\n",
       "  <tbody>\n",
       "    <tr>\n",
       "      <th>0</th>\n",
       "      <td>KNN</td>\n",
       "      <td>0.909293</td>\n",
       "      <td>0.889333</td>\n",
       "    </tr>\n",
       "    <tr>\n",
       "      <th>1</th>\n",
       "      <td>NB</td>\n",
       "      <td>0.879057</td>\n",
       "      <td>0.866667</td>\n",
       "    </tr>\n",
       "    <tr>\n",
       "      <th>2</th>\n",
       "      <td>DT</td>\n",
       "      <td>1.000000</td>\n",
       "      <td>0.921333</td>\n",
       "    </tr>\n",
       "    <tr>\n",
       "      <th>3</th>\n",
       "      <td>RF</td>\n",
       "      <td>1.000000</td>\n",
       "      <td>0.950667</td>\n",
       "    </tr>\n",
       "    <tr>\n",
       "      <th>4</th>\n",
       "      <td>AB</td>\n",
       "      <td>0.907514</td>\n",
       "      <td>0.874667</td>\n",
       "    </tr>\n",
       "    <tr>\n",
       "      <th>5</th>\n",
       "      <td>GB</td>\n",
       "      <td>0.975100</td>\n",
       "      <td>0.950667</td>\n",
       "    </tr>\n",
       "    <tr>\n",
       "      <th>6</th>\n",
       "      <td>XGB</td>\n",
       "      <td>0.972877</td>\n",
       "      <td>0.942667</td>\n",
       "    </tr>\n",
       "    <tr>\n",
       "      <th>7</th>\n",
       "      <td>Log</td>\n",
       "      <td>0.864829</td>\n",
       "      <td>0.854667</td>\n",
       "    </tr>\n",
       "    <tr>\n",
       "      <th>8</th>\n",
       "      <td>SVM</td>\n",
       "      <td>0.862161</td>\n",
       "      <td>0.853333</td>\n",
       "    </tr>\n",
       "  </tbody>\n",
       "</table>\n",
       "</div>"
      ],
      "text/plain": [
       "  Model  train_acc  test_acc\n",
       "0   KNN   0.909293  0.889333\n",
       "1    NB   0.879057  0.866667\n",
       "2    DT   1.000000  0.921333\n",
       "3    RF   1.000000  0.950667\n",
       "4    AB   0.907514  0.874667\n",
       "5    GB   0.975100  0.950667\n",
       "6   XGB   0.972877  0.942667\n",
       "7   Log   0.864829  0.854667\n",
       "8   SVM   0.862161  0.853333"
      ]
     },
     "execution_count": 3,
     "metadata": {},
     "output_type": "execute_result"
    }
   ],
   "source": [
    "X = df.drop(['churn'], axis='columns')\n",
    "y = df['churn']\n",
    "ml.CompareClassifiers(X, y)"
   ]
  },
  {
   "cell_type": "code",
   "execution_count": 4,
   "metadata": {},
   "outputs": [
    {
     "name": "stdout",
     "output_type": "stream",
     "text": [
      "Fitting 5 folds for each of 8 candidates, totalling 40 fits\n"
     ]
    },
    {
     "name": "stderr",
     "output_type": "stream",
     "text": [
      "[Parallel(n_jobs=-1)]: Using backend LokyBackend with 12 concurrent workers.\n",
      "[Parallel(n_jobs=-1)]: Done  17 tasks      | elapsed:    3.2s\n",
      "[Parallel(n_jobs=-1)]: Done  38 out of  40 | elapsed:    3.9s remaining:    0.1s\n",
      "[Parallel(n_jobs=-1)]: Done  40 out of  40 | elapsed:    3.9s finished\n"
     ]
    }
   ],
   "source": [
    "parameters = {\n",
    "    'learning_rate': [0.1, 0.2],\n",
    "    'max_depth': [6],\n",
    "    'min_child_weight': [1, 2],\n",
    "    'subsample': [0.5, 0.7],\n",
    "    'n_estimators': [100],\n",
    "}\n",
    "clf = ml.Optimize(XGBClassifier(), parameters, X, y, metric='recall')"
   ]
  },
  {
   "cell_type": "code",
   "execution_count": 5,
   "metadata": {},
   "outputs": [
    {
     "data": {
      "text/plain": [
       "XGBClassifier(max_depth=6, subsample=0.7)"
      ]
     },
     "execution_count": 5,
     "metadata": {},
     "output_type": "execute_result"
    }
   ],
   "source": [
    "clf"
   ]
  },
  {
   "cell_type": "code",
   "execution_count": 6,
   "metadata": {},
   "outputs": [
    {
     "data": {
      "text/plain": [
       "'Training: 0.9879946642952423, Validation: 0.952'"
      ]
     },
     "execution_count": 6,
     "metadata": {},
     "output_type": "execute_result"
    }
   ],
   "source": [
    "ev.ScoreModel(clf, X, y)"
   ]
  },
  {
   "cell_type": "code",
   "execution_count": 7,
   "metadata": {},
   "outputs": [
    {
     "data": {
      "text/plain": [
       "<sklearn.metrics._plot.confusion_matrix.ConfusionMatrixDisplay at 0x2599d51c6a0>"
      ]
     },
     "execution_count": 7,
     "metadata": {},
     "output_type": "execute_result"
    },
    {
     "data": {
      "image/png": "[encoded data removed]",
      "text/plain": [
       "<Figure size 432x288 with 2 Axes>"
      ]
     },
     "metadata": {
      "needs_background": "light"
     },
     "output_type": "display_data"
    }
   ],
   "source": [
    "fitted_model = clf.fit(X, y)\n",
    "Xval = val_df.drop(['churn'], axis='columns')\n",
    "yval = val_df['churn']\n",
    "ev.BuildConfusion(clf, Xval, yval)"
   ]
  },
  {
   "cell_type": "code",
   "execution_count": 8,
   "metadata": {},
   "outputs": [
    {
     "data": {
      "text/plain": [
       "0.8296432964329642"
      ]
     },
     "execution_count": 8,
     "metadata": {},
     "output_type": "execute_result"
    }
   ],
   "source": [
    "ev.AUC(clf, Xval, yval)"
   ]
  },
  {
   "cell_type": "markdown",
   "metadata": {},
   "source": [
    "# Step 2...\n",
    "\n",
    "normalize the data"
   ]
  },
  {
   "cell_type": "markdown",
   "metadata": {},
   "source": [
    "Accuracy imporved more from MinMaxScaling but validation recall and AUC dropped significantly. I ended up using standard scaler instead."
   ]
  },
  {
   "cell_type": "code",
   "execution_count": 9,
   "metadata": {},
   "outputs": [
    {
     "data": {
      "text/plain": [
       "'Training: 0.9928857269897733, Validation: 0.9506666666666667'"
      ]
     },
     "execution_count": 9,
     "metadata": {},
     "output_type": "execute_result"
    }
   ],
   "source": [
    "scaler = StandardScaler()\n",
    "ml.PipeIt(scaler, clf, X, y)"
   ]
  },
  {
   "cell_type": "code",
   "execution_count": 10,
   "metadata": {},
   "outputs": [
    {
     "data": {
      "text/plain": [
       "'Training: 0.9915518008003558, Validation: 0.9493333333333334'"
      ]
     },
     "execution_count": 10,
     "metadata": {},
     "output_type": "execute_result"
    }
   ],
   "source": [
    "scaler = MinMaxScaler()\n",
    "ml.PipeIt(scaler, clf, X, y)"
   ]
  },
  {
   "cell_type": "code",
   "execution_count": 11,
   "metadata": {},
   "outputs": [
    {
     "data": {
      "text/html": [
       "<div>\n",
       "<style scoped>\n",
       "    .dataframe tbody tr th:only-of-type {\n",
       "        vertical-align: middle;\n",
       "    }\n",
       "\n",
       "    .dataframe tbody tr th {\n",
       "        vertical-align: top;\n",
       "    }\n",
       "\n",
       "    .dataframe thead th {\n",
       "        text-align: right;\n",
       "    }\n",
       "</style>\n",
       "<table border=\"1\" class=\"dataframe\">\n",
       "  <thead>\n",
       "    <tr style=\"text-align: right;\">\n",
       "      <th></th>\n",
       "      <th>Model</th>\n",
       "      <th>train_acc</th>\n",
       "      <th>test_acc</th>\n",
       "    </tr>\n",
       "  </thead>\n",
       "  <tbody>\n",
       "    <tr>\n",
       "      <th>0</th>\n",
       "      <td>KNN</td>\n",
       "      <td>0.915073</td>\n",
       "      <td>0.878667</td>\n",
       "    </tr>\n",
       "    <tr>\n",
       "      <th>1</th>\n",
       "      <td>NB</td>\n",
       "      <td>0.878613</td>\n",
       "      <td>0.874667</td>\n",
       "    </tr>\n",
       "    <tr>\n",
       "      <th>2</th>\n",
       "      <td>DT</td>\n",
       "      <td>1.000000</td>\n",
       "      <td>0.909333</td>\n",
       "    </tr>\n",
       "    <tr>\n",
       "      <th>3</th>\n",
       "      <td>RF</td>\n",
       "      <td>1.000000</td>\n",
       "      <td>0.960000</td>\n",
       "    </tr>\n",
       "    <tr>\n",
       "      <th>4</th>\n",
       "      <td>AB</td>\n",
       "      <td>0.897288</td>\n",
       "      <td>0.881333</td>\n",
       "    </tr>\n",
       "    <tr>\n",
       "      <th>5</th>\n",
       "      <td>GB</td>\n",
       "      <td>0.976434</td>\n",
       "      <td>0.954667</td>\n",
       "    </tr>\n",
       "    <tr>\n",
       "      <th>6</th>\n",
       "      <td>XGB</td>\n",
       "      <td>0.969320</td>\n",
       "      <td>0.960000</td>\n",
       "    </tr>\n",
       "    <tr>\n",
       "      <th>7</th>\n",
       "      <td>Log</td>\n",
       "      <td>0.876834</td>\n",
       "      <td>0.882667</td>\n",
       "    </tr>\n",
       "    <tr>\n",
       "      <th>8</th>\n",
       "      <td>SVM</td>\n",
       "      <td>0.943530</td>\n",
       "      <td>0.916000</td>\n",
       "    </tr>\n",
       "  </tbody>\n",
       "</table>\n",
       "</div>"
      ],
      "text/plain": [
       "  Model  train_acc  test_acc\n",
       "0   KNN   0.915073  0.878667\n",
       "1    NB   0.878613  0.874667\n",
       "2    DT   1.000000  0.909333\n",
       "3    RF   1.000000  0.960000\n",
       "4    AB   0.897288  0.881333\n",
       "5    GB   0.976434  0.954667\n",
       "6   XGB   0.969320  0.960000\n",
       "7   Log   0.876834  0.882667\n",
       "8   SVM   0.943530  0.916000"
      ]
     },
     "execution_count": 11,
     "metadata": {},
     "output_type": "execute_result"
    }
   ],
   "source": [
    "X = StandardScaler().fit(X).transform(X)\n",
    "Xval = StandardScaler().fit(Xval).transform(Xval)\n",
    "ml.CompareClassifiers(X, y)"
   ]
  },
  {
   "cell_type": "code",
   "execution_count": 12,
   "metadata": {},
   "outputs": [
    {
     "name": "stdout",
     "output_type": "stream",
     "text": [
      "Fitting 5 folds for each of 8 candidates, totalling 40 fits\n"
     ]
    },
    {
     "name": "stderr",
     "output_type": "stream",
     "text": [
      "[Parallel(n_jobs=-1)]: Using backend LokyBackend with 12 concurrent workers.\n",
      "[Parallel(n_jobs=-1)]: Done  17 tasks      | elapsed:    0.9s\n",
      "[Parallel(n_jobs=-1)]: Done  38 out of  40 | elapsed:    1.6s remaining:    0.0s\n",
      "[Parallel(n_jobs=-1)]: Done  40 out of  40 | elapsed:    1.6s finished\n"
     ]
    },
    {
     "data": {
      "text/plain": [
       "XGBClassifier(learning_rate=0.2, max_depth=6, subsample=0.7)"
      ]
     },
     "execution_count": 12,
     "metadata": {},
     "output_type": "execute_result"
    }
   ],
   "source": [
    "parameters =  {\n",
    "    'learning_rate': [0.1, 0.2],\n",
    "    'max_depth': [6],\n",
    "    'min_child_weight': [1, 2],\n",
    "    'subsample': [0.5, 0.7],\n",
    "    'n_estimators': [100],\n",
    "}\n",
    "clf = ml.Optimize(XGBClassifier(), parameters, X, y)\n",
    "clf"
   ]
  },
  {
   "cell_type": "code",
   "execution_count": 13,
   "metadata": {},
   "outputs": [
    {
     "data": {
      "text/plain": [
       "'Training: 1.0, Validation: 0.956'"
      ]
     },
     "execution_count": 13,
     "metadata": {},
     "output_type": "execute_result"
    }
   ],
   "source": [
    "ev.ScoreModel(clf, X, y)"
   ]
  },
  {
   "cell_type": "code",
   "execution_count": 14,
   "metadata": {},
   "outputs": [
    {
     "data": {
      "text/plain": [
       "<sklearn.metrics._plot.confusion_matrix.ConfusionMatrixDisplay at 0x2599d9c7b70>"
      ]
     },
     "execution_count": 14,
     "metadata": {},
     "output_type": "execute_result"
    },
    {
     "data": {
      "image/png": "[encoded data removed]",
      "text/plain": [
       "<Figure size 432x288 with 2 Axes>"
      ]
     },
     "metadata": {
      "needs_background": "light"
     },
     "output_type": "display_data"
    }
   ],
   "source": [
    "model = clf.fit(X, y)\n",
    "ev.BuildConfusion(model, Xval, yval)"
   ]
  },
  {
   "cell_type": "code",
   "execution_count": 15,
   "metadata": {},
   "outputs": [
    {
     "data": {
      "text/plain": [
       "0.8063902067592105"
      ]
     },
     "execution_count": 15,
     "metadata": {},
     "output_type": "execute_result"
    }
   ],
   "source": [
    "ev.AUC(clf, Xval, yval)"
   ]
  },
  {
   "cell_type": "code",
   "execution_count": 16,
   "metadata": {},
   "outputs": [],
   "source": [
    "X3 = pd.DataFrame(SMOTE().fit_resample(X, y)[0])\n",
    "y3 = SMOTE().fit_resample(X, y)[1]\n",
    "df3 = pd.concat([X3, y3], axis='columns')\n",
    "df3 = dh.HoldOut(df3)[0]\n",
    "val3 = dh.HoldOut(df3)[1]"
   ]
  },
  {
   "cell_type": "code",
   "execution_count": 17,
   "metadata": {},
   "outputs": [
    {
     "data": {
      "text/html": [
       "<div>\n",
       "<style scoped>\n",
       "    .dataframe tbody tr th:only-of-type {\n",
       "        vertical-align: middle;\n",
       "    }\n",
       "\n",
       "    .dataframe tbody tr th {\n",
       "        vertical-align: top;\n",
       "    }\n",
       "\n",
       "    .dataframe thead th {\n",
       "        text-align: right;\n",
       "    }\n",
       "</style>\n",
       "<table border=\"1\" class=\"dataframe\">\n",
       "  <thead>\n",
       "    <tr style=\"text-align: right;\">\n",
       "      <th></th>\n",
       "      <th>Model</th>\n",
       "      <th>train_acc</th>\n",
       "      <th>test_acc</th>\n",
       "    </tr>\n",
       "  </thead>\n",
       "  <tbody>\n",
       "    <tr>\n",
       "      <th>0</th>\n",
       "      <td>KNN</td>\n",
       "      <td>0.926458</td>\n",
       "      <td>0.891473</td>\n",
       "    </tr>\n",
       "    <tr>\n",
       "      <th>1</th>\n",
       "      <td>NB</td>\n",
       "      <td>0.731112</td>\n",
       "      <td>0.761413</td>\n",
       "    </tr>\n",
       "    <tr>\n",
       "      <th>2</th>\n",
       "      <td>DT</td>\n",
       "      <td>1.000000</td>\n",
       "      <td>0.912145</td>\n",
       "    </tr>\n",
       "    <tr>\n",
       "      <th>3</th>\n",
       "      <td>RF</td>\n",
       "      <td>1.000000</td>\n",
       "      <td>0.958656</td>\n",
       "    </tr>\n",
       "    <tr>\n",
       "      <th>4</th>\n",
       "      <td>AB</td>\n",
       "      <td>0.890549</td>\n",
       "      <td>0.883721</td>\n",
       "    </tr>\n",
       "    <tr>\n",
       "      <th>5</th>\n",
       "      <td>GB</td>\n",
       "      <td>0.966964</td>\n",
       "      <td>0.956072</td>\n",
       "    </tr>\n",
       "    <tr>\n",
       "      <th>6</th>\n",
       "      <td>XGB</td>\n",
       "      <td>0.958920</td>\n",
       "      <td>0.950904</td>\n",
       "    </tr>\n",
       "    <tr>\n",
       "      <th>7</th>\n",
       "      <td>Log</td>\n",
       "      <td>0.795748</td>\n",
       "      <td>0.823428</td>\n",
       "    </tr>\n",
       "    <tr>\n",
       "      <th>8</th>\n",
       "      <td>SVM</td>\n",
       "      <td>0.933640</td>\n",
       "      <td>0.914729</td>\n",
       "    </tr>\n",
       "  </tbody>\n",
       "</table>\n",
       "</div>"
      ],
      "text/plain": [
       "  Model  train_acc  test_acc\n",
       "0   KNN   0.926458  0.891473\n",
       "1    NB   0.731112  0.761413\n",
       "2    DT   1.000000  0.912145\n",
       "3    RF   1.000000  0.958656\n",
       "4    AB   0.890549  0.883721\n",
       "5    GB   0.966964  0.956072\n",
       "6   XGB   0.958920  0.950904\n",
       "7   Log   0.795748  0.823428\n",
       "8   SVM   0.933640  0.914729"
      ]
     },
     "execution_count": 17,
     "metadata": {},
     "output_type": "execute_result"
    }
   ],
   "source": [
    "X = df3.drop(['churn'], axis='columns')\n",
    "Xval = val3.drop(['churn'], axis='columns')\n",
    "y = df3['churn']\n",
    "yval = val3['churn']\n",
    "ml.CompareClassifiers(X, y)"
   ]
  },
  {
   "cell_type": "code",
   "execution_count": 18,
   "metadata": {},
   "outputs": [
    {
     "name": "stdout",
     "output_type": "stream",
     "text": [
      "Fitting 5 folds for each of 8 candidates, totalling 40 fits\n"
     ]
    },
    {
     "name": "stderr",
     "output_type": "stream",
     "text": [
      "[Parallel(n_jobs=-1)]: Using backend LokyBackend with 12 concurrent workers.\n",
      "[Parallel(n_jobs=-1)]: Done  17 tasks      | elapsed:    1.5s\n",
      "[Parallel(n_jobs=-1)]: Done  38 out of  40 | elapsed:    2.7s remaining:    0.0s\n",
      "[Parallel(n_jobs=-1)]: Done  40 out of  40 | elapsed:    2.7s finished\n"
     ]
    },
    {
     "data": {
      "text/plain": [
       "XGBClassifier(learning_rate=0.2, max_depth=6, subsample=0.7)"
      ]
     },
     "execution_count": 18,
     "metadata": {},
     "output_type": "execute_result"
    }
   ],
   "source": [
    "parameters = {\n",
    "    'learning_rate': [0.1, 0.2],\n",
    "    'max_depth': [6],\n",
    "    'min_child_weight': [1, 2],\n",
    "    'subsample': [0.5, 0.7],\n",
    "    'n_estimators': [100],\n",
    "}\n",
    "clf = ml.Optimize(XGBClassifier(), parameters, X, y)\n",
    "clf"
   ]
  },
  {
   "cell_type": "code",
   "execution_count": 19,
   "metadata": {},
   "outputs": [
    {
     "data": {
      "text/plain": [
       "'Training: 1.0, Validation: 0.9750215331610681'"
      ]
     },
     "execution_count": 19,
     "metadata": {},
     "output_type": "execute_result"
    }
   ],
   "source": [
    "ev.ScoreModel(clf, X, y)"
   ]
  },
  {
   "cell_type": "code",
   "execution_count": 20,
   "metadata": {},
   "outputs": [
    {
     "data": {
      "text/plain": [
       "<sklearn.metrics._plot.confusion_matrix.ConfusionMatrixDisplay at 0x2599da68f28>"
      ]
     },
     "execution_count": 20,
     "metadata": {},
     "output_type": "execute_result"
    },
    {
     "data": {
      "image/png": "[encoded data removed]",
      "text/plain": [
       "<Figure size 432x288 with 2 Axes>"
      ]
     },
     "metadata": {
      "needs_background": "light"
     },
     "output_type": "display_data"
    }
   ],
   "source": [
    "fitted = clf.fit(X, y)\n",
    "ev.BuildConfusion(fitted, Xval, yval)"
   ]
  },
  {
   "cell_type": "code",
   "execution_count": 21,
   "metadata": {},
   "outputs": [
    {
     "data": {
      "text/plain": [
       "1.0"
      ]
     },
     "execution_count": 21,
     "metadata": {},
     "output_type": "execute_result"
    }
   ],
   "source": [
    "ev.AUC(clf, Xval, yval)"
   ]
  },
  {
   "cell_type": "code",
   "execution_count": 22,
   "metadata": {},
   "outputs": [
    {
     "data": {
      "text/html": [
       "<div>\n",
       "<style scoped>\n",
       "    .dataframe tbody tr th:only-of-type {\n",
       "        vertical-align: middle;\n",
       "    }\n",
       "\n",
       "    .dataframe tbody tr th {\n",
       "        vertical-align: top;\n",
       "    }\n",
       "\n",
       "    .dataframe thead th {\n",
       "        text-align: right;\n",
       "    }\n",
       "</style>\n",
       "<table border=\"1\" class=\"dataframe\">\n",
       "  <thead>\n",
       "    <tr style=\"text-align: right;\">\n",
       "      <th></th>\n",
       "      <th>international plan</th>\n",
       "      <th>voice mail plan</th>\n",
       "      <th>number vmail messages</th>\n",
       "      <th>total day minutes</th>\n",
       "      <th>total day calls</th>\n",
       "      <th>total day charge</th>\n",
       "      <th>total eve minutes</th>\n",
       "      <th>total eve calls</th>\n",
       "      <th>total eve charge</th>\n",
       "      <th>total night minutes</th>\n",
       "      <th>...</th>\n",
       "      <th>customer service calls</th>\n",
       "      <th>%night</th>\n",
       "      <th>%eve</th>\n",
       "      <th>avg duration</th>\n",
       "      <th>Midwest</th>\n",
       "      <th>Noncontinental</th>\n",
       "      <th>Northeast</th>\n",
       "      <th>Northwest</th>\n",
       "      <th>Southeast</th>\n",
       "      <th>Southwest</th>\n",
       "    </tr>\n",
       "  </thead>\n",
       "  <tbody>\n",
       "    <tr>\n",
       "      <th>4235</th>\n",
       "      <td>-0.330299</td>\n",
       "      <td>-0.617569</td>\n",
       "      <td>-0.590976</td>\n",
       "      <td>3.098857</td>\n",
       "      <td>-1.206925</td>\n",
       "      <td>3.099235</td>\n",
       "      <td>0.320163</td>\n",
       "      <td>-0.272591</td>\n",
       "      <td>0.319596</td>\n",
       "      <td>1.026054</td>\n",
       "      <td>...</td>\n",
       "      <td>-0.396501</td>\n",
       "      <td>0.671203</td>\n",
       "      <td>0.295507</td>\n",
       "      <td>-1.834905</td>\n",
       "      <td>-0.558479</td>\n",
       "      <td>-0.178893</td>\n",
       "      <td>-0.598020</td>\n",
       "      <td>-0.348025</td>\n",
       "      <td>-0.574912</td>\n",
       "      <td>2.824720</td>\n",
       "    </tr>\n",
       "    <tr>\n",
       "      <th>4952</th>\n",
       "      <td>-0.330299</td>\n",
       "      <td>-0.617569</td>\n",
       "      <td>-0.590976</td>\n",
       "      <td>1.104724</td>\n",
       "      <td>0.578107</td>\n",
       "      <td>1.104280</td>\n",
       "      <td>1.804572</td>\n",
       "      <td>-0.050637</td>\n",
       "      <td>1.803607</td>\n",
       "      <td>-1.547916</td>\n",
       "      <td>...</td>\n",
       "      <td>0.340701</td>\n",
       "      <td>-0.484508</td>\n",
       "      <td>-0.104417</td>\n",
       "      <td>-0.611839</td>\n",
       "      <td>-0.558479</td>\n",
       "      <td>-0.178893</td>\n",
       "      <td>-0.598020</td>\n",
       "      <td>-0.348025</td>\n",
       "      <td>1.739397</td>\n",
       "      <td>-0.354017</td>\n",
       "    </tr>\n",
       "    <tr>\n",
       "      <th>3896</th>\n",
       "      <td>3.027557</td>\n",
       "      <td>-0.617569</td>\n",
       "      <td>-0.590976</td>\n",
       "      <td>-0.364096</td>\n",
       "      <td>-0.602616</td>\n",
       "      <td>-0.364286</td>\n",
       "      <td>-1.063769</td>\n",
       "      <td>-0.849434</td>\n",
       "      <td>-1.064380</td>\n",
       "      <td>0.999106</td>\n",
       "      <td>...</td>\n",
       "      <td>-1.182043</td>\n",
       "      <td>0.493274</td>\n",
       "      <td>-0.467462</td>\n",
       "      <td>-0.457325</td>\n",
       "      <td>-0.558479</td>\n",
       "      <td>-0.178893</td>\n",
       "      <td>1.672185</td>\n",
       "      <td>-0.348025</td>\n",
       "      <td>-0.574912</td>\n",
       "      <td>-0.354017</td>\n",
       "    </tr>\n",
       "    <tr>\n",
       "      <th>1916</th>\n",
       "      <td>-0.330299</td>\n",
       "      <td>-0.617569</td>\n",
       "      <td>-0.590976</td>\n",
       "      <td>-1.293415</td>\n",
       "      <td>1.678979</td>\n",
       "      <td>-1.293153</td>\n",
       "      <td>-1.154253</td>\n",
       "      <td>-1.222189</td>\n",
       "      <td>-1.153254</td>\n",
       "      <td>-2.176807</td>\n",
       "      <td>...</td>\n",
       "      <td>0.340701</td>\n",
       "      <td>-0.780000</td>\n",
       "      <td>-1.336584</td>\n",
       "      <td>3.104497</td>\n",
       "      <td>1.790578</td>\n",
       "      <td>-0.178893</td>\n",
       "      <td>-0.598020</td>\n",
       "      <td>-0.348025</td>\n",
       "      <td>-0.574912</td>\n",
       "      <td>-0.354017</td>\n",
       "    </tr>\n",
       "    <tr>\n",
       "      <th>3314</th>\n",
       "      <td>-0.330299</td>\n",
       "      <td>-0.617569</td>\n",
       "      <td>-0.590976</td>\n",
       "      <td>-0.870597</td>\n",
       "      <td>-0.731782</td>\n",
       "      <td>-0.870556</td>\n",
       "      <td>0.351369</td>\n",
       "      <td>0.623069</td>\n",
       "      <td>0.350747</td>\n",
       "      <td>0.172826</td>\n",
       "      <td>...</td>\n",
       "      <td>2.804019</td>\n",
       "      <td>1.048516</td>\n",
       "      <td>0.306121</td>\n",
       "      <td>0.466245</td>\n",
       "      <td>-0.558479</td>\n",
       "      <td>-0.178893</td>\n",
       "      <td>-0.598020</td>\n",
       "      <td>2.873356</td>\n",
       "      <td>-0.574912</td>\n",
       "      <td>-0.354017</td>\n",
       "    </tr>\n",
       "  </tbody>\n",
       "</table>\n",
       "<p>5 rows × 25 columns</p>\n",
       "</div>"
      ],
      "text/plain": [
       "      international plan  voice mail plan  number vmail messages  \\\n",
       "4235           -0.330299        -0.617569              -0.590976   \n",
       "4952           -0.330299        -0.617569              -0.590976   \n",
       "3896            3.027557        -0.617569              -0.590976   \n",
       "1916           -0.330299        -0.617569              -0.590976   \n",
       "3314           -0.330299        -0.617569              -0.590976   \n",
       "\n",
       "      total day minutes  total day calls  total day charge  total eve minutes  \\\n",
       "4235           3.098857        -1.206925          3.099235           0.320163   \n",
       "4952           1.104724         0.578107          1.104280           1.804572   \n",
       "3896          -0.364096        -0.602616         -0.364286          -1.063769   \n",
       "1916          -1.293415         1.678979         -1.293153          -1.154253   \n",
       "3314          -0.870597        -0.731782         -0.870556           0.351369   \n",
       "\n",
       "      total eve calls  total eve charge  total night minutes  ...  \\\n",
       "4235        -0.272591          0.319596             1.026054  ...   \n",
       "4952        -0.050637          1.803607            -1.547916  ...   \n",
       "3896        -0.849434         -1.064380             0.999106  ...   \n",
       "1916        -1.222189         -1.153254            -2.176807  ...   \n",
       "3314         0.623069          0.350747             0.172826  ...   \n",
       "\n",
       "      customer service calls    %night      %eve  avg duration   Midwest  \\\n",
       "4235               -0.396501  0.671203  0.295507     -1.834905 -0.558479   \n",
       "4952                0.340701 -0.484508 -0.104417     -0.611839 -0.558479   \n",
       "3896               -1.182043  0.493274 -0.467462     -0.457325 -0.558479   \n",
       "1916                0.340701 -0.780000 -1.336584      3.104497  1.790578   \n",
       "3314                2.804019  1.048516  0.306121      0.466245 -0.558479   \n",
       "\n",
       "      Noncontinental  Northeast  Northwest  Southeast  Southwest  \n",
       "4235       -0.178893  -0.598020  -0.348025  -0.574912   2.824720  \n",
       "4952       -0.178893  -0.598020  -0.348025   1.739397  -0.354017  \n",
       "3896       -0.178893   1.672185  -0.348025  -0.574912  -0.354017  \n",
       "1916       -0.178893  -0.598020  -0.348025  -0.574912  -0.354017  \n",
       "3314       -0.178893  -0.598020   2.873356  -0.574912  -0.354017  \n",
       "\n",
       "[5 rows x 25 columns]"
      ]
     },
     "execution_count": 22,
     "metadata": {},
     "output_type": "execute_result"
    }
   ],
   "source": [
    "lst = ['international plan',\n",
    " 'voice mail plan',\n",
    " 'number vmail messages',\n",
    " 'total day minutes',\n",
    " 'total day calls',\n",
    " 'total day charge',\n",
    " 'total eve minutes',\n",
    " 'total eve calls',\n",
    " 'total eve charge',\n",
    " 'total night minutes',\n",
    " 'total night calls',\n",
    " 'total night charge',\n",
    " 'total intl minutes',\n",
    " 'total intl calls',\n",
    " 'total intl charge',\n",
    " 'customer service calls',\n",
    " '%night',\n",
    " '%eve',\n",
    " 'avg duration',\n",
    " 'Midwest',\n",
    " 'Noncontinental',\n",
    " 'Northeast',\n",
    " 'Northwest',\n",
    " 'Southeast',\n",
    " 'Southwest']\n",
    "\n",
    "X.columns = lst\n",
    "X.head()"
   ]
  },
  {
   "cell_type": "markdown",
   "metadata": {},
   "source": [
    "## Time for some Feature Engineering"
   ]
  },
  {
   "cell_type": "code",
   "execution_count": 23,
   "metadata": {},
   "outputs": [
    {
     "data": {
      "image/png": "[encoded data removed]",
      "text/plain": [
       "<Figure size 576x576 with 1 Axes>"
      ]
     },
     "metadata": {
      "needs_background": "light"
     },
     "output_type": "display_data"
    }
   ],
   "source": [
    "ev.GetImportance(clf, X, y)"
   ]
  },
  {
   "cell_type": "code",
   "execution_count": 24,
   "metadata": {},
   "outputs": [],
   "source": [
    "Xval.columns = list(X.columns)"
   ]
  },
  {
   "cell_type": "code",
   "execution_count": 25,
   "metadata": {},
   "outputs": [],
   "source": [
    "sample1 = X.drop(['Southwest', 'Southeast', 'Northwest', 'Northeast', 'Noncontinental', 'Midwest', '%eve', '%night', 'number vmail messages'], axis='columns')\n",
    "sv1 = Xval.drop(['Southwest', 'Southeast', 'Northwest', 'Northeast', 'Noncontinental', 'Midwest', '%eve', '%night', 'number vmail messages'], axis='columns')\n",
    "sample2 = X.drop(['Southwest', 'Southeast', 'Northwest', 'Northeast', 'Noncontinental', 'Midwest'], axis='columns')\n",
    "sv2 = Xval.drop(['Southwest', 'Southeast', 'Northwest', 'Northeast', 'Noncontinental', 'Midwest'], axis='columns')\n",
    "sample3 = X.drop(['Southwest', 'Southeast', 'Northwest', 'Northeast', 'Noncontinental', 'Midwest', '%eve', '%night', 'number vmail messages',\n",
    "                 'total night charge', 'total night calls', 'total eve charge', 'total eve calls', 'total day charge', 'total day calls'], axis='columns')\n",
    "sv3 = Xval.drop(['Southwest', 'Southeast', 'Northwest', 'Northeast', 'Noncontinental', 'Midwest', '%eve', '%night', 'number vmail messages',\n",
    "                 'total night charge', 'total night calls', 'total eve charge', 'total eve calls', 'total day charge', 'total day calls'], axis='columns')\n",
    "sample4 = dh.MakeNewDF(X, y, 10)\n",
    "sv4 = dh.MakeNewDF(Xval, yval, 10)\n",
    "sample5 = dh.MakeNewDF(X, y, 19)\n",
    "sv5 = dh.MakeNewDF(Xval, yval, 19)"
   ]
  },
  {
   "cell_type": "code",
   "execution_count": 26,
   "metadata": {},
   "outputs": [
    {
     "data": {
      "text/html": [
       "<div>\n",
       "<style scoped>\n",
       "    .dataframe tbody tr th:only-of-type {\n",
       "        vertical-align: middle;\n",
       "    }\n",
       "\n",
       "    .dataframe tbody tr th {\n",
       "        vertical-align: top;\n",
       "    }\n",
       "\n",
       "    .dataframe thead th {\n",
       "        text-align: right;\n",
       "    }\n",
       "</style>\n",
       "<table border=\"1\" class=\"dataframe\">\n",
       "  <thead>\n",
       "    <tr style=\"text-align: right;\">\n",
       "      <th></th>\n",
       "      <th>Model</th>\n",
       "      <th>train_acc</th>\n",
       "      <th>test_acc</th>\n",
       "    </tr>\n",
       "  </thead>\n",
       "  <tbody>\n",
       "    <tr>\n",
       "      <th>0</th>\n",
       "      <td>KNN</td>\n",
       "      <td>0.934789</td>\n",
       "      <td>0.898363</td>\n",
       "    </tr>\n",
       "    <tr>\n",
       "      <th>1</th>\n",
       "      <td>NB</td>\n",
       "      <td>0.796610</td>\n",
       "      <td>0.767442</td>\n",
       "    </tr>\n",
       "    <tr>\n",
       "      <th>2</th>\n",
       "      <td>DT</td>\n",
       "      <td>1.000000</td>\n",
       "      <td>0.906115</td>\n",
       "    </tr>\n",
       "    <tr>\n",
       "      <th>3</th>\n",
       "      <td>RF</td>\n",
       "      <td>1.000000</td>\n",
       "      <td>0.954350</td>\n",
       "    </tr>\n",
       "    <tr>\n",
       "      <th>4</th>\n",
       "      <td>AB</td>\n",
       "      <td>0.895145</td>\n",
       "      <td>0.885444</td>\n",
       "    </tr>\n",
       "    <tr>\n",
       "      <th>5</th>\n",
       "      <td>GB</td>\n",
       "      <td>0.964953</td>\n",
       "      <td>0.952627</td>\n",
       "    </tr>\n",
       "    <tr>\n",
       "      <th>6</th>\n",
       "      <td>XGB</td>\n",
       "      <td>0.962654</td>\n",
       "      <td>0.950904</td>\n",
       "    </tr>\n",
       "    <tr>\n",
       "      <th>7</th>\n",
       "      <td>Log</td>\n",
       "      <td>0.805228</td>\n",
       "      <td>0.778639</td>\n",
       "    </tr>\n",
       "    <tr>\n",
       "      <th>8</th>\n",
       "      <td>SVM</td>\n",
       "      <td>0.923585</td>\n",
       "      <td>0.914729</td>\n",
       "    </tr>\n",
       "  </tbody>\n",
       "</table>\n",
       "</div>"
      ],
      "text/plain": [
       "  Model  train_acc  test_acc\n",
       "0   KNN   0.934789  0.898363\n",
       "1    NB   0.796610  0.767442\n",
       "2    DT   1.000000  0.906115\n",
       "3    RF   1.000000  0.954350\n",
       "4    AB   0.895145  0.885444\n",
       "5    GB   0.964953  0.952627\n",
       "6   XGB   0.962654  0.950904\n",
       "7   Log   0.805228  0.778639\n",
       "8   SVM   0.923585  0.914729"
      ]
     },
     "execution_count": 26,
     "metadata": {},
     "output_type": "execute_result"
    }
   ],
   "source": [
    "ml.CompareClassifiers(sample1, y)"
   ]
  },
  {
   "cell_type": "code",
   "execution_count": 27,
   "metadata": {},
   "outputs": [
    {
     "name": "stdout",
     "output_type": "stream",
     "text": [
      "Fitting 5 folds for each of 9 candidates, totalling 45 fits\n"
     ]
    },
    {
     "name": "stderr",
     "output_type": "stream",
     "text": [
      "[Parallel(n_jobs=-1)]: Using backend LokyBackend with 12 concurrent workers.\n",
      "[Parallel(n_jobs=-1)]: Done  17 tasks      | elapsed:    2.3s\n",
      "[Parallel(n_jobs=-1)]: Done  45 out of  45 | elapsed:   16.5s remaining:    0.0s\n",
      "[Parallel(n_jobs=-1)]: Done  45 out of  45 | elapsed:   16.5s finished\n"
     ]
    },
    {
     "data": {
      "text/plain": [
       "GradientBoostingClassifier(max_depth=5, n_estimators=200)"
      ]
     },
     "execution_count": 27,
     "metadata": {},
     "output_type": "execute_result"
    }
   ],
   "source": [
    "parameters = {'max_depth': [3, 5, None], 'n_estimators': [50, 100, 200]}\n",
    "clf = ml.Optimize(GradientBoostingClassifier(), parameters, sample1, y)\n",
    "clf"
   ]
  },
  {
   "cell_type": "code",
   "execution_count": 28,
   "metadata": {},
   "outputs": [
    {
     "name": "stdout",
     "output_type": "stream",
     "text": [
      "AUC: 0.9977578475336323\n",
      "Training: 0.9997127262280954, Validation: 0.9681309216192937\n"
     ]
    },
    {
     "data": {
      "image/png": "[encoded data removed]",
      "text/plain": [
       "<Figure size 432x288 with 2 Axes>"
      ]
     },
     "metadata": {
      "needs_background": "light"
     },
     "output_type": "display_data"
    }
   ],
   "source": [
    "score = ev.ScoreModel(clf, sample1, y)\n",
    "fit = clf.fit(sample1, y)\n",
    "ev.BuildConfusion(fit, sv1, yval)\n",
    "print('AUC: {}'.format(ev.AUC(clf, sv1, yval)))\n",
    "print(score)"
   ]
  },
  {
   "cell_type": "code",
   "execution_count": 29,
   "metadata": {},
   "outputs": [
    {
     "data": {
      "text/html": [
       "<div>\n",
       "<style scoped>\n",
       "    .dataframe tbody tr th:only-of-type {\n",
       "        vertical-align: middle;\n",
       "    }\n",
       "\n",
       "    .dataframe tbody tr th {\n",
       "        vertical-align: top;\n",
       "    }\n",
       "\n",
       "    .dataframe thead th {\n",
       "        text-align: right;\n",
       "    }\n",
       "</style>\n",
       "<table border=\"1\" class=\"dataframe\">\n",
       "  <thead>\n",
       "    <tr style=\"text-align: right;\">\n",
       "      <th></th>\n",
       "      <th>Model</th>\n",
       "      <th>train_acc</th>\n",
       "      <th>test_acc</th>\n",
       "    </tr>\n",
       "  </thead>\n",
       "  <tbody>\n",
       "    <tr>\n",
       "      <th>0</th>\n",
       "      <td>KNN</td>\n",
       "      <td>0.931054</td>\n",
       "      <td>0.875969</td>\n",
       "    </tr>\n",
       "    <tr>\n",
       "      <th>1</th>\n",
       "      <td>NB</td>\n",
       "      <td>0.778225</td>\n",
       "      <td>0.764858</td>\n",
       "    </tr>\n",
       "    <tr>\n",
       "      <th>2</th>\n",
       "      <td>DT</td>\n",
       "      <td>1.000000</td>\n",
       "      <td>0.911283</td>\n",
       "    </tr>\n",
       "    <tr>\n",
       "      <th>3</th>\n",
       "      <td>RF</td>\n",
       "      <td>1.000000</td>\n",
       "      <td>0.944014</td>\n",
       "    </tr>\n",
       "    <tr>\n",
       "      <th>4</th>\n",
       "      <td>AB</td>\n",
       "      <td>0.887389</td>\n",
       "      <td>0.891473</td>\n",
       "    </tr>\n",
       "    <tr>\n",
       "      <th>5</th>\n",
       "      <td>GB</td>\n",
       "      <td>0.971560</td>\n",
       "      <td>0.950904</td>\n",
       "    </tr>\n",
       "    <tr>\n",
       "      <th>6</th>\n",
       "      <td>XGB</td>\n",
       "      <td>0.964091</td>\n",
       "      <td>0.944014</td>\n",
       "    </tr>\n",
       "    <tr>\n",
       "      <th>7</th>\n",
       "      <td>Log</td>\n",
       "      <td>0.799483</td>\n",
       "      <td>0.800172</td>\n",
       "    </tr>\n",
       "    <tr>\n",
       "      <th>8</th>\n",
       "      <td>SVM</td>\n",
       "      <td>0.929618</td>\n",
       "      <td>0.900086</td>\n",
       "    </tr>\n",
       "  </tbody>\n",
       "</table>\n",
       "</div>"
      ],
      "text/plain": [
       "  Model  train_acc  test_acc\n",
       "0   KNN   0.931054  0.875969\n",
       "1    NB   0.778225  0.764858\n",
       "2    DT   1.000000  0.911283\n",
       "3    RF   1.000000  0.944014\n",
       "4    AB   0.887389  0.891473\n",
       "5    GB   0.971560  0.950904\n",
       "6   XGB   0.964091  0.944014\n",
       "7   Log   0.799483  0.800172\n",
       "8   SVM   0.929618  0.900086"
      ]
     },
     "execution_count": 29,
     "metadata": {},
     "output_type": "execute_result"
    }
   ],
   "source": [
    "ml.CompareClassifiers(sample2, y)"
   ]
  },
  {
   "cell_type": "code",
   "execution_count": 30,
   "metadata": {},
   "outputs": [
    {
     "name": "stdout",
     "output_type": "stream",
     "text": [
      "Fitting 5 folds for each of 18 candidates, totalling 90 fits\n"
     ]
    },
    {
     "name": "stderr",
     "output_type": "stream",
     "text": [
      "[Parallel(n_jobs=-1)]: Using backend LokyBackend with 12 concurrent workers.\n",
      "[Parallel(n_jobs=-1)]: Done  17 tasks      | elapsed:    0.8s\n",
      "[Parallel(n_jobs=-1)]: Done  90 out of  90 | elapsed:    6.4s finished\n"
     ]
    },
    {
     "name": "stdout",
     "output_type": "stream",
     "text": [
      "AUC: 0.9846570062632028\n",
      "Training: 1.0, Validation: 0.9457364341085271\n"
     ]
    },
    {
     "data": {
      "image/png": "[encoded data removed]",
      "text/plain": [
       "<Figure size 432x288 with 2 Axes>"
      ]
     },
     "metadata": {
      "needs_background": "light"
     },
     "output_type": "display_data"
    }
   ],
   "source": [
    "parameters = {'criterion': ['gini', 'entropy'], 'max_depth': [3, 5, None], 'n_estimators': [50, 100, 200]}\n",
    "clf = ml.Optimize(RandomForestClassifier(), parameters, sample2, y)\n",
    "score = ev.ScoreModel(clf, sample2, y)\n",
    "AUC = ev.AUC(clf, sv2, yval)\n",
    "fit = clf.fit(sample2, y)\n",
    "ev.BuildConfusion(fit, sv2, yval)\n",
    "print('AUC: {}'.format(AUC))\n",
    "print(score)"
   ]
  },
  {
   "cell_type": "code",
   "execution_count": 31,
   "metadata": {},
   "outputs": [
    {
     "data": {
      "text/html": [
       "<div>\n",
       "<style scoped>\n",
       "    .dataframe tbody tr th:only-of-type {\n",
       "        vertical-align: middle;\n",
       "    }\n",
       "\n",
       "    .dataframe tbody tr th {\n",
       "        vertical-align: top;\n",
       "    }\n",
       "\n",
       "    .dataframe thead th {\n",
       "        text-align: right;\n",
       "    }\n",
       "</style>\n",
       "<table border=\"1\" class=\"dataframe\">\n",
       "  <thead>\n",
       "    <tr style=\"text-align: right;\">\n",
       "      <th></th>\n",
       "      <th>Model</th>\n",
       "      <th>train_acc</th>\n",
       "      <th>test_acc</th>\n",
       "    </tr>\n",
       "  </thead>\n",
       "  <tbody>\n",
       "    <tr>\n",
       "      <th>0</th>\n",
       "      <td>KNN</td>\n",
       "      <td>0.935938</td>\n",
       "      <td>0.888889</td>\n",
       "    </tr>\n",
       "    <tr>\n",
       "      <th>1</th>\n",
       "      <td>NB</td>\n",
       "      <td>0.806952</td>\n",
       "      <td>0.796727</td>\n",
       "    </tr>\n",
       "    <tr>\n",
       "      <th>2</th>\n",
       "      <td>DT</td>\n",
       "      <td>1.000000</td>\n",
       "      <td>0.921619</td>\n",
       "    </tr>\n",
       "    <tr>\n",
       "      <th>3</th>\n",
       "      <td>RF</td>\n",
       "      <td>1.000000</td>\n",
       "      <td>0.953488</td>\n",
       "    </tr>\n",
       "    <tr>\n",
       "      <th>4</th>\n",
       "      <td>AB</td>\n",
       "      <td>0.890549</td>\n",
       "      <td>0.888889</td>\n",
       "    </tr>\n",
       "    <tr>\n",
       "      <th>5</th>\n",
       "      <td>GB</td>\n",
       "      <td>0.970698</td>\n",
       "      <td>0.953488</td>\n",
       "    </tr>\n",
       "    <tr>\n",
       "      <th>6</th>\n",
       "      <td>XGB</td>\n",
       "      <td>0.962080</td>\n",
       "      <td>0.949182</td>\n",
       "    </tr>\n",
       "    <tr>\n",
       "      <th>7</th>\n",
       "      <td>Log</td>\n",
       "      <td>0.798334</td>\n",
       "      <td>0.783807</td>\n",
       "    </tr>\n",
       "    <tr>\n",
       "      <th>8</th>\n",
       "      <td>SVM</td>\n",
       "      <td>0.918989</td>\n",
       "      <td>0.904393</td>\n",
       "    </tr>\n",
       "  </tbody>\n",
       "</table>\n",
       "</div>"
      ],
      "text/plain": [
       "  Model  train_acc  test_acc\n",
       "0   KNN   0.935938  0.888889\n",
       "1    NB   0.806952  0.796727\n",
       "2    DT   1.000000  0.921619\n",
       "3    RF   1.000000  0.953488\n",
       "4    AB   0.890549  0.888889\n",
       "5    GB   0.970698  0.953488\n",
       "6   XGB   0.962080  0.949182\n",
       "7   Log   0.798334  0.783807\n",
       "8   SVM   0.918989  0.904393"
      ]
     },
     "execution_count": 31,
     "metadata": {},
     "output_type": "execute_result"
    }
   ],
   "source": [
    "ml.CompareClassifiers(sample3, y)"
   ]
  },
  {
   "cell_type": "code",
   "execution_count": 32,
   "metadata": {},
   "outputs": [
    {
     "name": "stdout",
     "output_type": "stream",
     "text": [
      "Fitting 5 folds for each of 8 candidates, totalling 40 fits\n"
     ]
    },
    {
     "name": "stderr",
     "output_type": "stream",
     "text": [
      "[Parallel(n_jobs=-1)]: Using backend LokyBackend with 12 concurrent workers.\n",
      "[Parallel(n_jobs=-1)]: Done  17 tasks      | elapsed:    0.8s\n",
      "[Parallel(n_jobs=-1)]: Done  38 out of  40 | elapsed:    1.5s remaining:    0.0s\n",
      "[Parallel(n_jobs=-1)]: Done  40 out of  40 | elapsed:    1.5s finished\n"
     ]
    },
    {
     "data": {
      "text/plain": [
       "XGBClassifier(learning_rate=0.2, max_depth=6, subsample=0.7)"
      ]
     },
     "execution_count": 32,
     "metadata": {},
     "output_type": "execute_result"
    }
   ],
   "source": [
    "parameters = {\n",
    "    'learning_rate': [0.1, 0.2],\n",
    "    'max_depth': [6],\n",
    "    'min_child_weight': [1, 2],\n",
    "    'subsample': [0.5, 0.7],\n",
    "    'n_estimators': [100],\n",
    "}\n",
    "clf = ml.Optimize(XGBClassifier(), parameters, sample3, y)\n",
    "clf"
   ]
  },
  {
   "cell_type": "code",
   "execution_count": 33,
   "metadata": {},
   "outputs": [
    {
     "name": "stdout",
     "output_type": "stream",
     "text": [
      "Training: 0.9997127262280954, Validation: 0.9569336778639104\n"
     ]
    },
    {
     "data": {
      "text/plain": [
       "<sklearn.metrics._plot.confusion_matrix.ConfusionMatrixDisplay at 0x2599f505be0>"
      ]
     },
     "execution_count": 33,
     "metadata": {},
     "output_type": "execute_result"
    },
    {
     "data": {
      "image/png": "[encoded data removed]",
      "text/plain": [
       "<Figure size 432x288 with 2 Axes>"
      ]
     },
     "metadata": {
      "needs_background": "light"
     },
     "output_type": "display_data"
    }
   ],
   "source": [
    "score = ev.ScoreModel(clf, sample3, y)\n",
    "#auc = ev.AUC(clf, sample3, y)\n",
    "fit = clf.fit(sv3, yval)\n",
    "print(score)\n",
    "#print('AUC: {}'.format(auc))\n",
    "ev.BuildConfusion(fit, sv3, yval)"
   ]
  },
  {
   "cell_type": "code",
   "execution_count": 34,
   "metadata": {},
   "outputs": [
    {
     "data": {
      "text/html": [
       "<div>\n",
       "<style scoped>\n",
       "    .dataframe tbody tr th:only-of-type {\n",
       "        vertical-align: middle;\n",
       "    }\n",
       "\n",
       "    .dataframe tbody tr th {\n",
       "        vertical-align: top;\n",
       "    }\n",
       "\n",
       "    .dataframe thead th {\n",
       "        text-align: right;\n",
       "    }\n",
       "</style>\n",
       "<table border=\"1\" class=\"dataframe\">\n",
       "  <thead>\n",
       "    <tr style=\"text-align: right;\">\n",
       "      <th></th>\n",
       "      <th>Model</th>\n",
       "      <th>train_acc</th>\n",
       "      <th>test_acc</th>\n",
       "    </tr>\n",
       "  </thead>\n",
       "  <tbody>\n",
       "    <tr>\n",
       "      <th>0</th>\n",
       "      <td>KNN</td>\n",
       "      <td>0.924734</td>\n",
       "      <td>0.872524</td>\n",
       "    </tr>\n",
       "    <tr>\n",
       "      <th>1</th>\n",
       "      <td>NB</td>\n",
       "      <td>0.798047</td>\n",
       "      <td>0.786391</td>\n",
       "    </tr>\n",
       "    <tr>\n",
       "      <th>2</th>\n",
       "      <td>DT</td>\n",
       "      <td>1.000000</td>\n",
       "      <td>0.894918</td>\n",
       "    </tr>\n",
       "    <tr>\n",
       "      <th>3</th>\n",
       "      <td>RF</td>\n",
       "      <td>1.000000</td>\n",
       "      <td>0.924203</td>\n",
       "    </tr>\n",
       "    <tr>\n",
       "      <th>4</th>\n",
       "      <td>AB</td>\n",
       "      <td>0.887676</td>\n",
       "      <td>0.870801</td>\n",
       "    </tr>\n",
       "    <tr>\n",
       "      <th>5</th>\n",
       "      <td>GB</td>\n",
       "      <td>0.952600</td>\n",
       "      <td>0.942291</td>\n",
       "    </tr>\n",
       "    <tr>\n",
       "      <th>6</th>\n",
       "      <td>XGB</td>\n",
       "      <td>0.945993</td>\n",
       "      <td>0.937984</td>\n",
       "    </tr>\n",
       "    <tr>\n",
       "      <th>7</th>\n",
       "      <td>Log</td>\n",
       "      <td>0.794025</td>\n",
       "      <td>0.786391</td>\n",
       "    </tr>\n",
       "    <tr>\n",
       "      <th>8</th>\n",
       "      <td>SVM</td>\n",
       "      <td>0.900603</td>\n",
       "      <td>0.885444</td>\n",
       "    </tr>\n",
       "  </tbody>\n",
       "</table>\n",
       "</div>"
      ],
      "text/plain": [
       "  Model  train_acc  test_acc\n",
       "0   KNN   0.924734  0.872524\n",
       "1    NB   0.798047  0.786391\n",
       "2    DT   1.000000  0.894918\n",
       "3    RF   1.000000  0.924203\n",
       "4    AB   0.887676  0.870801\n",
       "5    GB   0.952600  0.942291\n",
       "6   XGB   0.945993  0.937984\n",
       "7   Log   0.794025  0.786391\n",
       "8   SVM   0.900603  0.885444"
      ]
     },
     "execution_count": 34,
     "metadata": {},
     "output_type": "execute_result"
    }
   ],
   "source": [
    "ml.CompareClassifiers(sample4, y)"
   ]
  },
  {
   "cell_type": "code",
   "execution_count": 35,
   "metadata": {},
   "outputs": [
    {
     "name": "stdout",
     "output_type": "stream",
     "text": [
      "Fitting 5 folds for each of 9 candidates, totalling 45 fits\n"
     ]
    },
    {
     "name": "stderr",
     "output_type": "stream",
     "text": [
      "[Parallel(n_jobs=-1)]: Using backend LokyBackend with 12 concurrent workers.\n",
      "[Parallel(n_jobs=-1)]: Done  17 tasks      | elapsed:    1.3s\n",
      "[Parallel(n_jobs=-1)]: Done  45 out of  45 | elapsed:   10.9s remaining:    0.0s\n",
      "[Parallel(n_jobs=-1)]: Done  45 out of  45 | elapsed:   10.9s finished\n"
     ]
    },
    {
     "name": "stdout",
     "output_type": "stream",
     "text": [
      "GradientBoostingClassifier(max_depth=5, n_estimators=200)\n",
      "Training: 0.9971272622809537, Validation: 0.9371231696813093\n"
     ]
    },
    {
     "data": {
      "text/plain": [
       "<sklearn.metrics._plot.confusion_matrix.ConfusionMatrixDisplay at 0x2599e2d6780>"
      ]
     },
     "execution_count": 35,
     "metadata": {},
     "output_type": "execute_result"
    },
    {
     "data": {
      "image/png": "[encoded data removed]",
      "text/plain": [
       "<Figure size 432x288 with 2 Axes>"
      ]
     },
     "metadata": {
      "needs_background": "light"
     },
     "output_type": "display_data"
    }
   ],
   "source": [
    "parameters = {'max_depth': [3, 5, None], 'n_estimators': [50, 100, 200]}\n",
    "clf = ml.Optimize(GradientBoostingClassifier(), parameters, sample4, y)\n",
    "print(clf)\n",
    "score = ev.ScoreModel(clf, sample4, y)\n",
    "print(score)\n",
    "fit = clf.fit(sample4, y)\n",
    "#auc = ev.AUC(clf, sample4, y)\n",
    "#print('AUC: {}'.format(auc))\n",
    "ev.BuildConfusion(fit, sv4, yval)"
   ]
  },
  {
   "cell_type": "code",
   "execution_count": 36,
   "metadata": {},
   "outputs": [
    {
     "data": {
      "text/html": [
       "<div>\n",
       "<style scoped>\n",
       "    .dataframe tbody tr th:only-of-type {\n",
       "        vertical-align: middle;\n",
       "    }\n",
       "\n",
       "    .dataframe tbody tr th {\n",
       "        vertical-align: top;\n",
       "    }\n",
       "\n",
       "    .dataframe thead th {\n",
       "        text-align: right;\n",
       "    }\n",
       "</style>\n",
       "<table border=\"1\" class=\"dataframe\">\n",
       "  <thead>\n",
       "    <tr style=\"text-align: right;\">\n",
       "      <th></th>\n",
       "      <th>Model</th>\n",
       "      <th>train_acc</th>\n",
       "      <th>test_acc</th>\n",
       "    </tr>\n",
       "  </thead>\n",
       "  <tbody>\n",
       "    <tr>\n",
       "      <th>0</th>\n",
       "      <td>KNN</td>\n",
       "      <td>0.934502</td>\n",
       "      <td>0.886305</td>\n",
       "    </tr>\n",
       "    <tr>\n",
       "      <th>1</th>\n",
       "      <td>NB</td>\n",
       "      <td>0.742028</td>\n",
       "      <td>0.728682</td>\n",
       "    </tr>\n",
       "    <tr>\n",
       "      <th>2</th>\n",
       "      <td>DT</td>\n",
       "      <td>1.000000</td>\n",
       "      <td>0.914729</td>\n",
       "    </tr>\n",
       "    <tr>\n",
       "      <th>3</th>\n",
       "      <td>RF</td>\n",
       "      <td>1.000000</td>\n",
       "      <td>0.949182</td>\n",
       "    </tr>\n",
       "    <tr>\n",
       "      <th>4</th>\n",
       "      <td>AB</td>\n",
       "      <td>0.904912</td>\n",
       "      <td>0.879414</td>\n",
       "    </tr>\n",
       "    <tr>\n",
       "      <th>5</th>\n",
       "      <td>GB</td>\n",
       "      <td>0.969549</td>\n",
       "      <td>0.942291</td>\n",
       "    </tr>\n",
       "    <tr>\n",
       "      <th>6</th>\n",
       "      <td>XGB</td>\n",
       "      <td>0.966676</td>\n",
       "      <td>0.941430</td>\n",
       "    </tr>\n",
       "    <tr>\n",
       "      <th>7</th>\n",
       "      <td>Log</td>\n",
       "      <td>0.796036</td>\n",
       "      <td>0.788975</td>\n",
       "    </tr>\n",
       "    <tr>\n",
       "      <th>8</th>\n",
       "      <td>SVM</td>\n",
       "      <td>0.927894</td>\n",
       "      <td>0.909561</td>\n",
       "    </tr>\n",
       "  </tbody>\n",
       "</table>\n",
       "</div>"
      ],
      "text/plain": [
       "  Model  train_acc  test_acc\n",
       "0   KNN   0.934502  0.886305\n",
       "1    NB   0.742028  0.728682\n",
       "2    DT   1.000000  0.914729\n",
       "3    RF   1.000000  0.949182\n",
       "4    AB   0.904912  0.879414\n",
       "5    GB   0.969549  0.942291\n",
       "6   XGB   0.966676  0.941430\n",
       "7   Log   0.796036  0.788975\n",
       "8   SVM   0.927894  0.909561"
      ]
     },
     "execution_count": 36,
     "metadata": {},
     "output_type": "execute_result"
    }
   ],
   "source": [
    "ml.CompareClassifiers(sample5, y)"
   ]
  },
  {
   "cell_type": "code",
   "execution_count": 37,
   "metadata": {},
   "outputs": [
    {
     "name": "stdout",
     "output_type": "stream",
     "text": [
      "Fitting 5 folds for each of 9 candidates, totalling 45 fits\n"
     ]
    },
    {
     "name": "stderr",
     "output_type": "stream",
     "text": [
      "[Parallel(n_jobs=-1)]: Using backend LokyBackend with 12 concurrent workers.\n",
      "[Parallel(n_jobs=-1)]: Done  17 tasks      | elapsed:    2.0s\n",
      "[Parallel(n_jobs=-1)]: Done  45 out of  45 | elapsed:   14.4s remaining:    0.0s\n",
      "[Parallel(n_jobs=-1)]: Done  45 out of  45 | elapsed:   14.4s finished\n"
     ]
    },
    {
     "name": "stdout",
     "output_type": "stream",
     "text": [
      "GradientBoostingClassifier(max_depth=5, n_estimators=200)\n",
      "Training: 1.0, Validation: 0.9638242894056848\n"
     ]
    },
    {
     "data": {
      "text/plain": [
       "<sklearn.metrics._plot.confusion_matrix.ConfusionMatrixDisplay at 0x2599dab5470>"
      ]
     },
     "execution_count": 37,
     "metadata": {},
     "output_type": "execute_result"
    },
    {
     "data": {
      "image/png": "[encoded data removed]",
      "text/plain": [
       "<Figure size 432x288 with 2 Axes>"
      ]
     },
     "metadata": {
      "needs_background": "light"
     },
     "output_type": "display_data"
    }
   ],
   "source": [
    "parameters = {'max_depth': [3, 5, None], 'n_estimators': [50, 100, 200]}\n",
    "clf = ml.Optimize(GradientBoostingClassifier(), parameters, sample5, y)\n",
    "print(clf)\n",
    "score = ev.ScoreModel(clf, sample5, y)\n",
    "print(score)\n",
    "#auc = ev.AUC(clf, sv5, yval)\n",
    "#print('AUC: {}'.format(auc))\n",
    "fit = clf.fit(sample5, y)\n",
    "ev.BuildConfusion(fit, sv5, yval)"
   ]
  },
  {
   "cell_type": "code",
   "execution_count": 40,
   "metadata": {},
   "outputs": [],
   "source": [
    "newdf = pd.concat([sample3, y], axis='columns')\n",
    "val_df = pd.concat([sv3, yval], axis='columns')"
   ]
  },
  {
   "cell_type": "code",
   "execution_count": 42,
   "metadata": {},
   "outputs": [],
   "source": [
    "val_df.to_csv('ChurnValidation.csv')"
   ]
  },
  {
   "cell_type": "code",
   "execution_count": 43,
   "metadata": {},
   "outputs": [],
   "source": [
    "newdf.to_csv('Churn3.csv')"
   ]
  }
 ],
 "metadata": {
  "kernelspec": {
   "display_name": "Python 3",
   "language": "python",
   "name": "python3"
  },
  "language_info": {
   "codemirror_mode": {
    "name": "ipython",
    "version": 3
   },
   "file_extension": ".py",
   "mimetype": "text/x-python",
   "name": "python",
   "nbconvert_exporter": "python",
   "pygments_lexer": "ipython3",
   "version": "3.6.9"
  }
 },
 "nbformat": 4,
 "nbformat_minor": 4
}
