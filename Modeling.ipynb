{
 "cells": [
  {
   "cell_type": "markdown",
   "metadata": {},
   "source": [
    "## Importing Potosnail library, check out it's offical repo here: https://github.com/spe301/Potosnail"
   ]
  },
  {
   "cell_type": "code",
   "execution_count": 1,
   "metadata": {},
   "outputs": [],
   "source": [
    "from potosnail import MachineLearning, DataHelper, Evaluater, DeepLearning\n",
    "import pandas as pd\n",
    "import numpy as np\n",
    "from sklearn.metrics import confusion_matrix\n",
    "from sklearn.pipeline import Pipeline\n",
    "from sklearn.preprocessing import StandardScaler, MinMaxScaler\n",
    "from sklearn.model_selection import train_test_split\n",
    "from xgboost import XGBClassifier\n",
    "from sklearn.ensemble import GradientBoostingClassifier\n",
    "from tensorflow.keras.callbacks import EarlyStopping, ModelCheckpoint\n",
    "\n",
    "#class instantiations \n",
    "ml = MachineLearning()\n",
    "dh = DataHelper()\n",
    "ev = Evaluater()\n",
    "dl = DeepLearning()\n",
    "\n",
    "def CBA(model, X, y, rate, total_cost, discount):\n",
    "    '''calculates the potential revenue with and of using the model to make decisions'''\n",
    "    cm = confusion_matrix(y, model.predict(X))\n",
    "    tn = cm[0][0] * rate\n",
    "    fp = cm[0][1] * (rate-discount)\n",
    "    fn = cm[1][0] * (total_cost) * -1\n",
    "    tp = cm[1][1] * (rate-discount)\n",
    "    ml = tn + fp + fn + tp\n",
    "    n = (cm[0][0] + cm[0][1])*rate\n",
    "    p = (cm[1][0] + cm[1][1])*total_cost*-1\n",
    "    no = n + p\n",
    "    return 'With this model: ${}, without ml: ${}'.format(ml, no)\n",
    "\n",
    "def PipeIt(scaler, model, X, y):\n",
    "    '''an sklearn pipeline that returns the train and test score with scaled data'''\n",
    "    X_train, X_test, y_train, y_test = train_test_split(X, y, test_size=0.25)\n",
    "    pipe = Pipeline([('scaler', scaler), ('model', model)]).fit(X_train, y_train)\n",
    "    return \"Training: {}, Validation: {}\".format(pipe.score(X_train, y_train), pipe.score(X_test, y_test))"
   ]
  },
  {
   "cell_type": "code",
   "execution_count": 2,
   "metadata": {},
   "outputs": [],
   "source": [
    "df = pd.read_csv(r'C:\\Users\\aacjp\\OneDrive\\Desktop\\data\\tables\\ChurnData_ForML.csv')\n",
    "\n",
    "HO = dh.HoldOut(df) \n",
    "df = HO[0].drop(['Unnamed: 0'], axis='columns') #training data\n",
    "val_df = HO[1].drop(['Unnamed: 0'], axis='columns') #validation data"
   ]
  },
  {
   "cell_type": "code",
   "execution_count": 3,
   "metadata": {},
   "outputs": [
    {
     "name": "stdout",
     "output_type": "stream",
     "text": [
      "[13:03:03] WARNING: C:/Users/Administrator/workspace/xgboost-win64_release_1.3.0/src/learner.cc:1061: Starting in XGBoost 1.3.0, the default evaluation metric used with the objective 'binary:logistic' was changed from 'error' to 'logloss'. Explicitly set eval_metric if you'd like to restore the old behavior.\n"
     ]
    },
    {
     "data": {
      "text/html": [
       "<div>\n",
       "<style scoped>\n",
       "    .dataframe tbody tr th:only-of-type {\n",
       "        vertical-align: middle;\n",
       "    }\n",
       "\n",
       "    .dataframe tbody tr th {\n",
       "        vertical-align: top;\n",
       "    }\n",
       "\n",
       "    .dataframe thead th {\n",
       "        text-align: right;\n",
       "    }\n",
       "</style>\n",
       "<table border=\"1\" class=\"dataframe\">\n",
       "  <thead>\n",
       "    <tr style=\"text-align: right;\">\n",
       "      <th></th>\n",
       "      <th>Model</th>\n",
       "      <th>train_acc</th>\n",
       "      <th>test_acc</th>\n",
       "    </tr>\n",
       "  </thead>\n",
       "  <tbody>\n",
       "    <tr>\n",
       "      <th>0</th>\n",
       "      <td>KNN</td>\n",
       "      <td>0.905291</td>\n",
       "      <td>0.881333</td>\n",
       "    </tr>\n",
       "    <tr>\n",
       "      <th>1</th>\n",
       "      <td>NB</td>\n",
       "      <td>0.855047</td>\n",
       "      <td>0.849333</td>\n",
       "    </tr>\n",
       "    <tr>\n",
       "      <th>2</th>\n",
       "      <td>DT</td>\n",
       "      <td>1.000000</td>\n",
       "      <td>0.920000</td>\n",
       "    </tr>\n",
       "    <tr>\n",
       "      <th>3</th>\n",
       "      <td>RF</td>\n",
       "      <td>1.000000</td>\n",
       "      <td>0.953333</td>\n",
       "    </tr>\n",
       "    <tr>\n",
       "      <th>4</th>\n",
       "      <td>AB</td>\n",
       "      <td>0.896398</td>\n",
       "      <td>0.873333</td>\n",
       "    </tr>\n",
       "    <tr>\n",
       "      <th>5</th>\n",
       "      <td>GB</td>\n",
       "      <td>0.975989</td>\n",
       "      <td>0.949333</td>\n",
       "    </tr>\n",
       "    <tr>\n",
       "      <th>6</th>\n",
       "      <td>XGB</td>\n",
       "      <td>1.000000</td>\n",
       "      <td>0.950667</td>\n",
       "    </tr>\n",
       "    <tr>\n",
       "      <th>7</th>\n",
       "      <td>Log</td>\n",
       "      <td>0.861272</td>\n",
       "      <td>0.852000</td>\n",
       "    </tr>\n",
       "    <tr>\n",
       "      <th>8</th>\n",
       "      <td>SVM</td>\n",
       "      <td>0.857715</td>\n",
       "      <td>0.852000</td>\n",
       "    </tr>\n",
       "  </tbody>\n",
       "</table>\n",
       "</div>"
      ],
      "text/plain": [
       "  Model  train_acc  test_acc\n",
       "0   KNN   0.905291  0.881333\n",
       "1    NB   0.855047  0.849333\n",
       "2    DT   1.000000  0.920000\n",
       "3    RF   1.000000  0.953333\n",
       "4    AB   0.896398  0.873333\n",
       "5    GB   0.975989  0.949333\n",
       "6   XGB   1.000000  0.950667\n",
       "7   Log   0.861272  0.852000\n",
       "8   SVM   0.857715  0.852000"
      ]
     },
     "execution_count": 3,
     "metadata": {},
     "output_type": "execute_result"
    }
   ],
   "source": [
    "X = df.drop(['churn'], axis='columns')\n",
    "y = df['churn']\n",
    "ml.CompareModels(df, 'churn', 'classification') #compares vanilla sklearn models against eachother"
   ]
  },
  {
   "cell_type": "markdown",
   "metadata": {},
   "source": [
    "# Step 1: picking a model to start with\n",
    "my CompareClassifiers function trains a vanilla model of each type of classifier and returns the train and test accuracy. I'm gonna go with XGB because test accuracy is high and very close to train accuracy.\n",
    "\n",
    "## Recall is our metric\n",
    "The reason for this is because False Negatives will be more costly than False Positives. Let's say we want to offer a 25% discount, about 14 dollars given that the average customer is billed 56 dollars a month, for a customer that is predicted to churn to keep them. In this situation a false negative would cost us 56 dollars plus the cost of aquiring a new customer. The average cost of acquisition is 350 dollars for a cellphone company! However a false positive would only cost us 14 dollars because of the unnessecary discount."
   ]
  },
  {
   "cell_type": "code",
   "execution_count": 4,
   "metadata": {},
   "outputs": [
    {
     "name": "stdout",
     "output_type": "stream",
     "text": [
      "Fitting 5 folds for each of 8 candidates, totalling 40 fits\n"
     ]
    },
    {
     "name": "stderr",
     "output_type": "stream",
     "text": [
      "[Parallel(n_jobs=-1)]: Using backend LokyBackend with 12 concurrent workers.\n",
      "[Parallel(n_jobs=-1)]: Done  17 tasks      | elapsed:    5.1s\n",
      "[Parallel(n_jobs=-1)]: Done  38 out of  40 | elapsed:    6.2s remaining:    0.2s\n",
      "[Parallel(n_jobs=-1)]: Done  40 out of  40 | elapsed:    6.2s finished\n"
     ]
    },
    {
     "name": "stdout",
     "output_type": "stream",
     "text": [
      "[13:03:12] WARNING: C:/Users/Administrator/workspace/xgboost-win64_release_1.3.0/src/learner.cc:1061: Starting in XGBoost 1.3.0, the default evaluation metric used with the objective 'binary:logistic' was changed from 'error' to 'logloss'. Explicitly set eval_metric if you'd like to restore the old behavior.\n"
     ]
    }
   ],
   "source": [
    "parameters = {\n",
    "    'learning_rate': [0.1, 0.2],\n",
    "    'max_depth': [6],\n",
    "    'min_child_weight': [1, 2],\n",
    "    'subsample': [0.5, 0.7],\n",
    "    'n_estimators': [100],\n",
    "}\n",
    "clf = ml.Optimize(XGBClassifier(), parameters, df, 'churn', metric='recall')"
   ]
  },
  {
   "cell_type": "code",
   "execution_count": 5,
   "metadata": {},
   "outputs": [
    {
     "data": {
      "text/plain": [
       "XGBClassifier(base_score=0.5, booster='gbtree', colsample_bylevel=1,\n",
       "              colsample_bynode=1, colsample_bytree=1, gamma=0, gpu_id=-1,\n",
       "              importance_type='gain', interaction_constraints='',\n",
       "              learning_rate=0.1, max_delta_step=0, max_depth=6,\n",
       "              min_child_weight=1, missing=nan, monotone_constraints='()',\n",
       "              n_estimators=100, n_jobs=12, num_parallel_tree=1, random_state=0,\n",
       "              reg_alpha=0, reg_lambda=1, scale_pos_weight=1, subsample=0.5,\n",
       "              tree_method='exact', validate_parameters=1, verbosity=None)"
      ]
     },
     "execution_count": 5,
     "metadata": {},
     "output_type": "execute_result"
    }
   ],
   "source": [
    "clf"
   ]
  },
  {
   "cell_type": "code",
   "execution_count": 6,
   "metadata": {},
   "outputs": [
    {
     "name": "stdout",
     "output_type": "stream",
     "text": [
      "[13:03:15] WARNING: C:/Users/Administrator/workspace/xgboost-win64_release_1.3.0/src/learner.cc:1061: Starting in XGBoost 1.3.0, the default evaluation metric used with the objective 'binary:logistic' was changed from 'error' to 'logloss'. Explicitly set eval_metric if you'd like to restore the old behavior.\n"
     ]
    },
    {
     "data": {
      "text/plain": [
       "'Training: 0.9848821698532682, Validation: 0.9413333333333334'"
      ]
     },
     "execution_count": 6,
     "metadata": {},
     "output_type": "execute_result"
    }
   ],
   "source": [
    "ev.ScoreModel(clf, X, y)"
   ]
  },
  {
   "cell_type": "code",
   "execution_count": 154,
   "metadata": {},
   "outputs": [
    {
     "name": "stdout",
     "output_type": "stream",
     "text": [
      "[15:30:26] WARNING: C:/Users/Administrator/workspace/xgboost-win64_release_1.3.0/src/learner.cc:1061: Starting in XGBoost 1.3.0, the default evaluation metric used with the objective 'binary:logistic' was changed from 'error' to 'logloss'. Explicitly set eval_metric if you'd like to restore the old behavior.\n"
     ]
    },
    {
     "data": {
      "text/plain": [
       "<sklearn.metrics._plot.confusion_matrix.ConfusionMatrixDisplay at 0x20b5eb60250>"
      ]
     },
     "execution_count": 154,
     "metadata": {},
     "output_type": "execute_result"
    },
    {
     "data": {
      "image/png": "[encoded data removed]",
      "text/plain": [
       "<Figure size 432x288 with 2 Axes>"
      ]
     },
     "metadata": {
      "needs_background": "light"
     },
     "output_type": "display_data"
    }
   ],
   "source": [
    "fitted_model = clf.fit(X, y)\n",
    "Xval = val_df.drop(['churn'], axis='columns')\n",
    "yval = val_df['churn']\n",
    "ev.BuildConfusion(clf, Xval, yval, cmap='Blues')"
   ]
  },
  {
   "cell_type": "code",
   "execution_count": 155,
   "metadata": {},
   "outputs": [
    {
     "data": {
      "text/plain": [
       "0.890684669939989"
      ]
     },
     "execution_count": 155,
     "metadata": {},
     "output_type": "execute_result"
    }
   ],
   "source": [
    "ev.AUC(clf, Xval, yval)"
   ]
  },
  {
   "cell_type": "code",
   "execution_count": 9,
   "metadata": {},
   "outputs": [],
   "source": [
    "from sklearn.metrics import confusion_matrix\n",
    "\n",
    "def CBA(model, X, y, rate, total_cost, discount):\n",
    "    cm = confusion_matrix(y, model.predict(X))\n",
    "    tn = cm[0][0] * rate\n",
    "    fp = cm[0][1] * (rate-discount)\n",
    "    fn = cm[1][0] * (total_cost) * -1\n",
    "    tp = cm[1][1] * (rate-discount)\n",
    "    ml = tn + fp + fn + tp\n",
    "    n = (cm[0][0] + cm[0][1])*rate\n",
    "    p = (cm[1][0] + cm[1][1])*total_cost*-1\n",
    "    no = n + p\n",
    "    return 'With this model: ${}, without ml: ${}'.format(ml, no)"
   ]
  },
  {
   "cell_type": "code",
   "execution_count": 10,
   "metadata": {},
   "outputs": [
    {
     "data": {
      "text/plain": [
       "'With this model: $14812, without ml: $-2408'"
      ]
     },
     "execution_count": 10,
     "metadata": {},
     "output_type": "execute_result"
    }
   ],
   "source": [
    "CBA(clf, Xval, yval, 56, 350, 14)"
   ]
  },
  {
   "cell_type": "markdown",
   "metadata": {},
   "source": [
    "# Step 2: normalize the data\n",
    "Accuracy imporved more from MinMaxScaling but validation recall and AUC dropped significantly. I ended up using standard scaler instead."
   ]
  },
  {
   "cell_type": "code",
   "execution_count": 11,
   "metadata": {},
   "outputs": [],
   "source": [
    "from sklearn.pipeline import Pipeline\n",
    "from sklearn.preprocessing import StandardScaler, MinMaxScaler\n",
    "from sklearn.model_selection import train_test_split\n",
    "\n",
    "def PipeIt(scaler, model, X, y):\n",
    "    X_train, X_test, y_train, y_test = train_test_split(X, y, test_size=0.25)\n",
    "    pipe = Pipeline([('scaler', scaler), ('model', model)]).fit(X_train, y_train)\n",
    "    return \"Training: {}, Validation: {}\".format(pipe.score(X_train, y_train), pipe.score(X_test, y_test))"
   ]
  },
  {
   "cell_type": "code",
   "execution_count": 12,
   "metadata": {},
   "outputs": [
    {
     "name": "stdout",
     "output_type": "stream",
     "text": [
      "[13:04:21] WARNING: C:/Users/Administrator/workspace/xgboost-win64_release_1.3.0/src/learner.cc:1061: Starting in XGBoost 1.3.0, the default evaluation metric used with the objective 'binary:logistic' was changed from 'error' to 'logloss'. Explicitly set eval_metric if you'd like to restore the old behavior.\n"
     ]
    },
    {
     "data": {
      "text/plain": [
       "'Training: 0.9817696754112939, Validation: 0.952'"
      ]
     },
     "execution_count": 12,
     "metadata": {},
     "output_type": "execute_result"
    }
   ],
   "source": [
    "scaler = StandardScaler()\n",
    "PipeIt(scaler, clf, X, y)"
   ]
  },
  {
   "cell_type": "code",
   "execution_count": 13,
   "metadata": {},
   "outputs": [
    {
     "name": "stdout",
     "output_type": "stream",
     "text": [
      "[13:04:22] WARNING: C:/Users/Administrator/workspace/xgboost-win64_release_1.3.0/src/learner.cc:1061: Starting in XGBoost 1.3.0, the default evaluation metric used with the objective 'binary:logistic' was changed from 'error' to 'logloss'. Explicitly set eval_metric if you'd like to restore the old behavior.\n"
     ]
    },
    {
     "data": {
      "text/plain": [
       "'Training: 0.9835482436638506, Validation: 0.9413333333333334'"
      ]
     },
     "execution_count": 13,
     "metadata": {},
     "output_type": "execute_result"
    }
   ],
   "source": [
    "scaler = MinMaxScaler()\n",
    "PipeIt(scaler, clf, X, y)"
   ]
  },
  {
   "cell_type": "code",
   "execution_count": 14,
   "metadata": {},
   "outputs": [
    {
     "name": "stdout",
     "output_type": "stream",
     "text": [
      "[13:04:25] WARNING: C:/Users/Administrator/workspace/xgboost-win64_release_1.3.0/src/learner.cc:1061: Starting in XGBoost 1.3.0, the default evaluation metric used with the objective 'binary:logistic' was changed from 'error' to 'logloss'. Explicitly set eval_metric if you'd like to restore the old behavior.\n"
     ]
    },
    {
     "data": {
      "text/html": [
       "<div>\n",
       "<style scoped>\n",
       "    .dataframe tbody tr th:only-of-type {\n",
       "        vertical-align: middle;\n",
       "    }\n",
       "\n",
       "    .dataframe tbody tr th {\n",
       "        vertical-align: top;\n",
       "    }\n",
       "\n",
       "    .dataframe thead th {\n",
       "        text-align: right;\n",
       "    }\n",
       "</style>\n",
       "<table border=\"1\" class=\"dataframe\">\n",
       "  <thead>\n",
       "    <tr style=\"text-align: right;\">\n",
       "      <th></th>\n",
       "      <th>Model</th>\n",
       "      <th>train_acc</th>\n",
       "      <th>test_acc</th>\n",
       "    </tr>\n",
       "  </thead>\n",
       "  <tbody>\n",
       "    <tr>\n",
       "      <th>0</th>\n",
       "      <td>KNN</td>\n",
       "      <td>0.902623</td>\n",
       "      <td>0.900000</td>\n",
       "    </tr>\n",
       "    <tr>\n",
       "      <th>1</th>\n",
       "      <td>NB</td>\n",
       "      <td>0.859938</td>\n",
       "      <td>0.865333</td>\n",
       "    </tr>\n",
       "    <tr>\n",
       "      <th>2</th>\n",
       "      <td>DT</td>\n",
       "      <td>1.000000</td>\n",
       "      <td>0.894667</td>\n",
       "    </tr>\n",
       "    <tr>\n",
       "      <th>3</th>\n",
       "      <td>RF</td>\n",
       "      <td>1.000000</td>\n",
       "      <td>0.954667</td>\n",
       "    </tr>\n",
       "    <tr>\n",
       "      <th>4</th>\n",
       "      <td>AB</td>\n",
       "      <td>0.894175</td>\n",
       "      <td>0.889333</td>\n",
       "    </tr>\n",
       "    <tr>\n",
       "      <th>5</th>\n",
       "      <td>GB</td>\n",
       "      <td>0.975100</td>\n",
       "      <td>0.941333</td>\n",
       "    </tr>\n",
       "    <tr>\n",
       "      <th>6</th>\n",
       "      <td>XGB</td>\n",
       "      <td>1.000000</td>\n",
       "      <td>0.956000</td>\n",
       "    </tr>\n",
       "    <tr>\n",
       "      <th>7</th>\n",
       "      <td>Log</td>\n",
       "      <td>0.863940</td>\n",
       "      <td>0.890667</td>\n",
       "    </tr>\n",
       "    <tr>\n",
       "      <th>8</th>\n",
       "      <td>SVM</td>\n",
       "      <td>0.943975</td>\n",
       "      <td>0.921333</td>\n",
       "    </tr>\n",
       "  </tbody>\n",
       "</table>\n",
       "</div>"
      ],
      "text/plain": [
       "  Model  train_acc  test_acc\n",
       "0   KNN   0.902623  0.900000\n",
       "1    NB   0.859938  0.865333\n",
       "2    DT   1.000000  0.894667\n",
       "3    RF   1.000000  0.954667\n",
       "4    AB   0.894175  0.889333\n",
       "5    GB   0.975100  0.941333\n",
       "6   XGB   1.000000  0.956000\n",
       "7   Log   0.863940  0.890667\n",
       "8   SVM   0.943975  0.921333"
      ]
     },
     "execution_count": 14,
     "metadata": {},
     "output_type": "execute_result"
    }
   ],
   "source": [
    "ml = MachineLearning()\n",
    "\n",
    "X2 = StandardScaler().fit(X).transform(X)\n",
    "Xval2 = StandardScaler().fit(Xval).transform(Xval)\n",
    "df3 = pd.DataFrame(X2)\n",
    "df3['churn'] = list(y)\n",
    "ml.CompareModels(df3, 'churn', 'classification')"
   ]
  },
  {
   "cell_type": "code",
   "execution_count": 15,
   "metadata": {},
   "outputs": [
    {
     "name": "stdout",
     "output_type": "stream",
     "text": [
      "Fitting 5 folds for each of 8 candidates, totalling 40 fits\n"
     ]
    },
    {
     "name": "stderr",
     "output_type": "stream",
     "text": [
      "[Parallel(n_jobs=-1)]: Using backend LokyBackend with 12 concurrent workers.\n",
      "[Parallel(n_jobs=-1)]: Done  17 tasks      | elapsed:    1.5s\n",
      "[Parallel(n_jobs=-1)]: Done  38 out of  40 | elapsed:    2.6s remaining:    0.0s\n",
      "[Parallel(n_jobs=-1)]: Done  40 out of  40 | elapsed:    2.6s finished\n"
     ]
    },
    {
     "name": "stdout",
     "output_type": "stream",
     "text": [
      "[13:04:28] WARNING: C:/Users/Administrator/workspace/xgboost-win64_release_1.3.0/src/learner.cc:1061: Starting in XGBoost 1.3.0, the default evaluation metric used with the objective 'binary:logistic' was changed from 'error' to 'logloss'. Explicitly set eval_metric if you'd like to restore the old behavior.\n"
     ]
    },
    {
     "data": {
      "text/plain": [
       "XGBClassifier(base_score=0.5, booster='gbtree', colsample_bylevel=1,\n",
       "              colsample_bynode=1, colsample_bytree=1, gamma=0, gpu_id=-1,\n",
       "              importance_type='gain', interaction_constraints='',\n",
       "              learning_rate=0.1, max_delta_step=0, max_depth=6,\n",
       "              min_child_weight=2, missing=nan, monotone_constraints='()',\n",
       "              n_estimators=100, n_jobs=12, num_parallel_tree=1, random_state=0,\n",
       "              reg_alpha=0, reg_lambda=1, scale_pos_weight=1, subsample=0.7,\n",
       "              tree_method='exact', validate_parameters=1, verbosity=None)"
      ]
     },
     "execution_count": 15,
     "metadata": {},
     "output_type": "execute_result"
    }
   ],
   "source": [
    "parameters =  {\n",
    "    'learning_rate': [0.1, 0.2],\n",
    "    'max_depth': [6],\n",
    "    'min_child_weight': [1, 2],\n",
    "    'subsample': [0.5, 0.7],\n",
    "    'n_estimators': [100],\n",
    "}\n",
    "clf2 = ml.Optimize(XGBClassifier(), parameters, df3, 'churn')\n",
    "clf2"
   ]
  },
  {
   "cell_type": "code",
   "execution_count": 16,
   "metadata": {},
   "outputs": [
    {
     "name": "stdout",
     "output_type": "stream",
     "text": [
      "[13:04:37] WARNING: C:/Users/Administrator/workspace/xgboost-win64_release_1.3.0/src/learner.cc:1061: Starting in XGBoost 1.3.0, the default evaluation metric used with the objective 'binary:logistic' was changed from 'error' to 'logloss'. Explicitly set eval_metric if you'd like to restore the old behavior.\n"
     ]
    },
    {
     "data": {
      "text/plain": [
       "'Training: 0.9848821698532682, Validation: 0.952'"
      ]
     },
     "execution_count": 16,
     "metadata": {},
     "output_type": "execute_result"
    }
   ],
   "source": [
    "ev.ScoreModel(clf, X2, y)"
   ]
  },
  {
   "cell_type": "code",
   "execution_count": 17,
   "metadata": {},
   "outputs": [
    {
     "name": "stdout",
     "output_type": "stream",
     "text": [
      "[13:04:39] WARNING: C:/Users/Administrator/workspace/xgboost-win64_release_1.3.0/src/learner.cc:1061: Starting in XGBoost 1.3.0, the default evaluation metric used with the objective 'binary:logistic' was changed from 'error' to 'logloss'. Explicitly set eval_metric if you'd like to restore the old behavior.\n"
     ]
    },
    {
     "data": {
      "text/plain": [
       "<sklearn.metrics._plot.confusion_matrix.ConfusionMatrixDisplay at 0x20b5d2b22b0>"
      ]
     },
     "execution_count": 17,
     "metadata": {},
     "output_type": "execute_result"
    },
    {
     "data": {
      "image/png": "[encoded data removed]",
      "text/plain": [
       "<Figure size 432x288 with 2 Axes>"
      ]
     },
     "metadata": {
      "needs_background": "light"
     },
     "output_type": "display_data"
    }
   ],
   "source": [
    "model2 = clf2.fit(X2, y)\n",
    "ev.BuildConfusion(model2, Xval2, yval, cmap='Blues')"
   ]
  },
  {
   "cell_type": "code",
   "execution_count": 18,
   "metadata": {},
   "outputs": [
    {
     "data": {
      "text/plain": [
       "'With this model: $13664, without ml: $-2408'"
      ]
     },
     "execution_count": 18,
     "metadata": {},
     "output_type": "execute_result"
    }
   ],
   "source": [
    "CBA(clf, Xval2, yval, 56, 350, 14)"
   ]
  },
  {
   "cell_type": "code",
   "execution_count": 19,
   "metadata": {},
   "outputs": [
    {
     "data": {
      "text/plain": [
       "0.8942307692307692"
      ]
     },
     "execution_count": 19,
     "metadata": {},
     "output_type": "execute_result"
    }
   ],
   "source": [
    "ev.AUC(clf, Xval2, yval)"
   ]
  },
  {
   "cell_type": "markdown",
   "metadata": {},
   "source": [
    "## Step 3: fixing class imbalance with SMOTE sampling\n",
    "\n",
    "Smote, synthetic minority oversampling, handles class imbalance that generate synthetic datapoints of the minority class. this way the model isn't rewarded for simply labeling everything the majority class\n",
    "* In addition to SMOTE, you can set metrics to 'recall', which I already did in cell 4"
   ]
  },
  {
   "cell_type": "code",
   "execution_count": 20,
   "metadata": {},
   "outputs": [],
   "source": [
    "X3, y3 = dh.SmoteIt(X2, y)"
   ]
  },
  {
   "cell_type": "code",
   "execution_count": 21,
   "metadata": {},
   "outputs": [
    {
     "name": "stdout",
     "output_type": "stream",
     "text": [
      "[13:04:53] WARNING: C:/Users/Administrator/workspace/xgboost-win64_release_1.3.0/src/learner.cc:1061: Starting in XGBoost 1.3.0, the default evaluation metric used with the objective 'binary:logistic' was changed from 'error' to 'logloss'. Explicitly set eval_metric if you'd like to restore the old behavior.\n"
     ]
    },
    {
     "data": {
      "text/html": [
       "<div>\n",
       "<style scoped>\n",
       "    .dataframe tbody tr th:only-of-type {\n",
       "        vertical-align: middle;\n",
       "    }\n",
       "\n",
       "    .dataframe tbody tr th {\n",
       "        vertical-align: top;\n",
       "    }\n",
       "\n",
       "    .dataframe thead th {\n",
       "        text-align: right;\n",
       "    }\n",
       "</style>\n",
       "<table border=\"1\" class=\"dataframe\">\n",
       "  <thead>\n",
       "    <tr style=\"text-align: right;\">\n",
       "      <th></th>\n",
       "      <th>Model</th>\n",
       "      <th>train_acc</th>\n",
       "      <th>test_acc</th>\n",
       "    </tr>\n",
       "  </thead>\n",
       "  <tbody>\n",
       "    <tr>\n",
       "      <th>0</th>\n",
       "      <td>KNN</td>\n",
       "      <td>0.929128</td>\n",
       "      <td>0.899533</td>\n",
       "    </tr>\n",
       "    <tr>\n",
       "      <th>1</th>\n",
       "      <td>NB</td>\n",
       "      <td>0.736501</td>\n",
       "      <td>0.711838</td>\n",
       "    </tr>\n",
       "    <tr>\n",
       "      <th>2</th>\n",
       "      <td>DT</td>\n",
       "      <td>1.000000</td>\n",
       "      <td>0.914330</td>\n",
       "    </tr>\n",
       "    <tr>\n",
       "      <th>3</th>\n",
       "      <td>RF</td>\n",
       "      <td>1.000000</td>\n",
       "      <td>0.954050</td>\n",
       "    </tr>\n",
       "    <tr>\n",
       "      <th>4</th>\n",
       "      <td>AB</td>\n",
       "      <td>0.895898</td>\n",
       "      <td>0.877726</td>\n",
       "    </tr>\n",
       "    <tr>\n",
       "      <th>5</th>\n",
       "      <td>GB</td>\n",
       "      <td>0.964434</td>\n",
       "      <td>0.949377</td>\n",
       "    </tr>\n",
       "    <tr>\n",
       "      <th>6</th>\n",
       "      <td>XGB</td>\n",
       "      <td>1.000000</td>\n",
       "      <td>0.972741</td>\n",
       "    </tr>\n",
       "    <tr>\n",
       "      <th>7</th>\n",
       "      <td>Log</td>\n",
       "      <td>0.792316</td>\n",
       "      <td>0.780374</td>\n",
       "    </tr>\n",
       "    <tr>\n",
       "      <th>8</th>\n",
       "      <td>SVM</td>\n",
       "      <td>0.935099</td>\n",
       "      <td>0.909657</td>\n",
       "    </tr>\n",
       "  </tbody>\n",
       "</table>\n",
       "</div>"
      ],
      "text/plain": [
       "  Model  train_acc  test_acc\n",
       "0   KNN   0.929128  0.899533\n",
       "1    NB   0.736501  0.711838\n",
       "2    DT   1.000000  0.914330\n",
       "3    RF   1.000000  0.954050\n",
       "4    AB   0.895898  0.877726\n",
       "5    GB   0.964434  0.949377\n",
       "6   XGB   1.000000  0.972741\n",
       "7   Log   0.792316  0.780374\n",
       "8   SVM   0.935099  0.909657"
      ]
     },
     "execution_count": 21,
     "metadata": {},
     "output_type": "execute_result"
    }
   ],
   "source": [
    "df3 = pd.DataFrame(X3)\n",
    "df3['churn'] = y3\n",
    "ml.CompareModels(df3, 'churn', 'classification')"
   ]
  },
  {
   "cell_type": "code",
   "execution_count": 22,
   "metadata": {},
   "outputs": [
    {
     "name": "stdout",
     "output_type": "stream",
     "text": [
      "Fitting 5 folds for each of 8 candidates, totalling 40 fits\n"
     ]
    },
    {
     "name": "stderr",
     "output_type": "stream",
     "text": [
      "[Parallel(n_jobs=-1)]: Using backend LokyBackend with 12 concurrent workers.\n",
      "[Parallel(n_jobs=-1)]: Done  17 tasks      | elapsed:    2.7s\n",
      "[Parallel(n_jobs=-1)]: Done  38 out of  40 | elapsed:    4.6s remaining:    0.1s\n",
      "[Parallel(n_jobs=-1)]: Done  40 out of  40 | elapsed:    4.6s finished\n"
     ]
    },
    {
     "name": "stdout",
     "output_type": "stream",
     "text": [
      "[13:04:59] WARNING: C:/Users/Administrator/workspace/xgboost-win64_release_1.3.0/src/learner.cc:1061: Starting in XGBoost 1.3.0, the default evaluation metric used with the objective 'binary:logistic' was changed from 'error' to 'logloss'. Explicitly set eval_metric if you'd like to restore the old behavior.\n"
     ]
    },
    {
     "data": {
      "text/plain": [
       "XGBClassifier(base_score=0.5, booster='gbtree', colsample_bylevel=1,\n",
       "              colsample_bynode=1, colsample_bytree=1, gamma=0, gpu_id=-1,\n",
       "              importance_type='gain', interaction_constraints='',\n",
       "              learning_rate=0.2, max_delta_step=0, max_depth=6,\n",
       "              min_child_weight=1, missing=nan, monotone_constraints='()',\n",
       "              n_estimators=100, n_jobs=12, num_parallel_tree=1, random_state=0,\n",
       "              reg_alpha=0, reg_lambda=1, scale_pos_weight=1, subsample=0.7,\n",
       "              tree_method='exact', validate_parameters=1, verbosity=None)"
      ]
     },
     "execution_count": 22,
     "metadata": {},
     "output_type": "execute_result"
    }
   ],
   "source": [
    "parameters = {\n",
    "    'learning_rate': [0.1, 0.2],\n",
    "    'max_depth': [6],\n",
    "    'min_child_weight': [1, 2],\n",
    "    'subsample': [0.5, 0.7],\n",
    "    'n_estimators': [100],\n",
    "}\n",
    "clf3 = ml.Optimize(XGBClassifier(), parameters, df3, 'churn')\n",
    "clf3"
   ]
  },
  {
   "cell_type": "code",
   "execution_count": 23,
   "metadata": {},
   "outputs": [
    {
     "name": "stdout",
     "output_type": "stream",
     "text": [
      "[13:05:07] WARNING: C:/Users/Administrator/workspace/xgboost-win64_release_1.3.0/src/learner.cc:1061: Starting in XGBoost 1.3.0, the default evaluation metric used with the objective 'binary:logistic' was changed from 'error' to 'logloss'. Explicitly set eval_metric if you'd like to restore the old behavior.\n"
     ]
    },
    {
     "data": {
      "text/plain": [
       "'Training: 1.0, Validation: 0.9649532710280374'"
      ]
     },
     "execution_count": 23,
     "metadata": {},
     "output_type": "execute_result"
    }
   ],
   "source": [
    "ev.ScoreModel(clf3, X3, y3)"
   ]
  },
  {
   "cell_type": "code",
   "execution_count": 24,
   "metadata": {},
   "outputs": [
    {
     "name": "stdout",
     "output_type": "stream",
     "text": [
      "[13:05:09] WARNING: C:/Users/Administrator/workspace/xgboost-win64_release_1.3.0/src/learner.cc:1061: Starting in XGBoost 1.3.0, the default evaluation metric used with the objective 'binary:logistic' was changed from 'error' to 'logloss'. Explicitly set eval_metric if you'd like to restore the old behavior.\n"
     ]
    },
    {
     "data": {
      "text/plain": [
       "<sklearn.metrics._plot.confusion_matrix.ConfusionMatrixDisplay at 0x20b66204100>"
      ]
     },
     "execution_count": 24,
     "metadata": {},
     "output_type": "execute_result"
    },
    {
     "data": {
      "image/png": "[encoded data removed]",
      "text/plain": [
       "<Figure size 432x288 with 2 Axes>"
      ]
     },
     "metadata": {
      "needs_background": "light"
     },
     "output_type": "display_data"
    }
   ],
   "source": [
    "Xval3 = pd.DataFrame(Xval2)\n",
    "ev.BuildConfusion(clf3.fit(X3, y3), Xval2, yval, cmap='Blues')"
   ]
  },
  {
   "cell_type": "code",
   "execution_count": 25,
   "metadata": {},
   "outputs": [
    {
     "data": {
      "text/plain": [
       "'With this model: $15554, without ml: $-2408'"
      ]
     },
     "execution_count": 25,
     "metadata": {},
     "output_type": "execute_result"
    }
   ],
   "source": [
    "CBA(clf3, Xval2, yval, 56, 350, 14)"
   ]
  },
  {
   "cell_type": "code",
   "execution_count": 26,
   "metadata": {},
   "outputs": [
    {
     "data": {
      "text/plain": [
       "0.6932624113475176"
      ]
     },
     "execution_count": 26,
     "metadata": {},
     "output_type": "execute_result"
    }
   ],
   "source": [
    "ev.AUC(clf3, Xval2, yval)"
   ]
  },
  {
   "cell_type": "code",
   "execution_count": 27,
   "metadata": {},
   "outputs": [
    {
     "data": {
      "text/html": [
       "<div>\n",
       "<style scoped>\n",
       "    .dataframe tbody tr th:only-of-type {\n",
       "        vertical-align: middle;\n",
       "    }\n",
       "\n",
       "    .dataframe tbody tr th {\n",
       "        vertical-align: top;\n",
       "    }\n",
       "\n",
       "    .dataframe thead th {\n",
       "        text-align: right;\n",
       "    }\n",
       "</style>\n",
       "<table border=\"1\" class=\"dataframe\">\n",
       "  <thead>\n",
       "    <tr style=\"text-align: right;\">\n",
       "      <th></th>\n",
       "      <th>international plan</th>\n",
       "      <th>voice mail plan</th>\n",
       "      <th>number vmail messages</th>\n",
       "      <th>total day minutes</th>\n",
       "      <th>total day calls</th>\n",
       "      <th>total day charge</th>\n",
       "      <th>total eve minutes</th>\n",
       "      <th>total eve calls</th>\n",
       "      <th>total eve charge</th>\n",
       "      <th>total night minutes</th>\n",
       "      <th>...</th>\n",
       "      <th>%night</th>\n",
       "      <th>%eve</th>\n",
       "      <th>avg duration</th>\n",
       "      <th>Midwest</th>\n",
       "      <th>Noncontinental</th>\n",
       "      <th>Northeast</th>\n",
       "      <th>Northwest</th>\n",
       "      <th>Southeast</th>\n",
       "      <th>Southwest</th>\n",
       "      <th>churn</th>\n",
       "    </tr>\n",
       "  </thead>\n",
       "  <tbody>\n",
       "    <tr>\n",
       "      <th>0</th>\n",
       "      <td>-0.330299</td>\n",
       "      <td>1.615210</td>\n",
       "      <td>1.963794</td>\n",
       "      <td>0.259905</td>\n",
       "      <td>-1.909081</td>\n",
       "      <td>0.260281</td>\n",
       "      <td>-0.060677</td>\n",
       "      <td>-0.137927</td>\n",
       "      <td>-0.059801</td>\n",
       "      <td>0.349850</td>\n",
       "      <td>...</td>\n",
       "      <td>0.654298</td>\n",
       "      <td>0.860396</td>\n",
       "      <td>-1.054852</td>\n",
       "      <td>-0.569778</td>\n",
       "      <td>-0.179883</td>\n",
       "      <td>1.666457</td>\n",
       "      <td>-0.347423</td>\n",
       "      <td>-0.567724</td>\n",
       "      <td>-0.346820</td>\n",
       "      <td>0</td>\n",
       "    </tr>\n",
       "    <tr>\n",
       "      <th>1</th>\n",
       "      <td>-0.330299</td>\n",
       "      <td>1.615210</td>\n",
       "      <td>0.941186</td>\n",
       "      <td>-2.110027</td>\n",
       "      <td>-0.106977</td>\n",
       "      <td>-2.110302</td>\n",
       "      <td>-0.485114</td>\n",
       "      <td>-0.696700</td>\n",
       "      <td>-0.484819</td>\n",
       "      <td>0.865112</td>\n",
       "      <td>...</td>\n",
       "      <td>-0.435633</td>\n",
       "      <td>-0.224231</td>\n",
       "      <td>0.212800</td>\n",
       "      <td>1.755070</td>\n",
       "      <td>-0.179883</td>\n",
       "      <td>-0.600076</td>\n",
       "      <td>-0.347423</td>\n",
       "      <td>-0.567724</td>\n",
       "      <td>-0.346820</td>\n",
       "      <td>0</td>\n",
       "    </tr>\n",
       "    <tr>\n",
       "      <th>2</th>\n",
       "      <td>-0.330299</td>\n",
       "      <td>-0.619114</td>\n",
       "      <td>-0.592726</td>\n",
       "      <td>-1.374468</td>\n",
       "      <td>0.744016</td>\n",
       "      <td>-1.374418</td>\n",
       "      <td>0.969818</td>\n",
       "      <td>2.249556</td>\n",
       "      <td>0.969068</td>\n",
       "      <td>-0.175321</td>\n",
       "      <td>...</td>\n",
       "      <td>-0.980599</td>\n",
       "      <td>1.221938</td>\n",
       "      <td>1.171912</td>\n",
       "      <td>-0.569778</td>\n",
       "      <td>-0.179883</td>\n",
       "      <td>-0.600076</td>\n",
       "      <td>-0.347423</td>\n",
       "      <td>1.761420</td>\n",
       "      <td>-0.346820</td>\n",
       "      <td>0</td>\n",
       "    </tr>\n",
       "    <tr>\n",
       "      <th>3</th>\n",
       "      <td>-0.330299</td>\n",
       "      <td>-0.619114</td>\n",
       "      <td>-0.592726</td>\n",
       "      <td>0.331443</td>\n",
       "      <td>-1.808964</td>\n",
       "      <td>0.331495</td>\n",
       "      <td>-1.262921</td>\n",
       "      <td>1.335200</td>\n",
       "      <td>-1.262858</td>\n",
       "      <td>0.857185</td>\n",
       "      <td>...</td>\n",
       "      <td>-0.617288</td>\n",
       "      <td>2.306566</td>\n",
       "      <td>-0.569711</td>\n",
       "      <td>-0.569778</td>\n",
       "      <td>-0.179883</td>\n",
       "      <td>1.666457</td>\n",
       "      <td>-0.347423</td>\n",
       "      <td>-0.567724</td>\n",
       "      <td>-0.346820</td>\n",
       "      <td>0</td>\n",
       "    </tr>\n",
       "    <tr>\n",
       "      <th>4</th>\n",
       "      <td>-0.330299</td>\n",
       "      <td>-0.619114</td>\n",
       "      <td>-0.592726</td>\n",
       "      <td>1.945638</td>\n",
       "      <td>-2.810133</td>\n",
       "      <td>1.945693</td>\n",
       "      <td>-0.654889</td>\n",
       "      <td>2.249556</td>\n",
       "      <td>-0.654362</td>\n",
       "      <td>1.166342</td>\n",
       "      <td>...</td>\n",
       "      <td>0.109332</td>\n",
       "      <td>3.210421</td>\n",
       "      <td>-1.210326</td>\n",
       "      <td>-0.569778</td>\n",
       "      <td>-0.179883</td>\n",
       "      <td>-0.600076</td>\n",
       "      <td>-0.347423</td>\n",
       "      <td>-0.567724</td>\n",
       "      <td>2.883343</td>\n",
       "      <td>1</td>\n",
       "    </tr>\n",
       "  </tbody>\n",
       "</table>\n",
       "<p>5 rows × 26 columns</p>\n",
       "</div>"
      ],
      "text/plain": [
       "   international plan  voice mail plan  number vmail messages  \\\n",
       "0           -0.330299         1.615210               1.963794   \n",
       "1           -0.330299         1.615210               0.941186   \n",
       "2           -0.330299        -0.619114              -0.592726   \n",
       "3           -0.330299        -0.619114              -0.592726   \n",
       "4           -0.330299        -0.619114              -0.592726   \n",
       "\n",
       "   total day minutes  total day calls  total day charge  total eve minutes  \\\n",
       "0           0.259905        -1.909081          0.260281          -0.060677   \n",
       "1          -2.110027        -0.106977         -2.110302          -0.485114   \n",
       "2          -1.374468         0.744016         -1.374418           0.969818   \n",
       "3           0.331443        -1.808964          0.331495          -1.262921   \n",
       "4           1.945638        -2.810133          1.945693          -0.654889   \n",
       "\n",
       "   total eve calls  total eve charge  total night minutes  ...    %night  \\\n",
       "0        -0.137927         -0.059801             0.349850  ...  0.654298   \n",
       "1        -0.696700         -0.484819             0.865112  ... -0.435633   \n",
       "2         2.249556          0.969068            -0.175321  ... -0.980599   \n",
       "3         1.335200         -1.262858             0.857185  ... -0.617288   \n",
       "4         2.249556         -0.654362             1.166342  ...  0.109332   \n",
       "\n",
       "       %eve  avg duration   Midwest  Noncontinental  Northeast  Northwest  \\\n",
       "0  0.860396     -1.054852 -0.569778       -0.179883   1.666457  -0.347423   \n",
       "1 -0.224231      0.212800  1.755070       -0.179883  -0.600076  -0.347423   \n",
       "2  1.221938      1.171912 -0.569778       -0.179883  -0.600076  -0.347423   \n",
       "3  2.306566     -0.569711 -0.569778       -0.179883   1.666457  -0.347423   \n",
       "4  3.210421     -1.210326 -0.569778       -0.179883  -0.600076  -0.347423   \n",
       "\n",
       "   Southeast  Southwest  churn  \n",
       "0  -0.567724  -0.346820      0  \n",
       "1  -0.567724  -0.346820      0  \n",
       "2   1.761420  -0.346820      0  \n",
       "3  -0.567724  -0.346820      0  \n",
       "4  -0.567724   2.883343      1  \n",
       "\n",
       "[5 rows x 26 columns]"
      ]
     },
     "execution_count": 27,
     "metadata": {},
     "output_type": "execute_result"
    }
   ],
   "source": [
    "lst = ['international plan',\n",
    " 'voice mail plan',\n",
    " 'number vmail messages',\n",
    " 'total day minutes',\n",
    " 'total day calls',\n",
    " 'total day charge',\n",
    " 'total eve minutes',\n",
    " 'total eve calls',\n",
    " 'total eve charge',\n",
    " 'total night minutes',\n",
    " 'total night calls',\n",
    " 'total night charge',\n",
    " 'total intl minutes',\n",
    " 'total intl calls',\n",
    " 'total intl charge',\n",
    " 'customer service calls',\n",
    " '%night',\n",
    " '%eve',\n",
    " 'avg duration',\n",
    " 'Midwest',\n",
    " 'Noncontinental',\n",
    " 'Northeast',\n",
    " 'Northwest',\n",
    " 'Southeast',\n",
    " 'Southwest']\n",
    "\n",
    "df3.columns = lst + ['churn']\n",
    "Xval3 = pd.DataFrame(Xval2)\n",
    "Xval3.columns = lst\n",
    "df3.head()"
   ]
  },
  {
   "cell_type": "markdown",
   "metadata": {},
   "source": [
    "## Step 4: Time for some Feature Engineering\n",
    "* I will test out 3 different feature combos\n",
    "* I will test between using 10, 16, and 19 features"
   ]
  },
  {
   "cell_type": "code",
   "execution_count": 28,
   "metadata": {
    "scrolled": true
   },
   "outputs": [
    {
     "data": {
      "text/html": [
       "<div>\n",
       "<style scoped>\n",
       "    .dataframe tbody tr th:only-of-type {\n",
       "        vertical-align: middle;\n",
       "    }\n",
       "\n",
       "    .dataframe tbody tr th {\n",
       "        vertical-align: top;\n",
       "    }\n",
       "\n",
       "    .dataframe thead th {\n",
       "        text-align: right;\n",
       "    }\n",
       "</style>\n",
       "<table border=\"1\" class=\"dataframe\">\n",
       "  <thead>\n",
       "    <tr style=\"text-align: right;\">\n",
       "      <th></th>\n",
       "      <th>international plan</th>\n",
       "      <th>voice mail plan</th>\n",
       "      <th>number vmail messages</th>\n",
       "      <th>total day minutes</th>\n",
       "      <th>total day calls</th>\n",
       "      <th>total day charge</th>\n",
       "      <th>total eve minutes</th>\n",
       "      <th>total eve calls</th>\n",
       "      <th>total eve charge</th>\n",
       "      <th>total night minutes</th>\n",
       "      <th>...</th>\n",
       "      <th>customer service calls</th>\n",
       "      <th>%night</th>\n",
       "      <th>%eve</th>\n",
       "      <th>avg duration</th>\n",
       "      <th>Midwest</th>\n",
       "      <th>Noncontinental</th>\n",
       "      <th>Northeast</th>\n",
       "      <th>Northwest</th>\n",
       "      <th>Southeast</th>\n",
       "      <th>Southwest</th>\n",
       "    </tr>\n",
       "  </thead>\n",
       "  <tbody>\n",
       "    <tr>\n",
       "      <th>0</th>\n",
       "      <td>-0.302495</td>\n",
       "      <td>-0.611952</td>\n",
       "      <td>-0.583096</td>\n",
       "      <td>0.983386</td>\n",
       "      <td>-0.102460</td>\n",
       "      <td>0.983645</td>\n",
       "      <td>-0.069201</td>\n",
       "      <td>0.801857</td>\n",
       "      <td>-0.068519</td>\n",
       "      <td>0.757941</td>\n",
       "      <td>...</td>\n",
       "      <td>0.427437</td>\n",
       "      <td>-0.679910</td>\n",
       "      <td>0.991336</td>\n",
       "      <td>-0.689232</td>\n",
       "      <td>1.996265</td>\n",
       "      <td>-0.184542</td>\n",
       "      <td>-0.598100</td>\n",
       "      <td>-0.363598</td>\n",
       "      <td>-0.593487</td>\n",
       "      <td>-0.379257</td>\n",
       "    </tr>\n",
       "    <tr>\n",
       "      <th>1</th>\n",
       "      <td>-0.302495</td>\n",
       "      <td>1.634114</td>\n",
       "      <td>1.541759</td>\n",
       "      <td>0.822055</td>\n",
       "      <td>-1.167352</td>\n",
       "      <td>0.822203</td>\n",
       "      <td>-0.325666</td>\n",
       "      <td>0.384764</td>\n",
       "      <td>-0.326485</td>\n",
       "      <td>1.607360</td>\n",
       "      <td>...</td>\n",
       "      <td>-0.370127</td>\n",
       "      <td>0.821511</td>\n",
       "      <td>0.618888</td>\n",
       "      <td>-0.926829</td>\n",
       "      <td>1.996265</td>\n",
       "      <td>-0.184542</td>\n",
       "      <td>-0.598100</td>\n",
       "      <td>-0.363598</td>\n",
       "      <td>-0.593487</td>\n",
       "      <td>-0.379257</td>\n",
       "    </tr>\n",
       "    <tr>\n",
       "      <th>2</th>\n",
       "      <td>-0.302495</td>\n",
       "      <td>1.634114</td>\n",
       "      <td>0.809051</td>\n",
       "      <td>2.040381</td>\n",
       "      <td>2.269344</td>\n",
       "      <td>2.040652</td>\n",
       "      <td>0.449602</td>\n",
       "      <td>0.894544</td>\n",
       "      <td>0.449717</td>\n",
       "      <td>0.402234</td>\n",
       "      <td>...</td>\n",
       "      <td>-0.370127</td>\n",
       "      <td>-2.369009</td>\n",
       "      <td>0.432664</td>\n",
       "      <td>-0.703876</td>\n",
       "      <td>-0.500935</td>\n",
       "      <td>-0.184542</td>\n",
       "      <td>-0.598100</td>\n",
       "      <td>-0.363598</td>\n",
       "      <td>1.684957</td>\n",
       "      <td>-0.379257</td>\n",
       "    </tr>\n",
       "    <tr>\n",
       "      <th>3</th>\n",
       "      <td>-0.302495</td>\n",
       "      <td>1.634114</td>\n",
       "      <td>2.347738</td>\n",
       "      <td>-0.982254</td>\n",
       "      <td>-0.199269</td>\n",
       "      <td>-0.982018</td>\n",
       "      <td>0.860729</td>\n",
       "      <td>-1.190922</td>\n",
       "      <td>0.859699</td>\n",
       "      <td>0.025147</td>\n",
       "      <td>...</td>\n",
       "      <td>-1.167690</td>\n",
       "      <td>1.572222</td>\n",
       "      <td>-1.429576</td>\n",
       "      <td>-0.191324</td>\n",
       "      <td>-0.500935</td>\n",
       "      <td>-0.184542</td>\n",
       "      <td>1.671961</td>\n",
       "      <td>-0.363598</td>\n",
       "      <td>-0.593487</td>\n",
       "      <td>-0.379257</td>\n",
       "    </tr>\n",
       "    <tr>\n",
       "      <th>4</th>\n",
       "      <td>-0.302495</td>\n",
       "      <td>-0.611952</td>\n",
       "      <td>-0.583096</td>\n",
       "      <td>-1.610887</td>\n",
       "      <td>0.236369</td>\n",
       "      <td>-1.611423</td>\n",
       "      <td>1.181799</td>\n",
       "      <td>-0.171361</td>\n",
       "      <td>1.182157</td>\n",
       "      <td>0.102897</td>\n",
       "      <td>...</td>\n",
       "      <td>-0.370127</td>\n",
       "      <td>-0.867588</td>\n",
       "      <td>0.246440</td>\n",
       "      <td>-0.256139</td>\n",
       "      <td>1.996265</td>\n",
       "      <td>-0.184542</td>\n",
       "      <td>-0.598100</td>\n",
       "      <td>-0.363598</td>\n",
       "      <td>-0.593487</td>\n",
       "      <td>-0.379257</td>\n",
       "    </tr>\n",
       "  </tbody>\n",
       "</table>\n",
       "<p>5 rows × 25 columns</p>\n",
       "</div>"
      ],
      "text/plain": [
       "   international plan  voice mail plan  number vmail messages  \\\n",
       "0           -0.302495        -0.611952              -0.583096   \n",
       "1           -0.302495         1.634114               1.541759   \n",
       "2           -0.302495         1.634114               0.809051   \n",
       "3           -0.302495         1.634114               2.347738   \n",
       "4           -0.302495        -0.611952              -0.583096   \n",
       "\n",
       "   total day minutes  total day calls  total day charge  total eve minutes  \\\n",
       "0           0.983386        -0.102460          0.983645          -0.069201   \n",
       "1           0.822055        -1.167352          0.822203          -0.325666   \n",
       "2           2.040381         2.269344          2.040652           0.449602   \n",
       "3          -0.982254        -0.199269         -0.982018           0.860729   \n",
       "4          -1.610887         0.236369         -1.611423           1.181799   \n",
       "\n",
       "   total eve calls  total eve charge  total night minutes  ...  \\\n",
       "0         0.801857         -0.068519             0.757941  ...   \n",
       "1         0.384764         -0.326485             1.607360  ...   \n",
       "2         0.894544          0.449717             0.402234  ...   \n",
       "3        -1.190922          0.859699             0.025147  ...   \n",
       "4        -0.171361          1.182157             0.102897  ...   \n",
       "\n",
       "   customer service calls    %night      %eve  avg duration   Midwest  \\\n",
       "0                0.427437 -0.679910  0.991336     -0.689232  1.996265   \n",
       "1               -0.370127  0.821511  0.618888     -0.926829  1.996265   \n",
       "2               -0.370127 -2.369009  0.432664     -0.703876 -0.500935   \n",
       "3               -1.167690  1.572222 -1.429576     -0.191324 -0.500935   \n",
       "4               -0.370127 -0.867588  0.246440     -0.256139  1.996265   \n",
       "\n",
       "   Noncontinental  Northeast  Northwest  Southeast  Southwest  \n",
       "0       -0.184542  -0.598100  -0.363598  -0.593487  -0.379257  \n",
       "1       -0.184542  -0.598100  -0.363598  -0.593487  -0.379257  \n",
       "2       -0.184542  -0.598100  -0.363598   1.684957  -0.379257  \n",
       "3       -0.184542   1.671961  -0.363598  -0.593487  -0.379257  \n",
       "4       -0.184542  -0.598100  -0.363598  -0.593487  -0.379257  \n",
       "\n",
       "[5 rows x 25 columns]"
      ]
     },
     "execution_count": 28,
     "metadata": {},
     "output_type": "execute_result"
    }
   ],
   "source": [
    "Xval3.head()"
   ]
  },
  {
   "cell_type": "code",
   "execution_count": 44,
   "metadata": {},
   "outputs": [],
   "source": [
    "X4 = pd.DataFrame(X3)\n",
    "X4.columns = lst\n",
    "sample1 = X4.drop(['Southwest', 'Southeast', 'Northwest', 'Northeast', 'Noncontinental', 'Midwest', '%eve', '%night', 'number vmail messages'], axis='columns')\n",
    "sv1 = Xval3.drop(['Southwest', 'Southeast', 'Northwest', 'Northeast', 'Noncontinental', 'Midwest', '%eve', '%night', 'number vmail messages'], axis='columns')\n",
    "sample2 = X4.drop(['Southwest', 'Southeast', 'Northwest', 'Northeast', 'Noncontinental', 'Midwest'], axis='columns')\n",
    "sv2 = Xval3.drop(['Southwest', 'Southeast', 'Northwest', 'Northeast', 'Noncontinental', 'Midwest'], axis='columns')\n",
    "sample3 = X4.drop(['Southwest', 'Southeast', 'Northwest', 'Northeast', 'Noncontinental', 'Midwest', '%eve', '%night', 'number vmail messages',\n",
    "                 'total night charge', 'total night calls', 'total eve charge', 'total eve calls', 'total day charge', 'total day calls'], axis='columns')\n",
    "sv3 = Xval3.drop(['Southwest', 'Southeast', 'Northwest', 'Northeast', 'Noncontinental', 'Midwest', '%eve', '%night', 'number vmail messages',\n",
    "                 'total night charge', 'total night calls', 'total eve charge', 'total eve calls', 'total day charge', 'total day calls'], axis='columns')"
   ]
  },
  {
   "cell_type": "markdown",
   "metadata": {},
   "source": [
    "## using 16 features..."
   ]
  },
  {
   "cell_type": "code",
   "execution_count": 45,
   "metadata": {},
   "outputs": [
    {
     "name": "stdout",
     "output_type": "stream",
     "text": [
      "[13:21:49] WARNING: C:/Users/Administrator/workspace/xgboost-win64_release_1.3.0/src/learner.cc:1061: Starting in XGBoost 1.3.0, the default evaluation metric used with the objective 'binary:logistic' was changed from 'error' to 'logloss'. Explicitly set eval_metric if you'd like to restore the old behavior.\n"
     ]
    },
    {
     "data": {
      "text/html": [
       "<div>\n",
       "<style scoped>\n",
       "    .dataframe tbody tr th:only-of-type {\n",
       "        vertical-align: middle;\n",
       "    }\n",
       "\n",
       "    .dataframe tbody tr th {\n",
       "        vertical-align: top;\n",
       "    }\n",
       "\n",
       "    .dataframe thead th {\n",
       "        text-align: right;\n",
       "    }\n",
       "</style>\n",
       "<table border=\"1\" class=\"dataframe\">\n",
       "  <thead>\n",
       "    <tr style=\"text-align: right;\">\n",
       "      <th></th>\n",
       "      <th>Model</th>\n",
       "      <th>train_acc</th>\n",
       "      <th>test_acc</th>\n",
       "    </tr>\n",
       "  </thead>\n",
       "  <tbody>\n",
       "    <tr>\n",
       "      <th>0</th>\n",
       "      <td>KNN</td>\n",
       "      <td>0.926272</td>\n",
       "      <td>0.899533</td>\n",
       "    </tr>\n",
       "    <tr>\n",
       "      <th>1</th>\n",
       "      <td>NB</td>\n",
       "      <td>0.737799</td>\n",
       "      <td>0.732866</td>\n",
       "    </tr>\n",
       "    <tr>\n",
       "      <th>2</th>\n",
       "      <td>DT</td>\n",
       "      <td>1.000000</td>\n",
       "      <td>0.929907</td>\n",
       "    </tr>\n",
       "    <tr>\n",
       "      <th>3</th>\n",
       "      <td>RF</td>\n",
       "      <td>1.000000</td>\n",
       "      <td>0.950935</td>\n",
       "    </tr>\n",
       "    <tr>\n",
       "      <th>4</th>\n",
       "      <td>AB</td>\n",
       "      <td>0.895379</td>\n",
       "      <td>0.874611</td>\n",
       "    </tr>\n",
       "    <tr>\n",
       "      <th>5</th>\n",
       "      <td>GB</td>\n",
       "      <td>0.965732</td>\n",
       "      <td>0.943925</td>\n",
       "    </tr>\n",
       "    <tr>\n",
       "      <th>6</th>\n",
       "      <td>XGB</td>\n",
       "      <td>1.000000</td>\n",
       "      <td>0.967290</td>\n",
       "    </tr>\n",
       "    <tr>\n",
       "      <th>7</th>\n",
       "      <td>Log</td>\n",
       "      <td>0.787902</td>\n",
       "      <td>0.791277</td>\n",
       "    </tr>\n",
       "    <tr>\n",
       "      <th>8</th>\n",
       "      <td>SVM</td>\n",
       "      <td>0.934060</td>\n",
       "      <td>0.921340</td>\n",
       "    </tr>\n",
       "  </tbody>\n",
       "</table>\n",
       "</div>"
      ],
      "text/plain": [
       "  Model  train_acc  test_acc\n",
       "0   KNN   0.926272  0.899533\n",
       "1    NB   0.737799  0.732866\n",
       "2    DT   1.000000  0.929907\n",
       "3    RF   1.000000  0.950935\n",
       "4    AB   0.895379  0.874611\n",
       "5    GB   0.965732  0.943925\n",
       "6   XGB   1.000000  0.967290\n",
       "7   Log   0.787902  0.791277\n",
       "8   SVM   0.934060  0.921340"
      ]
     },
     "execution_count": 45,
     "metadata": {},
     "output_type": "execute_result"
    }
   ],
   "source": [
    "ml.CompareModels(df3, 'churn', 'classification')"
   ]
  },
  {
   "cell_type": "code",
   "execution_count": 54,
   "metadata": {},
   "outputs": [
    {
     "name": "stdout",
     "output_type": "stream",
     "text": [
      "Fitting 5 folds for each of 8 candidates, totalling 40 fits\n"
     ]
    },
    {
     "name": "stderr",
     "output_type": "stream",
     "text": [
      "[Parallel(n_jobs=-1)]: Using backend LokyBackend with 12 concurrent workers.\n",
      "[Parallel(n_jobs=-1)]: Done  17 tasks      | elapsed:    2.3s\n",
      "[Parallel(n_jobs=-1)]: Done  38 out of  40 | elapsed:    4.5s remaining:    0.1s\n",
      "[Parallel(n_jobs=-1)]: Done  40 out of  40 | elapsed:    4.5s finished\n"
     ]
    },
    {
     "name": "stdout",
     "output_type": "stream",
     "text": [
      "[13:27:18] WARNING: C:/Users/Administrator/workspace/xgboost-win64_release_1.3.0/src/learner.cc:1061: Starting in XGBoost 1.3.0, the default evaluation metric used with the objective 'binary:logistic' was changed from 'error' to 'logloss'. Explicitly set eval_metric if you'd like to restore the old behavior.\n"
     ]
    },
    {
     "data": {
      "text/plain": [
       "XGBClassifier(base_score=0.5, booster='gbtree', colsample_bylevel=1,\n",
       "              colsample_bynode=1, colsample_bytree=1, gamma=0, gpu_id=-1,\n",
       "              importance_type='gain', interaction_constraints='',\n",
       "              learning_rate=0.2, max_delta_step=0, max_depth=6,\n",
       "              min_child_weight=1, missing=nan, monotone_constraints='()',\n",
       "              n_estimators=100, n_jobs=12, num_parallel_tree=1, random_state=0,\n",
       "              reg_alpha=0, reg_lambda=1, scale_pos_weight=1, subsample=0.7,\n",
       "              tree_method='exact', validate_parameters=1, verbosity=None)"
      ]
     },
     "execution_count": 54,
     "metadata": {},
     "output_type": "execute_result"
    }
   ],
   "source": [
    "df4 = sample1\n",
    "df4['churn'] = y3\n",
    "clf4 = ml.Optimize(XGBClassifier(), parameters, df4, 'churn')\n",
    "clf4"
   ]
  },
  {
   "cell_type": "code",
   "execution_count": 55,
   "metadata": {},
   "outputs": [
    {
     "name": "stdout",
     "output_type": "stream",
     "text": [
      "[13:31:33] WARNING: C:/Users/Administrator/workspace/xgboost-win64_release_1.3.0/src/learner.cc:1061: Starting in XGBoost 1.3.0, the default evaluation metric used with the objective 'binary:logistic' was changed from 'error' to 'logloss'. Explicitly set eval_metric if you'd like to restore the old behavior.\n",
      "[13:31:33] WARNING: C:/Users/Administrator/workspace/xgboost-win64_release_1.3.0/src/learner.cc:1061: Starting in XGBoost 1.3.0, the default evaluation metric used with the objective 'binary:logistic' was changed from 'error' to 'logloss'. Explicitly set eval_metric if you'd like to restore the old behavior.\n",
      "AUC: 0.7155619203491544\n",
      "Training: 0.9987019730010385, Validation: 0.9657320872274143\n"
     ]
    },
    {
     "data": {
      "image/png": "[encoded data removed]",
      "text/plain": [
       "<Figure size 432x288 with 2 Axes>"
      ]
     },
     "metadata": {
      "needs_background": "light"
     },
     "output_type": "display_data"
    }
   ],
   "source": [
    "score = ev.ScoreModel(clf, sample1.drop(['churn'], axis='columns'), y3)\n",
    "fit = clf.fit(sample1.drop(['churn'], axis='columns'), y3)\n",
    "ev.BuildConfusion(fit, sv1, yval, cmap='Blues')\n",
    "print('AUC: {}'.format(ev.AUC(clf, sv1, yval)))\n",
    "print(score)"
   ]
  },
  {
   "cell_type": "code",
   "execution_count": 56,
   "metadata": {},
   "outputs": [
    {
     "data": {
      "text/plain": [
       "'With this model: $15540, without ml: $-2408'"
      ]
     },
     "execution_count": 56,
     "metadata": {},
     "output_type": "execute_result"
    }
   ],
   "source": [
    "CBA(clf4, sv1, yval, 56, 350, 14)"
   ]
  },
  {
   "cell_type": "markdown",
   "metadata": {},
   "source": [
    "## using 19 features..."
   ]
  },
  {
   "cell_type": "code",
   "execution_count": 65,
   "metadata": {},
   "outputs": [
    {
     "name": "stdout",
     "output_type": "stream",
     "text": [
      "[13:36:04] WARNING: C:/Users/Administrator/workspace/xgboost-win64_release_1.3.0/src/learner.cc:1061: Starting in XGBoost 1.3.0, the default evaluation metric used with the objective 'binary:logistic' was changed from 'error' to 'logloss'. Explicitly set eval_metric if you'd like to restore the old behavior.\n"
     ]
    },
    {
     "data": {
      "text/html": [
       "<div>\n",
       "<style scoped>\n",
       "    .dataframe tbody tr th:only-of-type {\n",
       "        vertical-align: middle;\n",
       "    }\n",
       "\n",
       "    .dataframe tbody tr th {\n",
       "        vertical-align: top;\n",
       "    }\n",
       "\n",
       "    .dataframe thead th {\n",
       "        text-align: right;\n",
       "    }\n",
       "</style>\n",
       "<table border=\"1\" class=\"dataframe\">\n",
       "  <thead>\n",
       "    <tr style=\"text-align: right;\">\n",
       "      <th></th>\n",
       "      <th>Model</th>\n",
       "      <th>train_acc</th>\n",
       "      <th>test_acc</th>\n",
       "    </tr>\n",
       "  </thead>\n",
       "  <tbody>\n",
       "    <tr>\n",
       "      <th>0</th>\n",
       "      <td>KNN</td>\n",
       "      <td>0.928609</td>\n",
       "      <td>0.895639</td>\n",
       "    </tr>\n",
       "    <tr>\n",
       "      <th>1</th>\n",
       "      <td>NB</td>\n",
       "      <td>0.773364</td>\n",
       "      <td>0.771807</td>\n",
       "    </tr>\n",
       "    <tr>\n",
       "      <th>2</th>\n",
       "      <td>DT</td>\n",
       "      <td>1.000000</td>\n",
       "      <td>0.926791</td>\n",
       "    </tr>\n",
       "    <tr>\n",
       "      <th>3</th>\n",
       "      <td>RF</td>\n",
       "      <td>1.000000</td>\n",
       "      <td>0.955607</td>\n",
       "    </tr>\n",
       "    <tr>\n",
       "      <th>4</th>\n",
       "      <td>AB</td>\n",
       "      <td>0.890187</td>\n",
       "      <td>0.886293</td>\n",
       "    </tr>\n",
       "    <tr>\n",
       "      <th>5</th>\n",
       "      <td>GB</td>\n",
       "      <td>0.963136</td>\n",
       "      <td>0.957944</td>\n",
       "    </tr>\n",
       "    <tr>\n",
       "      <th>6</th>\n",
       "      <td>XGB</td>\n",
       "      <td>1.000000</td>\n",
       "      <td>0.971184</td>\n",
       "    </tr>\n",
       "    <tr>\n",
       "      <th>7</th>\n",
       "      <td>Log</td>\n",
       "      <td>0.782451</td>\n",
       "      <td>0.793614</td>\n",
       "    </tr>\n",
       "    <tr>\n",
       "      <th>8</th>\n",
       "      <td>SVM</td>\n",
       "      <td>0.917705</td>\n",
       "      <td>0.906542</td>\n",
       "    </tr>\n",
       "  </tbody>\n",
       "</table>\n",
       "</div>"
      ],
      "text/plain": [
       "  Model  train_acc  test_acc\n",
       "0   KNN   0.928609  0.895639\n",
       "1    NB   0.773364  0.771807\n",
       "2    DT   1.000000  0.926791\n",
       "3    RF   1.000000  0.955607\n",
       "4    AB   0.890187  0.886293\n",
       "5    GB   0.963136  0.957944\n",
       "6   XGB   1.000000  0.971184\n",
       "7   Log   0.782451  0.793614\n",
       "8   SVM   0.917705  0.906542"
      ]
     },
     "execution_count": 65,
     "metadata": {},
     "output_type": "execute_result"
    }
   ],
   "source": [
    "df5 = sample2\n",
    "df5['churn'] = y3\n",
    "ml.CompareModels(df5, 'churn', 'classification')"
   ]
  },
  {
   "cell_type": "code",
   "execution_count": 67,
   "metadata": {},
   "outputs": [
    {
     "name": "stdout",
     "output_type": "stream",
     "text": [
      "Fitting 5 folds for each of 8 candidates, totalling 40 fits\n"
     ]
    },
    {
     "name": "stderr",
     "output_type": "stream",
     "text": [
      "[Parallel(n_jobs=-1)]: Using backend LokyBackend with 12 concurrent workers.\n",
      "[Parallel(n_jobs=-1)]: Done  17 tasks      | elapsed:    6.5s\n",
      "[Parallel(n_jobs=-1)]: Done  38 out of  40 | elapsed:    8.4s remaining:    0.3s\n",
      "[Parallel(n_jobs=-1)]: Done  40 out of  40 | elapsed:    8.4s finished\n"
     ]
    },
    {
     "name": "stdout",
     "output_type": "stream",
     "text": [
      "[13:37:18] WARNING: C:/Users/Administrator/workspace/xgboost-win64_release_1.3.0/src/learner.cc:1061: Starting in XGBoost 1.3.0, the default evaluation metric used with the objective 'binary:logistic' was changed from 'error' to 'logloss'. Explicitly set eval_metric if you'd like to restore the old behavior.\n"
     ]
    },
    {
     "data": {
      "text/plain": [
       "XGBClassifier(base_score=0.5, booster='gbtree', colsample_bylevel=1,\n",
       "              colsample_bynode=1, colsample_bytree=1, gamma=0, gpu_id=-1,\n",
       "              importance_type='gain', interaction_constraints='',\n",
       "              learning_rate=0.2, max_delta_step=0, max_depth=6,\n",
       "              min_child_weight=1, missing=nan, monotone_constraints='()',\n",
       "              n_estimators=100, n_jobs=12, num_parallel_tree=1, random_state=0,\n",
       "              reg_alpha=0, reg_lambda=1, scale_pos_weight=1, subsample=0.7,\n",
       "              tree_method='exact', validate_parameters=1, verbosity=None)"
      ]
     },
     "execution_count": 67,
     "metadata": {},
     "output_type": "execute_result"
    }
   ],
   "source": [
    "clf5 = ml.Optimize(XGBClassifier(), parameters, df5, 'churn')\n",
    "clf5"
   ]
  },
  {
   "cell_type": "code",
   "execution_count": 110,
   "metadata": {},
   "outputs": [
    {
     "name": "stdout",
     "output_type": "stream",
     "text": [
      "[14:28:50] WARNING: C:/Users/Administrator/workspace/xgboost-win64_release_1.3.0/src/learner.cc:1061: Starting in XGBoost 1.3.0, the default evaluation metric used with the objective 'binary:logistic' was changed from 'error' to 'logloss'. Explicitly set eval_metric if you'd like to restore the old behavior.\n",
      "[14:28:51] WARNING: C:/Users/Administrator/workspace/xgboost-win64_release_1.3.0/src/learner.cc:1061: Starting in XGBoost 1.3.0, the default evaluation metric used with the objective 'binary:logistic' was changed from 'error' to 'logloss'. Explicitly set eval_metric if you'd like to restore the old behavior.\n",
      "Training: 0.9989615784008308, Validation: 0.9758566978193146\n"
     ]
    },
    {
     "data": {
      "text/plain": [
       "<sklearn.metrics._plot.confusion_matrix.ConfusionMatrixDisplay at 0x20b682bb160>"
      ]
     },
     "execution_count": 110,
     "metadata": {},
     "output_type": "execute_result"
    },
    {
     "data": {
      "image/png": "[encoded data removed]",
      "text/plain": [
       "<Figure size 432x288 with 2 Axes>"
      ]
     },
     "metadata": {
      "needs_background": "light"
     },
     "output_type": "display_data"
    }
   ],
   "source": [
    "score = ev.ScoreModel(clf, sample2.drop(['churn'], axis='columns'), y3)\n",
    "clf5.fit(sv2, yval)\n",
    "print(score)\n",
    "ev.BuildConfusion(clf5, sv2, yval, cmap='Blues')"
   ]
  },
  {
   "cell_type": "markdown",
   "metadata": {},
   "source": [
    "## Perfect Model^^"
   ]
  },
  {
   "cell_type": "code",
   "execution_count": 111,
   "metadata": {},
   "outputs": [
    {
     "data": {
      "text/plain": [
       "'With this model: $17976, without ml: $-2408'"
      ]
     },
     "execution_count": 111,
     "metadata": {},
     "output_type": "execute_result"
    }
   ],
   "source": [
    "CBA(clf5, sv2, yval, 56, 350, 14)"
   ]
  },
  {
   "cell_type": "markdown",
   "metadata": {},
   "source": [
    "## using 10 features..."
   ]
  },
  {
   "cell_type": "code",
   "execution_count": 112,
   "metadata": {},
   "outputs": [
    {
     "name": "stdout",
     "output_type": "stream",
     "text": [
      "[14:29:05] WARNING: C:/Users/Administrator/workspace/xgboost-win64_release_1.3.0/src/learner.cc:1061: Starting in XGBoost 1.3.0, the default evaluation metric used with the objective 'binary:logistic' was changed from 'error' to 'logloss'. Explicitly set eval_metric if you'd like to restore the old behavior.\n"
     ]
    },
    {
     "data": {
      "text/html": [
       "<div>\n",
       "<style scoped>\n",
       "    .dataframe tbody tr th:only-of-type {\n",
       "        vertical-align: middle;\n",
       "    }\n",
       "\n",
       "    .dataframe tbody tr th {\n",
       "        vertical-align: top;\n",
       "    }\n",
       "\n",
       "    .dataframe thead th {\n",
       "        text-align: right;\n",
       "    }\n",
       "</style>\n",
       "<table border=\"1\" class=\"dataframe\">\n",
       "  <thead>\n",
       "    <tr style=\"text-align: right;\">\n",
       "      <th></th>\n",
       "      <th>Model</th>\n",
       "      <th>train_acc</th>\n",
       "      <th>test_acc</th>\n",
       "    </tr>\n",
       "  </thead>\n",
       "  <tbody>\n",
       "    <tr>\n",
       "      <th>0</th>\n",
       "      <td>KNN</td>\n",
       "      <td>0.938474</td>\n",
       "      <td>0.904984</td>\n",
       "    </tr>\n",
       "    <tr>\n",
       "      <th>1</th>\n",
       "      <td>NB</td>\n",
       "      <td>0.801921</td>\n",
       "      <td>0.808411</td>\n",
       "    </tr>\n",
       "    <tr>\n",
       "      <th>2</th>\n",
       "      <td>DT</td>\n",
       "      <td>1.000000</td>\n",
       "      <td>0.924455</td>\n",
       "    </tr>\n",
       "    <tr>\n",
       "      <th>3</th>\n",
       "      <td>RF</td>\n",
       "      <td>1.000000</td>\n",
       "      <td>0.947819</td>\n",
       "    </tr>\n",
       "    <tr>\n",
       "      <th>4</th>\n",
       "      <td>AB</td>\n",
       "      <td>0.895898</td>\n",
       "      <td>0.891745</td>\n",
       "    </tr>\n",
       "    <tr>\n",
       "      <th>5</th>\n",
       "      <td>GB</td>\n",
       "      <td>0.962617</td>\n",
       "      <td>0.952492</td>\n",
       "    </tr>\n",
       "    <tr>\n",
       "      <th>6</th>\n",
       "      <td>XGB</td>\n",
       "      <td>1.000000</td>\n",
       "      <td>0.975078</td>\n",
       "    </tr>\n",
       "    <tr>\n",
       "      <th>7</th>\n",
       "      <td>Log</td>\n",
       "      <td>0.779076</td>\n",
       "      <td>0.784268</td>\n",
       "    </tr>\n",
       "    <tr>\n",
       "      <th>8</th>\n",
       "      <td>SVM</td>\n",
       "      <td>0.912773</td>\n",
       "      <td>0.907321</td>\n",
       "    </tr>\n",
       "  </tbody>\n",
       "</table>\n",
       "</div>"
      ],
      "text/plain": [
       "  Model  train_acc  test_acc\n",
       "0   KNN   0.938474  0.904984\n",
       "1    NB   0.801921  0.808411\n",
       "2    DT   1.000000  0.924455\n",
       "3    RF   1.000000  0.947819\n",
       "4    AB   0.895898  0.891745\n",
       "5    GB   0.962617  0.952492\n",
       "6   XGB   1.000000  0.975078\n",
       "7   Log   0.779076  0.784268\n",
       "8   SVM   0.912773  0.907321"
      ]
     },
     "execution_count": 112,
     "metadata": {},
     "output_type": "execute_result"
    }
   ],
   "source": [
    "df6 = sample3\n",
    "df6['churn'] = y3\n",
    "ml.CompareModels(df6, 'churn', 'classification')"
   ]
  },
  {
   "cell_type": "code",
   "execution_count": 113,
   "metadata": {},
   "outputs": [
    {
     "name": "stdout",
     "output_type": "stream",
     "text": [
      "Fitting 5 folds for each of 8 candidates, totalling 40 fits\n"
     ]
    },
    {
     "name": "stderr",
     "output_type": "stream",
     "text": [
      "[Parallel(n_jobs=-1)]: Using backend LokyBackend with 12 concurrent workers.\n",
      "[Parallel(n_jobs=-1)]: Done  17 tasks      | elapsed:    5.6s\n",
      "[Parallel(n_jobs=-1)]: Done  38 out of  40 | elapsed:    7.2s remaining:    0.3s\n",
      "[Parallel(n_jobs=-1)]: Done  40 out of  40 | elapsed:    7.2s finished\n"
     ]
    },
    {
     "name": "stdout",
     "output_type": "stream",
     "text": [
      "[14:29:24] WARNING: C:/Users/Administrator/workspace/xgboost-win64_release_1.3.0/src/learner.cc:1061: Starting in XGBoost 1.3.0, the default evaluation metric used with the objective 'binary:logistic' was changed from 'error' to 'logloss'. Explicitly set eval_metric if you'd like to restore the old behavior.\n"
     ]
    }
   ],
   "source": [
    "clf6 = ml.Optimize(XGBClassifier(), parameters, df6, 'churn')"
   ]
  },
  {
   "cell_type": "code",
   "execution_count": 119,
   "metadata": {},
   "outputs": [
    {
     "name": "stdout",
     "output_type": "stream",
     "text": [
      "[14:31:10] WARNING: C:/Users/Administrator/workspace/xgboost-win64_release_1.3.0/src/learner.cc:1061: Starting in XGBoost 1.3.0, the default evaluation metric used with the objective 'binary:logistic' was changed from 'error' to 'logloss'. Explicitly set eval_metric if you'd like to restore the old behavior.\n",
      "[14:31:11] WARNING: C:/Users/Administrator/workspace/xgboost-win64_release_1.3.0/src/learner.cc:1061: Starting in XGBoost 1.3.0, the default evaluation metric used with the objective 'binary:logistic' was changed from 'error' to 'logloss'. Explicitly set eval_metric if you'd like to restore the old behavior.\n",
      "Training: 0.9994807892004154, Validation: 0.9672897196261683\n"
     ]
    },
    {
     "data": {
      "text/plain": [
       "<sklearn.metrics._plot.confusion_matrix.ConfusionMatrixDisplay at 0x20b69d01a00>"
      ]
     },
     "execution_count": 119,
     "metadata": {},
     "output_type": "execute_result"
    },
    {
     "data": {
      "image/png": "[encoded data removed]",
      "text/plain": [
       "<Figure size 432x288 with 2 Axes>"
      ]
     },
     "metadata": {
      "needs_background": "light"
     },
     "output_type": "display_data"
    }
   ],
   "source": [
    "score = ev.ScoreModel(clf6, sample3.drop(['churn'], axis='columns'), y3)\n",
    "clf6.fit(sv3, yval)\n",
    "print(score)\n",
    "ev.BuildConfusion(clf6, sv3, yval, cmap='Blues')"
   ]
  },
  {
   "cell_type": "markdown",
   "metadata": {},
   "source": [
    "## Perfect model^^"
   ]
  },
  {
   "cell_type": "code",
   "execution_count": 120,
   "metadata": {},
   "outputs": [
    {
     "data": {
      "text/plain": [
       "'With this model: $16520, without ml: $-2408'"
      ]
     },
     "execution_count": 120,
     "metadata": {},
     "output_type": "execute_result"
    }
   ],
   "source": [
    "CBA(clf6, sv3, yval, 56, 350, 42)"
   ]
  },
  {
   "cell_type": "code",
   "execution_count": 121,
   "metadata": {},
   "outputs": [
    {
     "data": {
      "text/plain": [
       "1.0"
      ]
     },
     "execution_count": 121,
     "metadata": {},
     "output_type": "execute_result"
    }
   ],
   "source": [
    "ev.AUC(clf6, sv3, yval)"
   ]
  },
  {
   "cell_type": "code",
   "execution_count": 122,
   "metadata": {},
   "outputs": [
    {
     "name": "stdout",
     "output_type": "stream",
     "text": [
      "[14:32:44] WARNING: C:/Users/Administrator/workspace/xgboost-win64_release_1.3.0/src/learner.cc:1061: Starting in XGBoost 1.3.0, the default evaluation metric used with the objective 'binary:logistic' was changed from 'error' to 'logloss'. Explicitly set eval_metric if you'd like to restore the old behavior.\n"
     ]
    },
    {
     "data": {
      "image/png": "[encoded data removed]",
      "text/plain": [
       "<Figure size 576x576 with 1 Axes>"
      ]
     },
     "metadata": {
      "needs_background": "light"
     },
     "output_type": "display_data"
    }
   ],
   "source": [
    "ev.GetImportance(clf6, sample3.drop(['churn'], axis='columns'), y3)"
   ]
  },
  {
   "cell_type": "markdown",
   "metadata": {},
   "source": [
    "# Giving Deep Learning a shot!"
   ]
  },
  {
   "cell_type": "code",
   "execution_count": 127,
   "metadata": {},
   "outputs": [],
   "source": [
    "train_data = np.array(sample3.drop(['churn'], axis='columns'))\n",
    "test_data = np.array(sv3)\n",
    "train_labels = dl.MulticlassOutput(np.array(y3))\n",
    "test_lables = dl.MulticlassOutput(np.array(yval))"
   ]
  },
  {
   "cell_type": "code",
   "execution_count": 141,
   "metadata": {},
   "outputs": [
    {
     "name": "stdout",
     "output_type": "stream",
     "text": [
      "Epoch 1/150\n",
      "129/129 [==============================] - 1s 2ms/step - loss: 0.6095 - accuracy: 0.6818 - val_loss: 0.4676 - val_accuracy: 0.8307\n",
      "Epoch 2/150\n",
      "129/129 [==============================] - 0s 1ms/step - loss: 0.3672 - accuracy: 0.8542 - val_loss: 0.4613 - val_accuracy: 0.8366\n",
      "Epoch 3/150\n",
      "129/129 [==============================] - 0s 1ms/step - loss: 0.3151 - accuracy: 0.8794 - val_loss: 0.4459 - val_accuracy: 0.8327\n",
      "Epoch 4/150\n",
      "129/129 [==============================] - 0s 1ms/step - loss: 0.2861 - accuracy: 0.8936 - val_loss: 0.4028 - val_accuracy: 0.8463\n",
      "Epoch 5/150\n",
      "129/129 [==============================] - 0s 1ms/step - loss: 0.2627 - accuracy: 0.9071 - val_loss: 0.3805 - val_accuracy: 0.8492\n",
      "Epoch 6/150\n",
      "129/129 [==============================] - 0s 1ms/step - loss: 0.2483 - accuracy: 0.9186 - val_loss: 0.3662 - val_accuracy: 0.8463\n",
      "Epoch 7/150\n",
      "129/129 [==============================] - 0s 2ms/step - loss: 0.2376 - accuracy: 0.9186 - val_loss: 0.3850 - val_accuracy: 0.8434\n",
      "Epoch 8/150\n",
      "129/129 [==============================] - 0s 1ms/step - loss: 0.2486 - accuracy: 0.9178 - val_loss: 0.4020 - val_accuracy: 0.8337\n",
      "Epoch 9/150\n",
      "129/129 [==============================] - 0s 1ms/step - loss: 0.2249 - accuracy: 0.9219 - val_loss: 0.3312 - val_accuracy: 0.8589\n",
      "Epoch 10/150\n",
      "129/129 [==============================] - 0s 2ms/step - loss: 0.2097 - accuracy: 0.9285 - val_loss: 0.3782 - val_accuracy: 0.8317\n",
      "Epoch 11/150\n",
      "129/129 [==============================] - 0s 1ms/step - loss: 0.2108 - accuracy: 0.9241 - val_loss: 0.3093 - val_accuracy: 0.8619\n",
      "Epoch 12/150\n",
      "129/129 [==============================] - 0s 1ms/step - loss: 0.1993 - accuracy: 0.9333 - val_loss: 0.3087 - val_accuracy: 0.8580\n",
      "Epoch 13/150\n",
      "129/129 [==============================] - 0s 1ms/step - loss: 0.2023 - accuracy: 0.9246 - val_loss: 0.3613 - val_accuracy: 0.8424\n",
      "Epoch 14/150\n",
      "129/129 [==============================] - 0s 1ms/step - loss: 0.1871 - accuracy: 0.9374 - val_loss: 0.3803 - val_accuracy: 0.8268\n",
      "Epoch 15/150\n",
      "129/129 [==============================] - 0s 1ms/step - loss: 0.1749 - accuracy: 0.9408 - val_loss: 0.3198 - val_accuracy: 0.8444\n",
      "Epoch 16/150\n",
      "129/129 [==============================] - 0s 1ms/step - loss: 0.1696 - accuracy: 0.9424 - val_loss: 0.4412 - val_accuracy: 0.8064\n",
      "Epoch 17/150\n",
      "129/129 [==============================] - 0s 1ms/step - loss: 0.1671 - accuracy: 0.9401 - val_loss: 0.3253 - val_accuracy: 0.8453\n",
      "Epoch 18/150\n",
      "129/129 [==============================] - 0s 1ms/step - loss: 0.1608 - accuracy: 0.9399 - val_loss: 0.3070 - val_accuracy: 0.8551\n",
      "Epoch 19/150\n",
      "129/129 [==============================] - 0s 1ms/step - loss: 0.1631 - accuracy: 0.9426 - val_loss: 0.2923 - val_accuracy: 0.8667\n",
      "Epoch 20/150\n",
      "129/129 [==============================] - 0s 1ms/step - loss: 0.1575 - accuracy: 0.9408 - val_loss: 0.2760 - val_accuracy: 0.8648\n",
      "Epoch 21/150\n",
      "129/129 [==============================] - 0s 1ms/step - loss: 0.1535 - accuracy: 0.9381 - val_loss: 0.3456 - val_accuracy: 0.8366\n",
      "Epoch 22/150\n",
      "129/129 [==============================] - 0s 983us/step - loss: 0.1496 - accuracy: 0.9455 - val_loss: 0.3152 - val_accuracy: 0.8541\n",
      "Epoch 23/150\n",
      "129/129 [==============================] - 0s 1ms/step - loss: 0.1411 - accuracy: 0.9484 - val_loss: 0.2811 - val_accuracy: 0.8570\n",
      "Epoch 24/150\n",
      "129/129 [==============================] - 0s 1ms/step - loss: 0.1357 - accuracy: 0.9458 - val_loss: 0.2834 - val_accuracy: 0.8609\n",
      "Epoch 25/150\n",
      "129/129 [==============================] - 0s 1ms/step - loss: 0.1353 - accuracy: 0.9490 - val_loss: 0.3018 - val_accuracy: 0.8473\n",
      "Epoch 26/150\n",
      "129/129 [==============================] - 0s 1ms/step - loss: 0.1456 - accuracy: 0.9448 - val_loss: 0.2833 - val_accuracy: 0.8541\n",
      "Epoch 27/150\n",
      "129/129 [==============================] - 0s 1ms/step - loss: 0.1373 - accuracy: 0.9513 - val_loss: 0.2845 - val_accuracy: 0.8521\n",
      "Epoch 28/150\n",
      "129/129 [==============================] - 0s 1ms/step - loss: 0.1229 - accuracy: 0.9506 - val_loss: 0.2261 - val_accuracy: 0.8726\n",
      "Epoch 29/150\n",
      "129/129 [==============================] - 0s 1ms/step - loss: 0.1277 - accuracy: 0.9506 - val_loss: 0.2289 - val_accuracy: 0.8658\n",
      "Epoch 30/150\n",
      "129/129 [==============================] - 0s 1ms/step - loss: 0.1212 - accuracy: 0.9562 - val_loss: 0.2432 - val_accuracy: 0.8755\n",
      "Epoch 31/150\n",
      "129/129 [==============================] - 0s 1ms/step - loss: 0.1237 - accuracy: 0.9535 - val_loss: 0.2721 - val_accuracy: 0.8628\n",
      "Epoch 32/150\n",
      "129/129 [==============================] - 0s 1ms/step - loss: 0.1240 - accuracy: 0.9528 - val_loss: 0.2196 - val_accuracy: 0.8794\n",
      "Epoch 33/150\n",
      "129/129 [==============================] - 0s 1ms/step - loss: 0.1172 - accuracy: 0.9549 - val_loss: 0.2315 - val_accuracy: 0.8881\n",
      "Epoch 34/150\n",
      "129/129 [==============================] - 0s 1ms/step - loss: 0.1089 - accuracy: 0.9574 - val_loss: 0.2424 - val_accuracy: 0.8784\n",
      "Epoch 35/150\n",
      "129/129 [==============================] - 0s 1ms/step - loss: 0.1123 - accuracy: 0.9576 - val_loss: 0.2715 - val_accuracy: 0.8755\n",
      "Epoch 36/150\n",
      "129/129 [==============================] - 0s 1ms/step - loss: 0.1060 - accuracy: 0.9582 - val_loss: 0.2883 - val_accuracy: 0.8619\n",
      "Epoch 37/150\n",
      "129/129 [==============================] - 0s 1ms/step - loss: 0.0993 - accuracy: 0.9625 - val_loss: 0.1943 - val_accuracy: 0.8891\n",
      "Epoch 38/150\n",
      "129/129 [==============================] - 0s 1ms/step - loss: 0.1082 - accuracy: 0.9551 - val_loss: 0.2790 - val_accuracy: 0.8648\n",
      "Epoch 39/150\n",
      "129/129 [==============================] - 0s 1ms/step - loss: 0.0986 - accuracy: 0.9598 - val_loss: 0.1839 - val_accuracy: 0.9047\n",
      "Epoch 40/150\n",
      "129/129 [==============================] - 0s 1ms/step - loss: 0.0971 - accuracy: 0.9604 - val_loss: 0.2346 - val_accuracy: 0.8891\n",
      "Epoch 41/150\n",
      "129/129 [==============================] - 0s 1ms/step - loss: 0.0914 - accuracy: 0.9651 - val_loss: 0.1825 - val_accuracy: 0.9076\n",
      "Epoch 42/150\n",
      "129/129 [==============================] - 0s 1ms/step - loss: 0.1001 - accuracy: 0.9617 - val_loss: 0.1755 - val_accuracy: 0.9134\n",
      "Epoch 43/150\n",
      "129/129 [==============================] - 0s 1ms/step - loss: 0.0930 - accuracy: 0.9646 - val_loss: 0.1882 - val_accuracy: 0.9018\n",
      "Epoch 44/150\n",
      "129/129 [==============================] - 0s 1ms/step - loss: 0.1001 - accuracy: 0.9616 - val_loss: 0.2783 - val_accuracy: 0.8765\n",
      "Epoch 45/150\n",
      "129/129 [==============================] - 0s 1ms/step - loss: 0.0902 - accuracy: 0.9613 - val_loss: 0.1865 - val_accuracy: 0.9037\n",
      "Epoch 46/150\n",
      "129/129 [==============================] - 0s 1ms/step - loss: 0.0882 - accuracy: 0.9635 - val_loss: 0.1590 - val_accuracy: 0.9134\n",
      "Epoch 47/150\n",
      "129/129 [==============================] - 0s 990us/step - loss: 0.0883 - accuracy: 0.9628 - val_loss: 0.2042 - val_accuracy: 0.8949\n",
      "Epoch 48/150\n",
      "129/129 [==============================] - 0s 1ms/step - loss: 0.0745 - accuracy: 0.9705 - val_loss: 0.1907 - val_accuracy: 0.9047\n",
      "Epoch 49/150\n",
      "129/129 [==============================] - 0s 1ms/step - loss: 0.0840 - accuracy: 0.9680 - val_loss: 0.2735 - val_accuracy: 0.8833\n",
      "Epoch 50/150\n",
      "129/129 [==============================] - 0s 1ms/step - loss: 0.0823 - accuracy: 0.9676 - val_loss: 0.1967 - val_accuracy: 0.9056\n",
      "Epoch 51/150\n",
      "129/129 [==============================] - 0s 1ms/step - loss: 0.0805 - accuracy: 0.9669 - val_loss: 0.2216 - val_accuracy: 0.8940\n",
      "Epoch 52/150\n",
      "129/129 [==============================] - 0s 1ms/step - loss: 0.0757 - accuracy: 0.9735 - val_loss: 0.2863 - val_accuracy: 0.8755\n",
      "Epoch 53/150\n",
      "129/129 [==============================] - 0s 1ms/step - loss: 0.0799 - accuracy: 0.9682 - val_loss: 0.2910 - val_accuracy: 0.8784\n",
      "Epoch 54/150\n",
      "129/129 [==============================] - 0s 1ms/step - loss: 0.0668 - accuracy: 0.9753 - val_loss: 0.2059 - val_accuracy: 0.9076\n",
      "Epoch 55/150\n",
      "129/129 [==============================] - 0s 1ms/step - loss: 0.0734 - accuracy: 0.9756 - val_loss: 0.2247 - val_accuracy: 0.8988\n",
      "Epoch 56/150\n",
      "129/129 [==============================] - 0s 1ms/step - loss: 0.0624 - accuracy: 0.9770 - val_loss: 0.2022 - val_accuracy: 0.9105\n"
     ]
    }
   ],
   "source": [
    "early_stopping = [EarlyStopping(patience=10), ModelCheckpoint(filepath='model.{epoch:02d}-{val_loss:.2f}.h5')]\n",
    "model = dl.FastNN('classification', 'binary_crossentropy', output_dim=2)\n",
    "history = model.fit(train_data, train_labels, batch_size=32, epochs=150, validation_split=0.2, callbacks=early_stopping)"
   ]
  },
  {
   "cell_type": "code",
   "execution_count": 142,
   "metadata": {
    "scrolled": true
   },
   "outputs": [
    {
     "data": {
      "image/png": "[encoded data removed]",
      "text/plain": [
       "<Figure size 432x288 with 1 Axes>"
      ]
     },
     "metadata": {
      "needs_background": "light"
     },
     "output_type": "display_data"
    }
   ],
   "source": [
    "ev.ViewAccuracy(history, len(history.history['loss']))"
   ]
  },
  {
   "cell_type": "code",
   "execution_count": 143,
   "metadata": {},
   "outputs": [
    {
     "data": {
      "image/png": "[encoded data removed]",
      "text/plain": [
       "<Figure size 432x288 with 1 Axes>"
      ]
     },
     "metadata": {
      "needs_background": "light"
     },
     "output_type": "display_data"
    }
   ],
   "source": [
    "ev.ViewLoss(history, len(history.history['loss']))"
   ]
  },
  {
   "cell_type": "code",
   "execution_count": 146,
   "metadata": {},
   "outputs": [
    {
     "data": {
      "text/plain": [
       "<AxesSubplot:xlabel='Predict', ylabel='True'>"
      ]
     },
     "execution_count": 146,
     "metadata": {},
     "output_type": "execute_result"
    },
    {
     "data": {
      "image/png": "[encoded data removed]",
      "text/plain": [
       "<Figure size 432x288 with 2 Axes>"
      ]
     },
     "metadata": {
      "needs_background": "light"
     },
     "output_type": "display_data"
    }
   ],
   "source": [
    "ev.BuildConfusionDL(model, test_data, test_lables, cmap='Blues')"
   ]
  },
  {
   "cell_type": "markdown",
   "metadata": {},
   "source": [
    "Our training data has 87% recall and 93% precision, not too bad :)"
   ]
  },
  {
   "cell_type": "markdown",
   "metadata": {},
   "source": [
    "here's the repo for this notebook: https://github.com/spe301/dsc-phase-3-project"
   ]
  }
 ],
 "metadata": {
  "kernelspec": {
   "display_name": "Python 3",
   "language": "python",
   "name": "python3"
  },
  "language_info": {
   "codemirror_mode": {
    "name": "ipython",
    "version": 3
   },
   "file_extension": ".py",
   "mimetype": "text/x-python",
   "name": "python",
   "nbconvert_exporter": "python",
   "pygments_lexer": "ipython3",
   "version": "3.8.5"
  }
 },
 "nbformat": 4,
 "nbformat_minor": 4
}
