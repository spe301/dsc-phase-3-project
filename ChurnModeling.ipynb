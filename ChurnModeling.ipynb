{
 "cells": [
  {
   "cell_type": "markdown",
   "metadata": {},
   "source": [
    "## Importing Potosnail library, check out it's offical repo here: https://github.com/spe301/Potosnail"
   ]
  },
  {
   "cell_type": "code",
   "execution_count": 1,
   "metadata": {},
   "outputs": [],
   "source": [
    "from potosnail import MachineLearning, DataHelper, Evaluater, DeepLearning, Algorithms, Wrappers\n",
    "import pandas as pd\n",
    "import numpy as np\n",
    "from sklearn.metrics import confusion_matrix, plot_confusion_matrix\n",
    "from sklearn.pipeline import Pipeline\n",
    "from sklearn.preprocessing import StandardScaler, MinMaxScaler\n",
    "from sklearn.model_selection import train_test_split\n",
    "from xgboost import XGBClassifier\n",
    "from sklearn.ensemble import GradientBoostingClassifier\n",
    "from tensorflow.keras.callbacks import EarlyStopping, ModelCheckpoint\n",
    "\n",
    "#class instantiations \n",
    "ml = MachineLearning()\n",
    "dh = DataHelper()\n",
    "ev = Evaluater()\n",
    "dl = DeepLearning()\n",
    "al = Algorithms()\n",
    "wr = Wrappers()"
   ]
  },
  {
   "cell_type": "code",
   "execution_count": 2,
   "metadata": {},
   "outputs": [],
   "source": [
    "df = pd.read_csv(r'https://raw.githubusercontent.com/spe301/dsc-phase-3-project/main/Data/ChurnData_ForML.csv')\n",
    "\n",
    "HO = dh.HoldOut(df) \n",
    "df = HO[0].drop(['Unnamed: 0'], axis='columns') #training data\n",
    "val_df = HO[1].drop(['Unnamed: 0'], axis='columns') #validation data"
   ]
  },
  {
   "cell_type": "code",
   "execution_count": 3,
   "metadata": {},
   "outputs": [
    {
     "name": "stdout",
     "output_type": "stream",
     "text": [
      "[18:16:17] WARNING: C:/Users/Administrator/workspace/xgboost-win64_release_1.3.0/src/learner.cc:1061: Starting in XGBoost 1.3.0, the default evaluation metric used with the objective 'binary:logistic' was changed from 'error' to 'logloss'. Explicitly set eval_metric if you'd like to restore the old behavior.\n"
     ]
    },
    {
     "data": {
      "text/html": [
       "<div>\n",
       "<style scoped>\n",
       "    .dataframe tbody tr th:only-of-type {\n",
       "        vertical-align: middle;\n",
       "    }\n",
       "\n",
       "    .dataframe tbody tr th {\n",
       "        vertical-align: top;\n",
       "    }\n",
       "\n",
       "    .dataframe thead th {\n",
       "        text-align: right;\n",
       "    }\n",
       "</style>\n",
       "<table border=\"1\" class=\"dataframe\">\n",
       "  <thead>\n",
       "    <tr style=\"text-align: right;\">\n",
       "      <th></th>\n",
       "      <th>Model</th>\n",
       "      <th>train_acc</th>\n",
       "      <th>test_acc</th>\n",
       "    </tr>\n",
       "  </thead>\n",
       "  <tbody>\n",
       "    <tr>\n",
       "      <th>0</th>\n",
       "      <td>KNN</td>\n",
       "      <td>0.898622</td>\n",
       "      <td>0.882667</td>\n",
       "    </tr>\n",
       "    <tr>\n",
       "      <th>1</th>\n",
       "      <td>NB</td>\n",
       "      <td>0.874611</td>\n",
       "      <td>0.838667</td>\n",
       "    </tr>\n",
       "    <tr>\n",
       "      <th>2</th>\n",
       "      <td>DT</td>\n",
       "      <td>1.000000</td>\n",
       "      <td>0.905333</td>\n",
       "    </tr>\n",
       "    <tr>\n",
       "      <th>3</th>\n",
       "      <td>RF</td>\n",
       "      <td>0.999555</td>\n",
       "      <td>0.948000</td>\n",
       "    </tr>\n",
       "    <tr>\n",
       "      <th>4</th>\n",
       "      <td>AB</td>\n",
       "      <td>0.907514</td>\n",
       "      <td>0.874667</td>\n",
       "    </tr>\n",
       "    <tr>\n",
       "      <th>5</th>\n",
       "      <td>GB</td>\n",
       "      <td>0.978657</td>\n",
       "      <td>0.944000</td>\n",
       "    </tr>\n",
       "    <tr>\n",
       "      <th>6</th>\n",
       "      <td>XGB</td>\n",
       "      <td>1.000000</td>\n",
       "      <td>0.950667</td>\n",
       "    </tr>\n",
       "    <tr>\n",
       "      <th>7</th>\n",
       "      <td>Log</td>\n",
       "      <td>0.859493</td>\n",
       "      <td>0.853333</td>\n",
       "    </tr>\n",
       "    <tr>\n",
       "      <th>8</th>\n",
       "      <td>SVM</td>\n",
       "      <td>0.852379</td>\n",
       "      <td>0.864000</td>\n",
       "    </tr>\n",
       "  </tbody>\n",
       "</table>\n",
       "</div>"
      ],
      "text/plain": [
       "  Model  train_acc  test_acc\n",
       "0   KNN   0.898622  0.882667\n",
       "1    NB   0.874611  0.838667\n",
       "2    DT   1.000000  0.905333\n",
       "3    RF   0.999555  0.948000\n",
       "4    AB   0.907514  0.874667\n",
       "5    GB   0.978657  0.944000\n",
       "6   XGB   1.000000  0.950667\n",
       "7   Log   0.859493  0.853333\n",
       "8   SVM   0.852379  0.864000"
      ]
     },
     "execution_count": 3,
     "metadata": {},
     "output_type": "execute_result"
    }
   ],
   "source": [
    "X = df.drop(['churn'], axis='columns')\n",
    "y = df['churn']\n",
    "ml.CompareModels(X, y, 'classification') #compares vanilla sklearn models against eachother"
   ]
  },
  {
   "cell_type": "markdown",
   "metadata": {},
   "source": [
    "# Step 1: picking a model to start with\n",
    "my CompareClassifiers function trains a vanilla model of each type of classifier and returns the train and test accuracy. I'm gonna go with XGB because test accuracy is high and very close to train accuracy.\n",
    "\n",
    "## Recall is our metric\n",
    "The reason for this is because False Negatives will be more costly than False Positives. Let's say we want to offer a 25% discount, about 14 dollars given that the average customer is billed 56 dollars a month, for a customer that is predicted to churn to keep them. In this situation a false negative would cost us 56 dollars plus the cost of aquiring a new customer. The average cost of acquisition is 350 dollars for a cellphone company! However a false positive would only cost us 14 dollars because of the unnessecary discount."
   ]
  },
  {
   "cell_type": "code",
   "execution_count": 4,
   "metadata": {},
   "outputs": [
    {
     "name": "stdout",
     "output_type": "stream",
     "text": [
      "Fitting 3 folds for each of 396 candidates, totalling 1188 fits\n"
     ]
    },
    {
     "name": "stderr",
     "output_type": "stream",
     "text": [
      "[Parallel(n_jobs=-1)]: Using backend LokyBackend with 12 concurrent workers.\n",
      "[Parallel(n_jobs=-1)]: Done  17 tasks      | elapsed:    4.2s\n",
      "[Parallel(n_jobs=-1)]: Done 138 tasks      | elapsed:   10.3s\n",
      "[Parallel(n_jobs=-1)]: Done 341 tasks      | elapsed:   26.4s\n",
      "[Parallel(n_jobs=-1)]: Done 624 tasks      | elapsed:   55.2s\n",
      "[Parallel(n_jobs=-1)]: Done 989 tasks      | elapsed:  1.4min\n",
      "[Parallel(n_jobs=-1)]: Done 1188 out of 1188 | elapsed:  1.7min finished\n"
     ]
    },
    {
     "name": "stdout",
     "output_type": "stream",
     "text": [
      "[18:18:03] WARNING: C:/Users/Administrator/workspace/xgboost-win64_release_1.3.0/src/learner.cc:1061: Starting in XGBoost 1.3.0, the default evaluation metric used with the objective 'binary:logistic' was changed from 'error' to 'logloss'. Explicitly set eval_metric if you'd like to restore the old behavior.\n"
     ]
    }
   ],
   "source": [
    "estimators = al.Estimators(X, 100)\n",
    "grid = {'learning_rate': [0.1, 0.2], 'max_depth': [3, 6, 9], \n",
    "        'min_child_weight': [1, 2], 'subsample': [0.5, 0.7, 1], \n",
    "        'n_estimators': estimators}\n",
    "clf = ml.Optimize(XGBClassifier(), grid, X, y)"
   ]
  },
  {
   "cell_type": "code",
   "execution_count": 5,
   "metadata": {},
   "outputs": [
    {
     "data": {
      "text/plain": [
       "XGBClassifier(base_score=0.5, booster='gbtree', colsample_bylevel=1,\n",
       "              colsample_bynode=1, colsample_bytree=1, gamma=0, gpu_id=-1,\n",
       "              importance_type='gain', interaction_constraints='',\n",
       "              learning_rate=0.2, max_delta_step=0, max_depth=9,\n",
       "              min_child_weight=1, missing=nan, monotone_constraints='()',\n",
       "              n_estimators=58, n_jobs=12, num_parallel_tree=1, random_state=0,\n",
       "              reg_alpha=0, reg_lambda=1, scale_pos_weight=1, subsample=0.7,\n",
       "              tree_method='exact', validate_parameters=1, verbosity=None)"
      ]
     },
     "execution_count": 5,
     "metadata": {},
     "output_type": "execute_result"
    }
   ],
   "source": [
    "clf"
   ]
  },
  {
   "cell_type": "code",
   "execution_count": 6,
   "metadata": {},
   "outputs": [
    {
     "name": "stdout",
     "output_type": "stream",
     "text": [
      "[18:18:27] WARNING: C:/Users/Administrator/workspace/xgboost-win64_release_1.3.0/src/learner.cc:1061: Starting in XGBoost 1.3.0, the default evaluation metric used with the objective 'binary:logistic' was changed from 'error' to 'logloss'. Explicitly set eval_metric if you'd like to restore the old behavior.\n"
     ]
    },
    {
     "data": {
      "text/plain": [
       "'Training: 0.9995553579368608, Validation: 0.9506666666666667'"
      ]
     },
     "execution_count": 6,
     "metadata": {},
     "output_type": "execute_result"
    }
   ],
   "source": [
    "ev.ScoreModel(clf, X, y)"
   ]
  },
  {
   "cell_type": "code",
   "execution_count": 7,
   "metadata": {},
   "outputs": [
    {
     "data": {
      "text/plain": [
       "<sklearn.metrics._plot.confusion_matrix.ConfusionMatrixDisplay at 0x2f932cca370>"
      ]
     },
     "execution_count": 7,
     "metadata": {},
     "output_type": "execute_result"
    },
    {
     "data": {
      "image/png": "[encoded data removed]",
      "text/plain": [
       "<Figure size 432x288 with 2 Axes>"
      ]
     },
     "metadata": {
      "needs_background": "light"
     },
     "output_type": "display_data"
    }
   ],
   "source": [
    "Xval = val_df.drop(['churn'], axis='columns')\n",
    "yval = val_df['churn']\n",
    "ev.BuildConfusion(clf, Xval, yval, cmap='Blues')"
   ]
  },
  {
   "cell_type": "code",
   "execution_count": 8,
   "metadata": {},
   "outputs": [
    {
     "data": {
      "text/plain": [
       "0.8061224489795918"
      ]
     },
     "execution_count": 8,
     "metadata": {},
     "output_type": "execute_result"
    }
   ],
   "source": [
    "ev.AUC(clf, Xval, yval)"
   ]
  },
  {
   "cell_type": "code",
   "execution_count": 9,
   "metadata": {},
   "outputs": [
    {
     "name": "stdout",
     "output_type": "stream",
     "text": [
      "this model would save $11760 from prevented churn at the cost of losing $6650\n"
     ]
    }
   ],
   "source": [
    "cba = ev.BinaryCBA(clf, Xval, yval, 56, 350, 14)\n",
    "print('this model would save ${} from prevented churn at the cost of losing ${}'.format(cba[1], cba[0]))"
   ]
  },
  {
   "cell_type": "markdown",
   "metadata": {},
   "source": [
    "# Step 2: normalize the data\n",
    "Accuracy imporved more from MinMaxScaling but validation recall and AUC dropped significantly. I ended up using standard scaler instead."
   ]
  },
  {
   "cell_type": "code",
   "execution_count": 10,
   "metadata": {},
   "outputs": [
    {
     "name": "stdout",
     "output_type": "stream",
     "text": [
      "[18:18:34] WARNING: C:/Users/Administrator/workspace/xgboost-win64_release_1.3.0/src/learner.cc:1061: Starting in XGBoost 1.3.0, the default evaluation metric used with the objective 'binary:logistic' was changed from 'error' to 'logloss'. Explicitly set eval_metric if you'd like to restore the old behavior.\n"
     ]
    },
    {
     "data": {
      "text/plain": [
       "'Training: 0.9991107158737217, Validation: 0.944'"
      ]
     },
     "execution_count": 10,
     "metadata": {},
     "output_type": "execute_result"
    }
   ],
   "source": [
    "scaler = StandardScaler()\n",
    "ev.PipeIt(scaler, clf, X, y)"
   ]
  },
  {
   "cell_type": "code",
   "execution_count": 11,
   "metadata": {},
   "outputs": [
    {
     "name": "stdout",
     "output_type": "stream",
     "text": [
      "[18:18:36] WARNING: C:/Users/Administrator/workspace/xgboost-win64_release_1.3.0/src/learner.cc:1061: Starting in XGBoost 1.3.0, the default evaluation metric used with the objective 'binary:logistic' was changed from 'error' to 'logloss'. Explicitly set eval_metric if you'd like to restore the old behavior.\n"
     ]
    },
    {
     "data": {
      "text/plain": [
       "'Training: 0.9991107158737217, Validation: 0.9546666666666667'"
      ]
     },
     "execution_count": 11,
     "metadata": {},
     "output_type": "execute_result"
    }
   ],
   "source": [
    "scaler = MinMaxScaler()\n",
    "ev.PipeIt(scaler, clf, X, y)"
   ]
  },
  {
   "cell_type": "code",
   "execution_count": 12,
   "metadata": {},
   "outputs": [],
   "source": [
    "X2 = pd.DataFrame(StandardScaler().fit(X).transform(X))\n",
    "X2.columns = list(X.columns)\n",
    "Xval2 = pd.DataFrame(StandardScaler().fit(Xval).transform(Xval))\n",
    "Xval2.columns = list(X.columns)"
   ]
  },
  {
   "cell_type": "code",
   "execution_count": 13,
   "metadata": {},
   "outputs": [
    {
     "name": "stdout",
     "output_type": "stream",
     "text": [
      "Fitting 3 folds for each of 396 candidates, totalling 1188 fits\n"
     ]
    },
    {
     "name": "stderr",
     "output_type": "stream",
     "text": [
      "[Parallel(n_jobs=-1)]: Using backend LokyBackend with 12 concurrent workers.\n",
      "[Parallel(n_jobs=-1)]: Done  17 tasks      | elapsed:    0.5s\n",
      "[Parallel(n_jobs=-1)]: Done 138 tasks      | elapsed:    6.5s\n",
      "[Parallel(n_jobs=-1)]: Done 341 tasks      | elapsed:   22.5s\n",
      "[Parallel(n_jobs=-1)]: Done 624 tasks      | elapsed:   53.3s\n",
      "[Parallel(n_jobs=-1)]: Done 989 tasks      | elapsed:  1.4min\n"
     ]
    },
    {
     "name": "stdout",
     "output_type": "stream",
     "text": [
      "[18:20:25] WARNING: C:/Users/Administrator/workspace/xgboost-win64_release_1.3.0/src/learner.cc:1061: Starting in XGBoost 1.3.0, the default evaluation metric used with the objective 'binary:logistic' was changed from 'error' to 'logloss'. Explicitly set eval_metric if you'd like to restore the old behavior.\n"
     ]
    },
    {
     "name": "stderr",
     "output_type": "stream",
     "text": [
      "[Parallel(n_jobs=-1)]: Done 1188 out of 1188 | elapsed:  1.7min finished\n"
     ]
    }
   ],
   "source": [
    "estimators = al.Estimators(X2, 100)\n",
    "grid = {'learning_rate': [0.1, 0.2], 'max_depth': [3, 6, 9], 'min_child_weight': [1, 2], \n",
    "        'subsample': [0.5, 0.7, 1], 'n_estimators': estimators}\n",
    "clf = ml.Optimize(XGBClassifier(), grid, X2, y)"
   ]
  },
  {
   "cell_type": "code",
   "execution_count": 14,
   "metadata": {},
   "outputs": [
    {
     "name": "stdout",
     "output_type": "stream",
     "text": [
      "[18:21:09] WARNING: C:/Users/Administrator/workspace/xgboost-win64_release_1.3.0/src/learner.cc:1061: Starting in XGBoost 1.3.0, the default evaluation metric used with the objective 'binary:logistic' was changed from 'error' to 'logloss'. Explicitly set eval_metric if you'd like to restore the old behavior.\n"
     ]
    },
    {
     "data": {
      "text/plain": [
       "'Training: 0.9919964428634949, Validation: 0.9573333333333334'"
      ]
     },
     "execution_count": 14,
     "metadata": {},
     "output_type": "execute_result"
    }
   ],
   "source": [
    "ev.ScoreModel(clf, X2, y)"
   ]
  },
  {
   "cell_type": "code",
   "execution_count": 15,
   "metadata": {},
   "outputs": [
    {
     "data": {
      "text/plain": [
       "<sklearn.metrics._plot.confusion_matrix.ConfusionMatrixDisplay at 0x2f93f83a490>"
      ]
     },
     "execution_count": 15,
     "metadata": {},
     "output_type": "execute_result"
    },
    {
     "data": {
      "image/png": "[encoded data removed]",
      "text/plain": [
       "<Figure size 432x288 with 2 Axes>"
      ]
     },
     "metadata": {
      "needs_background": "light"
     },
     "output_type": "display_data"
    }
   ],
   "source": [
    "ev.BuildConfusion(clf, Xval2, yval, cmap='Blues')"
   ]
  },
  {
   "cell_type": "code",
   "execution_count": 16,
   "metadata": {},
   "outputs": [
    {
     "name": "stdout",
     "output_type": "stream",
     "text": [
      "this model would save $13720 from prevented churn at the cost of losing $4942\n"
     ]
    }
   ],
   "source": [
    "cba = ev.BinaryCBA(clf, Xval2, yval, 56, 350, 14)\n",
    "print('this model would save ${} from prevented churn at the cost of losing ${}'.format(cba[1], cba[0]))"
   ]
  },
  {
   "cell_type": "code",
   "execution_count": 17,
   "metadata": {},
   "outputs": [
    {
     "data": {
      "text/plain": [
       "0.8518796992481203"
      ]
     },
     "execution_count": 17,
     "metadata": {},
     "output_type": "execute_result"
    }
   ],
   "source": [
    "ev.AUC(clf, Xval2, yval)"
   ]
  },
  {
   "cell_type": "markdown",
   "metadata": {},
   "source": [
    "## Step 3: fixing class imbalance with SMOTE sampling\n",
    "\n",
    "Smote, synthetic minority oversampling, handles class imbalance that generate synthetic datapoints of the minority class. this way the model isn't rewarded for simply labeling everything the majority class\n",
    "* In addition to SMOTE, you can set metrics to 'recall', which I already did in cell 4"
   ]
  },
  {
   "cell_type": "code",
   "execution_count": 18,
   "metadata": {},
   "outputs": [
    {
     "name": "stdout",
     "output_type": "stream",
     "text": [
      "Using Smotenc\n"
     ]
    }
   ],
   "source": [
    "bool_arr = dh.GetCats(X) #returns an array of booleans, True indicating that the feature is categorical\n",
    "X3, y3 = dh.SmoteIt(X2, y, bool_arr=bool_arr) #Because we have categorical features, SmoteIt will use SMOTENC"
   ]
  },
  {
   "cell_type": "code",
   "execution_count": 19,
   "metadata": {},
   "outputs": [
    {
     "name": "stdout",
     "output_type": "stream",
     "text": [
      "Fitting 3 folds for each of 396 candidates, totalling 1188 fits\n"
     ]
    },
    {
     "name": "stderr",
     "output_type": "stream",
     "text": [
      "[Parallel(n_jobs=-1)]: Using backend LokyBackend with 12 concurrent workers.\n",
      "[Parallel(n_jobs=-1)]: Done  17 tasks      | elapsed:    1.0s\n",
      "[Parallel(n_jobs=-1)]: Done 138 tasks      | elapsed:   18.0s\n",
      "[Parallel(n_jobs=-1)]: Done 341 tasks      | elapsed:  1.1min\n",
      "[Parallel(n_jobs=-1)]: Done 624 tasks      | elapsed:  2.5min\n",
      "[Parallel(n_jobs=-1)]: Done 989 tasks      | elapsed:  3.9min\n",
      "[Parallel(n_jobs=-1)]: Done 1188 out of 1188 | elapsed:  4.8min finished\n"
     ]
    },
    {
     "name": "stdout",
     "output_type": "stream",
     "text": [
      "[18:26:07] WARNING: C:/Users/Administrator/workspace/xgboost-win64_release_1.3.0/src/learner.cc:1061: Starting in XGBoost 1.3.0, the default evaluation metric used with the objective 'binary:logistic' was changed from 'error' to 'logloss'. Explicitly set eval_metric if you'd like to restore the old behavior.\n"
     ]
    }
   ],
   "source": [
    "estimators = al.Estimators(X3, 100)\n",
    "grid = {'learning_rate': [0.1, 0.2], 'max_depth': [3, 6, 9], 'min_child_weight': [1, 2], \n",
    "        'subsample': [0.5, 0.7, 1], 'n_estimators': estimators}\n",
    "clf = ml.Optimize(XGBClassifier(), grid, X3, y3)"
   ]
  },
  {
   "cell_type": "code",
   "execution_count": 20,
   "metadata": {},
   "outputs": [
    {
     "name": "stdout",
     "output_type": "stream",
     "text": [
      "[18:26:14] WARNING: C:/Users/Administrator/workspace/xgboost-win64_release_1.3.0/src/learner.cc:1061: Starting in XGBoost 1.3.0, the default evaluation metric used with the objective 'binary:logistic' was changed from 'error' to 'logloss'. Explicitly set eval_metric if you'd like to restore the old behavior.\n"
     ]
    },
    {
     "data": {
      "text/plain": [
       "'Training: 1.0, Validation: 0.9812938425565082'"
      ]
     },
     "execution_count": 20,
     "metadata": {},
     "output_type": "execute_result"
    }
   ],
   "source": [
    "ev.ScoreModel(clf, X3, y3)"
   ]
  },
  {
   "cell_type": "code",
   "execution_count": 21,
   "metadata": {},
   "outputs": [
    {
     "data": {
      "text/plain": [
       "<sklearn.metrics._plot.confusion_matrix.ConfusionMatrixDisplay at 0x2f93f9fc370>"
      ]
     },
     "execution_count": 21,
     "metadata": {},
     "output_type": "execute_result"
    },
    {
     "data": {
      "image/png": "[encoded data removed]",
      "text/plain": [
       "<Figure size 432x288 with 2 Axes>"
      ]
     },
     "metadata": {
      "needs_background": "light"
     },
     "output_type": "display_data"
    }
   ],
   "source": [
    "Xval2 = pd.DataFrame(Xval2)\n",
    "Xval2.columns = list(X.columns)\n",
    "ev.BuildConfusion(clf, Xval2, yval, cmap='Blues')"
   ]
  },
  {
   "cell_type": "code",
   "execution_count": 22,
   "metadata": {},
   "outputs": [
    {
     "name": "stdout",
     "output_type": "stream",
     "text": [
      "this model would save $16072 from prevented churn at the cost of losing $4550\n"
     ]
    }
   ],
   "source": [
    "cba = ev.BinaryCBA(clf, Xval2, yval, 56, 350, 14)\n",
    "print('this model would save ${} from prevented churn at the cost of losing ${}'.format(cba[1], cba[0]))"
   ]
  },
  {
   "cell_type": "code",
   "execution_count": 23,
   "metadata": {},
   "outputs": [
    {
     "data": {
      "text/plain": [
       "0.6990691013247404"
      ]
     },
     "execution_count": 23,
     "metadata": {},
     "output_type": "execute_result"
    }
   ],
   "source": [
    "ev.AUC(clf, Xval2, yval)"
   ]
  },
  {
   "cell_type": "markdown",
   "metadata": {},
   "source": [
    "## Step 4: Time for some Feature Engineering"
   ]
  },
  {
   "cell_type": "code",
   "execution_count": 24,
   "metadata": {},
   "outputs": [
    {
     "name": "stdout",
     "output_type": "stream",
     "text": [
      "[18:26:25] WARNING: C:/Users/Administrator/workspace/xgboost-win64_release_1.3.0/src/learner.cc:1061: Starting in XGBoost 1.3.0, the default evaluation metric used with the objective 'binary:logistic' was changed from 'error' to 'logloss'. Explicitly set eval_metric if you'd like to restore the old behavior.\n"
     ]
    },
    {
     "data": {
      "image/png": "[encoded data removed]",
      "text/plain": [
       "<Figure size 576x576 with 1 Axes>"
      ]
     },
     "metadata": {
      "needs_background": "light"
     },
     "output_type": "display_data"
    }
   ],
   "source": [
    "ev.GetImportance(clf, X3, y3)"
   ]
  },
  {
   "cell_type": "code",
   "execution_count": 25,
   "metadata": {
    "scrolled": true
   },
   "outputs": [
    {
     "name": "stdout",
     "output_type": "stream",
     "text": [
      "[18:26:27] WARNING: C:/Users/Administrator/workspace/xgboost-win64_release_1.3.0/src/learner.cc:1061: Starting in XGBoost 1.3.0, the default evaluation metric used with the objective 'binary:logistic' was changed from 'error' to 'logloss'. Explicitly set eval_metric if you'd like to restore the old behavior.\n",
      "[18:26:28] WARNING: C:/Users/Administrator/workspace/xgboost-win64_release_1.3.0/src/learner.cc:1061: Starting in XGBoost 1.3.0, the default evaluation metric used with the objective 'binary:logistic' was changed from 'error' to 'logloss'. Explicitly set eval_metric if you'd like to restore the old behavior.\n",
      "[18:26:29] WARNING: C:/Users/Administrator/workspace/xgboost-win64_release_1.3.0/src/learner.cc:1061: Starting in XGBoost 1.3.0, the default evaluation metric used with the objective 'binary:logistic' was changed from 'error' to 'logloss'. Explicitly set eval_metric if you'd like to restore the old behavior.\n",
      "[18:26:30] WARNING: C:/Users/Administrator/workspace/xgboost-win64_release_1.3.0/src/learner.cc:1061: Starting in XGBoost 1.3.0, the default evaluation metric used with the objective 'binary:logistic' was changed from 'error' to 'logloss'. Explicitly set eval_metric if you'd like to restore the old behavior.\n"
     ]
    },
    {
     "data": {
      "text/html": [
       "<div>\n",
       "<style scoped>\n",
       "    .dataframe tbody tr th:only-of-type {\n",
       "        vertical-align: middle;\n",
       "    }\n",
       "\n",
       "    .dataframe tbody tr th {\n",
       "        vertical-align: top;\n",
       "    }\n",
       "\n",
       "    .dataframe thead th {\n",
       "        text-align: right;\n",
       "    }\n",
       "</style>\n",
       "<table border=\"1\" class=\"dataframe\">\n",
       "  <thead>\n",
       "    <tr style=\"text-align: right;\">\n",
       "      <th></th>\n",
       "      <th>international plan</th>\n",
       "      <th>voice mail plan</th>\n",
       "      <th>number vmail messages</th>\n",
       "      <th>total day minutes</th>\n",
       "      <th>total day charge</th>\n",
       "      <th>total eve minutes</th>\n",
       "      <th>total eve charge</th>\n",
       "      <th>total intl minutes</th>\n",
       "      <th>total intl calls</th>\n",
       "      <th>total intl charge</th>\n",
       "      <th>customer service calls</th>\n",
       "      <th>avg duration</th>\n",
       "      <th>Midwest</th>\n",
       "      <th>Noncontinental</th>\n",
       "      <th>Northeast</th>\n",
       "      <th>Northwest</th>\n",
       "      <th>Southwest</th>\n",
       "    </tr>\n",
       "  </thead>\n",
       "  <tbody>\n",
       "    <tr>\n",
       "      <th>0</th>\n",
       "      <td>-0.330299</td>\n",
       "      <td>-0.619630</td>\n",
       "      <td>-0.592383</td>\n",
       "      <td>0.698258</td>\n",
       "      <td>0.697878</td>\n",
       "      <td>0.578917</td>\n",
       "      <td>0.579221</td>\n",
       "      <td>0.128281</td>\n",
       "      <td>-1.010338</td>\n",
       "      <td>0.124967</td>\n",
       "      <td>-0.425476</td>\n",
       "      <td>-0.859266</td>\n",
       "      <td>1.771031</td>\n",
       "      <td>-0.178893</td>\n",
       "      <td>-0.601618</td>\n",
       "      <td>-0.345612</td>\n",
       "      <td>-0.351028</td>\n",
       "    </tr>\n",
       "    <tr>\n",
       "      <th>1</th>\n",
       "      <td>-0.330299</td>\n",
       "      <td>1.613867</td>\n",
       "      <td>1.671306</td>\n",
       "      <td>0.034077</td>\n",
       "      <td>0.033804</td>\n",
       "      <td>0.246259</td>\n",
       "      <td>0.245751</td>\n",
       "      <td>0.414289</td>\n",
       "      <td>-0.190975</td>\n",
       "      <td>0.416280</td>\n",
       "      <td>-0.425476</td>\n",
       "      <td>-0.066993</td>\n",
       "      <td>-0.564643</td>\n",
       "      <td>-0.178893</td>\n",
       "      <td>-0.601618</td>\n",
       "      <td>2.893419</td>\n",
       "      <td>-0.351028</td>\n",
       "    </tr>\n",
       "    <tr>\n",
       "      <th>2</th>\n",
       "      <td>-0.330299</td>\n",
       "      <td>-0.619630</td>\n",
       "      <td>-0.592383</td>\n",
       "      <td>-1.737070</td>\n",
       "      <td>-1.736700</td>\n",
       "      <td>-1.259560</td>\n",
       "      <td>-1.259494</td>\n",
       "      <td>1.415315</td>\n",
       "      <td>0.628388</td>\n",
       "      <td>1.409393</td>\n",
       "      <td>0.336772</td>\n",
       "      <td>1.089359</td>\n",
       "      <td>1.771031</td>\n",
       "      <td>-0.178893</td>\n",
       "      <td>-0.601618</td>\n",
       "      <td>-0.345612</td>\n",
       "      <td>-0.351028</td>\n",
       "    </tr>\n",
       "    <tr>\n",
       "      <th>3</th>\n",
       "      <td>-0.330299</td>\n",
       "      <td>1.613867</td>\n",
       "      <td>1.160150</td>\n",
       "      <td>-1.985909</td>\n",
       "      <td>-1.986401</td>\n",
       "      <td>-0.375753</td>\n",
       "      <td>-0.374873</td>\n",
       "      <td>0.950553</td>\n",
       "      <td>-1.420020</td>\n",
       "      <td>0.945940</td>\n",
       "      <td>-0.425476</td>\n",
       "      <td>1.318485</td>\n",
       "      <td>-0.564643</td>\n",
       "      <td>-0.178893</td>\n",
       "      <td>-0.601618</td>\n",
       "      <td>-0.345612</td>\n",
       "      <td>-0.351028</td>\n",
       "    </tr>\n",
       "    <tr>\n",
       "      <th>4</th>\n",
       "      <td>3.027557</td>\n",
       "      <td>1.613867</td>\n",
       "      <td>1.817350</td>\n",
       "      <td>0.442100</td>\n",
       "      <td>0.441720</td>\n",
       "      <td>-0.257649</td>\n",
       "      <td>-0.256769</td>\n",
       "      <td>0.092530</td>\n",
       "      <td>0.628388</td>\n",
       "      <td>0.098483</td>\n",
       "      <td>1.099020</td>\n",
       "      <td>0.944766</td>\n",
       "      <td>-0.564643</td>\n",
       "      <td>5.589930</td>\n",
       "      <td>-0.601618</td>\n",
       "      <td>-0.345612</td>\n",
       "      <td>-0.351028</td>\n",
       "    </tr>\n",
       "  </tbody>\n",
       "</table>\n",
       "</div>"
      ],
      "text/plain": [
       "   international plan  voice mail plan  number vmail messages  \\\n",
       "0           -0.330299        -0.619630              -0.592383   \n",
       "1           -0.330299         1.613867               1.671306   \n",
       "2           -0.330299        -0.619630              -0.592383   \n",
       "3           -0.330299         1.613867               1.160150   \n",
       "4            3.027557         1.613867               1.817350   \n",
       "\n",
       "   total day minutes  total day charge  total eve minutes  total eve charge  \\\n",
       "0           0.698258          0.697878           0.578917          0.579221   \n",
       "1           0.034077          0.033804           0.246259          0.245751   \n",
       "2          -1.737070         -1.736700          -1.259560         -1.259494   \n",
       "3          -1.985909         -1.986401          -0.375753         -0.374873   \n",
       "4           0.442100          0.441720          -0.257649         -0.256769   \n",
       "\n",
       "   total intl minutes  total intl calls  total intl charge  \\\n",
       "0            0.128281         -1.010338           0.124967   \n",
       "1            0.414289         -0.190975           0.416280   \n",
       "2            1.415315          0.628388           1.409393   \n",
       "3            0.950553         -1.420020           0.945940   \n",
       "4            0.092530          0.628388           0.098483   \n",
       "\n",
       "   customer service calls  avg duration   Midwest  Noncontinental  Northeast  \\\n",
       "0               -0.425476     -0.859266  1.771031       -0.178893  -0.601618   \n",
       "1               -0.425476     -0.066993 -0.564643       -0.178893  -0.601618   \n",
       "2                0.336772      1.089359  1.771031       -0.178893  -0.601618   \n",
       "3               -0.425476      1.318485 -0.564643       -0.178893  -0.601618   \n",
       "4                1.099020      0.944766 -0.564643        5.589930  -0.601618   \n",
       "\n",
       "   Northwest  Southwest  \n",
       "0  -0.345612  -0.351028  \n",
       "1   2.893419  -0.351028  \n",
       "2  -0.345612  -0.351028  \n",
       "3  -0.345612  -0.351028  \n",
       "4  -0.345612  -0.351028  "
      ]
     },
     "execution_count": 25,
     "metadata": {},
     "output_type": "execute_result"
    }
   ],
   "source": [
    "X4, Xval4 = wr.FeatureEngineering(X3, y3, Xval2, yval, clf, 'classification', 'recall')\n",
    "\n",
    "X4.head()"
   ]
  },
  {
   "cell_type": "code",
   "execution_count": 26,
   "metadata": {},
   "outputs": [
    {
     "data": {
      "text/plain": [
       "(5130, 17)"
      ]
     },
     "execution_count": 26,
     "metadata": {},
     "output_type": "execute_result"
    }
   ],
   "source": [
    "X4.shape"
   ]
  },
  {
   "cell_type": "code",
   "execution_count": 27,
   "metadata": {},
   "outputs": [
    {
     "name": "stdout",
     "output_type": "stream",
     "text": [
      "Fitting 3 folds for each of 396 candidates, totalling 1188 fits\n"
     ]
    },
    {
     "name": "stderr",
     "output_type": "stream",
     "text": [
      "[Parallel(n_jobs=-1)]: Using backend LokyBackend with 12 concurrent workers.\n",
      "[Parallel(n_jobs=-1)]: Done  17 tasks      | elapsed:    0.7s\n",
      "[Parallel(n_jobs=-1)]: Done 138 tasks      | elapsed:   13.8s\n",
      "[Parallel(n_jobs=-1)]: Done 341 tasks      | elapsed:   52.7s\n",
      "[Parallel(n_jobs=-1)]: Done 624 tasks      | elapsed:  2.1min\n",
      "[Parallel(n_jobs=-1)]: Done 989 tasks      | elapsed:  3.2min\n",
      "[Parallel(n_jobs=-1)]: Done 1188 out of 1188 | elapsed:  4.0min finished\n"
     ]
    },
    {
     "name": "stdout",
     "output_type": "stream",
     "text": [
      "[18:30:41] WARNING: C:/Users/Administrator/workspace/xgboost-win64_release_1.3.0/src/learner.cc:1061: Starting in XGBoost 1.3.0, the default evaluation metric used with the objective 'binary:logistic' was changed from 'error' to 'logloss'. Explicitly set eval_metric if you'd like to restore the old behavior.\n"
     ]
    }
   ],
   "source": [
    "estimators = al.Estimators(X4, 100)\n",
    "grid = {'learning_rate': [0.1, 0.2], 'max_depth': [3, 6, 9], \n",
    "        'min_child_weight': [1, 2], 'subsample': [0.5, 0.7, 1], \n",
    "        'n_estimators': estimators}\n",
    "clf = ml.Optimize(clf, grid, X4, y3)"
   ]
  },
  {
   "cell_type": "code",
   "execution_count": 28,
   "metadata": {
    "scrolled": true
   },
   "outputs": [
    {
     "data": {
      "text/plain": [
       "<sklearn.metrics._plot.confusion_matrix.ConfusionMatrixDisplay at 0x2f9471a7430>"
      ]
     },
     "execution_count": 28,
     "metadata": {},
     "output_type": "execute_result"
    },
    {
     "data": {
      "image/png": "[encoded data removed]",
      "text/plain": [
       "<Figure size 432x288 with 2 Axes>"
      ]
     },
     "metadata": {
      "needs_background": "light"
     },
     "output_type": "display_data"
    }
   ],
   "source": [
    "ev.BuildConfusion(clf, Xval4, yval)"
   ]
  },
  {
   "cell_type": "code",
   "execution_count": 29,
   "metadata": {},
   "outputs": [
    {
     "data": {
      "text/plain": [
       "0.6006444683136412"
      ]
     },
     "execution_count": 29,
     "metadata": {},
     "output_type": "execute_result"
    }
   ],
   "source": [
    "ev.AUC(clf, Xval4, yval)"
   ]
  },
  {
   "cell_type": "code",
   "execution_count": 30,
   "metadata": {},
   "outputs": [
    {
     "name": "stdout",
     "output_type": "stream",
     "text": [
      "this model would save $18424 from prevented churn at the cost of losing $3724\n"
     ]
    }
   ],
   "source": [
    "cba = ev.BinaryCBA(clf, Xval4, yval, 56, 350, 14)\n",
    "print('this model would save ${} from prevented churn at the cost of losing ${}'.format(cba[1], cba[0]))"
   ]
  },
  {
   "cell_type": "markdown",
   "metadata": {},
   "source": [
    "Despite it's lower overall accuracy, this model is the best one because it has the best cost to benefit. this is because each false positive is a 14 dollar loss while a false negative is a 350 dollar loss."
   ]
  },
  {
   "cell_type": "markdown",
   "metadata": {},
   "source": [
    "# Giving Deep Learning a shot!"
   ]
  },
  {
   "cell_type": "code",
   "execution_count": 31,
   "metadata": {},
   "outputs": [],
   "source": [
    "train_data = np.array(X4)\n",
    "test_data = np.array(Xval4)\n",
    "train_labels = dl.MulticlassOutput(np.array(y3))\n",
    "test_lables = dl.MulticlassOutput(np.array(yval))"
   ]
  },
  {
   "cell_type": "code",
   "execution_count": 32,
   "metadata": {},
   "outputs": [
    {
     "name": "stdout",
     "output_type": "stream",
     "text": [
      "Epoch 1/150\n",
      "129/129 [==============================] - 1s 8ms/step - loss: 0.6096 - accuracy: 0.6534 - val_loss: 0.5482 - val_accuracy: 0.8177\n",
      "Epoch 2/150\n",
      "129/129 [==============================] - 0s 1ms/step - loss: 0.3883 - accuracy: 0.8416 - val_loss: 0.3242 - val_accuracy: 0.8840\n",
      "Epoch 3/150\n",
      "129/129 [==============================] - 0s 2ms/step - loss: 0.3309 - accuracy: 0.8632 - val_loss: 0.3918 - val_accuracy: 0.8353\n",
      "Epoch 4/150\n",
      "129/129 [==============================] - 0s 1ms/step - loss: 0.2937 - accuracy: 0.8829 - val_loss: 0.3000 - val_accuracy: 0.8743\n",
      "Epoch 5/150\n",
      "129/129 [==============================] - 0s 1ms/step - loss: 0.2815 - accuracy: 0.8890 - val_loss: 0.2820 - val_accuracy: 0.8752\n",
      "Epoch 6/150\n",
      "129/129 [==============================] - 0s 1ms/step - loss: 0.2609 - accuracy: 0.8949 - val_loss: 0.2875 - val_accuracy: 0.8752\n",
      "Epoch 7/150\n",
      "129/129 [==============================] - 0s 1ms/step - loss: 0.2484 - accuracy: 0.9000 - val_loss: 0.3951 - val_accuracy: 0.8333\n",
      "Epoch 8/150\n",
      "129/129 [==============================] - 0s 1ms/step - loss: 0.2389 - accuracy: 0.9091 - val_loss: 0.3011 - val_accuracy: 0.8684\n",
      "Epoch 9/150\n",
      "129/129 [==============================] - 0s 1ms/step - loss: 0.2406 - accuracy: 0.9063 - val_loss: 0.3424 - val_accuracy: 0.8538\n",
      "Epoch 10/150\n",
      "129/129 [==============================] - 0s 1ms/step - loss: 0.2339 - accuracy: 0.9071 - val_loss: 0.2830 - val_accuracy: 0.8694\n",
      "Epoch 11/150\n",
      "129/129 [==============================] - 0s 1ms/step - loss: 0.2136 - accuracy: 0.9207 - val_loss: 0.3126 - val_accuracy: 0.8616\n",
      "Epoch 12/150\n",
      "129/129 [==============================] - 0s 1ms/step - loss: 0.2278 - accuracy: 0.9110 - val_loss: 0.2643 - val_accuracy: 0.8772\n",
      "Epoch 13/150\n",
      "129/129 [==============================] - 0s 1ms/step - loss: 0.2201 - accuracy: 0.9129 - val_loss: 0.3059 - val_accuracy: 0.8509\n",
      "Epoch 14/150\n",
      "129/129 [==============================] - 0s 1ms/step - loss: 0.1976 - accuracy: 0.9266 - val_loss: 0.2468 - val_accuracy: 0.8840\n",
      "Epoch 15/150\n",
      "129/129 [==============================] - 0s 1ms/step - loss: 0.1836 - accuracy: 0.9318 - val_loss: 0.2659 - val_accuracy: 0.8811\n",
      "Epoch 16/150\n",
      "129/129 [==============================] - 0s 1ms/step - loss: 0.1903 - accuracy: 0.9243 - val_loss: 0.3166 - val_accuracy: 0.8558\n",
      "Epoch 17/150\n",
      "129/129 [==============================] - 0s 1ms/step - loss: 0.1922 - accuracy: 0.9267 - val_loss: 0.2790 - val_accuracy: 0.8772\n",
      "Epoch 18/150\n",
      "129/129 [==============================] - 0s 1ms/step - loss: 0.1839 - accuracy: 0.9276 - val_loss: 0.2458 - val_accuracy: 0.8879\n",
      "Epoch 19/150\n",
      "129/129 [==============================] - 0s 1ms/step - loss: 0.1792 - accuracy: 0.9297 - val_loss: 0.2715 - val_accuracy: 0.8704\n",
      "Epoch 20/150\n",
      "129/129 [==============================] - 0s 1ms/step - loss: 0.1779 - accuracy: 0.9334 - val_loss: 0.1963 - val_accuracy: 0.9094\n",
      "Epoch 21/150\n",
      "129/129 [==============================] - 0s 1ms/step - loss: 0.1766 - accuracy: 0.9338 - val_loss: 0.2764 - val_accuracy: 0.8723\n",
      "Epoch 22/150\n",
      "129/129 [==============================] - 0s 1ms/step - loss: 0.1705 - accuracy: 0.9366 - val_loss: 0.2327 - val_accuracy: 0.8986\n",
      "Epoch 23/150\n",
      "129/129 [==============================] - 0s 1ms/step - loss: 0.1606 - accuracy: 0.9392 - val_loss: 0.2477 - val_accuracy: 0.8908\n",
      "Epoch 24/150\n",
      "129/129 [==============================] - 0s 1ms/step - loss: 0.1657 - accuracy: 0.9379 - val_loss: 0.3157 - val_accuracy: 0.8548\n",
      "Epoch 25/150\n",
      "129/129 [==============================] - 0s 1ms/step - loss: 0.1548 - accuracy: 0.9414 - val_loss: 0.2441 - val_accuracy: 0.8899\n",
      "Epoch 26/150\n",
      "129/129 [==============================] - 0s 1ms/step - loss: 0.1625 - accuracy: 0.9345 - val_loss: 0.2846 - val_accuracy: 0.8655\n",
      "Epoch 27/150\n",
      "129/129 [==============================] - 0s 1ms/step - loss: 0.1537 - accuracy: 0.9358 - val_loss: 0.3154 - val_accuracy: 0.8558\n",
      "Epoch 28/150\n",
      "129/129 [==============================] - 0s 1ms/step - loss: 0.1355 - accuracy: 0.9532 - val_loss: 0.2225 - val_accuracy: 0.9035\n",
      "Epoch 29/150\n",
      "129/129 [==============================] - 0s 1ms/step - loss: 0.1421 - accuracy: 0.9494 - val_loss: 0.2919 - val_accuracy: 0.8743\n",
      "Epoch 30/150\n",
      "129/129 [==============================] - 0s 1ms/step - loss: 0.1355 - accuracy: 0.9492 - val_loss: 0.2577 - val_accuracy: 0.8879\n"
     ]
    }
   ],
   "source": [
    "early_stopping = [EarlyStopping(patience=10), ModelCheckpoint(filepath='model.{epoch:02d}-{val_loss:.2f}.h5')]\n",
    "model = dl.FastNN('classification', 'binary_crossentropy', output_dim=2)\n",
    "history = model.fit(train_data, train_labels, batch_size=32, epochs=150, validation_split=0.2, callbacks=early_stopping)"
   ]
  },
  {
   "cell_type": "code",
   "execution_count": 33,
   "metadata": {
    "scrolled": true
   },
   "outputs": [
    {
     "data": {
      "image/png": "[encoded data removed]",
      "text/plain": [
       "<Figure size 432x288 with 1 Axes>"
      ]
     },
     "metadata": {
      "needs_background": "light"
     },
     "output_type": "display_data"
    }
   ],
   "source": [
    "ev.ViewAccuracy(history)"
   ]
  },
  {
   "cell_type": "code",
   "execution_count": 34,
   "metadata": {},
   "outputs": [
    {
     "data": {
      "image/png": "[encoded data removed]",
      "text/plain": [
       "<Figure size 432x288 with 1 Axes>"
      ]
     },
     "metadata": {
      "needs_background": "light"
     },
     "output_type": "display_data"
    }
   ],
   "source": [
    "ev.ViewLoss(history)"
   ]
  },
  {
   "cell_type": "code",
   "execution_count": 35,
   "metadata": {},
   "outputs": [
    {
     "data": {
      "text/plain": [
       "<AxesSubplot:xlabel='Predict', ylabel='True'>"
      ]
     },
     "execution_count": 35,
     "metadata": {},
     "output_type": "execute_result"
    },
    {
     "data": {
      "image/png": "[encoded data removed]",
      "text/plain": [
       "<Figure size 432x288 with 2 Axes>"
      ]
     },
     "metadata": {
      "needs_background": "light"
     },
     "output_type": "display_data"
    }
   ],
   "source": [
    "ev.BuildConfusionDL(model, test_data, test_lables, cmap='Blues')"
   ]
  },
  {
   "cell_type": "markdown",
   "metadata": {},
   "source": [
    "Our training data has 71% recall and 95% precision, it's Ok but not our best."
   ]
  },
  {
   "cell_type": "markdown",
   "metadata": {},
   "source": [
    "here's the repo for this notebook: https://github.com/spe301/dsc-phase-3-project"
   ]
  }
 ],
 "metadata": {
  "kernelspec": {
   "display_name": "Python 3",
   "language": "python",
   "name": "python3"
  },
  "language_info": {
   "codemirror_mode": {
    "name": "ipython",
    "version": 3
   },
   "file_extension": ".py",
   "mimetype": "text/x-python",
   "name": "python",
   "nbconvert_exporter": "python",
   "pygments_lexer": "ipython3",
   "version": "3.8.5"
  }
 },
 "nbformat": 4,
 "nbformat_minor": 4
}
