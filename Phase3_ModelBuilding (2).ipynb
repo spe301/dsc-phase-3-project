{
 "cells": [
  {
   "cell_type": "code",
   "execution_count": 1,
   "metadata": {},
   "outputs": [],
   "source": [
    "import pandas as pd\n",
    "import numpy as np\n",
    "from sklearn.svm import SVC, SVR\n",
    "from sklearn.linear_model import LogisticRegression, LinearRegression\n",
    "from sklearn.neighbors import  KNeighborsClassifier, KNeighborsRegressor\n",
    "from sklearn.naive_bayes import GaussianNB, MultinomialNB\n",
    "from sklearn.tree import DecisionTreeClassifier, DecisionTreeRegressor, plot_tree\n",
    "from sklearn.ensemble import RandomForestClassifier, RandomForestRegressor, AdaBoostClassifier, AdaBoostRegressor, GradientBoostingClassifier, GradientBoostingRegressor\n",
    "from sklearn.model_selection import GridSearchCV, train_test_split\n",
    "from sklearn.metrics import confusion_matrix, roc_curve, auc, plot_confusion_matrix\n",
    "from sklearn.preprocessing import StandardScaler, MinMaxScaler\n",
    "from imblearn.over_sampling import SMOTE\n",
    "from sklearn.pipeline import Pipeline\n",
    "from sklearn.datasets import load_iris\n",
    "from xgboost import XGBClassifier, XGBRegressor\n",
    "from matplotlib import pyplot as plt\n",
    "from sklearn.feature_selection import SelectKBest\n",
    "from statsmodels.stats.outliers_influence import variance_inflation_factor\n",
    "\n",
    "class MachineLearning:\n",
    "    \n",
    "    def CompareClassifiers(self, X, y):\n",
    "        X_train, X_test, y_train, y_test = train_test_split(X, y, test_size=0.25)\n",
    "        n = len(np.unique(y))\n",
    "        if n == 2:\n",
    "            methods = [KNeighborsClassifier(), GaussianNB(), DecisionTreeClassifier(), RandomForestClassifier(),\n",
    "                       AdaBoostClassifier(), GradientBoostingClassifier(), XGBClassifier(), LogisticRegression(),\n",
    "                       SVC()]\n",
    "            strs = ['KNN', 'NB', 'DT', 'RF', 'AB', 'GB', 'XGB', 'Log', 'SVM']\n",
    "        else:\n",
    "            methods = [KNeighborsClassifier(), MultinomialNB(), DecisionTreeClassifier(), RandomForestClassifier(),\n",
    "                       AdaBoostClassifier(), GradientBoostingClassifier(), XGBClassifier(), SVC()]\n",
    "            strs = ['KNN', 'NB', 'DT', 'RF', 'AB', 'GB', 'XGB', 'SVM']\n",
    "        train_acc = []\n",
    "        test_acc = []\n",
    "        for i in range(len(methods)):\n",
    "            clf = methods[i].fit(X_train, y_train)\n",
    "            train_acc.append(clf.score(X_train, y_train))\n",
    "            test_acc.append(clf.score(X_test, y_test))\n",
    "        c1 = pd.DataFrame(strs)\n",
    "        c2 = pd.DataFrame(train_acc)\n",
    "        c3 = pd.DataFrame(test_acc)\n",
    "        results = pd.concat([c1, c2, c3], axis='columns')\n",
    "        results.columns = ['Model', 'train_acc', 'test_acc']\n",
    "        return results\n",
    "    \n",
    "    def CompareRegressors(self, X, y):\n",
    "        X_train, X_test, y_train, y_test = train_test_split(X, y, test_size=0.25)\n",
    "        n = len(np.unique(y))\n",
    "        methods = [LinearRegression(), KNeighborsRegressor(), DecisionTreeRegressor(), RandomForestRegressor(),\n",
    "                       AdaBoostRegressor(), GradientBoostingRegressor(), XGBRegressor(), SVR()]\n",
    "        strs = ['Lin', 'KNN', 'DT', 'RF', 'AB', 'GB', 'XGB', 'SVM']\n",
    "        train_acc = []\n",
    "        test_acc = []\n",
    "        for i in range(len(methods)):\n",
    "            reg = methods[i].fit(X_train, y_train)\n",
    "            train_acc.append(reg.score(X_train, y_train))\n",
    "            test_acc.append(reg.score(X_test, y_test))\n",
    "        c1 = pd.DataFrame(strs)\n",
    "        c2 = pd.DataFrame(train_acc)\n",
    "        c3 = pd.DataFrame(test_acc)\n",
    "        results = pd.concat([c1, c2, c3], axis='columns')\n",
    "        results.columns = ['Model', 'train_acc', 'test_acc']\n",
    "        return results\n",
    "    \n",
    "    def Optimize(self, model, parameters, X, y, metric='accuracy'):\n",
    "        try:\n",
    "            X_train, X_test, y_train, y_test = train_test_split(X, y, test_size=0.25)\n",
    "            return GridSearchCV(model, parameters, cv=5, scoring=metric, n_jobs=-1, verbose=2).fit(X_train, y_train).best_estimator_\n",
    "        except:\n",
    "            return GridSearchCV(model, parameters, cv=5, n_jobs=-1, verbose=2).fit(X_train, y_train).best_estimator_\n",
    "        \n",
    "    def PipeIt(self, scaler, model, X, y):\n",
    "        X_train, X_test, y_train, y_test = train_test_split(X, y, test_size=0.25)\n",
    "        pipe = Pipeline([('scaler', scaler), ('model', model)]).fit(X_train, y_train)\n",
    "        return \"Training: {}, Validation: {}\".format(pipe.score(X_train, y_train), pipe.score(X_test, y_test))\n",
    "\n",
    "\n",
    "class DataHelper:\n",
    "    \n",
    "    def ScaleData(self, strategy, y_var, data):\n",
    "        X = data.drop([y_var], axis='columns')\n",
    "        if strategy == 'minmax':\n",
    "            return MinMaxScaler().fit(X).transform(X)\n",
    "        if strategy == 'standard':\n",
    "            return StandardScaler().fit(X).transform(X)\n",
    "        if strategy == 'mean':\n",
    "            for col in X.columns:\n",
    "                X[col] = (X[col] - min(X[col]))/ (max(X[col]) - min(X[col]))\n",
    "            return X\n",
    "        \n",
    "    def HoldOut(self, data):\n",
    "        train, test = train_test_split(data, test_size=0.1)\n",
    "        return train, test\n",
    "    \n",
    "    def MakeNewDF(self, X, y, k):\n",
    "        selector = SelectKBest(k=k).fit(X, y)\n",
    "        mask = selector.get_support()\n",
    "        selected = []\n",
    "        for i in range(len(mask)):\n",
    "            if mask[i] == True:\n",
    "                selected.append(X.columns[i])\n",
    "        df = pd.DataFrame(selector.transform(X))\n",
    "        df.columns = selected\n",
    "        return df\n",
    "    \n",
    "    def VifIt(self, X):\n",
    "        vif = pd.Series([variance_inflation_factor(X.values, i) \n",
    "               for i in range(X.shape[1])], \n",
    "              index=X.columns)\n",
    "        return vif\n",
    "        \n",
    "    \n",
    "class Evaluater:\n",
    "    \n",
    "    def ScoreModel(self, model, X, y):\n",
    "        X_train, X_test, y_train, y_test = train_test_split(X, y, test_size=0.25)\n",
    "        algo = model.fit(X_train, y_train)\n",
    "        return 'Training: {}, Validation: {}'.format(algo.score(X_train, y_train), algo.score(X_test, y_test))\n",
    "    \n",
    "    def BuildConfusion(self, fitted_model,  Xval, yval, cmap='plasma'):\n",
    "        try:\n",
    "            cm = plot_confusion_matrix(fitted_model, Xval, yval, cmap=cmap)\n",
    "            return cm\n",
    "        except:\n",
    "            return 'Please fit model before passing'\n",
    "    \n",
    "    def BuildTree(self, tree):\n",
    "        try:\n",
    "            return plot_tree(tree)\n",
    "        except:\n",
    "            return 'Please pass a tree class'\n",
    "    \n",
    "    def GetCoefficients(self, model, X, y):\n",
    "        try:\n",
    "            X_train, X_test, y_train, y_test = train_test_split(X, y, test_size=0.25)\n",
    "            model.fit(X_train, y_train)\n",
    "            return 'coefficients: {}'.format(model.coef_)\n",
    "        except:\n",
    "            return 'Please pass LinearRegression, LogisticRegression, or an SVM with a linear kernel'\n",
    "        \n",
    "    def GetImportance(self, model, X, y):\n",
    "        X_train, X_test, y_train, y_test = train_test_split(X, y, test_size=0.25)\n",
    "        model.fit(X_train, y_train)\n",
    "        try:\n",
    "            FI = model.feature_importances_\n",
    "            n_features = X_train.shape[1]\n",
    "            plt.figure(figsize=(8,8))\n",
    "            plt.barh(range(n_features), FI, align='center') \n",
    "            plt.yticks(np.arange(n_features), X_train.columns.values) \n",
    "            plt.xlabel('Feature importance')\n",
    "            plt.ylabel('Feature')\n",
    "        except:\n",
    "            return 'Please pass an ensemble class'\n",
    "        \n",
    "    def AUC(self, model, Xval, yval):\n",
    "        pred = model.predict(Xval)\n",
    "        fpr, tpr, threshold = roc_curve(yval, pred)\n",
    "        return auc(fpr, tpr)\n",
    "    \n",
    "ml = MachineLearning()\n",
    "dh = DataHelper()\n",
    "ev = Evaluater()"
   ]
  },
  {
   "cell_type": "code",
   "execution_count": 2,
   "metadata": {},
   "outputs": [],
   "source": [
    "df = pd.read_csv(r'C:\\Users\\aacjp\\OneDrive\\Desktop\\data\\tables\\ChurnData_ForML.csv')\n",
    "\n",
    "HO = dh.HoldOut(df)\n",
    "df = HO[0].drop(['Unnamed: 0'], axis='columns')\n",
    "val_df = HO[1].drop(['Unnamed: 0'], axis='columns')"
   ]
  },
  {
   "cell_type": "code",
   "execution_count": 3,
   "metadata": {},
   "outputs": [
    {
     "name": "stderr",
     "output_type": "stream",
     "text": [
      "C:\\Users\\aacjp\\Anaconda3\\envs\\flatiron-env\\lib\\site-packages\\sklearn\\linear_model\\_logistic.py:764: ConvergenceWarning: lbfgs failed to converge (status=1):\n",
      "STOP: TOTAL NO. of ITERATIONS REACHED LIMIT.\n",
      "\n",
      "Increase the number of iterations (max_iter) or scale the data as shown in:\n",
      "    https://scikit-learn.org/stable/modules/preprocessing.html\n",
      "Please also refer to the documentation for alternative solver options:\n",
      "    https://scikit-learn.org/stable/modules/linear_model.html#logistic-regression\n",
      "  extra_warning_msg=_LOGISTIC_SOLVER_CONVERGENCE_MSG)\n"
     ]
    },
    {
     "data": {
      "text/html": [
       "<div>\n",
       "<style scoped>\n",
       "    .dataframe tbody tr th:only-of-type {\n",
       "        vertical-align: middle;\n",
       "    }\n",
       "\n",
       "    .dataframe tbody tr th {\n",
       "        vertical-align: top;\n",
       "    }\n",
       "\n",
       "    .dataframe thead th {\n",
       "        text-align: right;\n",
       "    }\n",
       "</style>\n",
       "<table border=\"1\" class=\"dataframe\">\n",
       "  <thead>\n",
       "    <tr style=\"text-align: right;\">\n",
       "      <th></th>\n",
       "      <th>Model</th>\n",
       "      <th>train_acc</th>\n",
       "      <th>test_acc</th>\n",
       "    </tr>\n",
       "  </thead>\n",
       "  <tbody>\n",
       "    <tr>\n",
       "      <th>0</th>\n",
       "      <td>KNN</td>\n",
       "      <td>0.899956</td>\n",
       "      <td>0.881333</td>\n",
       "    </tr>\n",
       "    <tr>\n",
       "      <th>1</th>\n",
       "      <td>NB</td>\n",
       "      <td>0.862606</td>\n",
       "      <td>0.897333</td>\n",
       "    </tr>\n",
       "    <tr>\n",
       "      <th>2</th>\n",
       "      <td>DT</td>\n",
       "      <td>1.000000</td>\n",
       "      <td>0.884000</td>\n",
       "    </tr>\n",
       "    <tr>\n",
       "      <th>3</th>\n",
       "      <td>RF</td>\n",
       "      <td>1.000000</td>\n",
       "      <td>0.948000</td>\n",
       "    </tr>\n",
       "    <tr>\n",
       "      <th>4</th>\n",
       "      <td>AB</td>\n",
       "      <td>0.893731</td>\n",
       "      <td>0.882667</td>\n",
       "    </tr>\n",
       "    <tr>\n",
       "      <th>5</th>\n",
       "      <td>GB</td>\n",
       "      <td>0.975545</td>\n",
       "      <td>0.948000</td>\n",
       "    </tr>\n",
       "    <tr>\n",
       "      <th>6</th>\n",
       "      <td>XGB</td>\n",
       "      <td>0.969320</td>\n",
       "      <td>0.949333</td>\n",
       "    </tr>\n",
       "    <tr>\n",
       "      <th>7</th>\n",
       "      <td>Log</td>\n",
       "      <td>0.855936</td>\n",
       "      <td>0.857333</td>\n",
       "    </tr>\n",
       "    <tr>\n",
       "      <th>8</th>\n",
       "      <td>SVM</td>\n",
       "      <td>0.855491</td>\n",
       "      <td>0.856000</td>\n",
       "    </tr>\n",
       "  </tbody>\n",
       "</table>\n",
       "</div>"
      ],
      "text/plain": [
       "  Model  train_acc  test_acc\n",
       "0   KNN   0.899956  0.881333\n",
       "1    NB   0.862606  0.897333\n",
       "2    DT   1.000000  0.884000\n",
       "3    RF   1.000000  0.948000\n",
       "4    AB   0.893731  0.882667\n",
       "5    GB   0.975545  0.948000\n",
       "6   XGB   0.969320  0.949333\n",
       "7   Log   0.855936  0.857333\n",
       "8   SVM   0.855491  0.856000"
      ]
     },
     "execution_count": 3,
     "metadata": {},
     "output_type": "execute_result"
    }
   ],
   "source": [
    "X = df.drop(['churn'], axis='columns')\n",
    "y = df['churn']\n",
    "ml.CompareClassifiers(X, y)"
   ]
  },
  {
   "cell_type": "code",
   "execution_count": 4,
   "metadata": {},
   "outputs": [
    {
     "name": "stdout",
     "output_type": "stream",
     "text": [
      "Fitting 5 folds for each of 8 candidates, totalling 40 fits\n"
     ]
    },
    {
     "name": "stderr",
     "output_type": "stream",
     "text": [
      "[Parallel(n_jobs=-1)]: Using backend LokyBackend with 12 concurrent workers.\n",
      "[Parallel(n_jobs=-1)]: Done  17 tasks      | elapsed:    3.3s\n",
      "[Parallel(n_jobs=-1)]: Done  38 out of  40 | elapsed:    4.1s remaining:    0.1s\n",
      "[Parallel(n_jobs=-1)]: Done  40 out of  40 | elapsed:    4.1s finished\n"
     ]
    }
   ],
   "source": [
    "parameters = {\n",
    "    'learning_rate': [0.1, 0.2],\n",
    "    'max_depth': [6],\n",
    "    'min_child_weight': [1, 2],\n",
    "    'subsample': [0.5, 0.7],\n",
    "    'n_estimators': [100],\n",
    "}\n",
    "clf = ml.Optimize(XGBClassifier(), parameters, X, y, metric='recall')"
   ]
  },
  {
   "cell_type": "code",
   "execution_count": 5,
   "metadata": {},
   "outputs": [
    {
     "data": {
      "text/plain": [
       "XGBClassifier(max_depth=6, min_child_weight=2, subsample=0.7)"
      ]
     },
     "execution_count": 5,
     "metadata": {},
     "output_type": "execute_result"
    }
   ],
   "source": [
    "clf"
   ]
  },
  {
   "cell_type": "code",
   "execution_count": 6,
   "metadata": {},
   "outputs": [
    {
     "data": {
      "text/plain": [
       "'Training: 0.9857714539795465, Validation: 0.952'"
      ]
     },
     "execution_count": 6,
     "metadata": {},
     "output_type": "execute_result"
    }
   ],
   "source": [
    "ev.ScoreModel(clf, X, y)"
   ]
  },
  {
   "cell_type": "code",
   "execution_count": 7,
   "metadata": {},
   "outputs": [
    {
     "data": {
      "text/plain": [
       "<sklearn.metrics._plot.confusion_matrix.ConfusionMatrixDisplay at 0x1b18b382630>"
      ]
     },
     "execution_count": 7,
     "metadata": {},
     "output_type": "execute_result"
    },
    {
     "data": {
      "image/png": "[encoded data removed]",
      "text/plain": [
       "<Figure size 432x288 with 2 Axes>"
      ]
     },
     "metadata": {
      "needs_background": "light"
     },
     "output_type": "display_data"
    }
   ],
   "source": [
    "fitted_model = clf.fit(X, y)\n",
    "Xval = val_df.drop(['churn'], axis='columns')\n",
    "yval = val_df['churn']\n",
    "ev.BuildConfusion(clf, Xval, yval)"
   ]
  },
  {
   "cell_type": "code",
   "execution_count": 8,
   "metadata": {},
   "outputs": [
    {
     "data": {
      "text/plain": [
       "0.8647183098591549"
      ]
     },
     "execution_count": 8,
     "metadata": {},
     "output_type": "execute_result"
    }
   ],
   "source": [
    "ev.AUC(clf, Xval, yval)"
   ]
  },
  {
   "cell_type": "markdown",
   "metadata": {},
   "source": [
    "# Step 2...\n",
    "\n",
    "normalize the data"
   ]
  },
  {
   "cell_type": "markdown",
   "metadata": {},
   "source": [
    "Accuracy imporved more from MinMaxScaling but validation recall and AUC dropped significantly. I ended up using standard scaler instead."
   ]
  },
  {
   "cell_type": "code",
   "execution_count": 9,
   "metadata": {},
   "outputs": [
    {
     "data": {
      "text/plain": [
       "'Training: 0.9835482436638506, Validation: 0.9546666666666667'"
      ]
     },
     "execution_count": 9,
     "metadata": {},
     "output_type": "execute_result"
    }
   ],
   "source": [
    "scaler = StandardScaler()\n",
    "ml.PipeIt(scaler, clf, X, y)"
   ]
  },
  {
   "cell_type": "code",
   "execution_count": 10,
   "metadata": {},
   "outputs": [
    {
     "data": {
      "text/plain": [
       "'Training: 0.9795464650955981, Validation: 0.9573333333333334'"
      ]
     },
     "execution_count": 10,
     "metadata": {},
     "output_type": "execute_result"
    }
   ],
   "source": [
    "scaler = MinMaxScaler()\n",
    "ml.PipeIt(scaler, clf, X, y)"
   ]
  },
  {
   "cell_type": "code",
   "execution_count": 11,
   "metadata": {},
   "outputs": [
    {
     "data": {
      "text/html": [
       "<div>\n",
       "<style scoped>\n",
       "    .dataframe tbody tr th:only-of-type {\n",
       "        vertical-align: middle;\n",
       "    }\n",
       "\n",
       "    .dataframe tbody tr th {\n",
       "        vertical-align: top;\n",
       "    }\n",
       "\n",
       "    .dataframe thead th {\n",
       "        text-align: right;\n",
       "    }\n",
       "</style>\n",
       "<table border=\"1\" class=\"dataframe\">\n",
       "  <thead>\n",
       "    <tr style=\"text-align: right;\">\n",
       "      <th></th>\n",
       "      <th>Model</th>\n",
       "      <th>train_acc</th>\n",
       "      <th>test_acc</th>\n",
       "    </tr>\n",
       "  </thead>\n",
       "  <tbody>\n",
       "    <tr>\n",
       "      <th>0</th>\n",
       "      <td>KNN</td>\n",
       "      <td>0.910627</td>\n",
       "      <td>0.876000</td>\n",
       "    </tr>\n",
       "    <tr>\n",
       "      <th>1</th>\n",
       "      <td>NB</td>\n",
       "      <td>0.868831</td>\n",
       "      <td>0.882667</td>\n",
       "    </tr>\n",
       "    <tr>\n",
       "      <th>2</th>\n",
       "      <td>DT</td>\n",
       "      <td>1.000000</td>\n",
       "      <td>0.922667</td>\n",
       "    </tr>\n",
       "    <tr>\n",
       "      <th>3</th>\n",
       "      <td>RF</td>\n",
       "      <td>1.000000</td>\n",
       "      <td>0.957333</td>\n",
       "    </tr>\n",
       "    <tr>\n",
       "      <th>4</th>\n",
       "      <td>AB</td>\n",
       "      <td>0.892397</td>\n",
       "      <td>0.866667</td>\n",
       "    </tr>\n",
       "    <tr>\n",
       "      <th>5</th>\n",
       "      <td>GB</td>\n",
       "      <td>0.977323</td>\n",
       "      <td>0.958667</td>\n",
       "    </tr>\n",
       "    <tr>\n",
       "      <th>6</th>\n",
       "      <td>XGB</td>\n",
       "      <td>0.971098</td>\n",
       "      <td>0.954667</td>\n",
       "    </tr>\n",
       "    <tr>\n",
       "      <th>7</th>\n",
       "      <td>Log</td>\n",
       "      <td>0.870165</td>\n",
       "      <td>0.862667</td>\n",
       "    </tr>\n",
       "    <tr>\n",
       "      <th>8</th>\n",
       "      <td>SVM</td>\n",
       "      <td>0.938639</td>\n",
       "      <td>0.902667</td>\n",
       "    </tr>\n",
       "  </tbody>\n",
       "</table>\n",
       "</div>"
      ],
      "text/plain": [
       "  Model  train_acc  test_acc\n",
       "0   KNN   0.910627  0.876000\n",
       "1    NB   0.868831  0.882667\n",
       "2    DT   1.000000  0.922667\n",
       "3    RF   1.000000  0.957333\n",
       "4    AB   0.892397  0.866667\n",
       "5    GB   0.977323  0.958667\n",
       "6   XGB   0.971098  0.954667\n",
       "7   Log   0.870165  0.862667\n",
       "8   SVM   0.938639  0.902667"
      ]
     },
     "execution_count": 11,
     "metadata": {},
     "output_type": "execute_result"
    }
   ],
   "source": [
    "X = StandardScaler().fit(X).transform(X)\n",
    "Xval = StandardScaler().fit(Xval).transform(Xval)\n",
    "ml.CompareClassifiers(X, y)"
   ]
  },
  {
   "cell_type": "code",
   "execution_count": 12,
   "metadata": {},
   "outputs": [
    {
     "name": "stdout",
     "output_type": "stream",
     "text": [
      "Fitting 5 folds for each of 8 candidates, totalling 40 fits\n"
     ]
    },
    {
     "name": "stderr",
     "output_type": "stream",
     "text": [
      "[Parallel(n_jobs=-1)]: Using backend LokyBackend with 12 concurrent workers.\n",
      "[Parallel(n_jobs=-1)]: Done  17 tasks      | elapsed:    1.0s\n",
      "[Parallel(n_jobs=-1)]: Done  38 out of  40 | elapsed:    1.6s remaining:    0.0s\n",
      "[Parallel(n_jobs=-1)]: Done  40 out of  40 | elapsed:    1.7s finished\n"
     ]
    },
    {
     "data": {
      "text/plain": [
       "XGBClassifier(max_depth=6, subsample=0.7)"
      ]
     },
     "execution_count": 12,
     "metadata": {},
     "output_type": "execute_result"
    }
   ],
   "source": [
    "parameters =  {\n",
    "    'learning_rate': [0.1, 0.2],\n",
    "    'max_depth': [6],\n",
    "    'min_child_weight': [1, 2],\n",
    "    'subsample': [0.5, 0.7],\n",
    "    'n_estimators': [100],\n",
    "}\n",
    "clf = ml.Optimize(XGBClassifier(), parameters, X, y)\n",
    "clf"
   ]
  },
  {
   "cell_type": "code",
   "execution_count": 13,
   "metadata": {},
   "outputs": [
    {
     "data": {
      "text/plain": [
       "'Training: 0.9902178746109382, Validation: 0.9626666666666667'"
      ]
     },
     "execution_count": 13,
     "metadata": {},
     "output_type": "execute_result"
    }
   ],
   "source": [
    "ev.ScoreModel(clf, X, y)"
   ]
  },
  {
   "cell_type": "code",
   "execution_count": 14,
   "metadata": {},
   "outputs": [
    {
     "data": {
      "text/plain": [
       "<sklearn.metrics._plot.confusion_matrix.ConfusionMatrixDisplay at 0x1b18562f550>"
      ]
     },
     "execution_count": 14,
     "metadata": {},
     "output_type": "execute_result"
    },
    {
     "data": {
      "image/png": "[encoded data removed]",
      "text/plain": [
       "<Figure size 432x288 with 2 Axes>"
      ]
     },
     "metadata": {
      "needs_background": "light"
     },
     "output_type": "display_data"
    }
   ],
   "source": [
    "model = clf.fit(X, y)\n",
    "ev.BuildConfusion(model, Xval, yval)"
   ]
  },
  {
   "cell_type": "code",
   "execution_count": 15,
   "metadata": {},
   "outputs": [
    {
     "data": {
      "text/plain": [
       "0.8464788732394367"
      ]
     },
     "execution_count": 15,
     "metadata": {},
     "output_type": "execute_result"
    }
   ],
   "source": [
    "ev.AUC(clf, Xval, yval)"
   ]
  },
  {
   "cell_type": "code",
   "execution_count": 16,
   "metadata": {},
   "outputs": [],
   "source": [
    "X3 = pd.DataFrame(SMOTE().fit_resample(X, y)[0])\n",
    "y3 = SMOTE().fit_resample(X, y)[1]"
   ]
  },
  {
   "cell_type": "code",
   "execution_count": 17,
   "metadata": {},
   "outputs": [
    {
     "data": {
      "text/html": [
       "<div>\n",
       "<style scoped>\n",
       "    .dataframe tbody tr th:only-of-type {\n",
       "        vertical-align: middle;\n",
       "    }\n",
       "\n",
       "    .dataframe tbody tr th {\n",
       "        vertical-align: top;\n",
       "    }\n",
       "\n",
       "    .dataframe thead th {\n",
       "        text-align: right;\n",
       "    }\n",
       "</style>\n",
       "<table border=\"1\" class=\"dataframe\">\n",
       "  <thead>\n",
       "    <tr style=\"text-align: right;\">\n",
       "      <th></th>\n",
       "      <th>Model</th>\n",
       "      <th>train_acc</th>\n",
       "      <th>test_acc</th>\n",
       "    </tr>\n",
       "  </thead>\n",
       "  <tbody>\n",
       "    <tr>\n",
       "      <th>0</th>\n",
       "      <td>KNN</td>\n",
       "      <td>0.923357</td>\n",
       "      <td>0.901013</td>\n",
       "    </tr>\n",
       "    <tr>\n",
       "      <th>1</th>\n",
       "      <td>NB</td>\n",
       "      <td>0.726682</td>\n",
       "      <td>0.735776</td>\n",
       "    </tr>\n",
       "    <tr>\n",
       "      <th>2</th>\n",
       "      <td>DT</td>\n",
       "      <td>1.000000</td>\n",
       "      <td>0.922837</td>\n",
       "    </tr>\n",
       "    <tr>\n",
       "      <th>3</th>\n",
       "      <td>RF</td>\n",
       "      <td>1.000000</td>\n",
       "      <td>0.958691</td>\n",
       "    </tr>\n",
       "    <tr>\n",
       "      <th>4</th>\n",
       "      <td>AB</td>\n",
       "      <td>0.893219</td>\n",
       "      <td>0.892440</td>\n",
       "    </tr>\n",
       "    <tr>\n",
       "      <th>5</th>\n",
       "      <td>GB</td>\n",
       "      <td>0.963107</td>\n",
       "      <td>0.947779</td>\n",
       "    </tr>\n",
       "    <tr>\n",
       "      <th>6</th>\n",
       "      <td>XGB</td>\n",
       "      <td>0.959210</td>\n",
       "      <td>0.949337</td>\n",
       "    </tr>\n",
       "    <tr>\n",
       "      <th>7</th>\n",
       "      <td>Log</td>\n",
       "      <td>0.786438</td>\n",
       "      <td>0.819174</td>\n",
       "    </tr>\n",
       "    <tr>\n",
       "      <th>8</th>\n",
       "      <td>SVM</td>\n",
       "      <td>0.934009</td>\n",
       "      <td>0.916602</td>\n",
       "    </tr>\n",
       "  </tbody>\n",
       "</table>\n",
       "</div>"
      ],
      "text/plain": [
       "  Model  train_acc  test_acc\n",
       "0   KNN   0.923357  0.901013\n",
       "1    NB   0.726682  0.735776\n",
       "2    DT   1.000000  0.922837\n",
       "3    RF   1.000000  0.958691\n",
       "4    AB   0.893219  0.892440\n",
       "5    GB   0.963107  0.947779\n",
       "6   XGB   0.959210  0.949337\n",
       "7   Log   0.786438  0.819174\n",
       "8   SVM   0.934009  0.916602"
      ]
     },
     "execution_count": 17,
     "metadata": {},
     "output_type": "execute_result"
    }
   ],
   "source": [
    "ml.CompareClassifiers(X3, y3)"
   ]
  },
  {
   "cell_type": "code",
   "execution_count": 23,
   "metadata": {},
   "outputs": [
    {
     "name": "stdout",
     "output_type": "stream",
     "text": [
      "Fitting 5 folds for each of 8 candidates, totalling 40 fits\n"
     ]
    },
    {
     "name": "stderr",
     "output_type": "stream",
     "text": [
      "[Parallel(n_jobs=-1)]: Using backend LokyBackend with 12 concurrent workers.\n",
      "[Parallel(n_jobs=-1)]: Done  17 tasks      | elapsed:    1.7s\n",
      "[Parallel(n_jobs=-1)]: Done  38 out of  40 | elapsed:    3.1s remaining:    0.1s\n",
      "[Parallel(n_jobs=-1)]: Done  40 out of  40 | elapsed:    3.1s finished\n"
     ]
    },
    {
     "data": {
      "text/plain": [
       "XGBClassifier(learning_rate=0.2, max_depth=6, subsample=0.7)"
      ]
     },
     "execution_count": 23,
     "metadata": {},
     "output_type": "execute_result"
    }
   ],
   "source": [
    "parameters = {\n",
    "    'learning_rate': [0.1, 0.2],\n",
    "    'max_depth': [6],\n",
    "    'min_child_weight': [1, 2],\n",
    "    'subsample': [0.5, 0.7],\n",
    "    'n_estimators': [100],\n",
    "}\n",
    "clf = ml.Optimize(XGBClassifier(), parameters, X3, y3)\n",
    "clf"
   ]
  },
  {
   "cell_type": "code",
   "execution_count": 24,
   "metadata": {},
   "outputs": [
    {
     "data": {
      "text/plain": [
       "'Training: 1.0, Validation: 0.9680436477007015'"
      ]
     },
     "execution_count": 24,
     "metadata": {},
     "output_type": "execute_result"
    }
   ],
   "source": [
    "ev.ScoreModel(clf, X3, y3)"
   ]
  },
  {
   "cell_type": "code",
   "execution_count": 28,
   "metadata": {},
   "outputs": [],
   "source": [
    "fit = clf.fit(X3, y3)"
   ]
  },
  {
   "cell_type": "code",
   "execution_count": 32,
   "metadata": {},
   "outputs": [
    {
     "data": {
      "text/plain": [
       "<sklearn.metrics._plot.confusion_matrix.ConfusionMatrixDisplay at 0x1b18c16c898>"
      ]
     },
     "execution_count": 32,
     "metadata": {},
     "output_type": "execute_result"
    },
    {
     "data": {
      "image/png": "[encoded data removed]",
      "text/plain": [
       "<Figure size 432x288 with 2 Axes>"
      ]
     },
     "metadata": {
      "needs_background": "light"
     },
     "output_type": "display_data"
    }
   ],
   "source": [
    "ev.BuildConfusion(clf.fit(X3, y3), Xval, yval)"
   ]
  },
  {
   "cell_type": "code",
   "execution_count": 33,
   "metadata": {},
   "outputs": [
    {
     "data": {
      "text/plain": [
       "0.6271830985915492"
      ]
     },
     "execution_count": 33,
     "metadata": {},
     "output_type": "execute_result"
    }
   ],
   "source": [
    "Xval = pd.DataFrame(Xval)\n",
    "Xval.columns = list(X3.columns)\n",
    "ev.AUC(clf, Xval, yval)"
   ]
  },
  {
   "cell_type": "code",
   "execution_count": 34,
   "metadata": {},
   "outputs": [
    {
     "data": {
      "text/html": [
       "<div>\n",
       "<style scoped>\n",
       "    .dataframe tbody tr th:only-of-type {\n",
       "        vertical-align: middle;\n",
       "    }\n",
       "\n",
       "    .dataframe tbody tr th {\n",
       "        vertical-align: top;\n",
       "    }\n",
       "\n",
       "    .dataframe thead th {\n",
       "        text-align: right;\n",
       "    }\n",
       "</style>\n",
       "<table border=\"1\" class=\"dataframe\">\n",
       "  <thead>\n",
       "    <tr style=\"text-align: right;\">\n",
       "      <th></th>\n",
       "      <th>international plan</th>\n",
       "      <th>voice mail plan</th>\n",
       "      <th>number vmail messages</th>\n",
       "      <th>total day minutes</th>\n",
       "      <th>total day calls</th>\n",
       "      <th>total day charge</th>\n",
       "      <th>total eve minutes</th>\n",
       "      <th>total eve calls</th>\n",
       "      <th>total eve charge</th>\n",
       "      <th>total night minutes</th>\n",
       "      <th>...</th>\n",
       "      <th>customer service calls</th>\n",
       "      <th>%night</th>\n",
       "      <th>%eve</th>\n",
       "      <th>avg duration</th>\n",
       "      <th>Midwest</th>\n",
       "      <th>Noncontinental</th>\n",
       "      <th>Northeast</th>\n",
       "      <th>Northwest</th>\n",
       "      <th>Southeast</th>\n",
       "      <th>Southwest</th>\n",
       "    </tr>\n",
       "  </thead>\n",
       "  <tbody>\n",
       "    <tr>\n",
       "      <th>0</th>\n",
       "      <td>-0.322796</td>\n",
       "      <td>-0.611390</td>\n",
       "      <td>-0.585686</td>\n",
       "      <td>-1.370766</td>\n",
       "      <td>1.029704</td>\n",
       "      <td>-1.371041</td>\n",
       "      <td>-1.005341</td>\n",
       "      <td>-1.464611</td>\n",
       "      <td>-1.004811</td>\n",
       "      <td>1.079010</td>\n",
       "      <td>...</td>\n",
       "      <td>0.327179</td>\n",
       "      <td>-1.331846</td>\n",
       "      <td>-1.139816</td>\n",
       "      <td>-0.204524</td>\n",
       "      <td>-0.562588</td>\n",
       "      <td>-0.180869</td>\n",
       "      <td>-0.599562</td>\n",
       "      <td>-0.349228</td>\n",
       "      <td>1.753490</td>\n",
       "      <td>-0.350429</td>\n",
       "    </tr>\n",
       "    <tr>\n",
       "      <th>1</th>\n",
       "      <td>-0.322796</td>\n",
       "      <td>1.635618</td>\n",
       "      <td>0.956173</td>\n",
       "      <td>-0.479636</td>\n",
       "      <td>0.579481</td>\n",
       "      <td>-0.480127</td>\n",
       "      <td>1.236621</td>\n",
       "      <td>0.504744</td>\n",
       "      <td>1.236450</td>\n",
       "      <td>-1.310761</td>\n",
       "      <td>...</td>\n",
       "      <td>-0.429927</td>\n",
       "      <td>-0.967693</td>\n",
       "      <td>0.494696</td>\n",
       "      <td>0.244120</td>\n",
       "      <td>1.777498</td>\n",
       "      <td>-0.180869</td>\n",
       "      <td>-0.599562</td>\n",
       "      <td>-0.349228</td>\n",
       "      <td>-0.570291</td>\n",
       "      <td>-0.350429</td>\n",
       "    </tr>\n",
       "    <tr>\n",
       "      <th>2</th>\n",
       "      <td>-0.322796</td>\n",
       "      <td>-0.611390</td>\n",
       "      <td>-0.585686</td>\n",
       "      <td>0.349151</td>\n",
       "      <td>-0.471041</td>\n",
       "      <td>0.349308</td>\n",
       "      <td>1.264202</td>\n",
       "      <td>0.302759</td>\n",
       "      <td>1.264263</td>\n",
       "      <td>-1.780358</td>\n",
       "      <td>...</td>\n",
       "      <td>0.327179</td>\n",
       "      <td>0.124764</td>\n",
       "      <td>0.494696</td>\n",
       "      <td>-0.110438</td>\n",
       "      <td>1.777498</td>\n",
       "      <td>-0.180869</td>\n",
       "      <td>-0.599562</td>\n",
       "      <td>-0.349228</td>\n",
       "      <td>-0.570291</td>\n",
       "      <td>-0.350429</td>\n",
       "    </tr>\n",
       "    <tr>\n",
       "      <th>3</th>\n",
       "      <td>-0.322796</td>\n",
       "      <td>1.635618</td>\n",
       "      <td>1.396704</td>\n",
       "      <td>-0.474135</td>\n",
       "      <td>-0.821215</td>\n",
       "      <td>-0.473655</td>\n",
       "      <td>-0.128651</td>\n",
       "      <td>-1.363618</td>\n",
       "      <td>-0.128703</td>\n",
       "      <td>1.106867</td>\n",
       "      <td>...</td>\n",
       "      <td>2.598498</td>\n",
       "      <td>0.670992</td>\n",
       "      <td>-0.776592</td>\n",
       "      <td>-1.074090</td>\n",
       "      <td>-0.562588</td>\n",
       "      <td>-0.180869</td>\n",
       "      <td>-0.599562</td>\n",
       "      <td>-0.349228</td>\n",
       "      <td>-0.570291</td>\n",
       "      <td>2.853646</td>\n",
       "    </tr>\n",
       "    <tr>\n",
       "      <th>4</th>\n",
       "      <td>-0.322796</td>\n",
       "      <td>1.635618</td>\n",
       "      <td>2.498032</td>\n",
       "      <td>-0.257770</td>\n",
       "      <td>-0.170892</td>\n",
       "      <td>-0.257937</td>\n",
       "      <td>0.452525</td>\n",
       "      <td>0.908714</td>\n",
       "      <td>0.453052</td>\n",
       "      <td>1.192430</td>\n",
       "      <td>...</td>\n",
       "      <td>1.084285</td>\n",
       "      <td>-1.513922</td>\n",
       "      <td>1.402758</td>\n",
       "      <td>-0.828878</td>\n",
       "      <td>-0.562588</td>\n",
       "      <td>-0.180869</td>\n",
       "      <td>1.667885</td>\n",
       "      <td>-0.349228</td>\n",
       "      <td>-0.570291</td>\n",
       "      <td>-0.350429</td>\n",
       "    </tr>\n",
       "  </tbody>\n",
       "</table>\n",
       "<p>5 rows × 25 columns</p>\n",
       "</div>"
      ],
      "text/plain": [
       "   international plan  voice mail plan  number vmail messages  \\\n",
       "0           -0.322796        -0.611390              -0.585686   \n",
       "1           -0.322796         1.635618               0.956173   \n",
       "2           -0.322796        -0.611390              -0.585686   \n",
       "3           -0.322796         1.635618               1.396704   \n",
       "4           -0.322796         1.635618               2.498032   \n",
       "\n",
       "   total day minutes  total day calls  total day charge  total eve minutes  \\\n",
       "0          -1.370766         1.029704         -1.371041          -1.005341   \n",
       "1          -0.479636         0.579481         -0.480127           1.236621   \n",
       "2           0.349151        -0.471041          0.349308           1.264202   \n",
       "3          -0.474135        -0.821215         -0.473655          -0.128651   \n",
       "4          -0.257770        -0.170892         -0.257937           0.452525   \n",
       "\n",
       "   total eve calls  total eve charge  total night minutes  ...  \\\n",
       "0        -1.464611         -1.004811             1.079010  ...   \n",
       "1         0.504744          1.236450            -1.310761  ...   \n",
       "2         0.302759          1.264263            -1.780358  ...   \n",
       "3        -1.363618         -0.128703             1.106867  ...   \n",
       "4         0.908714          0.453052             1.192430  ...   \n",
       "\n",
       "   customer service calls    %night      %eve  avg duration   Midwest  \\\n",
       "0                0.327179 -1.331846 -1.139816     -0.204524 -0.562588   \n",
       "1               -0.429927 -0.967693  0.494696      0.244120  1.777498   \n",
       "2                0.327179  0.124764  0.494696     -0.110438  1.777498   \n",
       "3                2.598498  0.670992 -0.776592     -1.074090 -0.562588   \n",
       "4                1.084285 -1.513922  1.402758     -0.828878 -0.562588   \n",
       "\n",
       "   Noncontinental  Northeast  Northwest  Southeast  Southwest  \n",
       "0       -0.180869  -0.599562  -0.349228   1.753490  -0.350429  \n",
       "1       -0.180869  -0.599562  -0.349228  -0.570291  -0.350429  \n",
       "2       -0.180869  -0.599562  -0.349228  -0.570291  -0.350429  \n",
       "3       -0.180869  -0.599562  -0.349228  -0.570291   2.853646  \n",
       "4       -0.180869   1.667885  -0.349228  -0.570291  -0.350429  \n",
       "\n",
       "[5 rows x 25 columns]"
      ]
     },
     "execution_count": 34,
     "metadata": {},
     "output_type": "execute_result"
    }
   ],
   "source": [
    "lst = ['international plan',\n",
    " 'voice mail plan',\n",
    " 'number vmail messages',\n",
    " 'total day minutes',\n",
    " 'total day calls',\n",
    " 'total day charge',\n",
    " 'total eve minutes',\n",
    " 'total eve calls',\n",
    " 'total eve charge',\n",
    " 'total night minutes',\n",
    " 'total night calls',\n",
    " 'total night charge',\n",
    " 'total intl minutes',\n",
    " 'total intl calls',\n",
    " 'total intl charge',\n",
    " 'customer service calls',\n",
    " '%night',\n",
    " '%eve',\n",
    " 'avg duration',\n",
    " 'Midwest',\n",
    " 'Noncontinental',\n",
    " 'Northeast',\n",
    " 'Northwest',\n",
    " 'Southeast',\n",
    " 'Southwest']\n",
    "\n",
    "X3.columns = lst\n",
    "X3.head()"
   ]
  },
  {
   "cell_type": "markdown",
   "metadata": {},
   "source": [
    "## Time for some Feature Engineering"
   ]
  },
  {
   "cell_type": "code",
   "execution_count": 35,
   "metadata": {
    "scrolled": true
   },
   "outputs": [
    {
     "data": {
      "image/png": "[encoded data removed]",
      "text/plain": [
       "<Figure size 576x576 with 1 Axes>"
      ]
     },
     "metadata": {
      "needs_background": "light"
     },
     "output_type": "display_data"
    }
   ],
   "source": [
    "ev.GetImportance(clf, X3, y3)"
   ]
  },
  {
   "cell_type": "code",
   "execution_count": 38,
   "metadata": {},
   "outputs": [
    {
     "data": {
      "text/html": [
       "<div>\n",
       "<style scoped>\n",
       "    .dataframe tbody tr th:only-of-type {\n",
       "        vertical-align: middle;\n",
       "    }\n",
       "\n",
       "    .dataframe tbody tr th {\n",
       "        vertical-align: top;\n",
       "    }\n",
       "\n",
       "    .dataframe thead th {\n",
       "        text-align: right;\n",
       "    }\n",
       "</style>\n",
       "<table border=\"1\" class=\"dataframe\">\n",
       "  <thead>\n",
       "    <tr style=\"text-align: right;\">\n",
       "      <th></th>\n",
       "      <th>international plan</th>\n",
       "      <th>voice mail plan</th>\n",
       "      <th>number vmail messages</th>\n",
       "      <th>total day minutes</th>\n",
       "      <th>total day calls</th>\n",
       "      <th>total day charge</th>\n",
       "      <th>total eve minutes</th>\n",
       "      <th>total eve calls</th>\n",
       "      <th>total eve charge</th>\n",
       "      <th>total night minutes</th>\n",
       "      <th>...</th>\n",
       "      <th>customer service calls</th>\n",
       "      <th>%night</th>\n",
       "      <th>%eve</th>\n",
       "      <th>avg duration</th>\n",
       "      <th>Midwest</th>\n",
       "      <th>Noncontinental</th>\n",
       "      <th>Northeast</th>\n",
       "      <th>Northwest</th>\n",
       "      <th>Southeast</th>\n",
       "      <th>Southwest</th>\n",
       "    </tr>\n",
       "  </thead>\n",
       "  <tbody>\n",
       "    <tr>\n",
       "      <th>0</th>\n",
       "      <td>-0.368856</td>\n",
       "      <td>-0.681845</td>\n",
       "      <td>-0.646517</td>\n",
       "      <td>0.022034</td>\n",
       "      <td>-1.958539</td>\n",
       "      <td>0.022092</td>\n",
       "      <td>1.138466</td>\n",
       "      <td>-1.344059</td>\n",
       "      <td>1.138491</td>\n",
       "      <td>0.725337</td>\n",
       "      <td>...</td>\n",
       "      <td>0.381443</td>\n",
       "      <td>2.480598</td>\n",
       "      <td>-0.775677</td>\n",
       "      <td>-1.429017</td>\n",
       "      <td>-0.565825</td>\n",
       "      <td>-0.175682</td>\n",
       "      <td>-0.602715</td>\n",
       "      <td>-0.347571</td>\n",
       "      <td>-0.570436</td>\n",
       "      <td>2.877113</td>\n",
       "    </tr>\n",
       "    <tr>\n",
       "      <th>1</th>\n",
       "      <td>-0.368856</td>\n",
       "      <td>-0.681845</td>\n",
       "      <td>-0.646517</td>\n",
       "      <td>0.596596</td>\n",
       "      <td>0.066998</td>\n",
       "      <td>0.597107</td>\n",
       "      <td>-0.286169</td>\n",
       "      <td>-0.291838</td>\n",
       "      <td>-0.286085</td>\n",
       "      <td>0.256051</td>\n",
       "      <td>...</td>\n",
       "      <td>-0.409873</td>\n",
       "      <td>0.296451</td>\n",
       "      <td>-0.419558</td>\n",
       "      <td>-0.351152</td>\n",
       "      <td>-0.565825</td>\n",
       "      <td>-0.175682</td>\n",
       "      <td>-0.602715</td>\n",
       "      <td>-0.347571</td>\n",
       "      <td>-0.570436</td>\n",
       "      <td>2.877113</td>\n",
       "    </tr>\n",
       "    <tr>\n",
       "      <th>2</th>\n",
       "      <td>-0.368856</td>\n",
       "      <td>1.466609</td>\n",
       "      <td>2.658277</td>\n",
       "      <td>1.704682</td>\n",
       "      <td>0.066998</td>\n",
       "      <td>1.704339</td>\n",
       "      <td>-0.368090</td>\n",
       "      <td>0.808211</td>\n",
       "      <td>-0.368362</td>\n",
       "      <td>0.828580</td>\n",
       "      <td>...</td>\n",
       "      <td>-0.409873</td>\n",
       "      <td>0.478463</td>\n",
       "      <td>0.114619</td>\n",
       "      <td>-0.375213</td>\n",
       "      <td>-0.565825</td>\n",
       "      <td>-0.175682</td>\n",
       "      <td>-0.602715</td>\n",
       "      <td>-0.347571</td>\n",
       "      <td>1.753046</td>\n",
       "      <td>-0.347571</td>\n",
       "    </tr>\n",
       "    <tr>\n",
       "      <th>3</th>\n",
       "      <td>-0.368856</td>\n",
       "      <td>1.466609</td>\n",
       "      <td>1.392611</td>\n",
       "      <td>0.492131</td>\n",
       "      <td>-1.138679</td>\n",
       "      <td>0.491760</td>\n",
       "      <td>-0.939543</td>\n",
       "      <td>-2.348451</td>\n",
       "      <td>-0.939603</td>\n",
       "      <td>-1.106758</td>\n",
       "      <td>...</td>\n",
       "      <td>-1.201189</td>\n",
       "      <td>2.480598</td>\n",
       "      <td>-2.200149</td>\n",
       "      <td>-0.472621</td>\n",
       "      <td>-0.565825</td>\n",
       "      <td>-0.175682</td>\n",
       "      <td>1.659159</td>\n",
       "      <td>-0.347571</td>\n",
       "      <td>-0.570436</td>\n",
       "      <td>-0.347571</td>\n",
       "    </tr>\n",
       "    <tr>\n",
       "      <th>4</th>\n",
       "      <td>-0.368856</td>\n",
       "      <td>-0.681845</td>\n",
       "      <td>-0.646517</td>\n",
       "      <td>-1.147612</td>\n",
       "      <td>-0.415273</td>\n",
       "      <td>-1.147690</td>\n",
       "      <td>-1.333166</td>\n",
       "      <td>0.616898</td>\n",
       "      <td>-1.332184</td>\n",
       "      <td>0.438134</td>\n",
       "      <td>...</td>\n",
       "      <td>-0.409873</td>\n",
       "      <td>0.842488</td>\n",
       "      <td>0.114619</td>\n",
       "      <td>1.464325</td>\n",
       "      <td>-0.565825</td>\n",
       "      <td>-0.175682</td>\n",
       "      <td>1.659159</td>\n",
       "      <td>-0.347571</td>\n",
       "      <td>-0.570436</td>\n",
       "      <td>-0.347571</td>\n",
       "    </tr>\n",
       "    <tr>\n",
       "      <th>...</th>\n",
       "      <td>...</td>\n",
       "      <td>...</td>\n",
       "      <td>...</td>\n",
       "      <td>...</td>\n",
       "      <td>...</td>\n",
       "      <td>...</td>\n",
       "      <td>...</td>\n",
       "      <td>...</td>\n",
       "      <td>...</td>\n",
       "      <td>...</td>\n",
       "      <td>...</td>\n",
       "      <td>...</td>\n",
       "      <td>...</td>\n",
       "      <td>...</td>\n",
       "      <td>...</td>\n",
       "      <td>...</td>\n",
       "      <td>...</td>\n",
       "      <td>...</td>\n",
       "      <td>...</td>\n",
       "      <td>...</td>\n",
       "      <td>...</td>\n",
       "    </tr>\n",
       "    <tr>\n",
       "      <th>329</th>\n",
       "      <td>-0.368856</td>\n",
       "      <td>-0.681845</td>\n",
       "      <td>-0.646517</td>\n",
       "      <td>-2.403069</td>\n",
       "      <td>1.465583</td>\n",
       "      <td>-2.403066</td>\n",
       "      <td>1.020579</td>\n",
       "      <td>0.186444</td>\n",
       "      <td>1.020951</td>\n",
       "      <td>-0.455388</td>\n",
       "      <td>...</td>\n",
       "      <td>-0.409873</td>\n",
       "      <td>0.478463</td>\n",
       "      <td>-0.953736</td>\n",
       "      <td>2.112257</td>\n",
       "      <td>-0.565825</td>\n",
       "      <td>-0.175682</td>\n",
       "      <td>-0.602715</td>\n",
       "      <td>-0.347571</td>\n",
       "      <td>1.753046</td>\n",
       "      <td>-0.347571</td>\n",
       "    </tr>\n",
       "    <tr>\n",
       "      <th>330</th>\n",
       "      <td>-0.368856</td>\n",
       "      <td>1.466609</td>\n",
       "      <td>0.689464</td>\n",
       "      <td>-0.489103</td>\n",
       "      <td>1.079767</td>\n",
       "      <td>-0.489276</td>\n",
       "      <td>1.052549</td>\n",
       "      <td>-0.339666</td>\n",
       "      <td>1.051512</td>\n",
       "      <td>-0.196342</td>\n",
       "      <td>...</td>\n",
       "      <td>-1.201189</td>\n",
       "      <td>-0.067573</td>\n",
       "      <td>-0.775677</td>\n",
       "      <td>0.073139</td>\n",
       "      <td>-0.565825</td>\n",
       "      <td>-0.175682</td>\n",
       "      <td>-0.602715</td>\n",
       "      <td>-0.347571</td>\n",
       "      <td>1.753046</td>\n",
       "      <td>-0.347571</td>\n",
       "    </tr>\n",
       "    <tr>\n",
       "      <th>331</th>\n",
       "      <td>-0.368856</td>\n",
       "      <td>-0.681845</td>\n",
       "      <td>-0.646517</td>\n",
       "      <td>-1.140150</td>\n",
       "      <td>1.369129</td>\n",
       "      <td>-1.140009</td>\n",
       "      <td>-1.830689</td>\n",
       "      <td>0.329929</td>\n",
       "      <td>-1.830550</td>\n",
       "      <td>-0.387811</td>\n",
       "      <td>...</td>\n",
       "      <td>-0.409873</td>\n",
       "      <td>-0.795622</td>\n",
       "      <td>-0.241499</td>\n",
       "      <td>2.488530</td>\n",
       "      <td>-0.565825</td>\n",
       "      <td>-0.175682</td>\n",
       "      <td>1.659159</td>\n",
       "      <td>-0.347571</td>\n",
       "      <td>-0.570436</td>\n",
       "      <td>-0.347571</td>\n",
       "    </tr>\n",
       "    <tr>\n",
       "      <th>332</th>\n",
       "      <td>2.711088</td>\n",
       "      <td>-0.681845</td>\n",
       "      <td>-0.646517</td>\n",
       "      <td>-0.136531</td>\n",
       "      <td>-0.656408</td>\n",
       "      <td>-0.137025</td>\n",
       "      <td>-1.199294</td>\n",
       "      <td>-0.961433</td>\n",
       "      <td>-1.198189</td>\n",
       "      <td>0.913052</td>\n",
       "      <td>...</td>\n",
       "      <td>-1.201189</td>\n",
       "      <td>0.296451</td>\n",
       "      <td>-0.419558</td>\n",
       "      <td>-0.645091</td>\n",
       "      <td>-0.565825</td>\n",
       "      <td>-0.175682</td>\n",
       "      <td>-0.602715</td>\n",
       "      <td>2.877113</td>\n",
       "      <td>-0.570436</td>\n",
       "      <td>-0.347571</td>\n",
       "    </tr>\n",
       "    <tr>\n",
       "      <th>333</th>\n",
       "      <td>-0.368856</td>\n",
       "      <td>-0.681845</td>\n",
       "      <td>-0.646517</td>\n",
       "      <td>0.264544</td>\n",
       "      <td>0.838631</td>\n",
       "      <td>0.264607</td>\n",
       "      <td>-1.055432</td>\n",
       "      <td>-0.244010</td>\n",
       "      <td>-1.054791</td>\n",
       "      <td>0.378065</td>\n",
       "      <td>...</td>\n",
       "      <td>0.381443</td>\n",
       "      <td>-0.613610</td>\n",
       "      <td>-0.419558</td>\n",
       "      <td>0.096274</td>\n",
       "      <td>-0.565825</td>\n",
       "      <td>-0.175682</td>\n",
       "      <td>1.659159</td>\n",
       "      <td>-0.347571</td>\n",
       "      <td>-0.570436</td>\n",
       "      <td>-0.347571</td>\n",
       "    </tr>\n",
       "  </tbody>\n",
       "</table>\n",
       "<p>334 rows × 25 columns</p>\n",
       "</div>"
      ],
      "text/plain": [
       "     international plan  voice mail plan  number vmail messages  \\\n",
       "0             -0.368856        -0.681845              -0.646517   \n",
       "1             -0.368856        -0.681845              -0.646517   \n",
       "2             -0.368856         1.466609               2.658277   \n",
       "3             -0.368856         1.466609               1.392611   \n",
       "4             -0.368856        -0.681845              -0.646517   \n",
       "..                  ...              ...                    ...   \n",
       "329           -0.368856        -0.681845              -0.646517   \n",
       "330           -0.368856         1.466609               0.689464   \n",
       "331           -0.368856        -0.681845              -0.646517   \n",
       "332            2.711088        -0.681845              -0.646517   \n",
       "333           -0.368856        -0.681845              -0.646517   \n",
       "\n",
       "     total day minutes  total day calls  total day charge  total eve minutes  \\\n",
       "0             0.022034        -1.958539          0.022092           1.138466   \n",
       "1             0.596596         0.066998          0.597107          -0.286169   \n",
       "2             1.704682         0.066998          1.704339          -0.368090   \n",
       "3             0.492131        -1.138679          0.491760          -0.939543   \n",
       "4            -1.147612        -0.415273         -1.147690          -1.333166   \n",
       "..                 ...              ...               ...                ...   \n",
       "329          -2.403069         1.465583         -2.403066           1.020579   \n",
       "330          -0.489103         1.079767         -0.489276           1.052549   \n",
       "331          -1.140150         1.369129         -1.140009          -1.830689   \n",
       "332          -0.136531        -0.656408         -0.137025          -1.199294   \n",
       "333           0.264544         0.838631          0.264607          -1.055432   \n",
       "\n",
       "     total eve calls  total eve charge  total night minutes  ...  \\\n",
       "0          -1.344059          1.138491             0.725337  ...   \n",
       "1          -0.291838         -0.286085             0.256051  ...   \n",
       "2           0.808211         -0.368362             0.828580  ...   \n",
       "3          -2.348451         -0.939603            -1.106758  ...   \n",
       "4           0.616898         -1.332184             0.438134  ...   \n",
       "..               ...               ...                  ...  ...   \n",
       "329         0.186444          1.020951            -0.455388  ...   \n",
       "330        -0.339666          1.051512            -0.196342  ...   \n",
       "331         0.329929         -1.830550            -0.387811  ...   \n",
       "332        -0.961433         -1.198189             0.913052  ...   \n",
       "333        -0.244010         -1.054791             0.378065  ...   \n",
       "\n",
       "     customer service calls    %night      %eve  avg duration   Midwest  \\\n",
       "0                  0.381443  2.480598 -0.775677     -1.429017 -0.565825   \n",
       "1                 -0.409873  0.296451 -0.419558     -0.351152 -0.565825   \n",
       "2                 -0.409873  0.478463  0.114619     -0.375213 -0.565825   \n",
       "3                 -1.201189  2.480598 -2.200149     -0.472621 -0.565825   \n",
       "4                 -0.409873  0.842488  0.114619      1.464325 -0.565825   \n",
       "..                      ...       ...       ...           ...       ...   \n",
       "329               -0.409873  0.478463 -0.953736      2.112257 -0.565825   \n",
       "330               -1.201189 -0.067573 -0.775677      0.073139 -0.565825   \n",
       "331               -0.409873 -0.795622 -0.241499      2.488530 -0.565825   \n",
       "332               -1.201189  0.296451 -0.419558     -0.645091 -0.565825   \n",
       "333                0.381443 -0.613610 -0.419558      0.096274 -0.565825   \n",
       "\n",
       "     Noncontinental  Northeast  Northwest  Southeast  Southwest  \n",
       "0         -0.175682  -0.602715  -0.347571  -0.570436   2.877113  \n",
       "1         -0.175682  -0.602715  -0.347571  -0.570436   2.877113  \n",
       "2         -0.175682  -0.602715  -0.347571   1.753046  -0.347571  \n",
       "3         -0.175682   1.659159  -0.347571  -0.570436  -0.347571  \n",
       "4         -0.175682   1.659159  -0.347571  -0.570436  -0.347571  \n",
       "..              ...        ...        ...        ...        ...  \n",
       "329       -0.175682  -0.602715  -0.347571   1.753046  -0.347571  \n",
       "330       -0.175682  -0.602715  -0.347571   1.753046  -0.347571  \n",
       "331       -0.175682   1.659159  -0.347571  -0.570436  -0.347571  \n",
       "332       -0.175682  -0.602715   2.877113  -0.570436  -0.347571  \n",
       "333       -0.175682   1.659159  -0.347571  -0.570436  -0.347571  \n",
       "\n",
       "[334 rows x 25 columns]"
      ]
     },
     "execution_count": 38,
     "metadata": {},
     "output_type": "execute_result"
    }
   ],
   "source": [
    "Xval.columns = list(X3.columns)\n",
    "Xval"
   ]
  },
  {
   "cell_type": "code",
   "execution_count": 39,
   "metadata": {},
   "outputs": [],
   "source": [
    "sample1 = X3.drop(['Southwest', 'Southeast', 'Northwest', 'Northeast', 'Noncontinental', 'Midwest', '%eve', '%night', 'number vmail messages'], axis='columns')\n",
    "sv1 = Xval.drop(['Southwest', 'Southeast', 'Northwest', 'Northeast', 'Noncontinental', 'Midwest', '%eve', '%night', 'number vmail messages'], axis='columns')\n",
    "sample2 = X3.drop(['Southwest', 'Southeast', 'Northwest', 'Northeast', 'Noncontinental', 'Midwest'], axis='columns')\n",
    "sv2 = Xval.drop(['Southwest', 'Southeast', 'Northwest', 'Northeast', 'Noncontinental', 'Midwest'], axis='columns')\n",
    "sample3 = X3.drop(['Southwest', 'Southeast', 'Northwest', 'Northeast', 'Noncontinental', 'Midwest', '%eve', '%night', 'number vmail messages',\n",
    "                 'total night charge', 'total night calls', 'total eve charge', 'total eve calls', 'total day charge', 'total day calls'], axis='columns')\n",
    "sv3 = Xval.drop(['Southwest', 'Southeast', 'Northwest', 'Northeast', 'Noncontinental', 'Midwest', '%eve', '%night', 'number vmail messages',\n",
    "                 'total night charge', 'total night calls', 'total eve charge', 'total eve calls', 'total day charge', 'total day calls'], axis='columns')\n",
    "sample4 = dh.MakeNewDF(X3, y3, 10)\n",
    "sv4 = dh.MakeNewDF(Xval, yval, 10)\n",
    "sample5 = dh.MakeNewDF(X3, y3, 19)\n",
    "sv5 = dh.MakeNewDF(Xval, yval, 19)"
   ]
  },
  {
   "cell_type": "code",
   "execution_count": 40,
   "metadata": {},
   "outputs": [
    {
     "data": {
      "text/html": [
       "<div>\n",
       "<style scoped>\n",
       "    .dataframe tbody tr th:only-of-type {\n",
       "        vertical-align: middle;\n",
       "    }\n",
       "\n",
       "    .dataframe tbody tr th {\n",
       "        vertical-align: top;\n",
       "    }\n",
       "\n",
       "    .dataframe thead th {\n",
       "        text-align: right;\n",
       "    }\n",
       "</style>\n",
       "<table border=\"1\" class=\"dataframe\">\n",
       "  <thead>\n",
       "    <tr style=\"text-align: right;\">\n",
       "      <th></th>\n",
       "      <th>Model</th>\n",
       "      <th>train_acc</th>\n",
       "      <th>test_acc</th>\n",
       "    </tr>\n",
       "  </thead>\n",
       "  <tbody>\n",
       "    <tr>\n",
       "      <th>0</th>\n",
       "      <td>KNN</td>\n",
       "      <td>0.931411</td>\n",
       "      <td>0.889322</td>\n",
       "    </tr>\n",
       "    <tr>\n",
       "      <th>1</th>\n",
       "      <td>NB</td>\n",
       "      <td>0.801247</td>\n",
       "      <td>0.791894</td>\n",
       "    </tr>\n",
       "    <tr>\n",
       "      <th>2</th>\n",
       "      <td>DT</td>\n",
       "      <td>1.000000</td>\n",
       "      <td>0.924396</td>\n",
       "    </tr>\n",
       "    <tr>\n",
       "      <th>3</th>\n",
       "      <td>RF</td>\n",
       "      <td>1.000000</td>\n",
       "      <td>0.959470</td>\n",
       "    </tr>\n",
       "    <tr>\n",
       "      <th>4</th>\n",
       "      <td>AB</td>\n",
       "      <td>0.890881</td>\n",
       "      <td>0.886204</td>\n",
       "    </tr>\n",
       "    <tr>\n",
       "      <th>5</th>\n",
       "      <td>GB</td>\n",
       "      <td>0.964406</td>\n",
       "      <td>0.959470</td>\n",
       "    </tr>\n",
       "    <tr>\n",
       "      <th>6</th>\n",
       "      <td>XGB</td>\n",
       "      <td>0.958950</td>\n",
       "      <td>0.955573</td>\n",
       "    </tr>\n",
       "    <tr>\n",
       "      <th>7</th>\n",
       "      <td>Log</td>\n",
       "      <td>0.792154</td>\n",
       "      <td>0.789556</td>\n",
       "    </tr>\n",
       "    <tr>\n",
       "      <th>8</th>\n",
       "      <td>SVM</td>\n",
       "      <td>0.920759</td>\n",
       "      <td>0.911925</td>\n",
       "    </tr>\n",
       "  </tbody>\n",
       "</table>\n",
       "</div>"
      ],
      "text/plain": [
       "  Model  train_acc  test_acc\n",
       "0   KNN   0.931411  0.889322\n",
       "1    NB   0.801247  0.791894\n",
       "2    DT   1.000000  0.924396\n",
       "3    RF   1.000000  0.959470\n",
       "4    AB   0.890881  0.886204\n",
       "5    GB   0.964406  0.959470\n",
       "6   XGB   0.958950  0.955573\n",
       "7   Log   0.792154  0.789556\n",
       "8   SVM   0.920759  0.911925"
      ]
     },
     "execution_count": 40,
     "metadata": {},
     "output_type": "execute_result"
    }
   ],
   "source": [
    "ml.CompareClassifiers(sample1, y3)"
   ]
  },
  {
   "cell_type": "code",
   "execution_count": 41,
   "metadata": {},
   "outputs": [
    {
     "name": "stdout",
     "output_type": "stream",
     "text": [
      "Fitting 5 folds for each of 9 candidates, totalling 45 fits\n"
     ]
    },
    {
     "name": "stderr",
     "output_type": "stream",
     "text": [
      "[Parallel(n_jobs=-1)]: Using backend LokyBackend with 12 concurrent workers.\n",
      "[Parallel(n_jobs=-1)]: Done  17 tasks      | elapsed:    4.7s\n",
      "[Parallel(n_jobs=-1)]: Done  45 out of  45 | elapsed:   21.4s remaining:    0.0s\n",
      "[Parallel(n_jobs=-1)]: Done  45 out of  45 | elapsed:   21.4s finished\n"
     ]
    },
    {
     "data": {
      "text/plain": [
       "GradientBoostingClassifier(max_depth=5, n_estimators=200)"
      ]
     },
     "execution_count": 41,
     "metadata": {},
     "output_type": "execute_result"
    }
   ],
   "source": [
    "parameters = {'max_depth': [3, 5, None], 'n_estimators': [50, 100, 200]}\n",
    "clf = ml.Optimize(GradientBoostingClassifier(), parameters, sample1, y3)\n",
    "clf"
   ]
  },
  {
   "cell_type": "code",
   "execution_count": 42,
   "metadata": {},
   "outputs": [
    {
     "name": "stdout",
     "output_type": "stream",
     "text": [
      "AUC: 0.6196478873239437\n",
      "Training: 0.9997401922577293, Validation: 0.9633671083398285\n"
     ]
    },
    {
     "data": {
      "image/png": "[encoded data removed]",
      "text/plain": [
       "<Figure size 432x288 with 2 Axes>"
      ]
     },
     "metadata": {
      "needs_background": "light"
     },
     "output_type": "display_data"
    }
   ],
   "source": [
    "score = ev.ScoreModel(clf, sample1, y3)\n",
    "fit = clf.fit(sample1, y3)\n",
    "ev.BuildConfusion(fit, sv1, yval)\n",
    "print('AUC: {}'.format(ev.AUC(clf, sv1, yval)))\n",
    "print(score)"
   ]
  },
  {
   "cell_type": "code",
   "execution_count": 44,
   "metadata": {},
   "outputs": [
    {
     "data": {
      "text/html": [
       "<div>\n",
       "<style scoped>\n",
       "    .dataframe tbody tr th:only-of-type {\n",
       "        vertical-align: middle;\n",
       "    }\n",
       "\n",
       "    .dataframe tbody tr th {\n",
       "        vertical-align: top;\n",
       "    }\n",
       "\n",
       "    .dataframe thead th {\n",
       "        text-align: right;\n",
       "    }\n",
       "</style>\n",
       "<table border=\"1\" class=\"dataframe\">\n",
       "  <thead>\n",
       "    <tr style=\"text-align: right;\">\n",
       "      <th></th>\n",
       "      <th>Model</th>\n",
       "      <th>train_acc</th>\n",
       "      <th>test_acc</th>\n",
       "    </tr>\n",
       "  </thead>\n",
       "  <tbody>\n",
       "    <tr>\n",
       "      <th>0</th>\n",
       "      <td>KNN</td>\n",
       "      <td>0.928293</td>\n",
       "      <td>0.890101</td>\n",
       "    </tr>\n",
       "    <tr>\n",
       "      <th>1</th>\n",
       "      <td>NB</td>\n",
       "      <td>0.785918</td>\n",
       "      <td>0.774747</td>\n",
       "    </tr>\n",
       "    <tr>\n",
       "      <th>2</th>\n",
       "      <td>DT</td>\n",
       "      <td>1.000000</td>\n",
       "      <td>0.917381</td>\n",
       "    </tr>\n",
       "    <tr>\n",
       "      <th>3</th>\n",
       "      <td>RF</td>\n",
       "      <td>1.000000</td>\n",
       "      <td>0.953235</td>\n",
       "    </tr>\n",
       "    <tr>\n",
       "      <th>4</th>\n",
       "      <td>AB</td>\n",
       "      <td>0.893739</td>\n",
       "      <td>0.880748</td>\n",
       "    </tr>\n",
       "    <tr>\n",
       "      <th>5</th>\n",
       "      <td>GB</td>\n",
       "      <td>0.969862</td>\n",
       "      <td>0.945440</td>\n",
       "    </tr>\n",
       "    <tr>\n",
       "      <th>6</th>\n",
       "      <td>XGB</td>\n",
       "      <td>0.967524</td>\n",
       "      <td>0.947779</td>\n",
       "    </tr>\n",
       "    <tr>\n",
       "      <th>7</th>\n",
       "      <td>Log</td>\n",
       "      <td>0.793713</td>\n",
       "      <td>0.793453</td>\n",
       "    </tr>\n",
       "    <tr>\n",
       "      <th>8</th>\n",
       "      <td>SVM</td>\n",
       "      <td>0.919719</td>\n",
       "      <td>0.901013</td>\n",
       "    </tr>\n",
       "  </tbody>\n",
       "</table>\n",
       "</div>"
      ],
      "text/plain": [
       "  Model  train_acc  test_acc\n",
       "0   KNN   0.928293  0.890101\n",
       "1    NB   0.785918  0.774747\n",
       "2    DT   1.000000  0.917381\n",
       "3    RF   1.000000  0.953235\n",
       "4    AB   0.893739  0.880748\n",
       "5    GB   0.969862  0.945440\n",
       "6   XGB   0.967524  0.947779\n",
       "7   Log   0.793713  0.793453\n",
       "8   SVM   0.919719  0.901013"
      ]
     },
     "execution_count": 44,
     "metadata": {},
     "output_type": "execute_result"
    }
   ],
   "source": [
    "ml.CompareClassifiers(sample2, y3)"
   ]
  },
  {
   "cell_type": "code",
   "execution_count": 45,
   "metadata": {},
   "outputs": [
    {
     "name": "stdout",
     "output_type": "stream",
     "text": [
      "Fitting 5 folds for each of 18 candidates, totalling 90 fits\n"
     ]
    },
    {
     "name": "stderr",
     "output_type": "stream",
     "text": [
      "[Parallel(n_jobs=-1)]: Using backend LokyBackend with 12 concurrent workers.\n",
      "[Parallel(n_jobs=-1)]: Done  17 tasks      | elapsed:    0.9s\n",
      "[Parallel(n_jobs=-1)]: Done  90 out of  90 | elapsed:    7.6s finished\n"
     ]
    },
    {
     "name": "stdout",
     "output_type": "stream",
     "text": [
      "AUC: 0.7984507042253521\n",
      "Training: 1.0, Validation: 0.9532346063912704\n"
     ]
    },
    {
     "data": {
      "image/png": "[encoded data removed]",
      "text/plain": [
       "<Figure size 432x288 with 2 Axes>"
      ]
     },
     "metadata": {
      "needs_background": "light"
     },
     "output_type": "display_data"
    }
   ],
   "source": [
    "parameters = {'criterion': ['gini', 'entropy'], 'max_depth': [3, 5, None], 'n_estimators': [50, 100, 200]}\n",
    "clf = ml.Optimize(RandomForestClassifier(), parameters, sample2, y3)\n",
    "score = ev.ScoreModel(clf, sample2, y3)\n",
    "AUC = ev.AUC(clf, sv2, yval)\n",
    "fit = clf.fit(sample2, y3)\n",
    "ev.BuildConfusion(fit, sv2, yval)\n",
    "print('AUC: {}'.format(AUC))\n",
    "print(score)"
   ]
  },
  {
   "cell_type": "code",
   "execution_count": 46,
   "metadata": {},
   "outputs": [
    {
     "data": {
      "text/html": [
       "<div>\n",
       "<style scoped>\n",
       "    .dataframe tbody tr th:only-of-type {\n",
       "        vertical-align: middle;\n",
       "    }\n",
       "\n",
       "    .dataframe tbody tr th {\n",
       "        vertical-align: top;\n",
       "    }\n",
       "\n",
       "    .dataframe thead th {\n",
       "        text-align: right;\n",
       "    }\n",
       "</style>\n",
       "<table border=\"1\" class=\"dataframe\">\n",
       "  <thead>\n",
       "    <tr style=\"text-align: right;\">\n",
       "      <th></th>\n",
       "      <th>Model</th>\n",
       "      <th>train_acc</th>\n",
       "      <th>test_acc</th>\n",
       "    </tr>\n",
       "  </thead>\n",
       "  <tbody>\n",
       "    <tr>\n",
       "      <th>0</th>\n",
       "      <td>KNN</td>\n",
       "      <td>0.940504</td>\n",
       "      <td>0.897896</td>\n",
       "    </tr>\n",
       "    <tr>\n",
       "      <th>1</th>\n",
       "      <td>NB</td>\n",
       "      <td>0.806443</td>\n",
       "      <td>0.804365</td>\n",
       "    </tr>\n",
       "    <tr>\n",
       "      <th>2</th>\n",
       "      <td>DT</td>\n",
       "      <td>1.000000</td>\n",
       "      <td>0.917381</td>\n",
       "    </tr>\n",
       "    <tr>\n",
       "      <th>3</th>\n",
       "      <td>RF</td>\n",
       "      <td>1.000000</td>\n",
       "      <td>0.961808</td>\n",
       "    </tr>\n",
       "    <tr>\n",
       "      <th>4</th>\n",
       "      <td>AB</td>\n",
       "      <td>0.902832</td>\n",
       "      <td>0.879189</td>\n",
       "    </tr>\n",
       "    <tr>\n",
       "      <th>5</th>\n",
       "      <td>GB</td>\n",
       "      <td>0.962847</td>\n",
       "      <td>0.945440</td>\n",
       "    </tr>\n",
       "    <tr>\n",
       "      <th>6</th>\n",
       "      <td>XGB</td>\n",
       "      <td>0.961029</td>\n",
       "      <td>0.943102</td>\n",
       "    </tr>\n",
       "    <tr>\n",
       "      <th>7</th>\n",
       "      <td>Log</td>\n",
       "      <td>0.785399</td>\n",
       "      <td>0.777864</td>\n",
       "    </tr>\n",
       "    <tr>\n",
       "      <th>8</th>\n",
       "      <td>SVM</td>\n",
       "      <td>0.914004</td>\n",
       "      <td>0.902572</td>\n",
       "    </tr>\n",
       "  </tbody>\n",
       "</table>\n",
       "</div>"
      ],
      "text/plain": [
       "  Model  train_acc  test_acc\n",
       "0   KNN   0.940504  0.897896\n",
       "1    NB   0.806443  0.804365\n",
       "2    DT   1.000000  0.917381\n",
       "3    RF   1.000000  0.961808\n",
       "4    AB   0.902832  0.879189\n",
       "5    GB   0.962847  0.945440\n",
       "6   XGB   0.961029  0.943102\n",
       "7   Log   0.785399  0.777864\n",
       "8   SVM   0.914004  0.902572"
      ]
     },
     "execution_count": 46,
     "metadata": {},
     "output_type": "execute_result"
    }
   ],
   "source": [
    "ml.CompareClassifiers(sample3, y3)"
   ]
  },
  {
   "cell_type": "code",
   "execution_count": 48,
   "metadata": {},
   "outputs": [
    {
     "name": "stdout",
     "output_type": "stream",
     "text": [
      "Fitting 5 folds for each of 8 candidates, totalling 40 fits\n"
     ]
    },
    {
     "name": "stderr",
     "output_type": "stream",
     "text": [
      "[Parallel(n_jobs=-1)]: Using backend LokyBackend with 12 concurrent workers.\n",
      "[Parallel(n_jobs=-1)]: Done  17 tasks      | elapsed:    0.9s\n",
      "[Parallel(n_jobs=-1)]: Done  38 out of  40 | elapsed:    1.7s remaining:    0.0s\n",
      "[Parallel(n_jobs=-1)]: Done  40 out of  40 | elapsed:    1.7s finished\n"
     ]
    },
    {
     "data": {
      "text/plain": [
       "XGBClassifier(max_depth=6, min_child_weight=2, subsample=0.7)"
      ]
     },
     "execution_count": 48,
     "metadata": {},
     "output_type": "execute_result"
    }
   ],
   "source": [
    "parameters = {\n",
    "    'learning_rate': [0.1, 0.2],\n",
    "    'max_depth': [6],\n",
    "    'min_child_weight': [1, 2],\n",
    "    'subsample': [0.5, 0.7],\n",
    "    'n_estimators': [100],\n",
    "}\n",
    "clf = ml.Optimize(XGBClassifier(), parameters, sample3, y3)\n",
    "clf"
   ]
  },
  {
   "cell_type": "code",
   "execution_count": 50,
   "metadata": {},
   "outputs": [
    {
     "name": "stdout",
     "output_type": "stream",
     "text": [
      "Training: 0.9862301896596518, Validation: 0.965705378020265\n"
     ]
    },
    {
     "data": {
      "text/plain": [
       "<sklearn.metrics._plot.confusion_matrix.ConfusionMatrixDisplay at 0x1b18f86d550>"
      ]
     },
     "execution_count": 50,
     "metadata": {},
     "output_type": "execute_result"
    },
    {
     "data": {
      "image/png": "[encoded data removed]",
      "text/plain": [
       "<Figure size 432x288 with 2 Axes>"
      ]
     },
     "metadata": {
      "needs_background": "light"
     },
     "output_type": "display_data"
    }
   ],
   "source": [
    "score = ev.ScoreModel(clf, sample3, y3)\n",
    "#auc = ev.AUC(clf, sample3, y)\n",
    "fit = clf.fit(sv3, yval)\n",
    "print(score)\n",
    "#print('AUC: {}'.format(auc))\n",
    "ev.BuildConfusion(fit, sv3, yval)"
   ]
  },
  {
   "cell_type": "code",
   "execution_count": 52,
   "metadata": {},
   "outputs": [
    {
     "data": {
      "text/html": [
       "<div>\n",
       "<style scoped>\n",
       "    .dataframe tbody tr th:only-of-type {\n",
       "        vertical-align: middle;\n",
       "    }\n",
       "\n",
       "    .dataframe tbody tr th {\n",
       "        vertical-align: top;\n",
       "    }\n",
       "\n",
       "    .dataframe thead th {\n",
       "        text-align: right;\n",
       "    }\n",
       "</style>\n",
       "<table border=\"1\" class=\"dataframe\">\n",
       "  <thead>\n",
       "    <tr style=\"text-align: right;\">\n",
       "      <th></th>\n",
       "      <th>Model</th>\n",
       "      <th>train_acc</th>\n",
       "      <th>test_acc</th>\n",
       "    </tr>\n",
       "  </thead>\n",
       "  <tbody>\n",
       "    <tr>\n",
       "      <th>0</th>\n",
       "      <td>KNN</td>\n",
       "      <td>0.926734</td>\n",
       "      <td>0.896337</td>\n",
       "    </tr>\n",
       "    <tr>\n",
       "      <th>1</th>\n",
       "      <td>NB</td>\n",
       "      <td>0.783320</td>\n",
       "      <td>0.801247</td>\n",
       "    </tr>\n",
       "    <tr>\n",
       "      <th>2</th>\n",
       "      <td>DT</td>\n",
       "      <td>1.000000</td>\n",
       "      <td>0.930631</td>\n",
       "    </tr>\n",
       "    <tr>\n",
       "      <th>3</th>\n",
       "      <td>RF</td>\n",
       "      <td>1.000000</td>\n",
       "      <td>0.946999</td>\n",
       "    </tr>\n",
       "    <tr>\n",
       "      <th>4</th>\n",
       "      <td>AB</td>\n",
       "      <td>0.891660</td>\n",
       "      <td>0.902572</td>\n",
       "    </tr>\n",
       "    <tr>\n",
       "      <th>5</th>\n",
       "      <td>GB</td>\n",
       "      <td>0.953235</td>\n",
       "      <td>0.948558</td>\n",
       "    </tr>\n",
       "    <tr>\n",
       "      <th>6</th>\n",
       "      <td>XGB</td>\n",
       "      <td>0.950637</td>\n",
       "      <td>0.946999</td>\n",
       "    </tr>\n",
       "    <tr>\n",
       "      <th>7</th>\n",
       "      <td>Log</td>\n",
       "      <td>0.779423</td>\n",
       "      <td>0.789556</td>\n",
       "    </tr>\n",
       "    <tr>\n",
       "      <th>8</th>\n",
       "      <td>SVM</td>\n",
       "      <td>0.886984</td>\n",
       "      <td>0.893219</td>\n",
       "    </tr>\n",
       "  </tbody>\n",
       "</table>\n",
       "</div>"
      ],
      "text/plain": [
       "  Model  train_acc  test_acc\n",
       "0   KNN   0.926734  0.896337\n",
       "1    NB   0.783320  0.801247\n",
       "2    DT   1.000000  0.930631\n",
       "3    RF   1.000000  0.946999\n",
       "4    AB   0.891660  0.902572\n",
       "5    GB   0.953235  0.948558\n",
       "6   XGB   0.950637  0.946999\n",
       "7   Log   0.779423  0.789556\n",
       "8   SVM   0.886984  0.893219"
      ]
     },
     "execution_count": 52,
     "metadata": {},
     "output_type": "execute_result"
    }
   ],
   "source": [
    "ml.CompareClassifiers(sample4, y3)"
   ]
  },
  {
   "cell_type": "code",
   "execution_count": 53,
   "metadata": {},
   "outputs": [
    {
     "name": "stdout",
     "output_type": "stream",
     "text": [
      "Fitting 5 folds for each of 9 candidates, totalling 45 fits\n"
     ]
    },
    {
     "name": "stderr",
     "output_type": "stream",
     "text": [
      "[Parallel(n_jobs=-1)]: Using backend LokyBackend with 12 concurrent workers.\n",
      "[Parallel(n_jobs=-1)]: Done  17 tasks      | elapsed:    1.4s\n",
      "[Parallel(n_jobs=-1)]: Done  45 out of  45 | elapsed:   11.4s remaining:    0.0s\n",
      "[Parallel(n_jobs=-1)]: Done  45 out of  45 | elapsed:   11.4s finished\n"
     ]
    },
    {
     "name": "stdout",
     "output_type": "stream",
     "text": [
      "GradientBoostingClassifier(max_depth=5)\n",
      "Training: 0.9831124967524032, Validation: 0.9454403741231489\n"
     ]
    },
    {
     "data": {
      "text/plain": [
       "<sklearn.metrics._plot.confusion_matrix.ConfusionMatrixDisplay at 0x1b18c12c668>"
      ]
     },
     "execution_count": 53,
     "metadata": {},
     "output_type": "execute_result"
    },
    {
     "data": {
      "image/png": "[encoded data removed]",
      "text/plain": [
       "<Figure size 432x288 with 2 Axes>"
      ]
     },
     "metadata": {
      "needs_background": "light"
     },
     "output_type": "display_data"
    }
   ],
   "source": [
    "parameters = {'max_depth': [3, 5, None], 'n_estimators': [50, 100, 200]}\n",
    "clf = ml.Optimize(GradientBoostingClassifier(), parameters, sample4, y3)\n",
    "print(clf)\n",
    "score = ev.ScoreModel(clf, sample4, y3)\n",
    "print(score)\n",
    "fit = clf.fit(sample4, y3)\n",
    "#auc = ev.AUC(clf, sample4, y)\n",
    "#print('AUC: {}'.format(auc))\n",
    "ev.BuildConfusion(fit, sv4, yval)"
   ]
  },
  {
   "cell_type": "code",
   "execution_count": 55,
   "metadata": {},
   "outputs": [
    {
     "data": {
      "text/html": [
       "<div>\n",
       "<style scoped>\n",
       "    .dataframe tbody tr th:only-of-type {\n",
       "        vertical-align: middle;\n",
       "    }\n",
       "\n",
       "    .dataframe tbody tr th {\n",
       "        vertical-align: top;\n",
       "    }\n",
       "\n",
       "    .dataframe thead th {\n",
       "        text-align: right;\n",
       "    }\n",
       "</style>\n",
       "<table border=\"1\" class=\"dataframe\">\n",
       "  <thead>\n",
       "    <tr style=\"text-align: right;\">\n",
       "      <th></th>\n",
       "      <th>Model</th>\n",
       "      <th>train_acc</th>\n",
       "      <th>test_acc</th>\n",
       "    </tr>\n",
       "  </thead>\n",
       "  <tbody>\n",
       "    <tr>\n",
       "      <th>0</th>\n",
       "      <td>KNN</td>\n",
       "      <td>0.929852</td>\n",
       "      <td>0.902572</td>\n",
       "    </tr>\n",
       "    <tr>\n",
       "      <th>1</th>\n",
       "      <td>NB</td>\n",
       "      <td>0.739932</td>\n",
       "      <td>0.740452</td>\n",
       "    </tr>\n",
       "    <tr>\n",
       "      <th>2</th>\n",
       "      <td>DT</td>\n",
       "      <td>1.000000</td>\n",
       "      <td>0.938426</td>\n",
       "    </tr>\n",
       "    <tr>\n",
       "      <th>3</th>\n",
       "      <td>RF</td>\n",
       "      <td>1.000000</td>\n",
       "      <td>0.966485</td>\n",
       "    </tr>\n",
       "    <tr>\n",
       "      <th>4</th>\n",
       "      <td>AB</td>\n",
       "      <td>0.900753</td>\n",
       "      <td>0.890101</td>\n",
       "    </tr>\n",
       "    <tr>\n",
       "      <th>5</th>\n",
       "      <td>GB</td>\n",
       "      <td>0.963887</td>\n",
       "      <td>0.954014</td>\n",
       "    </tr>\n",
       "    <tr>\n",
       "      <th>6</th>\n",
       "      <td>XGB</td>\n",
       "      <td>0.961808</td>\n",
       "      <td>0.957132</td>\n",
       "    </tr>\n",
       "    <tr>\n",
       "      <th>7</th>\n",
       "      <td>Log</td>\n",
       "      <td>0.792154</td>\n",
       "      <td>0.784100</td>\n",
       "    </tr>\n",
       "    <tr>\n",
       "      <th>8</th>\n",
       "      <td>SVM</td>\n",
       "      <td>0.923876</td>\n",
       "      <td>0.927514</td>\n",
       "    </tr>\n",
       "  </tbody>\n",
       "</table>\n",
       "</div>"
      ],
      "text/plain": [
       "  Model  train_acc  test_acc\n",
       "0   KNN   0.929852  0.902572\n",
       "1    NB   0.739932  0.740452\n",
       "2    DT   1.000000  0.938426\n",
       "3    RF   1.000000  0.966485\n",
       "4    AB   0.900753  0.890101\n",
       "5    GB   0.963887  0.954014\n",
       "6   XGB   0.961808  0.957132\n",
       "7   Log   0.792154  0.784100\n",
       "8   SVM   0.923876  0.927514"
      ]
     },
     "execution_count": 55,
     "metadata": {},
     "output_type": "execute_result"
    }
   ],
   "source": [
    "ml.CompareClassifiers(sample5, y3)"
   ]
  },
  {
   "cell_type": "code",
   "execution_count": 56,
   "metadata": {},
   "outputs": [
    {
     "name": "stdout",
     "output_type": "stream",
     "text": [
      "Fitting 5 folds for each of 9 candidates, totalling 45 fits\n"
     ]
    },
    {
     "name": "stderr",
     "output_type": "stream",
     "text": [
      "[Parallel(n_jobs=-1)]: Using backend LokyBackend with 12 concurrent workers.\n",
      "[Parallel(n_jobs=-1)]: Done  17 tasks      | elapsed:    2.4s\n",
      "[Parallel(n_jobs=-1)]: Done  45 out of  45 | elapsed:   15.8s remaining:    0.0s\n",
      "[Parallel(n_jobs=-1)]: Done  45 out of  45 | elapsed:   15.8s finished\n"
     ]
    },
    {
     "name": "stdout",
     "output_type": "stream",
     "text": [
      "GradientBoostingClassifier(max_depth=5, n_estimators=200)\n",
      "Training: 0.9994803845154585, Validation: 0.970381917381138\n"
     ]
    },
    {
     "data": {
      "text/plain": [
       "<sklearn.metrics._plot.confusion_matrix.ConfusionMatrixDisplay at 0x1b18b37a860>"
      ]
     },
     "execution_count": 56,
     "metadata": {},
     "output_type": "execute_result"
    },
    {
     "data": {
      "image/png": "[encoded data removed]",
      "text/plain": [
       "<Figure size 432x288 with 2 Axes>"
      ]
     },
     "metadata": {
      "needs_background": "light"
     },
     "output_type": "display_data"
    }
   ],
   "source": [
    "parameters = {'max_depth': [3, 5, None], 'n_estimators': [50, 100, 200]}\n",
    "clf = ml.Optimize(GradientBoostingClassifier(), parameters, sample5, y3)\n",
    "print(clf)\n",
    "score = ev.ScoreModel(clf, sample5, y3)\n",
    "print(score)\n",
    "#auc = ev.AUC(clf, sv5, yval)\n",
    "#print('AUC: {}'.format(auc))\n",
    "fit = clf.fit(sample5, y3)\n",
    "ev.BuildConfusion(fit, sv5, yval)"
   ]
  },
  {
   "cell_type": "code",
   "execution_count": 67,
   "metadata": {},
   "outputs": [],
   "source": [
    "yval = pd.DataFrame(np.array(yval))\n",
    "yval.columns = ['churn']"
   ]
  },
  {
   "cell_type": "code",
   "execution_count": 69,
   "metadata": {},
   "outputs": [],
   "source": [
    "newdf = pd.concat([sample3, y], axis='columns')\n",
    "val_df = pd.concat([sv3, yval], axis='columns')"
   ]
  },
  {
   "cell_type": "code",
   "execution_count": 72,
   "metadata": {},
   "outputs": [],
   "source": [
    "val_df.to_csv('ChurnValidation.csv')"
   ]
  },
  {
   "cell_type": "code",
   "execution_count": 43,
   "metadata": {},
   "outputs": [],
   "source": [
    "newdf.to_csv('Churn3.csv')"
   ]
  }
 ],
 "metadata": {
  "kernelspec": {
   "display_name": "Python 3",
   "language": "python",
   "name": "python3"
  },
  "language_info": {
   "codemirror_mode": {
    "name": "ipython",
    "version": 3
   },
   "file_extension": ".py",
   "mimetype": "text/x-python",
   "name": "python",
   "nbconvert_exporter": "python",
   "pygments_lexer": "ipython3",
   "version": "3.6.9"
  }
 },
 "nbformat": 4,
 "nbformat_minor": 4
}
