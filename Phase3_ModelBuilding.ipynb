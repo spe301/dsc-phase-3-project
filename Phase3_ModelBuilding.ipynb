{
 "cells": [
  {
   "cell_type": "code",
   "execution_count": 1,
   "metadata": {},
   "outputs": [],
   "source": [
    "import pandas as pd\n",
    "import numpy as np\n",
    "from sklearn.svm import SVC, SVR\n",
    "from sklearn.linear_model import LogisticRegression, LinearRegression\n",
    "from sklearn.neighbors import  KNeighborsClassifier, KNeighborsRegressor\n",
    "from sklearn.naive_bayes import GaussianNB, MultinomialNB\n",
    "from sklearn.tree import DecisionTreeClassifier, DecisionTreeRegressor, plot_tree\n",
    "from sklearn.ensemble import RandomForestClassifier, RandomForestRegressor, AdaBoostClassifier, AdaBoostRegressor, GradientBoostingClassifier, GradientBoostingRegressor\n",
    "from sklearn.model_selection import GridSearchCV, train_test_split\n",
    "from sklearn.metrics import confusion_matrix, roc_curve, auc, plot_confusion_matrix\n",
    "from sklearn.preprocessing import StandardScaler, MinMaxScaler\n",
    "from imblearn.over_sampling import SMOTE\n",
    "from sklearn.pipeline import Pipeline\n",
    "from sklearn.datasets import load_iris\n",
    "from xgboost import XGBClassifier, XGBRegressor\n",
    "from matplotlib import pyplot as plt\n",
    "from sklearn.feature_selection import SelectKBest\n",
    "from statsmodels.stats.outliers_influence import variance_inflation_factor\n",
    "\n",
    "class MachineLearning:\n",
    "    \n",
    "    def CompareClassifiers(self, X, y):\n",
    "        X_train, X_test, y_train, y_test = train_test_split(X, y, test_size=0.25)\n",
    "        n = len(np.unique(y))\n",
    "        if n == 2:\n",
    "            methods = [KNeighborsClassifier(), GaussianNB(), DecisionTreeClassifier(), RandomForestClassifier(),\n",
    "                       AdaBoostClassifier(), GradientBoostingClassifier(), XGBClassifier(), LogisticRegression(),\n",
    "                       SVC()]\n",
    "            strs = ['KNN', 'NB', 'DT', 'RF', 'AB', 'GB', 'XGB', 'Log', 'SVM']\n",
    "        else:\n",
    "            methods = [KNeighborsClassifier(), MultinomialNB(), DecisionTreeClassifier(), RandomForestClassifier(),\n",
    "                       AdaBoostClassifier(), GradientBoostingClassifier(), XGBClassifier(), SVC()]\n",
    "            strs = ['KNN', 'NB', 'DT', 'RF', 'AB', 'GB', 'XGB', 'SVM']\n",
    "        train_acc = []\n",
    "        test_acc = []\n",
    "        for i in range(len(methods)):\n",
    "            clf = methods[i].fit(X_train, y_train)\n",
    "            train_acc.append(clf.score(X_train, y_train))\n",
    "            test_acc.append(clf.score(X_test, y_test))\n",
    "        c1 = pd.DataFrame(strs)\n",
    "        c2 = pd.DataFrame(train_acc)\n",
    "        c3 = pd.DataFrame(test_acc)\n",
    "        results = pd.concat([c1, c2, c3], axis='columns')\n",
    "        results.columns = ['Model', 'train_acc', 'test_acc']\n",
    "        return results\n",
    "    \n",
    "    def CompareRegressors(self, X, y):\n",
    "        X_train, X_test, y_train, y_test = train_test_split(X, y, test_size=0.25)\n",
    "        n = len(np.unique(y))\n",
    "        methods = [LinearRegression(), KNeighborsRegressor(), DecisionTreeRegressor(), RandomForestRegressor(),\n",
    "                       AdaBoostRegressor(), GradientBoostingRegressor(), XGBRegressor(), SVR()]\n",
    "        strs = ['Lin', 'KNN', 'DT', 'RF', 'AB', 'GB', 'XGB', 'SVM']\n",
    "        train_acc = []\n",
    "        test_acc = []\n",
    "        for i in range(len(methods)):\n",
    "            reg = methods[i].fit(X_train, y_train)\n",
    "            train_acc.append(reg.score(X_train, y_train))\n",
    "            test_acc.append(reg.score(X_test, y_test))\n",
    "        c1 = pd.DataFrame(strs)\n",
    "        c2 = pd.DataFrame(train_acc)\n",
    "        c3 = pd.DataFrame(test_acc)\n",
    "        results = pd.concat([c1, c2, c3], axis='columns')\n",
    "        results.columns = ['Model', 'train_acc', 'test_acc']\n",
    "        return results\n",
    "    \n",
    "    def Optimize(self, model, parameters, X, y, metric='accuracy'):\n",
    "        try:\n",
    "            X_train, X_test, y_train, y_test = train_test_split(X, y, test_size=0.25)\n",
    "            return GridSearchCV(model, parameters, cv=5, scoring=metric, n_jobs=-1, verbose=2).fit(X_train, y_train).best_estimator_\n",
    "        except:\n",
    "            return GridSearchCV(model, parameters, cv=5, n_jobs=-1, verbose=2).fit(X_train, y_train).best_estimator_\n",
    "        \n",
    "    def PipeIt(self, scaler, model, X, y):\n",
    "        X_train, X_test, y_train, y_test = train_test_split(X, y, test_size=0.25)\n",
    "        pipe = Pipeline([('scaler', scaler), ('model', model)]).fit(X_train, y_train)\n",
    "        return \"Training: {}, Validation: {}\".format(pipe.score(X_train, y_train), pipe.score(X_test, y_test))\n",
    "\n",
    "\n",
    "class DataHelper:\n",
    "    \n",
    "    def ScaleData(self, strategy, y_var, data):\n",
    "        X = data.drop([y_var], axis='columns')\n",
    "        if strategy == 'minmax':\n",
    "            return MinMaxScaler().fit(X).transform(X)\n",
    "        if strategy == 'standard':\n",
    "            return StandardScaler().fit(X).transform(X)\n",
    "        if strategy == 'mean':\n",
    "            for col in X.columns:\n",
    "                X[col] = (X[col] - min(X[col]))/ (max(X[col]) - min(X[col]))\n",
    "            return X\n",
    "        \n",
    "    def HoldOut(self, data):\n",
    "        train, test = train_test_split(data, test_size=0.1)\n",
    "        return train, test\n",
    "    \n",
    "    def MakeNewDF(self, X, y, k):\n",
    "        selector = SelectKBest(k=k).fit(X, y)\n",
    "        mask = selector.get_support()\n",
    "        selected = []\n",
    "        for i in range(len(mask)):\n",
    "            if mask[i] == True:\n",
    "                selected.append(X.columns[i])\n",
    "        df = pd.DataFrame(selector.transform(X))\n",
    "        df.columns = selected\n",
    "        return df\n",
    "    \n",
    "    def VifIt(self, X):\n",
    "        vif = pd.Series([variance_inflation_factor(X.values, i) \n",
    "               for i in range(X.shape[1])], \n",
    "              index=X.columns)\n",
    "        return vif\n",
    "        \n",
    "    \n",
    "class Evaluater:\n",
    "    \n",
    "    def ScoreModel(self, model, X, y):\n",
    "        X_train, X_test, y_train, y_test = train_test_split(X, y, test_size=0.25)\n",
    "        algo = model.fit(X_train, y_train)\n",
    "        return 'Training: {}, Validation: {}'.format(algo.score(X_train, y_train), algo.score(X_test, y_test))\n",
    "    \n",
    "    def BuildConfusion(self, fitted_model,  Xval, yval, cmap='plasma'):\n",
    "        try:\n",
    "            cm = plot_confusion_matrix(fitted_model, Xval, yval, cmap=cmap)\n",
    "            return cm\n",
    "        except:\n",
    "            return 'Please fit model before passing'\n",
    "    \n",
    "    def BuildTree(self, tree):\n",
    "        try:\n",
    "            return plot_tree(tree)\n",
    "        except:\n",
    "            return 'Please pass a tree class'\n",
    "    \n",
    "    def GetCoefficients(self, model, X, y):\n",
    "        try:\n",
    "            X_train, X_test, y_train, y_test = train_test_split(X, y, test_size=0.25)\n",
    "            model.fit(X_train, y_train)\n",
    "            return 'coefficients: {}'.format(model.coef_)\n",
    "        except:\n",
    "            return 'Please pass LinearRegression, LogisticRegression, or an SVM with a linear kernel'\n",
    "        \n",
    "    def GetImportance(self, model, X, y):\n",
    "        X_train, X_test, y_train, y_test = train_test_split(X, y, test_size=0.25)\n",
    "        model.fit(X_train, y_train)\n",
    "        try:\n",
    "            FI = model.feature_importances_\n",
    "            n_features = X_train.shape[1]\n",
    "            plt.figure(figsize=(8,8))\n",
    "            plt.barh(range(n_features), FI, align='center') \n",
    "            plt.yticks(np.arange(n_features), X_train.columns.values) \n",
    "            plt.xlabel('Feature importance')\n",
    "            plt.ylabel('Feature')\n",
    "        except:\n",
    "            return 'Please pass an ensemble class'\n",
    "        \n",
    "    def AUC(self, model, Xval, yval):\n",
    "        pred = model.predict(Xval)\n",
    "        fpr, tpr, threshold = roc_curve(yval, pred)\n",
    "        return auc(fpr, tpr)\n",
    "    \n",
    "ml = MachineLearning()\n",
    "dh = DataHelper()\n",
    "ev = Evaluater()"
   ]
  },
  {
   "cell_type": "code",
   "execution_count": 2,
   "metadata": {},
   "outputs": [],
   "source": [
    "df = pd.read_csv(r'C:\\Users\\aacjp\\OneDrive\\Desktop\\data\\tables\\ChurnData_ForML.csv')\n",
    "\n",
    "HO = dh.HoldOut(df)\n",
    "df = HO[0].drop(['Unnamed: 0'], axis='columns')\n",
    "val_df = HO[1].drop(['Unnamed: 0'], axis='columns')"
   ]
  },
  {
   "cell_type": "code",
   "execution_count": 3,
   "metadata": {},
   "outputs": [
    {
     "name": "stderr",
     "output_type": "stream",
     "text": [
      "C:\\Users\\aacjp\\Anaconda3\\envs\\flatiron-env\\lib\\site-packages\\sklearn\\linear_model\\_logistic.py:764: ConvergenceWarning: lbfgs failed to converge (status=1):\n",
      "STOP: TOTAL NO. of ITERATIONS REACHED LIMIT.\n",
      "\n",
      "Increase the number of iterations (max_iter) or scale the data as shown in:\n",
      "    https://scikit-learn.org/stable/modules/preprocessing.html\n",
      "Please also refer to the documentation for alternative solver options:\n",
      "    https://scikit-learn.org/stable/modules/linear_model.html#logistic-regression\n",
      "  extra_warning_msg=_LOGISTIC_SOLVER_CONVERGENCE_MSG)\n"
     ]
    },
    {
     "data": {
      "text/html": [
       "<div>\n",
       "<style scoped>\n",
       "    .dataframe tbody tr th:only-of-type {\n",
       "        vertical-align: middle;\n",
       "    }\n",
       "\n",
       "    .dataframe tbody tr th {\n",
       "        vertical-align: top;\n",
       "    }\n",
       "\n",
       "    .dataframe thead th {\n",
       "        text-align: right;\n",
       "    }\n",
       "</style>\n",
       "<table border=\"1\" class=\"dataframe\">\n",
       "  <thead>\n",
       "    <tr style=\"text-align: right;\">\n",
       "      <th></th>\n",
       "      <th>Model</th>\n",
       "      <th>train_acc</th>\n",
       "      <th>test_acc</th>\n",
       "    </tr>\n",
       "  </thead>\n",
       "  <tbody>\n",
       "    <tr>\n",
       "      <th>0</th>\n",
       "      <td>KNN</td>\n",
       "      <td>0.902179</td>\n",
       "      <td>0.876000</td>\n",
       "    </tr>\n",
       "    <tr>\n",
       "      <th>1</th>\n",
       "      <td>NB</td>\n",
       "      <td>0.872388</td>\n",
       "      <td>0.880000</td>\n",
       "    </tr>\n",
       "    <tr>\n",
       "      <th>2</th>\n",
       "      <td>DT</td>\n",
       "      <td>1.000000</td>\n",
       "      <td>0.922667</td>\n",
       "    </tr>\n",
       "    <tr>\n",
       "      <th>3</th>\n",
       "      <td>RF</td>\n",
       "      <td>1.000000</td>\n",
       "      <td>0.949333</td>\n",
       "    </tr>\n",
       "    <tr>\n",
       "      <th>4</th>\n",
       "      <td>AB</td>\n",
       "      <td>0.899511</td>\n",
       "      <td>0.886667</td>\n",
       "    </tr>\n",
       "    <tr>\n",
       "      <th>5</th>\n",
       "      <td>GB</td>\n",
       "      <td>0.978657</td>\n",
       "      <td>0.940000</td>\n",
       "    </tr>\n",
       "    <tr>\n",
       "      <th>6</th>\n",
       "      <td>XGB</td>\n",
       "      <td>0.973766</td>\n",
       "      <td>0.941333</td>\n",
       "    </tr>\n",
       "    <tr>\n",
       "      <th>7</th>\n",
       "      <td>Log</td>\n",
       "      <td>0.862161</td>\n",
       "      <td>0.856000</td>\n",
       "    </tr>\n",
       "    <tr>\n",
       "      <th>8</th>\n",
       "      <td>SVM</td>\n",
       "      <td>0.859048</td>\n",
       "      <td>0.853333</td>\n",
       "    </tr>\n",
       "  </tbody>\n",
       "</table>\n",
       "</div>"
      ],
      "text/plain": [
       "  Model  train_acc  test_acc\n",
       "0   KNN   0.902179  0.876000\n",
       "1    NB   0.872388  0.880000\n",
       "2    DT   1.000000  0.922667\n",
       "3    RF   1.000000  0.949333\n",
       "4    AB   0.899511  0.886667\n",
       "5    GB   0.978657  0.940000\n",
       "6   XGB   0.973766  0.941333\n",
       "7   Log   0.862161  0.856000\n",
       "8   SVM   0.859048  0.853333"
      ]
     },
     "execution_count": 3,
     "metadata": {},
     "output_type": "execute_result"
    }
   ],
   "source": [
    "X = df.drop(['churn'], axis='columns')\n",
    "y = df['churn']\n",
    "ml.CompareClassifiers(X, y)"
   ]
  },
  {
   "cell_type": "code",
   "execution_count": 4,
   "metadata": {},
   "outputs": [
    {
     "name": "stdout",
     "output_type": "stream",
     "text": [
      "Fitting 5 folds for each of 8 candidates, totalling 40 fits\n"
     ]
    },
    {
     "name": "stderr",
     "output_type": "stream",
     "text": [
      "[Parallel(n_jobs=-1)]: Using backend LokyBackend with 12 concurrent workers.\n",
      "[Parallel(n_jobs=-1)]: Done  17 tasks      | elapsed:    3.2s\n",
      "[Parallel(n_jobs=-1)]: Done  38 out of  40 | elapsed:    4.0s remaining:    0.1s\n",
      "[Parallel(n_jobs=-1)]: Done  40 out of  40 | elapsed:    4.0s finished\n"
     ]
    }
   ],
   "source": [
    "parameters = {\n",
    "    'learning_rate': [0.1, 0.2],\n",
    "    'max_depth': [6],\n",
    "    'min_child_weight': [1, 2],\n",
    "    'subsample': [0.5, 0.7],\n",
    "    'n_estimators': [100],\n",
    "}\n",
    "clf = ml.Optimize(XGBClassifier(), parameters, X, y, metric='recall')"
   ]
  },
  {
   "cell_type": "code",
   "execution_count": 5,
   "metadata": {},
   "outputs": [
    {
     "data": {
      "text/plain": [
       "XGBClassifier(max_depth=6, subsample=0.5)"
      ]
     },
     "execution_count": 5,
     "metadata": {},
     "output_type": "execute_result"
    }
   ],
   "source": [
    "clf"
   ]
  },
  {
   "cell_type": "code",
   "execution_count": 6,
   "metadata": {},
   "outputs": [
    {
     "data": {
      "text/plain": [
       "'Training: 0.9835482436638506, Validation: 0.96'"
      ]
     },
     "execution_count": 6,
     "metadata": {},
     "output_type": "execute_result"
    }
   ],
   "source": [
    "ev.ScoreModel(clf, X, y)"
   ]
  },
  {
   "cell_type": "code",
   "execution_count": 7,
   "metadata": {},
   "outputs": [
    {
     "data": {
      "text/plain": [
       "<sklearn.metrics._plot.confusion_matrix.ConfusionMatrixDisplay at 0x2b46180b5f8>"
      ]
     },
     "execution_count": 7,
     "metadata": {},
     "output_type": "execute_result"
    },
    {
     "data": {
      "image/png": "[encoded data removed]",
      "text/plain": [
       "<Figure size 432x288 with 2 Axes>"
      ]
     },
     "metadata": {
      "needs_background": "light"
     },
     "output_type": "display_data"
    }
   ],
   "source": [
    "fitted_model = clf.fit(X, y)\n",
    "Xval = val_df.drop(['churn'], axis='columns')\n",
    "yval = val_df['churn']\n",
    "ev.BuildConfusion(clf, Xval, yval)"
   ]
  },
  {
   "cell_type": "code",
   "execution_count": 9,
   "metadata": {},
   "outputs": [
    {
     "data": {
      "text/plain": [
       "0.8803314491264131"
      ]
     },
     "execution_count": 9,
     "metadata": {},
     "output_type": "execute_result"
    }
   ],
   "source": [
    "ev.AUC(clf, Xval, yval)"
   ]
  },
  {
   "cell_type": "markdown",
   "metadata": {},
   "source": [
    "# Step 2...\n",
    "\n",
    "normalize the data"
   ]
  },
  {
   "cell_type": "markdown",
   "metadata": {},
   "source": [
    "Accuracy imporved more from MinMaxScaling but validation recall and AUC dropped significantly. I ended up using standard scaler instead."
   ]
  },
  {
   "cell_type": "code",
   "execution_count": 10,
   "metadata": {},
   "outputs": [
    {
     "data": {
      "text/plain": [
       "'Training: 0.9835482436638506, Validation: 0.9586666666666667'"
      ]
     },
     "execution_count": 10,
     "metadata": {},
     "output_type": "execute_result"
    }
   ],
   "source": [
    "scaler = StandardScaler()\n",
    "ml.PipeIt(scaler, clf, X, y)"
   ]
  },
  {
   "cell_type": "code",
   "execution_count": 11,
   "metadata": {},
   "outputs": [
    {
     "data": {
      "text/plain": [
       "'Training: 0.9848821698532682, Validation: 0.952'"
      ]
     },
     "execution_count": 11,
     "metadata": {},
     "output_type": "execute_result"
    }
   ],
   "source": [
    "scaler = MinMaxScaler()\n",
    "ml.PipeIt(scaler, clf, X, y)"
   ]
  },
  {
   "cell_type": "code",
   "execution_count": 12,
   "metadata": {},
   "outputs": [
    {
     "data": {
      "text/html": [
       "<div>\n",
       "<style scoped>\n",
       "    .dataframe tbody tr th:only-of-type {\n",
       "        vertical-align: middle;\n",
       "    }\n",
       "\n",
       "    .dataframe tbody tr th {\n",
       "        vertical-align: top;\n",
       "    }\n",
       "\n",
       "    .dataframe thead th {\n",
       "        text-align: right;\n",
       "    }\n",
       "</style>\n",
       "<table border=\"1\" class=\"dataframe\">\n",
       "  <thead>\n",
       "    <tr style=\"text-align: right;\">\n",
       "      <th></th>\n",
       "      <th>Model</th>\n",
       "      <th>train_acc</th>\n",
       "      <th>test_acc</th>\n",
       "    </tr>\n",
       "  </thead>\n",
       "  <tbody>\n",
       "    <tr>\n",
       "      <th>0</th>\n",
       "      <td>KNN</td>\n",
       "      <td>0.907070</td>\n",
       "      <td>0.873333</td>\n",
       "    </tr>\n",
       "    <tr>\n",
       "      <th>1</th>\n",
       "      <td>NB</td>\n",
       "      <td>0.860827</td>\n",
       "      <td>0.870667</td>\n",
       "    </tr>\n",
       "    <tr>\n",
       "      <th>2</th>\n",
       "      <td>DT</td>\n",
       "      <td>1.000000</td>\n",
       "      <td>0.902667</td>\n",
       "    </tr>\n",
       "    <tr>\n",
       "      <th>3</th>\n",
       "      <td>RF</td>\n",
       "      <td>1.000000</td>\n",
       "      <td>0.956000</td>\n",
       "    </tr>\n",
       "    <tr>\n",
       "      <th>4</th>\n",
       "      <td>AB</td>\n",
       "      <td>0.897288</td>\n",
       "      <td>0.869333</td>\n",
       "    </tr>\n",
       "    <tr>\n",
       "      <th>5</th>\n",
       "      <td>GB</td>\n",
       "      <td>0.975545</td>\n",
       "      <td>0.950667</td>\n",
       "    </tr>\n",
       "    <tr>\n",
       "      <th>6</th>\n",
       "      <td>XGB</td>\n",
       "      <td>0.970654</td>\n",
       "      <td>0.948000</td>\n",
       "    </tr>\n",
       "    <tr>\n",
       "      <th>7</th>\n",
       "      <td>Log</td>\n",
       "      <td>0.872388</td>\n",
       "      <td>0.857333</td>\n",
       "    </tr>\n",
       "    <tr>\n",
       "      <th>8</th>\n",
       "      <td>SVM</td>\n",
       "      <td>0.945754</td>\n",
       "      <td>0.918667</td>\n",
       "    </tr>\n",
       "  </tbody>\n",
       "</table>\n",
       "</div>"
      ],
      "text/plain": [
       "  Model  train_acc  test_acc\n",
       "0   KNN   0.907070  0.873333\n",
       "1    NB   0.860827  0.870667\n",
       "2    DT   1.000000  0.902667\n",
       "3    RF   1.000000  0.956000\n",
       "4    AB   0.897288  0.869333\n",
       "5    GB   0.975545  0.950667\n",
       "6   XGB   0.970654  0.948000\n",
       "7   Log   0.872388  0.857333\n",
       "8   SVM   0.945754  0.918667"
      ]
     },
     "execution_count": 12,
     "metadata": {},
     "output_type": "execute_result"
    }
   ],
   "source": [
    "X = StandardScaler().fit(X).transform(X)\n",
    "Xval = StandardScaler().fit(Xval).transform(Xval)\n",
    "ml.CompareClassifiers(X, y)"
   ]
  },
  {
   "cell_type": "code",
   "execution_count": 13,
   "metadata": {},
   "outputs": [
    {
     "name": "stdout",
     "output_type": "stream",
     "text": [
      "Fitting 5 folds for each of 8 candidates, totalling 40 fits\n"
     ]
    },
    {
     "name": "stderr",
     "output_type": "stream",
     "text": [
      "[Parallel(n_jobs=-1)]: Using backend LokyBackend with 12 concurrent workers.\n",
      "[Parallel(n_jobs=-1)]: Done  17 tasks      | elapsed:    0.9s\n",
      "[Parallel(n_jobs=-1)]: Done  38 out of  40 | elapsed:    1.6s remaining:    0.0s\n",
      "[Parallel(n_jobs=-1)]: Done  40 out of  40 | elapsed:    1.6s finished\n"
     ]
    },
    {
     "data": {
      "text/plain": [
       "XGBClassifier(max_depth=6, subsample=0.7)"
      ]
     },
     "execution_count": 13,
     "metadata": {},
     "output_type": "execute_result"
    }
   ],
   "source": [
    "parameters =  {\n",
    "    'learning_rate': [0.1, 0.2],\n",
    "    'max_depth': [6],\n",
    "    'min_child_weight': [1, 2],\n",
    "    'subsample': [0.5, 0.7],\n",
    "    'n_estimators': [100],\n",
    "}\n",
    "clf = ml.Optimize(XGBClassifier(), parameters, X, y)\n",
    "clf"
   ]
  },
  {
   "cell_type": "code",
   "execution_count": 14,
   "metadata": {},
   "outputs": [
    {
     "data": {
      "text/plain": [
       "'Training: 0.9902178746109382, Validation: 0.944'"
      ]
     },
     "execution_count": 14,
     "metadata": {},
     "output_type": "execute_result"
    }
   ],
   "source": [
    "ev.ScoreModel(clf, X, y)"
   ]
  },
  {
   "cell_type": "code",
   "execution_count": 15,
   "metadata": {},
   "outputs": [
    {
     "data": {
      "text/plain": [
       "<sklearn.metrics._plot.confusion_matrix.ConfusionMatrixDisplay at 0x2b4617bd630>"
      ]
     },
     "execution_count": 15,
     "metadata": {},
     "output_type": "execute_result"
    },
    {
     "data": {
      "image/png": "[encoded data removed]",
      "text/plain": [
       "<Figure size 432x288 with 2 Axes>"
      ]
     },
     "metadata": {
      "needs_background": "light"
     },
     "output_type": "display_data"
    }
   ],
   "source": [
    "model = clf.fit(X, y)\n",
    "ev.BuildConfusion(model, Xval, yval)"
   ]
  },
  {
   "cell_type": "code",
   "execution_count": 17,
   "metadata": {},
   "outputs": [
    {
     "data": {
      "text/plain": [
       "0.8624743062692704"
      ]
     },
     "execution_count": 17,
     "metadata": {},
     "output_type": "execute_result"
    }
   ],
   "source": [
    "ev.AUC(clf, Xval, yval)"
   ]
  },
  {
   "cell_type": "code",
   "execution_count": 18,
   "metadata": {},
   "outputs": [
    {
     "data": {
      "text/plain": [
       "\"\\nparam_grid = {\\n    'learning_rate': [0.1, 0.2],\\n    'max_depth': [6],\\n    'min_child_weight': [1, 2],\\n    'subsample': [0.5, 0.7],\\n    'n_estimators': [100],\\n}\""
      ]
     },
     "execution_count": 18,
     "metadata": {},
     "output_type": "execute_result"
    }
   ],
   "source": [
    "'''\n",
    "param_grid = {\n",
    "    'learning_rate': [0.1, 0.2],\n",
    "    'max_depth': [6],\n",
    "    'min_child_weight': [1, 2],\n",
    "    'subsample': [0.5, 0.7],\n",
    "    'n_estimators': [100],\n",
    "}'''"
   ]
  },
  {
   "cell_type": "code",
   "execution_count": 19,
   "metadata": {},
   "outputs": [],
   "source": [
    "X3 = pd.DataFrame(SMOTE().fit_resample(X, y)[0])\n",
    "y3 = SMOTE().fit_resample(X, y)[1]\n",
    "df3 = pd.concat([X3, y3], axis='columns')\n",
    "df3 = dh.HoldOut(df3)[0]\n",
    "val3 = dh.HoldOut(df3)[1]"
   ]
  },
  {
   "cell_type": "code",
   "execution_count": 20,
   "metadata": {},
   "outputs": [
    {
     "data": {
      "text/html": [
       "<div>\n",
       "<style scoped>\n",
       "    .dataframe tbody tr th:only-of-type {\n",
       "        vertical-align: middle;\n",
       "    }\n",
       "\n",
       "    .dataframe tbody tr th {\n",
       "        vertical-align: top;\n",
       "    }\n",
       "\n",
       "    .dataframe thead th {\n",
       "        text-align: right;\n",
       "    }\n",
       "</style>\n",
       "<table border=\"1\" class=\"dataframe\">\n",
       "  <thead>\n",
       "    <tr style=\"text-align: right;\">\n",
       "      <th></th>\n",
       "      <th>Model</th>\n",
       "      <th>train_acc</th>\n",
       "      <th>test_acc</th>\n",
       "    </tr>\n",
       "  </thead>\n",
       "  <tbody>\n",
       "    <tr>\n",
       "      <th>0</th>\n",
       "      <td>KNN</td>\n",
       "      <td>0.927398</td>\n",
       "      <td>0.887737</td>\n",
       "    </tr>\n",
       "    <tr>\n",
       "      <th>1</th>\n",
       "      <td>NB</td>\n",
       "      <td>0.736675</td>\n",
       "      <td>0.719344</td>\n",
       "    </tr>\n",
       "    <tr>\n",
       "      <th>2</th>\n",
       "      <td>DT</td>\n",
       "      <td>1.000000</td>\n",
       "      <td>0.936097</td>\n",
       "    </tr>\n",
       "    <tr>\n",
       "      <th>3</th>\n",
       "      <td>RF</td>\n",
       "      <td>1.000000</td>\n",
       "      <td>0.961140</td>\n",
       "    </tr>\n",
       "    <tr>\n",
       "      <th>4</th>\n",
       "      <td>AB</td>\n",
       "      <td>0.897724</td>\n",
       "      <td>0.887737</td>\n",
       "    </tr>\n",
       "    <tr>\n",
       "      <th>5</th>\n",
       "      <td>GB</td>\n",
       "      <td>0.962259</td>\n",
       "      <td>0.948187</td>\n",
       "    </tr>\n",
       "    <tr>\n",
       "      <th>6</th>\n",
       "      <td>XGB</td>\n",
       "      <td>0.959090</td>\n",
       "      <td>0.955959</td>\n",
       "    </tr>\n",
       "    <tr>\n",
       "      <th>7</th>\n",
       "      <td>Log</td>\n",
       "      <td>0.788245</td>\n",
       "      <td>0.812608</td>\n",
       "    </tr>\n",
       "    <tr>\n",
       "      <th>8</th>\n",
       "      <td>SVM</td>\n",
       "      <td>0.927687</td>\n",
       "      <td>0.910190</td>\n",
       "    </tr>\n",
       "  </tbody>\n",
       "</table>\n",
       "</div>"
      ],
      "text/plain": [
       "  Model  train_acc  test_acc\n",
       "0   KNN   0.927398  0.887737\n",
       "1    NB   0.736675  0.719344\n",
       "2    DT   1.000000  0.936097\n",
       "3    RF   1.000000  0.961140\n",
       "4    AB   0.897724  0.887737\n",
       "5    GB   0.962259  0.948187\n",
       "6   XGB   0.959090  0.955959\n",
       "7   Log   0.788245  0.812608\n",
       "8   SVM   0.927687  0.910190"
      ]
     },
     "execution_count": 20,
     "metadata": {},
     "output_type": "execute_result"
    }
   ],
   "source": [
    "X = df3.drop(['churn'], axis='columns')\n",
    "Xval = val3.drop(['churn'], axis='columns')\n",
    "y = df3['churn']\n",
    "yval = val3['churn']\n",
    "ml.CompareClassifiers(X, y)"
   ]
  },
  {
   "cell_type": "code",
   "execution_count": 21,
   "metadata": {},
   "outputs": [
    {
     "name": "stdout",
     "output_type": "stream",
     "text": [
      "Fitting 5 folds for each of 8 candidates, totalling 40 fits\n"
     ]
    },
    {
     "name": "stderr",
     "output_type": "stream",
     "text": [
      "[Parallel(n_jobs=-1)]: Using backend LokyBackend with 12 concurrent workers.\n",
      "[Parallel(n_jobs=-1)]: Done  17 tasks      | elapsed:    1.5s\n",
      "[Parallel(n_jobs=-1)]: Done  38 out of  40 | elapsed:    2.7s remaining:    0.0s\n",
      "[Parallel(n_jobs=-1)]: Done  40 out of  40 | elapsed:    2.8s finished\n"
     ]
    },
    {
     "data": {
      "text/plain": [
       "XGBClassifier(learning_rate=0.2, max_depth=6, subsample=0.7)"
      ]
     },
     "execution_count": 21,
     "metadata": {},
     "output_type": "execute_result"
    }
   ],
   "source": [
    "parameters = {\n",
    "    'learning_rate': [0.1, 0.2],\n",
    "    'max_depth': [6],\n",
    "    'min_child_weight': [1, 2],\n",
    "    'subsample': [0.5, 0.7],\n",
    "    'n_estimators': [100],\n",
    "}\n",
    "clf = ml.Optimize(XGBClassifier(), parameters, X, y)\n",
    "clf"
   ]
  },
  {
   "cell_type": "code",
   "execution_count": 22,
   "metadata": {},
   "outputs": [
    {
     "data": {
      "text/plain": [
       "'Training: 1.0, Validation: 0.968048359240069'"
      ]
     },
     "execution_count": 22,
     "metadata": {},
     "output_type": "execute_result"
    }
   ],
   "source": [
    "ev.ScoreModel(clf, X, y)"
   ]
  },
  {
   "cell_type": "code",
   "execution_count": 23,
   "metadata": {},
   "outputs": [
    {
     "data": {
      "text/plain": [
       "<sklearn.metrics._plot.confusion_matrix.ConfusionMatrixDisplay at 0x2b45a74b828>"
      ]
     },
     "execution_count": 23,
     "metadata": {},
     "output_type": "execute_result"
    },
    {
     "data": {
      "image/png": "[encoded data removed]",
      "text/plain": [
       "<Figure size 432x288 with 2 Axes>"
      ]
     },
     "metadata": {
      "needs_background": "light"
     },
     "output_type": "display_data"
    }
   ],
   "source": [
    "fitted = clf.fit(X, y)\n",
    "ev.BuildConfusion(fitted, Xval, yval)"
   ]
  },
  {
   "cell_type": "code",
   "execution_count": 24,
   "metadata": {},
   "outputs": [
    {
     "data": {
      "text/plain": [
       "1.0"
      ]
     },
     "execution_count": 24,
     "metadata": {},
     "output_type": "execute_result"
    }
   ],
   "source": [
    "232 / 232"
   ]
  },
  {
   "cell_type": "code",
   "execution_count": 25,
   "metadata": {},
   "outputs": [
    {
     "data": {
      "text/plain": [
       "1.0"
      ]
     },
     "execution_count": 25,
     "metadata": {},
     "output_type": "execute_result"
    }
   ],
   "source": [
    "ev.AUC(clf, Xval, yval)"
   ]
  },
  {
   "cell_type": "code",
   "execution_count": 26,
   "metadata": {},
   "outputs": [
    {
     "data": {
      "text/html": [
       "<div>\n",
       "<style scoped>\n",
       "    .dataframe tbody tr th:only-of-type {\n",
       "        vertical-align: middle;\n",
       "    }\n",
       "\n",
       "    .dataframe tbody tr th {\n",
       "        vertical-align: top;\n",
       "    }\n",
       "\n",
       "    .dataframe thead th {\n",
       "        text-align: right;\n",
       "    }\n",
       "</style>\n",
       "<table border=\"1\" class=\"dataframe\">\n",
       "  <thead>\n",
       "    <tr style=\"text-align: right;\">\n",
       "      <th></th>\n",
       "      <th>international plan</th>\n",
       "      <th>voice mail plan</th>\n",
       "      <th>number vmail messages</th>\n",
       "      <th>total day minutes</th>\n",
       "      <th>total day calls</th>\n",
       "      <th>total day charge</th>\n",
       "      <th>total eve minutes</th>\n",
       "      <th>total eve calls</th>\n",
       "      <th>total eve charge</th>\n",
       "      <th>total night minutes</th>\n",
       "      <th>...</th>\n",
       "      <th>customer service calls</th>\n",
       "      <th>%night</th>\n",
       "      <th>%eve</th>\n",
       "      <th>avg duration</th>\n",
       "      <th>Midwest</th>\n",
       "      <th>Noncontinental</th>\n",
       "      <th>Northeast</th>\n",
       "      <th>Northwest</th>\n",
       "      <th>Southeast</th>\n",
       "      <th>Southwest</th>\n",
       "    </tr>\n",
       "  </thead>\n",
       "  <tbody>\n",
       "    <tr>\n",
       "      <th>1718</th>\n",
       "      <td>-0.322166</td>\n",
       "      <td>-0.620660</td>\n",
       "      <td>-0.593572</td>\n",
       "      <td>1.208814</td>\n",
       "      <td>-0.684420</td>\n",
       "      <td>1.208318</td>\n",
       "      <td>1.052964</td>\n",
       "      <td>-0.856416</td>\n",
       "      <td>1.053268</td>\n",
       "      <td>0.759262</td>\n",
       "      <td>...</td>\n",
       "      <td>-1.173558</td>\n",
       "      <td>0.308169</td>\n",
       "      <td>-0.224580</td>\n",
       "      <td>-1.654297</td>\n",
       "      <td>-0.566697</td>\n",
       "      <td>-0.181849</td>\n",
       "      <td>1.672185</td>\n",
       "      <td>-0.352824</td>\n",
       "      <td>-0.56567</td>\n",
       "      <td>-0.348627</td>\n",
       "    </tr>\n",
       "    <tr>\n",
       "      <th>4061</th>\n",
       "      <td>3.103990</td>\n",
       "      <td>1.611187</td>\n",
       "      <td>1.469347</td>\n",
       "      <td>1.303861</td>\n",
       "      <td>0.164288</td>\n",
       "      <td>1.303611</td>\n",
       "      <td>1.003366</td>\n",
       "      <td>-1.365657</td>\n",
       "      <td>1.003371</td>\n",
       "      <td>-0.299685</td>\n",
       "      <td>...</td>\n",
       "      <td>-0.179268</td>\n",
       "      <td>0.470133</td>\n",
       "      <td>-1.290161</td>\n",
       "      <td>-1.168823</td>\n",
       "      <td>1.764612</td>\n",
       "      <td>-0.181849</td>\n",
       "      <td>-0.598020</td>\n",
       "      <td>-0.352824</td>\n",
       "      <td>-0.56567</td>\n",
       "      <td>-0.348627</td>\n",
       "    </tr>\n",
       "    <tr>\n",
       "      <th>1935</th>\n",
       "      <td>-0.322166</td>\n",
       "      <td>1.611187</td>\n",
       "      <td>1.887434</td>\n",
       "      <td>-1.393921</td>\n",
       "      <td>-0.033603</td>\n",
       "      <td>-1.393871</td>\n",
       "      <td>0.700437</td>\n",
       "      <td>-1.108225</td>\n",
       "      <td>0.701438</td>\n",
       "      <td>1.099491</td>\n",
       "      <td>...</td>\n",
       "      <td>0.335662</td>\n",
       "      <td>0.490493</td>\n",
       "      <td>-0.954281</td>\n",
       "      <td>-0.571459</td>\n",
       "      <td>-0.566697</td>\n",
       "      <td>-0.181849</td>\n",
       "      <td>1.672185</td>\n",
       "      <td>-0.352824</td>\n",
       "      <td>-0.56567</td>\n",
       "      <td>-0.348627</td>\n",
       "    </tr>\n",
       "    <tr>\n",
       "      <th>5025</th>\n",
       "      <td>-0.322166</td>\n",
       "      <td>-0.620660</td>\n",
       "      <td>-0.593572</td>\n",
       "      <td>-0.494493</td>\n",
       "      <td>0.868873</td>\n",
       "      <td>-0.494281</td>\n",
       "      <td>-0.885306</td>\n",
       "      <td>0.700734</td>\n",
       "      <td>-0.884426</td>\n",
       "      <td>1.371058</td>\n",
       "      <td>...</td>\n",
       "      <td>2.415908</td>\n",
       "      <td>-0.194446</td>\n",
       "      <td>0.046607</td>\n",
       "      <td>0.532689</td>\n",
       "      <td>0.000469</td>\n",
       "      <td>-0.181849</td>\n",
       "      <td>1.119884</td>\n",
       "      <td>-0.352824</td>\n",
       "      <td>-0.56567</td>\n",
       "      <td>-0.348627</td>\n",
       "    </tr>\n",
       "    <tr>\n",
       "      <th>1115</th>\n",
       "      <td>-0.322166</td>\n",
       "      <td>-0.620660</td>\n",
       "      <td>-0.593572</td>\n",
       "      <td>1.004642</td>\n",
       "      <td>0.016459</td>\n",
       "      <td>1.004904</td>\n",
       "      <td>-0.014519</td>\n",
       "      <td>1.057326</td>\n",
       "      <td>-0.013872</td>\n",
       "      <td>0.719700</td>\n",
       "      <td>...</td>\n",
       "      <td>0.335662</td>\n",
       "      <td>-0.785774</td>\n",
       "      <td>1.052398</td>\n",
       "      <td>-0.630471</td>\n",
       "      <td>1.764612</td>\n",
       "      <td>-0.181849</td>\n",
       "      <td>-0.598020</td>\n",
       "      <td>-0.352824</td>\n",
       "      <td>-0.56567</td>\n",
       "      <td>-0.348627</td>\n",
       "    </tr>\n",
       "  </tbody>\n",
       "</table>\n",
       "<p>5 rows × 25 columns</p>\n",
       "</div>"
      ],
      "text/plain": [
       "      international plan  voice mail plan  number vmail messages  \\\n",
       "1718           -0.322166        -0.620660              -0.593572   \n",
       "4061            3.103990         1.611187               1.469347   \n",
       "1935           -0.322166         1.611187               1.887434   \n",
       "5025           -0.322166        -0.620660              -0.593572   \n",
       "1115           -0.322166        -0.620660              -0.593572   \n",
       "\n",
       "      total day minutes  total day calls  total day charge  total eve minutes  \\\n",
       "1718           1.208814        -0.684420          1.208318           1.052964   \n",
       "4061           1.303861         0.164288          1.303611           1.003366   \n",
       "1935          -1.393921        -0.033603         -1.393871           0.700437   \n",
       "5025          -0.494493         0.868873         -0.494281          -0.885306   \n",
       "1115           1.004642         0.016459          1.004904          -0.014519   \n",
       "\n",
       "      total eve calls  total eve charge  total night minutes  ...  \\\n",
       "1718        -0.856416          1.053268             0.759262  ...   \n",
       "4061        -1.365657          1.003371            -0.299685  ...   \n",
       "1935        -1.108225          0.701438             1.099491  ...   \n",
       "5025         0.700734         -0.884426             1.371058  ...   \n",
       "1115         1.057326         -0.013872             0.719700  ...   \n",
       "\n",
       "      customer service calls    %night      %eve  avg duration   Midwest  \\\n",
       "1718               -1.173558  0.308169 -0.224580     -1.654297 -0.566697   \n",
       "4061               -0.179268  0.470133 -1.290161     -1.168823  1.764612   \n",
       "1935                0.335662  0.490493 -0.954281     -0.571459 -0.566697   \n",
       "5025                2.415908 -0.194446  0.046607      0.532689  0.000469   \n",
       "1115                0.335662 -0.785774  1.052398     -0.630471  1.764612   \n",
       "\n",
       "      Noncontinental  Northeast  Northwest  Southeast  Southwest  \n",
       "1718       -0.181849   1.672185  -0.352824   -0.56567  -0.348627  \n",
       "4061       -0.181849  -0.598020  -0.352824   -0.56567  -0.348627  \n",
       "1935       -0.181849   1.672185  -0.352824   -0.56567  -0.348627  \n",
       "5025       -0.181849   1.119884  -0.352824   -0.56567  -0.348627  \n",
       "1115       -0.181849  -0.598020  -0.352824   -0.56567  -0.348627  \n",
       "\n",
       "[5 rows x 25 columns]"
      ]
     },
     "execution_count": 26,
     "metadata": {},
     "output_type": "execute_result"
    }
   ],
   "source": [
    "lst = ['international plan',\n",
    " 'voice mail plan',\n",
    " 'number vmail messages',\n",
    " 'total day minutes',\n",
    " 'total day calls',\n",
    " 'total day charge',\n",
    " 'total eve minutes',\n",
    " 'total eve calls',\n",
    " 'total eve charge',\n",
    " 'total night minutes',\n",
    " 'total night calls',\n",
    " 'total night charge',\n",
    " 'total intl minutes',\n",
    " 'total intl calls',\n",
    " 'total intl charge',\n",
    " 'customer service calls',\n",
    " '%night',\n",
    " '%eve',\n",
    " 'avg duration',\n",
    " 'Midwest',\n",
    " 'Noncontinental',\n",
    " 'Northeast',\n",
    " 'Northwest',\n",
    " 'Southeast',\n",
    " 'Southwest']\n",
    "\n",
    "X.columns = lst\n",
    "X.head()"
   ]
  },
  {
   "cell_type": "markdown",
   "metadata": {},
   "source": [
    "## Time for some Feature Engineering"
   ]
  },
  {
   "cell_type": "code",
   "execution_count": 27,
   "metadata": {},
   "outputs": [
    {
     "data": {
      "image/png": "[encoded data removed]",
      "text/plain": [
       "<Figure size 576x576 with 1 Axes>"
      ]
     },
     "metadata": {
      "needs_background": "light"
     },
     "output_type": "display_data"
    }
   ],
   "source": [
    "ev.GetImportance(clf, X, y)"
   ]
  },
  {
   "cell_type": "code",
   "execution_count": 32,
   "metadata": {},
   "outputs": [],
   "source": [
    "Xval.columns = list(X.columns)"
   ]
  },
  {
   "cell_type": "code",
   "execution_count": 33,
   "metadata": {},
   "outputs": [],
   "source": [
    "sample1 = X.drop(['Southwest', 'Southeast', 'Northwest', 'Northeast', 'Noncontinental', 'Midwest', '%eve', '%night', 'number vmail messages'], axis='columns')\n",
    "sv1 = Xval.drop(['Southwest', 'Southeast', 'Northwest', 'Northeast', 'Noncontinental', 'Midwest', '%eve', '%night', 'number vmail messages'], axis='columns')\n",
    "sample2 = X.drop(['Southwest', 'Southeast', 'Northwest', 'Northeast', 'Noncontinental', 'Midwest'], axis='columns')\n",
    "sv2 = Xval.drop(['Southwest', 'Southeast', 'Northwest', 'Northeast', 'Noncontinental', 'Midwest'], axis='columns')\n",
    "sample3 = X.drop(['Southwest', 'Southeast', 'Northwest', 'Northeast', 'Noncontinental', 'Midwest', '%eve', '%night', 'number vmail messages',\n",
    "                 'total night charge', 'total night calls', 'total eve charge', 'total eve calls', 'total day charge', 'total day calls'], axis='columns')\n",
    "sv3 = Xval.drop(['Southwest', 'Southeast', 'Northwest', 'Northeast', 'Noncontinental', 'Midwest', '%eve', '%night', 'number vmail messages',\n",
    "                 'total night charge', 'total night calls', 'total eve charge', 'total eve calls', 'total day charge', 'total day calls'], axis='columns')\n",
    "sample4 = dh.MakeNewDF(X, y, 10)\n",
    "sv4 = dh.MakeNewDF(Xval, yval, 10)\n",
    "sample5 = dh.MakeNewDF(X, y, 19)\n",
    "sv5 = dh.MakeNewDF(Xval, yval, 19)"
   ]
  },
  {
   "cell_type": "code",
   "execution_count": 34,
   "metadata": {},
   "outputs": [
    {
     "data": {
      "text/html": [
       "<div>\n",
       "<style scoped>\n",
       "    .dataframe tbody tr th:only-of-type {\n",
       "        vertical-align: middle;\n",
       "    }\n",
       "\n",
       "    .dataframe tbody tr th {\n",
       "        vertical-align: top;\n",
       "    }\n",
       "\n",
       "    .dataframe thead th {\n",
       "        text-align: right;\n",
       "    }\n",
       "</style>\n",
       "<table border=\"1\" class=\"dataframe\">\n",
       "  <thead>\n",
       "    <tr style=\"text-align: right;\">\n",
       "      <th></th>\n",
       "      <th>Model</th>\n",
       "      <th>train_acc</th>\n",
       "      <th>test_acc</th>\n",
       "    </tr>\n",
       "  </thead>\n",
       "  <tbody>\n",
       "    <tr>\n",
       "      <th>0</th>\n",
       "      <td>KNN</td>\n",
       "      <td>0.937482</td>\n",
       "      <td>0.886874</td>\n",
       "    </tr>\n",
       "    <tr>\n",
       "      <th>1</th>\n",
       "      <td>NB</td>\n",
       "      <td>0.791415</td>\n",
       "      <td>0.784974</td>\n",
       "    </tr>\n",
       "    <tr>\n",
       "      <th>2</th>\n",
       "      <td>DT</td>\n",
       "      <td>1.000000</td>\n",
       "      <td>0.929188</td>\n",
       "    </tr>\n",
       "    <tr>\n",
       "      <th>3</th>\n",
       "      <td>RF</td>\n",
       "      <td>1.000000</td>\n",
       "      <td>0.950777</td>\n",
       "    </tr>\n",
       "    <tr>\n",
       "      <th>4</th>\n",
       "      <td>AB</td>\n",
       "      <td>0.889369</td>\n",
       "      <td>0.890328</td>\n",
       "    </tr>\n",
       "    <tr>\n",
       "      <th>5</th>\n",
       "      <td>GB</td>\n",
       "      <td>0.967156</td>\n",
       "      <td>0.960276</td>\n",
       "    </tr>\n",
       "    <tr>\n",
       "      <th>6</th>\n",
       "      <td>XGB</td>\n",
       "      <td>0.963411</td>\n",
       "      <td>0.955959</td>\n",
       "    </tr>\n",
       "    <tr>\n",
       "      <th>7</th>\n",
       "      <td>Log</td>\n",
       "      <td>0.786517</td>\n",
       "      <td>0.797064</td>\n",
       "    </tr>\n",
       "    <tr>\n",
       "      <th>8</th>\n",
       "      <td>SVM</td>\n",
       "      <td>0.918755</td>\n",
       "      <td>0.913644</td>\n",
       "    </tr>\n",
       "  </tbody>\n",
       "</table>\n",
       "</div>"
      ],
      "text/plain": [
       "  Model  train_acc  test_acc\n",
       "0   KNN   0.937482  0.886874\n",
       "1    NB   0.791415  0.784974\n",
       "2    DT   1.000000  0.929188\n",
       "3    RF   1.000000  0.950777\n",
       "4    AB   0.889369  0.890328\n",
       "5    GB   0.967156  0.960276\n",
       "6   XGB   0.963411  0.955959\n",
       "7   Log   0.786517  0.797064\n",
       "8   SVM   0.918755  0.913644"
      ]
     },
     "execution_count": 34,
     "metadata": {},
     "output_type": "execute_result"
    }
   ],
   "source": [
    "ml.CompareClassifiers(sample1, y)"
   ]
  },
  {
   "cell_type": "code",
   "execution_count": 35,
   "metadata": {},
   "outputs": [
    {
     "name": "stdout",
     "output_type": "stream",
     "text": [
      "Fitting 5 folds for each of 9 candidates, totalling 45 fits\n"
     ]
    },
    {
     "name": "stderr",
     "output_type": "stream",
     "text": [
      "[Parallel(n_jobs=-1)]: Using backend LokyBackend with 12 concurrent workers.\n",
      "[Parallel(n_jobs=-1)]: Done  17 tasks      | elapsed:    2.3s\n",
      "[Parallel(n_jobs=-1)]: Done  45 out of  45 | elapsed:   17.6s remaining:    0.0s\n",
      "[Parallel(n_jobs=-1)]: Done  45 out of  45 | elapsed:   17.6s finished\n"
     ]
    },
    {
     "data": {
      "text/plain": [
       "GradientBoostingClassifier(max_depth=5, n_estimators=200)"
      ]
     },
     "execution_count": 35,
     "metadata": {},
     "output_type": "execute_result"
    }
   ],
   "source": [
    "parameters = {'max_depth': [3, 5, None], 'n_estimators': [50, 100, 200]}\n",
    "clf = ml.Optimize(GradientBoostingClassifier(), parameters, sample1, y)\n",
    "clf"
   ]
  },
  {
   "cell_type": "code",
   "execution_count": 44,
   "metadata": {},
   "outputs": [
    {
     "name": "stdout",
     "output_type": "stream",
     "text": [
      "AUC: 0.9978448275862069\n",
      "Training: 1.0, Validation: 0.9645941278065631\n"
     ]
    },
    {
     "data": {
      "image/png": "[encoded data removed]",
      "text/plain": [
       "<Figure size 432x288 with 2 Axes>"
      ]
     },
     "metadata": {
      "needs_background": "light"
     },
     "output_type": "display_data"
    }
   ],
   "source": [
    "score = ev.ScoreModel(clf, sample1, y)\n",
    "fit = clf.fit(sample1, y)\n",
    "ev.BuildConfusion(fit, sv1, yval)\n",
    "print('AUC: {}'.format(ev.AUC(clf, sv1, yval)))\n",
    "print(score)"
   ]
  },
  {
   "cell_type": "code",
   "execution_count": 30,
   "metadata": {},
   "outputs": [
    {
     "data": {
      "text/html": [
       "<div>\n",
       "<style scoped>\n",
       "    .dataframe tbody tr th:only-of-type {\n",
       "        vertical-align: middle;\n",
       "    }\n",
       "\n",
       "    .dataframe tbody tr th {\n",
       "        vertical-align: top;\n",
       "    }\n",
       "\n",
       "    .dataframe thead th {\n",
       "        text-align: right;\n",
       "    }\n",
       "</style>\n",
       "<table border=\"1\" class=\"dataframe\">\n",
       "  <thead>\n",
       "    <tr style=\"text-align: right;\">\n",
       "      <th></th>\n",
       "      <th>Model</th>\n",
       "      <th>train_acc</th>\n",
       "      <th>test_acc</th>\n",
       "    </tr>\n",
       "  </thead>\n",
       "  <tbody>\n",
       "    <tr>\n",
       "      <th>0</th>\n",
       "      <td>KNN</td>\n",
       "      <td>0.928241</td>\n",
       "      <td>0.889853</td>\n",
       "    </tr>\n",
       "    <tr>\n",
       "      <th>1</th>\n",
       "      <td>NB</td>\n",
       "      <td>0.784144</td>\n",
       "      <td>0.769297</td>\n",
       "    </tr>\n",
       "    <tr>\n",
       "      <th>2</th>\n",
       "      <td>DT</td>\n",
       "      <td>1.000000</td>\n",
       "      <td>0.918474</td>\n",
       "    </tr>\n",
       "    <tr>\n",
       "      <th>3</th>\n",
       "      <td>RF</td>\n",
       "      <td>1.000000</td>\n",
       "      <td>0.960971</td>\n",
       "    </tr>\n",
       "    <tr>\n",
       "      <th>4</th>\n",
       "      <td>AB</td>\n",
       "      <td>0.895833</td>\n",
       "      <td>0.895924</td>\n",
       "    </tr>\n",
       "    <tr>\n",
       "      <th>5</th>\n",
       "      <td>GB</td>\n",
       "      <td>0.962963</td>\n",
       "      <td>0.949696</td>\n",
       "    </tr>\n",
       "    <tr>\n",
       "      <th>6</th>\n",
       "      <td>XGB</td>\n",
       "      <td>0.961227</td>\n",
       "      <td>0.948829</td>\n",
       "    </tr>\n",
       "    <tr>\n",
       "      <th>7</th>\n",
       "      <td>Log</td>\n",
       "      <td>0.790220</td>\n",
       "      <td>0.791847</td>\n",
       "    </tr>\n",
       "    <tr>\n",
       "      <th>8</th>\n",
       "      <td>SVM</td>\n",
       "      <td>0.912326</td>\n",
       "      <td>0.904597</td>\n",
       "    </tr>\n",
       "  </tbody>\n",
       "</table>\n",
       "</div>"
      ],
      "text/plain": [
       "  Model  train_acc  test_acc\n",
       "0   KNN   0.928241  0.889853\n",
       "1    NB   0.784144  0.769297\n",
       "2    DT   1.000000  0.918474\n",
       "3    RF   1.000000  0.960971\n",
       "4    AB   0.895833  0.895924\n",
       "5    GB   0.962963  0.949696\n",
       "6   XGB   0.961227  0.948829\n",
       "7   Log   0.790220  0.791847\n",
       "8   SVM   0.912326  0.904597"
      ]
     },
     "execution_count": 30,
     "metadata": {},
     "output_type": "execute_result"
    }
   ],
   "source": [
    "ml.CompareClassifiers(sample2, y)"
   ]
  },
  {
   "cell_type": "code",
   "execution_count": 50,
   "metadata": {},
   "outputs": [
    {
     "name": "stdout",
     "output_type": "stream",
     "text": [
      "Fitting 5 folds for each of 18 candidates, totalling 90 fits\n"
     ]
    },
    {
     "name": "stderr",
     "output_type": "stream",
     "text": [
      "[Parallel(n_jobs=-1)]: Using backend LokyBackend with 12 concurrent workers.\n",
      "[Parallel(n_jobs=-1)]: Done  17 tasks      | elapsed:    0.8s\n",
      "[Parallel(n_jobs=-1)]: Done  90 out of  90 | elapsed:    6.5s finished\n"
     ]
    },
    {
     "name": "stdout",
     "output_type": "stream",
     "text": [
      "AUC: 0.9870503060158233\n",
      "Training: 1.0, Validation: 0.9438687392055267\n"
     ]
    },
    {
     "data": {
      "image/png": "[encoded data removed]",
      "text/plain": [
       "<Figure size 432x288 with 2 Axes>"
      ]
     },
     "metadata": {
      "needs_background": "light"
     },
     "output_type": "display_data"
    }
   ],
   "source": [
    "parameters = {'criterion': ['gini', 'entropy'], 'max_depth': [3, 5, None], 'n_estimators': [50, 100, 200]}\n",
    "clf = ml.Optimize(RandomForestClassifier(), parameters, sample2, y)\n",
    "score = ev.ScoreModel(clf, sample2, y)\n",
    "AUC = ev.AUC(clf, sv2, yval)\n",
    "fit = clf.fit(sample2, y)\n",
    "ev.BuildConfusion(fit, sv2, yval)\n",
    "print('AUC: {}'.format(AUC))\n",
    "print(score)"
   ]
  },
  {
   "cell_type": "code",
   "execution_count": 31,
   "metadata": {},
   "outputs": [
    {
     "data": {
      "text/html": [
       "<div>\n",
       "<style scoped>\n",
       "    .dataframe tbody tr th:only-of-type {\n",
       "        vertical-align: middle;\n",
       "    }\n",
       "\n",
       "    .dataframe tbody tr th {\n",
       "        vertical-align: top;\n",
       "    }\n",
       "\n",
       "    .dataframe thead th {\n",
       "        text-align: right;\n",
       "    }\n",
       "</style>\n",
       "<table border=\"1\" class=\"dataframe\">\n",
       "  <thead>\n",
       "    <tr style=\"text-align: right;\">\n",
       "      <th></th>\n",
       "      <th>Model</th>\n",
       "      <th>train_acc</th>\n",
       "      <th>test_acc</th>\n",
       "    </tr>\n",
       "  </thead>\n",
       "  <tbody>\n",
       "    <tr>\n",
       "      <th>0</th>\n",
       "      <td>KNN</td>\n",
       "      <td>0.932581</td>\n",
       "      <td>0.889853</td>\n",
       "    </tr>\n",
       "    <tr>\n",
       "      <th>1</th>\n",
       "      <td>NB</td>\n",
       "      <td>0.794271</td>\n",
       "      <td>0.810928</td>\n",
       "    </tr>\n",
       "    <tr>\n",
       "      <th>2</th>\n",
       "      <td>DT</td>\n",
       "      <td>1.000000</td>\n",
       "      <td>0.913270</td>\n",
       "    </tr>\n",
       "    <tr>\n",
       "      <th>3</th>\n",
       "      <td>RF</td>\n",
       "      <td>1.000000</td>\n",
       "      <td>0.953166</td>\n",
       "    </tr>\n",
       "    <tr>\n",
       "      <th>4</th>\n",
       "      <td>AB</td>\n",
       "      <td>0.894387</td>\n",
       "      <td>0.905464</td>\n",
       "    </tr>\n",
       "    <tr>\n",
       "      <th>5</th>\n",
       "      <td>GB</td>\n",
       "      <td>0.964410</td>\n",
       "      <td>0.950564</td>\n",
       "    </tr>\n",
       "    <tr>\n",
       "      <th>6</th>\n",
       "      <td>XGB</td>\n",
       "      <td>0.962095</td>\n",
       "      <td>0.957502</td>\n",
       "    </tr>\n",
       "    <tr>\n",
       "      <th>7</th>\n",
       "      <td>Log</td>\n",
       "      <td>0.774595</td>\n",
       "      <td>0.787511</td>\n",
       "    </tr>\n",
       "    <tr>\n",
       "      <th>8</th>\n",
       "      <td>SVM</td>\n",
       "      <td>0.912326</td>\n",
       "      <td>0.905464</td>\n",
       "    </tr>\n",
       "  </tbody>\n",
       "</table>\n",
       "</div>"
      ],
      "text/plain": [
       "  Model  train_acc  test_acc\n",
       "0   KNN   0.932581  0.889853\n",
       "1    NB   0.794271  0.810928\n",
       "2    DT   1.000000  0.913270\n",
       "3    RF   1.000000  0.953166\n",
       "4    AB   0.894387  0.905464\n",
       "5    GB   0.964410  0.950564\n",
       "6   XGB   0.962095  0.957502\n",
       "7   Log   0.774595  0.787511\n",
       "8   SVM   0.912326  0.905464"
      ]
     },
     "execution_count": 31,
     "metadata": {},
     "output_type": "execute_result"
    }
   ],
   "source": [
    "ml.CompareClassifiers(sample3, y)"
   ]
  },
  {
   "cell_type": "code",
   "execution_count": 51,
   "metadata": {},
   "outputs": [
    {
     "name": "stdout",
     "output_type": "stream",
     "text": [
      "Fitting 5 folds for each of 8 candidates, totalling 40 fits\n"
     ]
    },
    {
     "name": "stderr",
     "output_type": "stream",
     "text": [
      "[Parallel(n_jobs=-1)]: Using backend LokyBackend with 12 concurrent workers.\n",
      "[Parallel(n_jobs=-1)]: Done  17 tasks      | elapsed:    0.9s\n",
      "[Parallel(n_jobs=-1)]: Done  38 out of  40 | elapsed:    1.5s remaining:    0.0s\n",
      "[Parallel(n_jobs=-1)]: Done  40 out of  40 | elapsed:    1.5s finished\n"
     ]
    },
    {
     "data": {
      "text/plain": [
       "XGBClassifier(learning_rate=0.2, max_depth=6, subsample=0.7)"
      ]
     },
     "execution_count": 51,
     "metadata": {},
     "output_type": "execute_result"
    }
   ],
   "source": [
    "parameters = {\n",
    "    'learning_rate': [0.1, 0.2],\n",
    "    'max_depth': [6],\n",
    "    'min_child_weight': [1, 2],\n",
    "    'subsample': [0.5, 0.7],\n",
    "    'n_estimators': [100],\n",
    "}\n",
    "clf = ml.Optimize(XGBClassifier(), parameters, sample3, y)\n",
    "clf"
   ]
  },
  {
   "cell_type": "code",
   "execution_count": 72,
   "metadata": {},
   "outputs": [
    {
     "name": "stdout",
     "output_type": "stream",
     "text": [
      "Training: 0.9988475943532124, Validation: 0.959412780656304\n"
     ]
    },
    {
     "data": {
      "text/plain": [
       "<sklearn.metrics._plot.confusion_matrix.ConfusionMatrixDisplay at 0x2b464e0f4a8>"
      ]
     },
     "execution_count": 72,
     "metadata": {},
     "output_type": "execute_result"
    },
    {
     "data": {
      "image/png": "[encoded data removed]",
      "text/plain": [
       "<Figure size 432x288 with 2 Axes>"
      ]
     },
     "metadata": {
      "needs_background": "light"
     },
     "output_type": "display_data"
    }
   ],
   "source": [
    "score = ev.ScoreModel(clf, sample3, y)\n",
    "#auc = ev.AUC(clf, sample3, y)\n",
    "fit = clf.fit(sv3, yval)\n",
    "print(score)\n",
    "#print('AUC: {}'.format(auc))\n",
    "ev.BuildConfusion(fit, sv3, yval)"
   ]
  },
  {
   "cell_type": "code",
   "execution_count": 73,
   "metadata": {},
   "outputs": [
    {
     "data": {
      "text/html": [
       "<div>\n",
       "<style scoped>\n",
       "    .dataframe tbody tr th:only-of-type {\n",
       "        vertical-align: middle;\n",
       "    }\n",
       "\n",
       "    .dataframe tbody tr th {\n",
       "        vertical-align: top;\n",
       "    }\n",
       "\n",
       "    .dataframe thead th {\n",
       "        text-align: right;\n",
       "    }\n",
       "</style>\n",
       "<table border=\"1\" class=\"dataframe\">\n",
       "  <thead>\n",
       "    <tr style=\"text-align: right;\">\n",
       "      <th></th>\n",
       "      <th>Model</th>\n",
       "      <th>train_acc</th>\n",
       "      <th>test_acc</th>\n",
       "    </tr>\n",
       "  </thead>\n",
       "  <tbody>\n",
       "    <tr>\n",
       "      <th>0</th>\n",
       "      <td>KNN</td>\n",
       "      <td>0.917891</td>\n",
       "      <td>0.877375</td>\n",
       "    </tr>\n",
       "    <tr>\n",
       "      <th>1</th>\n",
       "      <td>NB</td>\n",
       "      <td>0.789398</td>\n",
       "      <td>0.791019</td>\n",
       "    </tr>\n",
       "    <tr>\n",
       "      <th>2</th>\n",
       "      <td>DT</td>\n",
       "      <td>1.000000</td>\n",
       "      <td>0.901554</td>\n",
       "    </tr>\n",
       "    <tr>\n",
       "      <th>3</th>\n",
       "      <td>RF</td>\n",
       "      <td>1.000000</td>\n",
       "      <td>0.926598</td>\n",
       "    </tr>\n",
       "    <tr>\n",
       "      <th>4</th>\n",
       "      <td>AB</td>\n",
       "      <td>0.890233</td>\n",
       "      <td>0.877375</td>\n",
       "    </tr>\n",
       "    <tr>\n",
       "      <th>5</th>\n",
       "      <td>GB</td>\n",
       "      <td>0.952175</td>\n",
       "      <td>0.927461</td>\n",
       "    </tr>\n",
       "    <tr>\n",
       "      <th>6</th>\n",
       "      <td>XGB</td>\n",
       "      <td>0.948718</td>\n",
       "      <td>0.922280</td>\n",
       "    </tr>\n",
       "    <tr>\n",
       "      <th>7</th>\n",
       "      <td>Log</td>\n",
       "      <td>0.768943</td>\n",
       "      <td>0.784111</td>\n",
       "    </tr>\n",
       "    <tr>\n",
       "      <th>8</th>\n",
       "      <td>SVM</td>\n",
       "      <td>0.891386</td>\n",
       "      <td>0.871330</td>\n",
       "    </tr>\n",
       "  </tbody>\n",
       "</table>\n",
       "</div>"
      ],
      "text/plain": [
       "  Model  train_acc  test_acc\n",
       "0   KNN   0.917891  0.877375\n",
       "1    NB   0.789398  0.791019\n",
       "2    DT   1.000000  0.901554\n",
       "3    RF   1.000000  0.926598\n",
       "4    AB   0.890233  0.877375\n",
       "5    GB   0.952175  0.927461\n",
       "6   XGB   0.948718  0.922280\n",
       "7   Log   0.768943  0.784111\n",
       "8   SVM   0.891386  0.871330"
      ]
     },
     "execution_count": 73,
     "metadata": {},
     "output_type": "execute_result"
    }
   ],
   "source": [
    "ml.CompareClassifiers(sample4, y)"
   ]
  },
  {
   "cell_type": "code",
   "execution_count": 74,
   "metadata": {},
   "outputs": [
    {
     "name": "stdout",
     "output_type": "stream",
     "text": [
      "Fitting 5 folds for each of 9 candidates, totalling 45 fits\n"
     ]
    },
    {
     "name": "stderr",
     "output_type": "stream",
     "text": [
      "[Parallel(n_jobs=-1)]: Using backend LokyBackend with 12 concurrent workers.\n",
      "[Parallel(n_jobs=-1)]: Done  17 tasks      | elapsed:    3.6s\n",
      "[Parallel(n_jobs=-1)]: Done  45 out of  45 | elapsed:   13.4s remaining:    0.0s\n",
      "[Parallel(n_jobs=-1)]: Done  45 out of  45 | elapsed:   13.4s finished\n"
     ]
    },
    {
     "name": "stdout",
     "output_type": "stream",
     "text": [
      "GradientBoostingClassifier(max_depth=5, n_estimators=200)\n",
      "Training: 0.9962546816479401, Validation: 0.9404145077720207\n"
     ]
    },
    {
     "data": {
      "text/plain": [
       "<sklearn.metrics._plot.confusion_matrix.ConfusionMatrixDisplay at 0x2b464fae940>"
      ]
     },
     "execution_count": 74,
     "metadata": {},
     "output_type": "execute_result"
    },
    {
     "data": {
      "image/png": "[encoded data removed]",
      "text/plain": [
       "<Figure size 432x288 with 2 Axes>"
      ]
     },
     "metadata": {
      "needs_background": "light"
     },
     "output_type": "display_data"
    }
   ],
   "source": [
    "parameters = {'max_depth': [3, 5, None], 'n_estimators': [50, 100, 200]}\n",
    "clf = ml.Optimize(GradientBoostingClassifier(), parameters, sample4, y)\n",
    "print(clf)\n",
    "score = ev.ScoreModel(clf, sample4, y)\n",
    "print(score)\n",
    "fit = clf.fit(sample4, y)\n",
    "#auc = ev.AUC(clf, sample4, y)\n",
    "#print('AUC: {}'.format(auc))\n",
    "ev.BuildConfusion(fit, sv4, yval)"
   ]
  },
  {
   "cell_type": "code",
   "execution_count": 77,
   "metadata": {},
   "outputs": [
    {
     "data": {
      "text/html": [
       "<div>\n",
       "<style scoped>\n",
       "    .dataframe tbody tr th:only-of-type {\n",
       "        vertical-align: middle;\n",
       "    }\n",
       "\n",
       "    .dataframe tbody tr th {\n",
       "        vertical-align: top;\n",
       "    }\n",
       "\n",
       "    .dataframe thead th {\n",
       "        text-align: right;\n",
       "    }\n",
       "</style>\n",
       "<table border=\"1\" class=\"dataframe\">\n",
       "  <thead>\n",
       "    <tr style=\"text-align: right;\">\n",
       "      <th></th>\n",
       "      <th>Model</th>\n",
       "      <th>train_acc</th>\n",
       "      <th>test_acc</th>\n",
       "    </tr>\n",
       "  </thead>\n",
       "  <tbody>\n",
       "    <tr>\n",
       "      <th>0</th>\n",
       "      <td>KNN</td>\n",
       "      <td>0.929991</td>\n",
       "      <td>0.886874</td>\n",
       "    </tr>\n",
       "    <tr>\n",
       "      <th>1</th>\n",
       "      <td>NB</td>\n",
       "      <td>0.740421</td>\n",
       "      <td>0.740933</td>\n",
       "    </tr>\n",
       "    <tr>\n",
       "      <th>2</th>\n",
       "      <td>DT</td>\n",
       "      <td>1.000000</td>\n",
       "      <td>0.916235</td>\n",
       "    </tr>\n",
       "    <tr>\n",
       "      <th>3</th>\n",
       "      <td>RF</td>\n",
       "      <td>1.000000</td>\n",
       "      <td>0.943005</td>\n",
       "    </tr>\n",
       "    <tr>\n",
       "      <th>4</th>\n",
       "      <td>AB</td>\n",
       "      <td>0.894843</td>\n",
       "      <td>0.904145</td>\n",
       "    </tr>\n",
       "    <tr>\n",
       "      <th>5</th>\n",
       "      <td>GB</td>\n",
       "      <td>0.959954</td>\n",
       "      <td>0.940415</td>\n",
       "    </tr>\n",
       "    <tr>\n",
       "      <th>6</th>\n",
       "      <td>XGB</td>\n",
       "      <td>0.955632</td>\n",
       "      <td>0.936097</td>\n",
       "    </tr>\n",
       "    <tr>\n",
       "      <th>7</th>\n",
       "      <td>Log</td>\n",
       "      <td>0.782772</td>\n",
       "      <td>0.780656</td>\n",
       "    </tr>\n",
       "    <tr>\n",
       "      <th>8</th>\n",
       "      <td>SVM</td>\n",
       "      <td>0.920196</td>\n",
       "      <td>0.901554</td>\n",
       "    </tr>\n",
       "  </tbody>\n",
       "</table>\n",
       "</div>"
      ],
      "text/plain": [
       "  Model  train_acc  test_acc\n",
       "0   KNN   0.929991  0.886874\n",
       "1    NB   0.740421  0.740933\n",
       "2    DT   1.000000  0.916235\n",
       "3    RF   1.000000  0.943005\n",
       "4    AB   0.894843  0.904145\n",
       "5    GB   0.959954  0.940415\n",
       "6   XGB   0.955632  0.936097\n",
       "7   Log   0.782772  0.780656\n",
       "8   SVM   0.920196  0.901554"
      ]
     },
     "execution_count": 77,
     "metadata": {},
     "output_type": "execute_result"
    }
   ],
   "source": [
    "ml.CompareClassifiers(sample5, y)"
   ]
  },
  {
   "cell_type": "code",
   "execution_count": 80,
   "metadata": {},
   "outputs": [
    {
     "name": "stdout",
     "output_type": "stream",
     "text": [
      "Fitting 5 folds for each of 9 candidates, totalling 45 fits\n"
     ]
    },
    {
     "name": "stderr",
     "output_type": "stream",
     "text": [
      "[Parallel(n_jobs=-1)]: Using backend LokyBackend with 12 concurrent workers.\n",
      "[Parallel(n_jobs=-1)]: Done  17 tasks      | elapsed:    2.3s\n",
      "[Parallel(n_jobs=-1)]: Done  45 out of  45 | elapsed:   14.6s remaining:    0.0s\n",
      "[Parallel(n_jobs=-1)]: Done  45 out of  45 | elapsed:   14.6s finished\n"
     ]
    },
    {
     "name": "stdout",
     "output_type": "stream",
     "text": [
      "GradientBoostingClassifier(max_depth=5, n_estimators=200)\n",
      "Training: 0.9997118985883031, Validation: 0.9732297063903281\n"
     ]
    },
    {
     "data": {
      "text/plain": [
       "<sklearn.metrics._plot.confusion_matrix.ConfusionMatrixDisplay at 0x2b464fe9048>"
      ]
     },
     "execution_count": 80,
     "metadata": {},
     "output_type": "execute_result"
    },
    {
     "data": {
      "image/png": "[encoded data removed]",
      "text/plain": [
       "<Figure size 432x288 with 2 Axes>"
      ]
     },
     "metadata": {
      "needs_background": "light"
     },
     "output_type": "display_data"
    }
   ],
   "source": [
    "parameters = {'max_depth': [3, 5, None], 'n_estimators': [50, 100, 200]}\n",
    "clf = ml.Optimize(GradientBoostingClassifier(), parameters, sample5, y)\n",
    "print(clf)\n",
    "score = ev.ScoreModel(clf, sample5, y)\n",
    "print(score)\n",
    "#auc = ev.AUC(clf, sv5, yval)\n",
    "#print('AUC: {}'.format(auc))\n",
    "fit = clf.fit(sample5, y)\n",
    "ev.BuildConfusion(fit, sv5, yval)"
   ]
  },
  {
   "cell_type": "code",
   "execution_count": 83,
   "metadata": {},
   "outputs": [],
   "source": [
    "sample3.to_csv('Churn3.csv')"
   ]
  }
 ],
 "metadata": {
  "kernelspec": {
   "display_name": "Python 3",
   "language": "python",
   "name": "python3"
  },
  "language_info": {
   "codemirror_mode": {
    "name": "ipython",
    "version": 3
   },
   "file_extension": ".py",
   "mimetype": "text/x-python",
   "name": "python",
   "nbconvert_exporter": "python",
   "pygments_lexer": "ipython3",
   "version": "3.6.9"
  }
 },
 "nbformat": 4,
 "nbformat_minor": 4
}
